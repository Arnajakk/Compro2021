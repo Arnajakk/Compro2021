{
 "cells": [
  {
   "cell_type": "markdown",
   "metadata": {},
   "source": [
    "# Exercise"
   ]
  },
  {
   "cell_type": "code",
   "execution_count": 1,
   "metadata": {},
   "outputs": [],
   "source": [
    "import numpy as np"
   ]
  },
  {
   "cell_type": "markdown",
   "metadata": {},
   "source": [
    "1). <code>np.array([True, 1, 2]) + np.array([3, 4, False]) == which one?\n",
    "    a. np.array([True, 1, 2, 3, 4, False])\n",
    "    b. np.array([4, 3, 0]) + np.array([0, 2, 2])\n",
    "    c. np.array([1, 1, 2]) + np.array([3, 4, -1])\n",
    "    d. np.array([0, 1, 2, 3, 4, 5])</code>\n",
    "    \n",
    "2). Create a 2d array with 1 on the border and 0 inside\n",
    "\n",
    "3). somehow, your $y$ comes in 2D, as we know, in scikit learn, it needs a 1D $y$, in the shape of <code>(samples, )</code>.  Convert this $y$ into 1D\n",
    "<code>y = np.array([[3, 2, 3, 4, 5]])</code>\n",
    "\n",
    "4).Given the following array\n",
    "<code>celsius_fahrenheit = np.array([10, 50, 15, 59, 5, 42])</code>.  Convert them to a 2d array with first col as celsius and second col as fahrenheit\n",
    "\n",
    "5). Given the 3D temperature field and 1-D pressure coordinates below, calculate: $$T\\exp(P/1000)$$ You will need to use broadcasting to make the arrays compatible.\n",
    "\n",
    "<code>pressure = np.array([1000, 850, 500, 300])\n",
    "temps = np.linspace(20, 30, 24).reshape(4, 3, 2)\n",
    "print(temps.shape)</code>\n",
    "\n",
    "6). Given following arrays: \n",
    "\n",
    "<code>array3d = np.array([[[ 0,  1,  2],\n",
    "                     [ 3,  4,  5],\n",
    "                     [ 6,  7,  8]],\n",
    "                    [[ 9, 10, 11],\n",
    "                     [12, 13, 14],\n",
    "                     [15, 16, 17]],\n",
    "                    [[18, 19, 20],\n",
    "                     [21, 22, 23],\n",
    "                     [24, 25, 26]]])\n",
    "</code>\n",
    "                      \n",
    "Index into the 3d array to produce the followings 4 arrays\n",
    "\n",
    "<code>array([[ 2,  5,  8],\n",
    "       [11, 14, 17],\n",
    "       [20, 23, 26]])\n",
    "array([[ 3,  4,  5],\n",
    "       [12, 13, 14]])\n",
    "array([2, 5])\n",
    "array([[11, 10,  9],\n",
    "       [14, 13, 12],\n",
    "       [17, 16, 15]])\n",
    "</code>\n",
    "\n",
    "7).  Given the following arrays:\n",
    "\n",
    "<code>#unit is power measured in volts (value is mock)\n",
    "eeg1 = np.array([[1, 19, 3], [3, 2, 10], [30, 2, 8]])\n",
    "marker1 = np.array(1)  #cat\n",
    "eeg2 = np.array([[3, 6, 9], [8, 2, 3], [4, 5, 9]])\n",
    "marker2 = np.array(2) #dog\n",
    "eeg3 = np.array([[1, 2, 10], [15, 2, 3], [6, 2, 1]])\n",
    "marker3 = np.array(1)  #cat\n",
    "all_eeg = []\n",
    "all_eeg.append([eeg1, marker1])\n",
    "all_eeg.append([eeg2, marker2])\n",
    "all_eeg.append([eeg3, marker3])\n",
    "all_eeg_numpy = np.array(all_eeg)\n",
    "print(\"All eeg numpy: \", all_eeg_numpy)\n",
    "print(\"All eeg numpy shape: \", all_eeg_numpy.shape)\n",
    "</code>\n",
    "\n",
    "Compare whether marker of 1 (i.e., cat) has an average power higher than 2 across all channels (i.e., dog). Use all_eeg_numpy, assuming that eeg and marker are not given.\n",
    "\n",
    "Hint: First you want to get eeg belonging to only 1 and 2.  Then perform np.mean across all eeg signals sharing same markers, then np mean across all channels, i.e., column wise.\n",
    "\n",
    "8). let $x$ be 111 points from 1 to 100, and y be $f(x)$ of $sin$, $cos$, $exp$ and $log$.  Construct $x$ and $y$.  Then use the following function to plot $x$, and $y$\n",
    "\n",
    "<code>import matplotlib as plt\n",
    "plt.plot(x,y )\n",
    "plt.title(\"Any title\",fontsize=16)</code>\n",
    "\n",
    "9). Let's compute distance between all pairs of X, Y, total of 10 points:\n",
    "\n",
    "<code>coordinates = np.random.rand(10, 2)\n",
    "X, Y = coordinates[:, 0], coordinates[:, 1]\n",
    "import matplotlib.pyplot as plt\n",
    "plt.scatter(X, Y, s=100)</code>\n",
    "\n",
    "Then, find the closest neighbor for the fourth points (index 3)"
   ]
  },
  {
   "cell_type": "markdown",
   "metadata": {},
   "source": [
    "# Solution"
   ]
  }
 ],
 "metadata": {
  "kernelspec": {
   "display_name": "Python 3",
   "language": "python",
   "name": "python3"
  },
  "language_info": {
   "codemirror_mode": {
    "name": "ipython",
    "version": 3
   },
   "file_extension": ".py",
   "mimetype": "text/x-python",
   "name": "python",
   "nbconvert_exporter": "python",
   "pygments_lexer": "ipython3",
   "version": "3.7.7"
  }
 },
 "nbformat": 4,
 "nbformat_minor": 4
}