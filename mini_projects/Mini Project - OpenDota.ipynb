{
 "cells": [
  {
   "cell_type": "markdown",
   "metadata": {},
   "source": [
    "## OpenDota\n",
    "\n",
    "I guess many of us have played Dota or at least known about it from friends.\n",
    "\n",
    "- Attempt the load the dataset from https://blog.opendota.com/2017/03/24/datadump2/\n",
    "- This data could be quite big, so you may want to work with smaller batches first.\n",
    "- There are actually many interesting questions you can answer, e.g., \n",
    "    - What is the average first blood time?\n",
    "    - What is the most banned or picked champions?  Do they increase the win rate?\n",
    "    - What is the win rate of all champions?\n",
    "    - What is the best predictor for wins, is it kills, deaths, gold per minute, xp differences, or the combination of all?\n",
    "    - It may be interesting to cluster type of players - players who like to do kills, players who like to ward, who like to roam, etc.\n",
    "    \n",
    "Good luck and enjoy thinking, learning, and coding!"
   ]
  },
  {
   "cell_type": "code",
   "execution_count": null,
   "metadata": {},
   "outputs": [],
   "source": []
  }
 ],
 "metadata": {
  "kernelspec": {
   "display_name": "Python 3",
   "language": "python",
   "name": "python3"
  },
  "language_info": {
   "codemirror_mode": {
    "name": "ipython",
    "version": 3
   },
   "file_extension": ".py",
   "mimetype": "text/x-python",
   "name": "python",
   "nbconvert_exporter": "python",
   "pygments_lexer": "ipython3",
   "version": "3.7.7"
  }
 },
 "nbformat": 4,
 "nbformat_minor": 4
}
