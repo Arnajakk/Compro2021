{
 "cells": [
  {
   "cell_type": "markdown",
   "metadata": {},
   "source": [
    "# Exercise"
   ]
  },
  {
   "cell_type": "code",
   "execution_count": 1,
   "metadata": {},
   "outputs": [],
   "source": [
    "import pandas as pd\n",
    "import numpy as np\n",
    "import matplotlib.pyplot as plt"
   ]
  },
  {
   "cell_type": "code",
   "execution_count": 2,
   "metadata": {},
   "outputs": [],
   "source": [
    "#if instructions are not given, make any assumption you like\n",
    "\n",
    "#import csv file resources/company_sales_data.csv\n",
    "#use style seaborn-whitegrid\n",
    "#use subplots  (with any layout you like)\n",
    "\n",
    "#subplot 1\n",
    "#plot with x as month number, and y as total profit with style circle markers and colored red\n",
    "#title = Company profit per month\n",
    "#put at least one ax/plt.text\n",
    "#x label = month\n",
    "#y label = total profit\n",
    "##set the ylimit to 100000 to 450000\n",
    "#add guassian fitted line (does not require fill between)\n",
    "\n",
    "#subplot2\n",
    "#read each product sales and show it using a multiline plot\n",
    "#x label = month\n",
    "#y label = sales units in number\n",
    "#legend on upper center, with columns of 3, set fontsize to 9 using prop params\n",
    "#circle marker; linewidth=3\n",
    "#title = sales data\n",
    "#add one blue dotted line showing the average of all products, with text annotating \"average\"\n",
    "\n",
    "#subplot3\n",
    "#plot toothpaste sales data of each using scatter plot\n",
    "#use plt.grid(True, linestyle=\"--\") to show some gridlines  (I did not teach but its not difficult)\n",
    "#x label = month\n",
    "#y label = number of units sold\n",
    "#title = tooth paste sales data\n",
    "#legend = best position\n",
    "\n",
    "#subplot4\n",
    "#plot bar chart comparing facecream and facewash product sales data\n",
    "#time to check out the documentation :)\n",
    "#since x is comparing two bars, you have to adjust the x slightly for both bars\n",
    "#x label = month\n",
    "#y label = number of units sold\n",
    "#title = facewash and facecream\n",
    "#legend = upper center, column of 2\n",
    "#put some gridlines for easy comparison\n",
    "#to add some flavor, overlay the average of all products on this plot, so we know facecream and facewash is not doing very well!"
   ]
  },
  {
   "cell_type": "code",
   "execution_count": 3,
   "metadata": {},
   "outputs": [],
   "source": [
    "#Continue above\n",
    "#Create a separate histogram plot showing distribution of profit range\n",
    "#with this range profit_range = [150000, 175000, 200000, 225000, 250000, 300000, 350000]"
   ]
  },
  {
   "cell_type": "code",
   "execution_count": 4,
   "metadata": {},
   "outputs": [],
   "source": [
    "#let's try to perform a linear regression on the profit, with x = month and y = total profit\n",
    "#plot the actual values using scatter\n",
    "#plot the fitted line, along with error bar where yerr = yactual - ypred\n",
    "#instead of using gp, use sckitlearn.LinearRegression\n",
    "#last, print the R^2 with 3 significant digits (e.g., 0.502)and write it on any place on the graph"
   ]
  },
  {
   "cell_type": "markdown",
   "metadata": {},
   "source": [
    "# Solution"
   ]
  },
  {
   "cell_type": "code",
   "execution_count": null,
   "metadata": {},
   "outputs": [],
   "source": []
  }
 ],
 "metadata": {
  "kernelspec": {
   "display_name": "Python 3",
   "language": "python",
   "name": "python3"
  },
  "language_info": {
   "codemirror_mode": {
    "name": "ipython",
    "version": 3
   },
   "file_extension": ".py",
   "mimetype": "text/x-python",
   "name": "python",
   "nbconvert_exporter": "python",
   "pygments_lexer": "ipython3",
   "version": "3.7.7"
  }
 },
 "nbformat": 4,
 "nbformat_minor": 4
}