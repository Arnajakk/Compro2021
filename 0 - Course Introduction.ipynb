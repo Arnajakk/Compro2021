{
 "cells": [
  {
   "cell_type": "markdown",
   "metadata": {},
   "source": [
    "# Programming for Data Science and Artificial Intelligence\n",
    "\n",
    "## 0. Course Introduction"
   ]
  },
  {
   "cell_type": "markdown",
   "metadata": {},
   "source": [
    "* My name is Chaklam.  Hong Kong born.  Can understand Thai but can't read so don't write Thai emails!  Ph.D. on Human Computer Interaction.  Research Interests on Brain Computer Interfaces.  Welcome you all!  This course will be fun and tough!\n",
    "\n",
    "* All materials can be found on my **Github - https://github.com/chaklam-silpasuwanchai/**.  If you forget, you can also get the link from http://chaklam.com\n",
    "\n",
    "* I am sitting in **room 203** most of the time.  You are very welcomed to meet me in person.  In fact, I want anyone of you to visit me and ask question, instead of just feeling stressed.  There is no need of appointment - but if you need like 3 hours of talk, you can send emails to my calendar - chaklam@ait.asia\n",
    "\n",
    "* Room 203 also has many machine learning books I used for this class.  You are not allowed to take them away - but you are certainly welcomed to read them at my lab mini library.\n",
    "\n",
    "* Introducing our TA, Mr. Akrardet (Jo) - st120224@ait.asia  PhD. students in my lab working on brain computer interfaces.  He will be in charge of\n",
    "  - Google classroom (code: 2ezh4cj)\n",
    "  - Checking assignments\n",
    "  - Uploading our lecture video to some repository\n",
    "  - Troubleshoot any of your problems during class (but please be gentle to him!)\n",
    "\n",
    "### Setting up your Python and Jupyter\n",
    "\n",
    "* I use **python3** as interpreter.\n",
    "\n",
    "* We will be using a lot of modules that may not be pre-built in python, so I assume you know how to use pip to install missing modules.   I also assume you use linux systems since I have no experience in Windows :)  Read Lab 0 if you haven't.\n",
    "\n",
    "* Highly recommend to use **venv** to setup your python environment, before installing python modules.  If you do not know how and what is venv, read this.  https://docs.python.org/3/library/venv.  Docker is welcomed as well.\n",
    "\n",
    "### Pre-requisites\n",
    "\n",
    "* **Math is not required and will be taught just enough for you to code your own SVM, etc.** I will be providing 9 hours related to Linear Algebra, Calculus, and Stats. This course is best taken together with Machine Learning with Prof. Matthew Dailey, where you can study the full derivation of formulas.  For your own deeper study, I recommend the followings:\n",
    "    - Linear Algebra short recap - https://www.cs.cmu.edu/~zkolter/course/15-884/linalg-review.pdf;  Recommended book - http://linear.axler.net; Recommended playlist (Prof. Gilbert Strang) - https://www.youtube.com/watch?v=7UJ4CFRGd-U&list=PLE7DDD91010BC51F8\n",
    "    - Stats - http://greenteapress.com/thinkstats/ (free!)\n",
    "\n",
    "* Very practical course.  **Intermediate level**. Could be slightly difficult for those without any programming experience, but I will try my best to explain almost everything slowly and clearly as possible.  I will work very hard and I also hope the same for your side.\n",
    "\n",
    "### Resources\n",
    "\n",
    "* Reference books:\n",
    "    - [GERON] Geron, A. **Hands-On Machine Learning with Scikit-Learn and TensorFlow: Concepts, Tools, and Techniques to Build Intelligent Systems**, 2019 (2nd edition) (https://github.com/ageron/handson-ml2)\n",
    "    - [VANDER] VanderPlas, J. **Python Data Science Handbook: Essential Tools for Working with Data**, 2016 (1st edition) (https://jakevdp.github.io/PythonDataScienceHandbook/)\n",
    "    - [HASTIE] Hastie, T., Tibshirani, R., and Friedman, J. **The Elements of Statistical Learning: Data Mining, Inference, and Prediction**, 2016 (2nd edition) (https://web.stanford.edu/~hastie/Papers/ESLII.pdf_)\n",
    "    - [WEIDMAN] Weidman, S. **Deep Learning from Scratch: Building with Python from First Principles**, 2019 (1st edition) (https://github.com/SethHWeidman/DLFS_code)\n",
    "    - [CHARU] Charu, C. **Neural Networks and Deep Learning: A Textbook**, 2018 (1st edition)\n",
    "    \n",
    "* Online resources:\n",
    "    - Python tutorials available online: https://docs.python.org/3/tutorial/\n",
    "    - Jupyter notebook tutorials available online: https://ipython.org/documentation.html\n",
    "    - Numpy tutorials available online:https://numpy.org/doc/stable/\n",
    "    - Pandas tutorials available online: https://pandas.pydata.org/docs/\n",
    "    - Nltk tutorials available online: https://www.nltk.org\n",
    "    - Matplotlib tutorials available online: https://matplotlib.org/contents.html\n",
    "    - Scikit-learn tutorials available online: https://scikit-learn.org/stable/user_guide.html\n",
    "    - Pytorch tutorials available online: https://pytorch.org/tutorials/\n",
    "    - Nice visuals on CNN - https://github.com/vdumoulin/conv_arithmetic"
   ]
  },
  {
   "cell_type": "markdown",
   "metadata": {},
   "source": [
    "### Course Outline\n",
    "(* refers to 9 assignments)\n",
    "- 1.1 Intro to Python*\n",
    "- 1.2 Linear Algebra with Python\n",
    "- 2.1 Numpy*\n",
    "- 2.2 Differential Calculus with Python\n",
    "- 3.1 Pandas*\n",
    "- 3.2 Statistics with Python\n",
    "- 4.1 Matplotlib*\n",
    "- 4.2 Regression and scikit-learn*\n",
    "- 5.1 Regression from scratch\n",
    "- 5.2 Classification and scikit-learn*\n",
    "- 6.1 Classification from scratch\n",
    "- 6.2 Dimensionality reduction and scikit-learn*\n",
    "- **7 Midterm**\n",
    "- 8.1 Dimensionality reduction from scratch\n",
    "- 8.2 Clustering and scikit-learn*\n",
    "- 9.1 Clustering from scratch\n",
    "- 9.2 Ensemble and scikit-learn*\n",
    "- 10.1 Ensemble from scratch\n",
    "- **Project starts**\n",
    "- 10.2 Neural Network from scratch\n",
    "- 11.1 Deep Neural Network from scratch\n",
    "- 11.2 Convolutional Neural Network from scratch\n",
    "- 12.1 Recurrent Neural Network from scratch\n",
    "- 12.2 PyTorch\n",
    "- 13.1 NLP with NLTK\n",
    "- **15.1&15.2 Final Project Presentation**\n",
    "- **16 Final Exam**"
   ]
  },
  {
   "cell_type": "markdown",
   "metadata": {},
   "source": [
    "### Grading Percentage\n",
    "\n",
    "- Midterm: 25\n",
    "- Final: 35\n",
    "- Project 20\n",
    "- Assignment 10\n",
    "- Online Participation/Discussion 10\n",
    "\n",
    "Note: follows gaussian distribution"
   ]
  },
  {
   "cell_type": "markdown",
   "metadata": {},
   "source": [
    "### Assignments\n",
    "\n",
    "* All homework should be **submited via Google classrooms (code: 2ezh4cj)**.  All assignments are provided solution for your own self-study.  You ARE NOT ALLOWED TO COPY my solution, or your friend solution.  Both copier and copee shall be given zero without any questionning.  \n",
    "    - Homework is due after one week.  No late work is accepted.  \n",
    "    - All classwork/homework should be supplemented with comments where appropriate.  \n",
    "    - All classwork/homework must be submitted in .ipynb for easy checking\n",
    "    - There will be 9 assignments in total.  \n",
    "    - On week 10, there will be no more assignments.  However, you are expected to work hard on your project from that time on.  We should expect substantial amount of effort (e.g., 100 hours) on your project :)\n",
    "    \n",
    "* **Does not require you to code exactly like mine**.  There are zillion ways of programming python to achieve the same thing.  That's the beauty of python!  But of course, I would prefer you writing in a pythonic way (i.e., using list comprehension)"
   ]
  },
  {
   "cell_type": "markdown",
   "metadata": {},
   "source": [
    "### Online Discussions\n",
    "\n",
    "* Jo will open **online discussion on the Google Classroom as well - do not forget to ask some question or help your friends out by answering - there are points (and lots of fun..)!**  "
   ]
  },
  {
   "cell_type": "markdown",
   "metadata": {},
   "source": [
    "### Midterm and Final\n",
    "\n",
    "* Mid-term and final will be **open book, open internet**, practical exams"
   ]
  },
  {
   "cell_type": "markdown",
   "metadata": {},
   "source": [
    "### Project\n",
    "\n",
    "* Project will be conducted in the area of **\"Health and AI data science/AI applications\"**.  Scores will be judged according to the **technical challenge** and **paper quality**. \n",
    "    - You are NOT restricted to only models I have taught you.  In fact, I am keen (and somewhat expected) to see how you will be exploring more advanced data science domains: autoencoders, GANs, transfer learning, reinforcement learning.\n",
    "    - Since I am working in Brain related areas, I am biased towards anything related to EEG or neuroscience.  I am personally interested in\n",
    "      - Emotion Recognition\n",
    "      - Brain Spellers\n",
    "      - Brain Control\n",
    "      - Or any application oriented\n",
    "    - You can freely use the EEG headset in my brain lab at room 203.  Seniors including Jo are there to help you\n",
    "    \n",
    "    - I am less interested in\n",
    "      - dataset-oriented project, e.g., Linear regression, classification, or simple deep neural network on some datasets\n",
    "      - Anything that simply copy from some medium.com tutorials. I expect more than 100 hours on the project itself.\n",
    "    - Deliverables include\n",
    "       - Paper writing in **IEEE format**, which should include Introduction, Related Work (at least 5 papers review), Implementation and Architectures, Evaluation, Discussion and Conclusion  Recommend using latex format.  Allowed format (.docx or .tex).  Format can be downloaded here (https://journals.ieeeauthorcenter.ieee.org/create-your-ieee-journal-article/authoring-tools-and-templates/tools-for-ieee-authors/ieee-article-templates/ - choose journal)\n",
    "       - Python code.  Allowed format (.py or .ipynb)\n",
    "       - PPT Presentation\n",
    "           - Final presentation - one week before the final exam\n",
    "       - Team of **two people**"
   ]
  },
  {
   "cell_type": "code",
   "execution_count": null,
   "metadata": {},
   "outputs": [],
   "source": []
  }
 ],
 "metadata": {
  "kernelspec": {
   "display_name": "Python 3",
   "language": "python",
   "name": "python3"
  },
  "language_info": {
   "codemirror_mode": {
    "name": "ipython",
    "version": 3
   },
   "file_extension": ".py",
   "mimetype": "text/x-python",
   "name": "python",
   "nbconvert_exporter": "python",
   "pygments_lexer": "ipython3",
   "version": "3.7.7"
  }
 },
 "nbformat": 4,
 "nbformat_minor": 1
}
