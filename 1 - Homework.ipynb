{
 "cells": [
  {
   "cell_type": "markdown",
   "metadata": {},
   "source": [
    "# Exercise 1"
   ]
  },
  {
   "cell_type": "markdown",
   "metadata": {},
   "source": [
    "# #1\n",
    "\n",
    "Write a program which will find all such numbers which are divisible by 7 but are not a multiple of 5,  between 2000 and 3200 (both included). The numbers obtained should be printed in a comma-separated sequence on a single line.\n",
    "        \n",
    "        \n",
    "# #2\n",
    "\n",
    "With a given integral number n, write a program to generate a dictionary that contains (i, i*i) such that is an integral number between 1 and n (both included). and then the program should print the dictionary. Suppose the following input is supplied to the program:\n",
    "\n",
    "        8\n",
    "    \n",
    "Then, the output should be:\n",
    "    \n",
    "        {1: 1, 2: 4, 3: 9, 4: 16, 5: 25, 6: 36, 7: 49, 8: 64}\n",
    "        \n",
    "# #3\n",
    "\n",
    "Write a program that calculates and prints the value according to the given formula:  $Q = \\sqrt{(2CD)/H}$\n",
    "    \n",
    "Following are the fixed values of C and H:\n",
    "\n",
    "        C is 50. H is 30.\n",
    "\n",
    "D is the variable whose values should be input to your program in a comma-separated sequence.  If the output received is in decimal form, it should be rounded off to its nearest value (for example, if the output received is 26.0, it should be printed as 26).  Example, Let us assume the following comma separated input sequence is given to the program:\n",
    "\n",
    "        100,150,180\n",
    "\n",
    "The output of the program should be:\n",
    "\n",
    "        18,22,24\n",
    "        \n",
    "# #4\n",
    "\n",
    "With one line of code (excluding input words), write a program that accepts a sequence of whitespace separated words as input and prints the words after removing all duplicate words and sorting them alphanumerically.\n",
    "\n",
    "Suppose the following input is supplied to the program:\n",
    "\n",
    "        hello world and practice makes perfect and hello world again\n",
    "\n",
    "Then, the output should be:\n",
    "\n",
    "        again and hello makes perfect practice world\n",
    "        \n",
    "# #5\n",
    "\n",
    "Write a program that computes the value of a+aa+aaa+aaaa with a given digit as the value of a.  Suppose the following input is supplied to the program:\n",
    "\n",
    "        9\n",
    "\n",
    "Then, the output should be:\n",
    "\n",
    "        11106\n",
    "        \n",
    "# #6\n",
    "\n",
    "With one line, use a list comprehension to square each odd number in a list. Suppose the following input is supplied to the program:\n",
    "\n",
    "        1,2,3,4,5,6,7,8,9\n",
    "\n",
    "Then, the output should be:\n",
    "\n",
    "        1,3,5,7,9\n",
    "        \n",
    "# #7\n",
    "\n",
    "Write a program to check the validity of password.  Following are the criteria for checking the password:\n",
    "- At least 1 letter between [a-z]\n",
    "- At least 1 number between [0-9]\n",
    "- At least 1 letter between [A-Z]\n",
    "- At least 1 character from \\\\$#@\n",
    "- Minimum length of transaction password: 6\n",
    "- Maximum length of transaction password: 12\n",
    "\n",
    "Your program should accept a sequence of comma separated passwords and will check them according to the above criteria. Passwords that match the criteria are to be printed, each separated by a comma.  Example, if the following passwords are given as input to the program:\n",
    "\n",
    "        ABd1234@1,a F1#,2w3E*,2We3345\n",
    "\n",
    "Then, the output of the program should be:\n",
    "\n",
    "        ABd1234@1\n",
    "\n",
    "Hint: Uses re python module\n",
    "    \n",
    "# #8\n",
    "\n",
    "You are required to write a program to sort the (name, age, height) tuples by ascending order where name is string, age and height are numbers. The sort criteria is:\n",
    "\n",
    "- Sort based on name;\n",
    "- Then sort based on age;\n",
    "- Then sort by score.\n",
    "    \n",
    "The priority is that name > age > score. If the following tuples are given as input to the program:\n",
    "        \n",
    "        Tom,19,80\n",
    "        John,20,90\n",
    "        Jony,17,91\n",
    "        Jony,17,93\n",
    "        Json,21,85\n",
    "\n",
    "Then, the output of the program should be:\n",
    "\n",
    "        [('John', '20', '90'), ('Jony', '17', '91'), ('Jony', '17', '93'), ('Json', '21', '85'), ('Tom', '19', '80')]\n",
    "\n",
    "Hints: Use itemgetter to enable multiple sort keys.  In addition, sorted takes a argument called key.  Thus you can do sorted(the_tuple, key = itemgetter(0,1,2)), where 0, 1, 2 corresponds to name, age, height\n",
    "\n",
    "\n",
    "# #9\n",
    "\n",
    "Count frequency of word given a string assuming input uses space and sometimes comma as separator.\n",
    "\n",
    "\n",
    "# #10\n",
    "\n",
    "Define a function which can generate a dictionary where the keys are numbers between 1 and 20 (both included) and the values are square of keys. The function should just print the values only.\n",
    "\n",
    "Hints:\n",
    "- Use `dict[key]`=value pattern to put entry into a dictionary.\n",
    "- Use ** operator to get power of a number.\n",
    "- Use `range()` for loops.\n",
    "- Use `keys()` to iterate keys in the dictionary. Also we can use item() to get key/value pairs.\n",
    "\n",
    "\n",
    "# #11\n",
    "\n",
    "Research a bit about lambda function.  Write a program which can filter even numbers in a list by using `filter()` python function. Use `lambda` function.  The list is: [1,2,3,4,5,6,7,8,9,10].  Then, using the filtered list, use `map()` and lambda function to perform square for each number in the list\n",
    "\n",
    "Hint: Read more about `map` `filter`, and `reduce` from here https://www.learnpython.org/en/Map,_Filter,_Reduce\n",
    "\n",
    "# #12\n",
    "\n",
    "Write a function to compute 5/0 and use `try/except` to catch the exceptions.\n",
    "\n",
    "\n",
    "# #13\n",
    "\n",
    "Write a function that accepts the following arguments\n",
    "- name, and age, where name is keyword argument with default of \"N/A\" two keyword arguments (i.e., default)\n",
    "- list of family salary where the length is unknown (e.g., 20000, 30000, 10000).  Then length is unknown is due to the fact that we never know the size of any family ahead.  Hint: Use `*args`\n",
    "- a dict of kids and their school name Peter = 'Saint Peter\", John = 'Pattaya International School'}.  Again, this size is unknown.  Hint: Use `*kwargs`\n",
    "\n",
    "Print all info in any preferred format.\n",
    "\n",
    "Supposed\n",
    "    \n",
    "`some_func(30, 30000, 40000, name='Chaky', John=\"some_school\", Peter=\"another_school\")`\n",
    "\n",
    "should print\n",
    "    \n",
    "            Chaky has age of 30 with family salary of 70000\n",
    "            The school of John is some_school\n",
    "            The school of Peter is another_school\n",
    "\n",
    "Some info: when working with multiple type of arguments, it is important to keep the order of arguments as follow, otherwise, you will receive a syntax error\n",
    "    \n",
    "`def example2(arg_1, arg_2, *args, kw_1=\"something\", kw_2=\"something\", **kwargs)`\n",
    "\n",
    "where arg_1 and 2 are normal arguments, `*args` are variable-length argument, kw_1 and 2 are keyword arguments, and `*kwargs` are dict variable length argument\n",
    "    \n",
    "\n",
    "# #14\n",
    "\n",
    "Let $f(x) = x^2$.   Given K lists containing N elements, select one number from each list such that $(f(x_{1}) + f(x_{2}) + ....f(x_{k})) \\mod M$  is maximized.  Here are some constraints (to make sure there won't be some null values):\n",
    "\n",
    "$1 <= K <= 7$, \n",
    "$1 <= M <= 1000$, \n",
    "$1 <= N <= 7$\n",
    "\n",
    "For example, given\n",
    "        \n",
    "`list1 = [2, 5, 4]\n",
    " list2 = [3, 7, 8, 9]\n",
    " list3 = [5, 5, 7, 8, 9, 10]\n",
    " k, m = 3, 1000`\n",
    "\n",
    "We can pick 5 from first list, 9 from 2nd list, and 10 from 3rd list which gives $(5^2 + 9^2 + 10^2 ) \\mod 1000 = 206$\n",
    "    \n",
    "\n",
    "# #15\n",
    "\n",
    "We count 35 heads and 94 legs among the chickens and rabbits in a farm. How many rabbits and how many chickens do we have?\n",
    "\n",
    "Hint: A chicken has 1 head and 2 legs. A rabbit has 1 head and 4 legs.\n",
    "\n",
    "The equations to solve are\n",
    "\n",
    "1 - #chicken + #rabbit = 35\n",
    "\n",
    "2 - (2 x #chicken) + (4 x #rabbit) = 94\n",
    "\n",
    "https://stackabuse.com/solving-systems-of-linear-equations-with-pythons-numpy/\n",
    "\n",
    "# #16\n",
    "\n",
    "Consider the following 6 x 6 matrix (actually a P300 matrix for those who are interested):\n",
    "\n",
    "        A B C D E F\n",
    "        G H I J K L\n",
    "        M N O P Q R\n",
    "        S T U V W X \n",
    "        Y Z 0 1 2 3 \n",
    "        4 5 6 7 8 9 \n",
    "    \n",
    "where the index starts at 0 and ends at 35 (i.e., A = 0, B = 1, ... 9 = 35)\n",
    "\n",
    "Construct a series of n list containing k elements of s where:\n",
    "- Each element $s_{1}...s_{k}$ falls with range of  $0 <= s <= 35$\n",
    "- Each list should contain elements such that\n",
    "    - Rule a: $s_{1} != s_{2} .... != s_{k}$  (i.e., no duplicates)\n",
    "    - Rule b: Given list nth, $s_{1n}, s_{2n},..s_{kn} \\cap neighbors(s_{1n}, s_{2n}...s_{kn}) == 0$. Neighbors are defined as the top, right, bottom, left of the element.  For example, B and G are neighbors of A, whereas D, I, P, K are neighbors of J, thus if A and J are in the list, then B, G, D, I, P, K should not be in that list\n",
    "    - Rule c: Given list nth, and the previous list nth-1, $s_{1n}....s_{kn} \\cap s_{1n-1}....s_{kn-1} ==0$ (i.e., element should not appear in the previous list.)\n",
    "    - Rule d: Over all n lists, the probability of 0...35 appearing in the list should be as equal as possible\n",
    "   \n",
    "Let's see some incorrect output:\n",
    "    \n",
    "        [[0, 3, 9, 3, 4, 6], [0, 7, 8, 12, 34, 21]....]\n",
    "\n",
    "Here, k = 6, and n = 2 (excluding ...).  Does not meet the folowing criteria:\n",
    "- In the first list, 3 has duplicates thus violating Rule a\n",
    "- In the first list, neighbors of 3 (i.e., D) are 2, 4, and 9.  Unfortunately, 9 is in the same list of 3, thus violating Rule b\n",
    "- In the second list, 0 has already appeared in previous list (N - 1), thus violating Rule c.\n",
    "- For Rule d, it may be wise to look at multiple lists, count the occurrences of each s, and make sure all s1...sk has equal probability of occurrences\n",
    "    \n",
    "Help: To help you, use the below generator to test your code.  I have provided three simple examples which result all in assertion error"
   ]
  },
  {
   "cell_type": "code",
   "execution_count": 1,
   "metadata": {},
   "outputs": [],
   "source": [
    "#16 cont.\n",
    "seqs_rule_a = [[3, 4, 4, 5, 6, 7]]\n",
    "seqs_rule_b = [[3, 9]]\n",
    "seqs_rule_c = [[22, 24, 0, 20, 7, 3], [1, 30, 18, 24, 13, 6]]\n",
    "\n",
    "#write some test\n",
    "def test_list_generator(seqs):\n",
    "    for i in range(1, len(seqs)+1):\n",
    "        current = seqs[-i]\n",
    "        if not (i == len(seqs)):\n",
    "            prev = seqs[-i-1]\n",
    "            #check rule c\n",
    "            assert len(set(current).intersection(set(prev))) == 0, f\"Prev: {prev}; Current: {current} - Violate rule c: Repeat across consecutive list!\"\n",
    "        #check rule a\n",
    "        assert len(current) == len(set(current)), f\"Current: {current} - Violate rule a: Got duplicates!\"\n",
    "        #check rule b\n",
    "        nl = set(get_neighbors(current))\n",
    "        assert len(nl.intersection(set(current))) == 0, f\"Current: {current} - Violate rule b: Got neighbors in same list\"\n",
    "\n",
    "    #examine rule d; should be roughly equal +-1\n",
    "    print(\"Counting: \", Counter(list(chain(*seqs))))\n",
    "    \n",
    "# test_list_generator(seqs_rule_a)  #try out!\n",
    "# test_list_generator(seqs_rule_b)\n",
    "# test_list_generator(seqs_rule_c) "
   ]
  },
  {
   "cell_type": "markdown",
   "metadata": {},
   "source": [
    "# Solution for 1.1-1.16"
   ]
  },
  {
   "cell_type": "markdown",
   "metadata": {},
   "source": [
    "# #1"
   ]
  },
  {
   "cell_type": "code",
   "execution_count": 2,
   "metadata": {},
   "outputs": [],
   "source": [
    "l=[]\n",
    "for i in range(2000, 3201):\n",
    "    if (i%7==0) and (i%5!=0):\n",
    "        l.append(str(i))\n",
    "\n",
    "print(','.join(l))"
   ]
  },
  {
   "cell_type": "markdown",
   "metadata": {},
   "source": [
    "# #2"
   ]
  },
  {
   "cell_type": "code",
   "execution_count": 3,
   "metadata": {},
   "outputs": [
    {
     "name": "stdout",
     "output_type": "stream",
     "text": [
      "{1: 1, 2: 4, 3: 9, 4: 16, 5: 25, 6: 36, 7: 49, 8: 64}\n"
     ]
    }
   ],
   "source": [
    "def some_func(n):\n",
    "    d=dict()\n",
    "    for i in range(1,n+1):\n",
    "        d[i]=i*i\n",
    "    print(d)\n",
    "    \n",
    "some_func(8)\n"
   ]
  },
  {
   "cell_type": "markdown",
   "metadata": {},
   "source": [
    "# #3"
   ]
  },
  {
   "cell_type": "code",
   "execution_count": 4,
   "metadata": {},
   "outputs": [
    {
     "name": "stdout",
     "output_type": "stream",
     "text": [
      "18,22,24\n"
     ]
    }
   ],
   "source": [
    "import math\n",
    "c=50\n",
    "h=30\n",
    "input_list = \"100, 150, 180\"\n",
    "value = []\n",
    "items=[x for x in input_list.split(',')]\n",
    "for d in items:\n",
    "    value.append(str(int(round(math.sqrt(2*c*float(d)/h)))))\n",
    "print(','.join(value))"
   ]
  },
  {
   "cell_type": "markdown",
   "metadata": {},
   "source": [
    "# #4"
   ]
  },
  {
   "cell_type": "code",
   "execution_count": 5,
   "metadata": {},
   "outputs": [
    {
     "name": "stdout",
     "output_type": "stream",
     "text": [
      "again and hello makes perfect practice world\n"
     ]
    }
   ],
   "source": [
    "words = \"hello world and practice makes perfect and hello world again\"\n",
    "print(\" \".join(sorted(list(set([word for word in words.split(\" \")])))))"
   ]
  },
  {
   "cell_type": "markdown",
   "metadata": {},
   "source": [
    "# #5"
   ]
  },
  {
   "cell_type": "code",
   "execution_count": 6,
   "metadata": {},
   "outputs": [
    {
     "name": "stdout",
     "output_type": "stream",
     "text": [
      "11106\n"
     ]
    }
   ],
   "source": [
    "a = 9\n",
    "n1 = int( \"%s\" % a )\n",
    "n2 = int( \"%s%s\" % (a,a) )\n",
    "n3 = int( \"%s%s%s\" % (a,a,a) )\n",
    "n4 = int( \"%s%s%s%s\" % (a,a,a,a) )\n",
    "print(n1+n2+n3+n4)"
   ]
  },
  {
   "cell_type": "markdown",
   "metadata": {},
   "source": [
    "# #6"
   ]
  },
  {
   "cell_type": "code",
   "execution_count": 7,
   "metadata": {},
   "outputs": [
    {
     "name": "stdout",
     "output_type": "stream",
     "text": [
      "1,3,5,7,9\n"
     ]
    }
   ],
   "source": [
    "values = \"1,2,3,4,5,6,7,8,9\"\n",
    "print(\",\".join([x for x in values.split(\",\") if int(x)%2!=0]))"
   ]
  },
  {
   "cell_type": "markdown",
   "metadata": {},
   "source": [
    "7). Write a program to check the validity of password.  Following are the criteria for checking the password:\n",
    "- At least 1 letter between [a-z]\n",
    "- At least 1 number between [0-9]\n",
    "- At least 1 letter between [A-Z]\n",
    "- At least 1 character from $#@\n",
    "- Minimum length of transaction password: 6\n",
    "- Maximum length of transaction password: 12\n",
    "\n",
    "Your program should accept a sequence of comma separated passwords and will check them according to the above criteria. Passwords that match the criteria are to be printed, each separated by a comma.  Example, if the following passwords are given as input to the program:\n",
    "\n",
    "        ABd1234@1,a F1#,2w3E*,2We3345\n",
    "\n",
    "Then, the output of the program should be:\n",
    "\n",
    "        ABd1234@1\n",
    "\n",
    "Hint: Uses re python module"
   ]
  },
  {
   "cell_type": "markdown",
   "metadata": {},
   "source": [
    "# #7"
   ]
  },
  {
   "cell_type": "code",
   "execution_count": 8,
   "metadata": {},
   "outputs": [
    {
     "name": "stdout",
     "output_type": "stream",
     "text": [
      "ABd1234@1\n"
     ]
    }
   ],
   "source": [
    "import re\n",
    "input_list = \"ABd1234@1,a F1#,2w3E*,2We3345\"\n",
    "value = []\n",
    "items=[x for x in input_list.split(',')]\n",
    "for p in items:\n",
    "    if len(p)<6 or len(p)>12:\n",
    "        continue   #skip this word\n",
    "    else:\n",
    "        pass  #pass to next\n",
    "    #re.search() function will search the regular expression pattern \n",
    "    #and return the first occurrence. It returns a match object when \n",
    "    #the pattern is found and “null” if the pattern is not found \n",
    "    if not re.search(\"[a-z]\",p):\n",
    "        continue\n",
    "    elif not re.search(\"[0-9]\",p):\n",
    "        continue\n",
    "    elif not re.search(\"[A-Z]\",p):\n",
    "        continue\n",
    "    elif not re.search(\"[$#@]\",p):\n",
    "        continue\n",
    "    elif re.search(\"\\s\",p):\n",
    "        continue\n",
    "    else:\n",
    "        pass\n",
    "    value.append(p)\n",
    "print(\",\".join(value))"
   ]
  },
  {
   "cell_type": "markdown",
   "metadata": {},
   "source": [
    "# #8"
   ]
  },
  {
   "cell_type": "code",
   "execution_count": 9,
   "metadata": {},
   "outputs": [
    {
     "name": "stdout",
     "output_type": "stream",
     "text": [
      "[('John', 20, 90), ('Jony', 17, 91), ('Jony', 17, 93), ('Json', 21, 85), ('Tom', 19, 80)]\n"
     ]
    }
   ],
   "source": [
    "l = []\n",
    "tom = \"Tom\",19,80\n",
    "john = \"John\",20,90\n",
    "johny = \"Jony\",17,91\n",
    "jony = \"Jony\",17,93\n",
    "json = \"Json\",21,85\n",
    "#put extra bracket to trick as one element\n",
    "l.extend(((tom), (john), (johny), (jony), (json))) \n",
    "#optionally, you can do append each one\n",
    "\n",
    "import operator\n",
    "print(sorted(l, key=operator.itemgetter(0,1,2)))"
   ]
  },
  {
   "cell_type": "markdown",
   "metadata": {},
   "source": [
    "# #9"
   ]
  },
  {
   "cell_type": "code",
   "execution_count": 10,
   "metadata": {},
   "outputs": [
    {
     "name": "stdout",
     "output_type": "stream",
     "text": [
      "apple: 3\n",
      "loves: 1\n",
      "i: 1\n",
      "love: 1\n",
      "mango: 1\n",
      "Counts:  [('apple', 3), ('loves', 1), ('i', 1)]\n"
     ]
    }
   ],
   "source": [
    "s = \"Apple loves apple. I love apple, mango.\"\n",
    "s = s.replace(\".\", \"\").replace(\",\", \"\").lower().split(\" \")\n",
    "s2 = []  #just for printing\n",
    "for word in s:\n",
    "    if word not in s2:\n",
    "        s2.append(word)\n",
    "\n",
    "for word in s2:\n",
    "    print(f\"{word}: {s.count(word)}\")\n",
    "    \n",
    "#another way is to use Collections counter\n",
    "from collections import Counter\n",
    "counts = Counter(s)\n",
    "print(\"Counts: \", counts.most_common(3))"
   ]
  },
  {
   "cell_type": "markdown",
   "metadata": {},
   "source": [
    "# #10"
   ]
  },
  {
   "cell_type": "code",
   "execution_count": 11,
   "metadata": {},
   "outputs": [
    {
     "name": "stdout",
     "output_type": "stream",
     "text": [
      "1 1\n",
      "2 4\n",
      "3 9\n",
      "4 16\n",
      "5 25\n",
      "6 36\n",
      "7 49\n",
      "8 64\n",
      "9 81\n",
      "10 100\n",
      "11 121\n",
      "12 144\n",
      "13 169\n",
      "14 196\n",
      "15 225\n",
      "16 256\n",
      "17 289\n",
      "18 324\n",
      "19 361\n",
      "20 400\n"
     ]
    }
   ],
   "source": [
    "d=dict()\n",
    "for i in range(1,21):\n",
    "    d[i]=i**2\n",
    "for (k,v) in d.items():\n",
    "    print(k, v)"
   ]
  },
  {
   "cell_type": "markdown",
   "metadata": {},
   "source": [
    "# #11"
   ]
  },
  {
   "cell_type": "code",
   "execution_count": 12,
   "metadata": {},
   "outputs": [
    {
     "name": "stdout",
     "output_type": "stream",
     "text": [
      "[4, 16, 36, 64, 100]\n"
     ]
    }
   ],
   "source": [
    "some_list = [1,2,3,4,5,6,7,8,9,10]\n",
    "filtered_list = list(filter(lambda x: x%2==0, some_list))\n",
    "print(list(map(lambda x: x**2, filtered_list)))"
   ]
  },
  {
   "cell_type": "markdown",
   "metadata": {},
   "source": [
    "# #12"
   ]
  },
  {
   "cell_type": "code",
   "execution_count": 13,
   "metadata": {},
   "outputs": [
    {
     "name": "stdout",
     "output_type": "stream",
     "text": [
      "Error:  division by zero\n",
      "Executed regardless error or not\n"
     ]
    }
   ],
   "source": [
    "#12\n",
    "try:\n",
    "    x = 5/0\n",
    "except ZeroDivisionError as e:\n",
    "    print(\"Error: \", e)\n",
    "else:\n",
    "    print(\"Dividing successfully!\")\n",
    "finally: \n",
    "    print('Executed regardless error or not')"
   ]
  },
  {
   "cell_type": "markdown",
   "metadata": {},
   "source": [
    "# #13"
   ]
  },
  {
   "cell_type": "code",
   "execution_count": 14,
   "metadata": {},
   "outputs": [
    {
     "name": "stdout",
     "output_type": "stream",
     "text": [
      "Chaky has age of 30 with family salary of 70000\n",
      "The school of John is some_school\n",
      "The school of Peter is another_school\n"
     ]
    }
   ],
   "source": [
    "#try put name before age to see some error\n",
    "def some_func(age, *salary, name=\"N/A\", **kids):\n",
    "    total_salary = 0\n",
    "    for each_salary in salary:\n",
    "        total_salary += each_salary\n",
    "    print(f\"{name} has age of {age} with family salary of {total_salary}\")\n",
    "    \n",
    "    for k, v in kids.items():\n",
    "        print(\"The school of {} is {}\".format(k, v))\n",
    "some_func(30, 30000, 40000, name='Chaky', John=\"some_school\", Peter=\"another_school\")"
   ]
  },
  {
   "cell_type": "markdown",
   "metadata": {},
   "source": [
    "# #14"
   ]
  },
  {
   "cell_type": "code",
   "execution_count": 15,
   "metadata": {},
   "outputs": [
    {
     "name": "stdout",
     "output_type": "stream",
     "text": [
      "206\n"
     ]
    }
   ],
   "source": [
    "#14\n",
    "#try input() if you want users to input by themselves\n",
    "list1 = [2, 5, 4]\n",
    "list2 = [3, 7, 8, 9]\n",
    "list3 = [5, 5, 7, 8, 9, 10]\n",
    "k, m = 3, 1000 \n",
    "n = 3\n",
    "\n",
    "#meeting constraints\n",
    "assert 1 <= k <= 7\n",
    "assert 1 <= m <= 1000\n",
    "assert 1 <= n <= 7\n",
    "\n",
    "def f(x):\n",
    "    return x**2\n",
    "\n",
    "from itertools import product\n",
    "\n",
    "#get all possible pairs\n",
    "all_pair = list(product(list1, list2, list3))\n",
    "\n",
    "print(max([sum(map(f, pair)) % m for pair in all_pair]))"
   ]
  },
  {
   "cell_type": "markdown",
   "metadata": {},
   "source": [
    "# #15"
   ]
  },
  {
   "cell_type": "code",
   "execution_count": 16,
   "metadata": {},
   "outputs": [
    {
     "name": "stdout",
     "output_type": "stream",
     "text": [
      "[12. 23.]\n"
     ]
    }
   ],
   "source": [
    "import numpy as np\n",
    "def solve(numheads,numlegs):\n",
    "    #r + c = 35\n",
    "    #4r + 2c = 94\n",
    "    coeff = np.array([[1, 1], [4, 2]])\n",
    "    y = np.array([35, 94])\n",
    "    x = np.linalg.solve(coeff, y)\n",
    "    return x\n",
    "\n",
    "numheads=35\n",
    "numlegs=94\n",
    "print(solve(numheads,numlegs))"
   ]
  },
  {
   "cell_type": "markdown",
   "metadata": {},
   "source": [
    "# #16"
   ]
  },
  {
   "cell_type": "code",
   "execution_count": 17,
   "metadata": {},
   "outputs": [
    {
     "name": "stdout",
     "output_type": "stream",
     "text": [
      "Last 10 sequence:  [[22, 2, 26, 0, 5, 30], [13, 11, 20, 1, 23, 31], [4, 14, 12, 35, 7, 16], [29, 15, 8, 34, 19, 27], [24, 10, 32, 3, 6, 21], [17, 9, 18, 25, 33, 28], [23, 16, 0, 4, 26, 24], [13, 2, 29, 15, 27, 25], [34, 7, 30, 10, 21, 18], [6, 1, 3, 32, 5, 35]]\n",
      "[[18, 7, 15, 20, 2, 33], [17, 5, 8, 22, 29, 31], [30, 1, 6, 26, 35, 16], [23, 4, 24, 13, 32, 0], [21, 10, 19, 28, 3, 12], [25, 34, 14, 9, 11, 27], [7, 2, 23, 12, 19, 33], [21, 9, 11, 28, 26, 31], [0, 3, 14, 16, 25, 35], [1, 15, 5, 27, 6, 20], [10, 30, 22, 18, 17, 32], [8, 34, 29, 24, 4, 13], [18, 25, 23, 28, 15, 33], [2, 19, 4, 21, 9, 29], [10, 14, 26, 31, 12, 1], [0, 16, 5, 20, 34, 24], [7, 22, 32, 27, 17, 35], [6, 8, 3, 11, 13, 30], [4, 22, 17, 14, 12, 33], [0, 24, 8, 19, 15, 27], [20, 30, 3, 23, 28, 18], [26, 5, 7, 10, 31, 21], [2, 11, 9, 6, 35, 25], [16, 13, 32, 34, 29, 1], [22, 6, 19, 27, 24, 2], [12, 15, 33, 23, 10, 30], [11, 8, 4, 1, 34, 20], [18, 32, 7, 28, 17, 14], [9, 0, 31, 29, 26, 21], [13, 16, 3, 5, 35, 25], [24, 23, 11, 9, 21, 19], [35, 7, 5, 27, 15, 17], [33, 12, 25, 16, 20, 2], [18, 4, 6, 22, 1, 30], [28, 3, 31, 14, 26, 10], [34, 8, 29, 13, 0, 32], [24, 4, 26, 35, 11, 2], [7, 25, 34, 18, 0, 22], [17, 14, 31, 29, 19, 10], [3, 21, 28, 13, 16, 30], [33, 8, 23, 15, 6, 20], [1, 5, 9, 32, 12, 27], [2, 4, 26, 13, 34, 24], [0, 35, 31, 23, 11, 12], [20, 10, 17, 6, 15, 18], [5, 9, 25, 33, 1, 28], [19, 16, 14, 30, 21, 7], [3, 32, 22, 27, 29, 8], [25, 34, 2, 21, 9, 30], [7, 4, 17, 33, 14, 0], [22, 3, 11, 26, 18, 13], [28, 10, 24, 35, 6, 5], [31, 15, 8, 19, 23, 27], [32, 1, 20, 29, 12, 16], [2, 5, 13, 17, 6, 26], [14, 12, 10, 3, 29, 0], [9, 25, 7, 4, 20, 11], [22, 34, 15, 8, 1, 24], [32, 19, 23, 30, 35, 27], [28, 33, 21, 18, 16, 31], [7, 4, 25, 27, 20, 0], [6, 33, 22, 1, 30, 17], [35, 19, 26, 21, 23, 16], [8, 15, 10, 3, 29, 34], [13, 9, 31, 18, 28, 5], [11, 2, 14, 32, 12, 24], [26, 13, 0, 21, 17, 9], [29, 12, 16, 7, 19, 11], [15, 27, 32, 35, 2, 24], [8, 1, 33, 20, 5, 3], [4, 30, 22, 34, 25, 18], [14, 10, 23, 6, 31, 28], [4, 16, 1, 32, 29, 8], [6, 26, 23, 5, 19, 21], [9, 28, 0, 14, 12, 2], [20, 33, 22, 35, 3, 31], [15, 10, 24, 13, 17, 34], [11, 18, 27, 7, 30, 25], [29, 2, 6, 21, 16, 13], [26, 19, 1, 9, 28, 11], [8, 24, 22, 0, 17, 15], [4, 18, 23, 35, 32, 7], [5, 31, 27, 3, 34, 20], [10, 12, 25, 33, 14, 30], [21, 2, 9, 29, 7, 34], [5, 26, 17, 28, 3, 8], [4, 13, 30, 20, 1, 25], [24, 10, 15, 0, 35, 31], [19, 32, 11, 12, 22, 27], [6, 16, 18, 14, 23, 33], [22, 2, 26, 0, 5, 30], [13, 11, 20, 1, 23, 31], [4, 14, 12, 35, 7, 16], [29, 15, 8, 34, 19, 27], [24, 10, 32, 3, 6, 21], [17, 9, 18, 25, 33, 28], [23, 16, 0, 4, 26, 24], [13, 2, 29, 15, 27, 25], [34, 7, 30, 10, 21, 18], [6, 1, 3, 32, 5, 35]]\n",
      "Counting:  Counter({18: 17, 7: 17, 15: 17, 2: 17, 5: 17, 29: 17, 30: 17, 1: 17, 6: 17, 26: 17, 35: 17, 16: 17, 23: 17, 4: 17, 24: 17, 13: 17, 32: 17, 0: 17, 21: 17, 10: 17, 3: 17, 25: 17, 34: 17, 27: 17, 20: 16, 33: 16, 17: 16, 8: 16, 22: 16, 31: 16, 19: 16, 28: 16, 12: 16, 14: 16, 9: 16, 11: 16})\n"
     ]
    }
   ],
   "source": [
    "import random\n",
    "from itertools import chain\n",
    "from collections import Counter\n",
    "# from tqdm import tqdm\n",
    "\n",
    "seqs = []\n",
    "n = 100  #if this num is too big...it will take quite a while or even crash your pc!\n",
    "k = 6  #the bigger this value, the more difficult to find the solution\n",
    "\n",
    "def find_replacement(nextelem, seq):\n",
    "    length = k if len(seqs) > 5 else len(seqs)\n",
    "    for i in range(1, length+1):\n",
    "        prev_seq = seqs[-i:][0]  #try to swap with prev -i sequence, starting with the nearest one\n",
    "        for j in range(len(prev_seq)):\n",
    "            previous_seq_elem = seqs[-i:][0][j]  #start with first element of -i sequence\n",
    "            prev_seq_without_prevelem = [x for x in prev_seq if x != previous_seq_elem] \n",
    "            nl_prev = get_neighbors(prev_seq_without_prevelem)\n",
    "            nl_current = get_neighbors(seq)            \n",
    "            if ( nextelem not in prev_seq and #a\n",
    "                 nextelem not in nl_prev and #b\n",
    "                 nextelem not in seqs[-i-1:][0] and #c1  left consecutive\n",
    "                 nextelem not in seqs[-i+1:][0] #c2  right consecutive\n",
    "                 and\n",
    "                 previous_seq_elem not in seq and #a\n",
    "                 previous_seq_elem not in nl_current and #b  \n",
    "                 previous_seq_elem not in seqs[-1:][0]): #c\n",
    "                seqs[-i:][0][j] = nextelem\n",
    "                seq.append(previous_seq_elem)\n",
    "                return seq\n",
    "            \n",
    "    print(\"Can't swap..Restarting everything...\")\n",
    "    return False\n",
    "    \n",
    "def get_neighbors(seq):\n",
    "    # if the member is at right most, there is no neighbor on the right\n",
    "    right = [ x + 1 for x in seq if x % 6 != 5]\n",
    "    # if the member is at left most, there is no neighbor on the left\n",
    "    left = [ x - 1 for x in seq if x % 6 != 0]\n",
    "    # it is okay to check top/bottom neighbors for both top and bottom member \n",
    "    # because we will get out of range neighbors which will never exist in the sequence\n",
    "    top = [ x - 6 for x in seq]\n",
    "    bottom = [ x + 6 for x in seq]\n",
    "    neighbors = list(chain(right, left, top, bottom))\n",
    "    return neighbors\n",
    "\n",
    "def start():\n",
    "    global seqs  #make sure this local seqs is refering to the global seqs\n",
    "    seqs = []\n",
    "    num_rows = 6\n",
    "    num_cols = 6\n",
    "    total = num_rows * num_cols\n",
    "\n",
    "    #generate 0 -35\n",
    "    li = list(range(total))\n",
    "\n",
    "    #as long as seqs haven't reached the desired length\n",
    "    while len(seqs) < n:\n",
    "        seq = []\n",
    "        failcount = 0  #for preventing stuck\n",
    "        if not li:\n",
    "            #if li is exhausted\n",
    "            li = list(range(36))\n",
    "        while len(seq) < k:  #make sure seq is of size k before redoing again\n",
    "            nextelem = random.choice(li)\n",
    "            if len(seq) > 0:  \n",
    "                nl = get_neighbors(seq)    \n",
    "                if failcount > 20: #in case of multiple failed attempts, we shall try swap with prev_seqs\n",
    "                    seq = find_replacement(nextelem, seq)\n",
    "                    if(seq):  #if successful\n",
    "                        li.remove(nextelem)\n",
    "                        failcount = 0\n",
    "                    else:  #if cannot find replacement, we simply restart the whole program\n",
    "                        seq = []\n",
    "                        seqs = []\n",
    "                        failcount = 0\n",
    "                        li = list(range(36))\n",
    "                        print(\"Restarted.\")\n",
    "                elif nextelem not in nl and nextelem not in seq: #rule b and a\n",
    "                    if len(seqs):\n",
    "                        #element must not appear in prev list\n",
    "                        if nextelem not in seqs[-1:][0]:  #rule c\n",
    "                            seq.append(nextelem)\n",
    "                            li.remove(nextelem)\n",
    "                        else:\n",
    "                            failcount += 1\n",
    "                    else:\n",
    "                        seq.append(nextelem)\n",
    "                        li.remove(nextelem)\n",
    "                else:\n",
    "                    failcount += 1\n",
    "            else:  #first element, check whether it appears in prev list or not\n",
    "                if len(seqs):\n",
    "                    if nextelem not in seqs[-1:][0]: #rule c\n",
    "                        seq.append(nextelem)\n",
    "                        li.remove(nextelem)\n",
    "                    else:\n",
    "                        failcount += 1\n",
    "                else:\n",
    "                    seq.append(nextelem)\n",
    "                    li.remove(nextelem)\n",
    "                \n",
    "        seqs.append(seq)\n",
    "        \n",
    "    print(\"Last 10 sequence: \", seqs[-10:])\n",
    "\n",
    "#write some test\n",
    "def test_list_generator(seqs):\n",
    "    for i in range(1, len(seqs)+1):\n",
    "        current = seqs[-i]\n",
    "        if not (i == len(seqs)):\n",
    "            prev = seqs[-i-1]\n",
    "            #check rule c\n",
    "            assert len(set(current).intersection(set(prev))) == 0, f\"Prev: {prev}; Current: {current} - Violate rule c: Repeat across consecutive list!\"\n",
    "        #check rule a\n",
    "        assert len(current) == len(set(current)), f\"Current: {current} - Violate rule a: Got duplicates!\"\n",
    "        #check rule b\n",
    "        nl = set(get_neighbors(current))\n",
    "        assert len(nl.intersection(set(current))) == 0, f\"Current: {current} - Violate rule b: Got neighbors in same list | {nl.intersection(set(current))}\"\n",
    "\n",
    "    print(seqs)\n",
    "    #examine rule d = should be roughly equal +-1\n",
    "    print(\"Counting: \", Counter(list(chain(*seqs))))\n",
    "\n",
    "# test_list_generator(seqs_rule_a)  #try out!\n",
    "# test_list_generator(seqs_rule_b)\n",
    "# test_list_generator(seqs_rule_c)    \n",
    "\n",
    "seqs_rule_a = [[3, 4, 4, 5, 6, 7]]\n",
    "seqs_rule_b = [[3, 9]]\n",
    "seqs_rule_c = [[22, 24, 0, 20, 7, 3], [1, 30, 18, 24, 13, 6]]\n",
    "\n",
    "if __name__ == '__main__':\n",
    "    start()\n",
    "    test_list_generator(seqs)"
   ]
  }
 ],
 "metadata": {
  "kernelspec": {
   "display_name": "Python 3",
   "language": "python",
   "name": "python3"
  },
  "language_info": {
   "codemirror_mode": {
    "name": "ipython",
    "version": 3
   },
   "file_extension": ".py",
   "mimetype": "text/x-python",
   "name": "python",
   "nbconvert_exporter": "python",
   "pygments_lexer": "ipython3",
   "version": "3.7.7"
  }
 },
 "nbformat": 4,
 "nbformat_minor": 4
}
