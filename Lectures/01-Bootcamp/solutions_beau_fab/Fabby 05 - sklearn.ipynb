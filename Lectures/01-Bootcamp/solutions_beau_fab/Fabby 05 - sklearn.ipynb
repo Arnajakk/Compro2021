{
 "cells": [
  {
   "cell_type": "markdown",
   "id": "19745633-a232-4bef-b26a-8b213b117187",
   "metadata": {},
   "source": [
    "### === Task 1 ===\n",
    "\n",
    "1. Load the sklearn boston dataset.  And perform a simple linear regression. Make sure to split your data into training and testing set. A common measure to evaluate the prediction is to use MSE and R^2 which is also available in sklearn, but you have to do some research.\n",
    "\n",
    "2. Load the sklearn breast cancer dataset.  And perform a simple classification using Naive Bayes. Make sure to split your data into training and testing set. Calculate the accuracy.  "
   ]
  },
  {
   "cell_type": "code",
   "execution_count": 1,
   "id": "de3f0748-c20a-48ae-bbce-f67df039d153",
   "metadata": {},
   "outputs": [
    {
     "name": "stdout",
     "output_type": "stream",
     "text": [
      "(506, 13)\n",
      "(506,)\n",
      "(506, 14)\n"
     ]
    }
   ],
   "source": [
    "#======= 1 ========\n",
    "import numpy as np\n",
    "from sklearn.datasets import load_boston\n",
    "X, y = load_boston(return_X_y=True)\n",
    "print(X.shape)\n",
    "print(y.shape)\n",
    "\n",
    "intercept = np.ones((X.shape[0],1))\n",
    "X = np.concatenate((X,intercept),axis=1)\n",
    "print(X.shape)"
   ]
  },
  {
   "cell_type": "code",
   "execution_count": 2,
   "id": "ae142240-ddd4-48c5-a976-bd3a4ed393f3",
   "metadata": {},
   "outputs": [
    {
     "name": "stdout",
     "output_type": "stream",
     "text": [
      "MSE :  21.897765396049575\n",
      "r2_score :  0.7789410172622849\n"
     ]
    }
   ],
   "source": [
    "from sklearn.model_selection import train_test_split\n",
    "X_train, X_test, y_train, y_test = train_test_split(X, y, random_state=1)\n",
    "\n",
    "from sklearn.linear_model import LinearRegression\n",
    "model = LinearRegression(fit_intercept=True)\n",
    "\n",
    "model.fit(X_train, y_train)\n",
    "\n",
    "y_pred = model.predict(X_test)\n",
    "\n",
    "from sklearn.metrics import mean_squared_error, r2_score\n",
    "print(\"MSE : \", mean_squared_error(y_test, y_pred))\n",
    "print(\"r2_score : \", r2_score(y_test, y_pred))"
   ]
  },
  {
   "cell_type": "code",
   "execution_count": 6,
   "id": "0bda5dfa-6ac1-4d51-a11c-274c3299e335",
   "metadata": {},
   "outputs": [
    {
     "name": "stdout",
     "output_type": "stream",
     "text": [
      "Accuracy :  0.9440559440559441\n"
     ]
    }
   ],
   "source": [
    "#======= 2 ========\n",
    "from sklearn.datasets import load_breast_cancer\n",
    "X, y = load_breast_cancer(return_X_y=True)\n",
    "\n",
    "X_train, X_test, y_train, y_test = train_test_split(X, y, random_state=1)\n",
    "\n",
    "from sklearn.naive_bayes import GaussianNB\n",
    "model = GaussianNB()\n",
    "model.fit(X_train, y_train)\n",
    "\n",
    "y_pred = model.predict(X_test)\n",
    "\n",
    "from sklearn.metrics import accuracy_score\n",
    "print(\"Accuracy : \",accuracy_score(y_test, y_pred))"
   ]
  },
  {
   "cell_type": "markdown",
   "id": "049ed37d-b218-4df6-b4b6-2a875a668219",
   "metadata": {},
   "source": [
    "### === Task 2 ===\n",
    "\n",
    "1. Load the sklearn make_blobs dataset with 4 centers. Then, perform a clustering.  Then plot each cluster with distinct colors.\n",
    "\n",
    "2. Load the sklearn breast cancer dataset. Using the first 4 components from PCA, classify the data with a SVM model. Then, compare the accuracy with when we only use SVM.  "
   ]
  },
  {
   "cell_type": "code",
   "execution_count": 7,
   "id": "70b8b413-445f-48c6-b159-d376dabf7adf",
   "metadata": {},
   "outputs": [
    {
     "data": {
      "text/plain": [
       "<matplotlib.collections.PathCollection at 0x7fc6d93f2cd0>"
      ]
     },
     "execution_count": 7,
     "metadata": {},
     "output_type": "execute_result"
    },
    {
     "data": {
      "image/png": "[encoded data removed]",
      "text/plain": [
       "<Figure size 432x288 with 1 Axes>"
      ]
     },
     "metadata": {
      "needs_background": "light"
     },
     "output_type": "display_data"
    }
   ],
   "source": [
    "#======= 1 ========\n",
    "from sklearn.datasets import make_blobs\n",
    "X, y = make_blobs(n_samples=100, n_features=2, centers=4)\n",
    "\n",
    "from sklearn.mixture import GaussianMixture as GMM    \n",
    "model = GMM(n_components=4,\n",
    "            covariance_type='full') \n",
    "\n",
    "model.fit(X)                    \n",
    "y_pred = model.predict(X)      \n",
    "\n",
    "import matplotlib.pyplot as plt\n",
    "plt.scatter(X[:,0], X[:,1], c=y_pred)"
   ]
  },
  {
   "cell_type": "code",
   "execution_count": 14,
   "id": "c87eae03-58b8-45ea-88f4-6126f6fc3987",
   "metadata": {},
   "outputs": [
    {
     "name": "stdout",
     "output_type": "stream",
     "text": [
      "(569, 30)\n",
      "(569,)\n"
     ]
    }
   ],
   "source": [
    "#======= 2 ========\n",
    "from sklearn.datasets import load_breast_cancer\n",
    "X, y = load_breast_cancer(return_X_y=True)\n",
    "print(X.shape)\n",
    "print(y.shape) \n",
    "\n",
    "from sklearn.model_selection import train_test_split\n",
    "X_train, X_test, y_train, y_test = train_test_split(X, y, random_state=1)\n",
    "y_test = y_test.reshape(-1,1)"
   ]
  },
  {
   "cell_type": "code",
   "execution_count": 15,
   "id": "32c2838c-e461-47ab-8a99-3756eee9b0e6",
   "metadata": {},
   "outputs": [
    {
     "name": "stdout",
     "output_type": "stream",
     "text": [
      "(426, 4)\n"
     ]
    }
   ],
   "source": [
    "from sklearn.decomposition import PCA  # 1. Choose the model class\n",
    "model = PCA(n_components=4)            # 2. Instantiate the model with hyperparameters\n",
    "model.fit(X_train)                      # 3. Fit to data. Notice y is not specified!\n",
    "X_train_pca  = model.transform(X_train)\n",
    "X_test_pca  = model.transform(X_test)\n",
    "print(X_train_pca.shape)"
   ]
  },
  {
   "cell_type": "code",
   "execution_count": 16,
   "id": "9c965c8f-03af-488e-aa08-40d25c9c5779",
   "metadata": {},
   "outputs": [
    {
     "name": "stdout",
     "output_type": "stream",
     "text": [
      "Accuracy :  0.9370629370629371\n"
     ]
    }
   ],
   "source": [
    "from sklearn.svm import SVC\n",
    "pca_model = SVC(gamma='auto', kernel='linear')\n",
    "pca_model.fit(X_train_pca, y_train)\n",
    "\n",
    "y_pred_pca = pca_model.predict(X_test_pca)\n",
    "\n",
    "from sklearn.metrics import accuracy_score\n",
    "print(\"Accuracy : \", accuracy_score(y_test, y_pred_pca))"
   ]
  },
  {
   "cell_type": "code",
   "execution_count": 17,
   "id": "e67d57c9-7e59-4222-9101-4ed83c67b17b",
   "metadata": {},
   "outputs": [
    {
     "name": "stdout",
     "output_type": "stream",
     "text": [
      "Accuracy :  0.9370629370629371\n"
     ]
    }
   ],
   "source": [
    "model = SVC(gamma='auto', kernel='linear')\n",
    "model.fit(X_train, y_train)\n",
    "\n",
    "y_pred_nopca = model.predict(X_test)\n",
    "\n",
    "from sklearn.metrics import accuracy_score\n",
    "print(\"Accuracy : \", accuracy_score(y_test, y_pred_nopca))"
   ]
  },
  {
   "cell_type": "markdown",
   "id": "b76bcf00-10f2-4404-8861-3232e674d6be",
   "metadata": {},
   "source": [
    "### === Task 3 ===\n",
    "\n",
    "1. Try to improve the accuracy of classification of the written digits to exceed 80% using SVC"
   ]
  },
  {
   "cell_type": "code",
   "execution_count": 19,
   "id": "dda73edc-1679-43b2-8880-8147a3d5cac7",
   "metadata": {},
   "outputs": [
    {
     "name": "stdout",
     "output_type": "stream",
     "text": [
      "(1797, 64)\n",
      "(1797,)\n"
     ]
    }
   ],
   "source": [
    "from sklearn.datasets import load_digits\n",
    "digits = load_digits()\n",
    "digits.images.shape\n",
    "\n",
    "X = digits.data\n",
    "print(X.shape)\n",
    "y = digits.target\n",
    "print(y.shape)\n",
    "\n",
    "Xtrain, Xtest, ytrain, ytest = train_test_split(X, y, random_state=0)"
   ]
  },
  {
   "cell_type": "code",
   "execution_count": 22,
   "id": "8c20ca42-9203-43dd-a7e4-3f46efb4482c",
   "metadata": {},
   "outputs": [
    {
     "name": "stdout",
     "output_type": "stream",
     "text": [
      "Accuracy :  0.9911111111111112\n"
     ]
    }
   ],
   "source": [
    "model = SVC(gamma='scale', kernel='rbf')\n",
    "model.fit(Xtrain, ytrain)\n",
    "\n",
    "y_pred = model.predict(Xtest)\n",
    "\n",
    "from sklearn.metrics import accuracy_score\n",
    "print(\"Accuracy : \", accuracy_score(ytest, y_pred))"
   ]
  }
 ],
 "metadata": {
  "kernelspec": {
   "display_name": "pythonDSAI",
   "language": "python",
   "name": "pythondsai"
  },
  "language_info": {
   "codemirror_mode": {
    "name": "ipython",
    "version": 3
   },
   "file_extension": ".py",
   "mimetype": "text/x-python",
   "name": "python",
   "nbconvert_exporter": "python",
   "pygments_lexer": "ipython3",
   "version": "3.8.10"
  }
 },
 "nbformat": 4,
 "nbformat_minor": 5
}
