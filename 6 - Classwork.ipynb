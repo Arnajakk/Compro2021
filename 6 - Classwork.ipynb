{
 "cells": [
  {
   "cell_type": "markdown",
   "metadata": {},
   "source": [
    "# Exercise"
   ]
  },
  {
   "cell_type": "code",
   "execution_count": 1,
   "metadata": {},
   "outputs": [],
   "source": [
    "#1 \n",
    "#Load fetch_lfw_people from sklearn.datasets\n",
    "#perform naives bayesian, logistic regression,\n",
    "#svm, knn, and decision trees classification\n",
    "#compare them based on \n",
    "# 1) precision-recall curve, \n",
    "# 2) Grid search time (if any)\n",
    "# 3) fit time \n",
    "\n",
    "#Tips: you may want to perform GridSearchCV on some model\n",
    "#such as SVM to find the best parameters, before the\n",
    "#comparison"
   ]
  },
  {
   "cell_type": "code",
   "execution_count": null,
   "metadata": {},
   "outputs": [],
   "source": []
  }
 ],
 "metadata": {
  "kernelspec": {
   "display_name": "Python 3",
   "language": "python",
   "name": "python3"
  },
  "language_info": {
   "codemirror_mode": {
    "name": "ipython",
    "version": 3
   },
   "file_extension": ".py",
   "mimetype": "text/x-python",
   "name": "python",
   "nbconvert_exporter": "python",
   "pygments_lexer": "ipython3",
   "version": "3.7.7"
  }
 },
 "nbformat": 4,
 "nbformat_minor": 4
}
