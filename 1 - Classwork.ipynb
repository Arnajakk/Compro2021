{
 "cells": [
  {
   "cell_type": "markdown",
   "metadata": {},
   "source": [
    "# Exercise"
   ]
  },
  {
   "cell_type": "markdown",
   "metadata": {},
   "source": [
    "1). Define a function <code>is_palindrome()</code> that recognizes palindromes (i.e. words that look the same written backwards). For example, <code>is_palindrome(\"radar\")</code> should return True.\n",
    "\n",
    "\n",
    "2). Create a countdown clock that counts 3, 2, 1 and done! (hint: use <code>time.sleep(1)</code>)\n",
    "\n",
    "\n",
    "3). Create a function that removes duplicates from a given list\n",
    "\n",
    "\n",
    "4). Define a function <code>max()</code> that takes list of numbers as arguments and returns the largest of them.\n",
    "\n",
    "\n",
    "5). Define a function <code>sum()</code> and a function <code>multiply()</code> that sums and multiplies (respectively) all the numbers in a list of numbers. For example, <code>sum([1, 2, 3, 4])</code> should return 10, and <code>multiply([1, 2, 3, 4])</code> should return 24.\n",
    "\n",
    "\n",
    "6). Define a function <code>factorial()</code> that calculates the factorial of a number.\n",
    "\n",
    "\n",
    "7). Define a function <code>matrix()</code> that creates a matrix with N rows and M columns.\n",
    "\n",
    "\n",
    "8). Create a function <code>dot()</code> that calculates the dot product between the matrices a and b.\n",
    "\n",
    "\n",
    "9). Create a matrix $a$ with 5 rows and 10 columns and fill the positions of the matrix such that $a_{ij} = i^2 + j^2$"
   ]
  },
  {
   "cell_type": "markdown",
   "metadata": {},
   "source": [
    "# Solution"
   ]
  }
 ],
 "metadata": {
  "kernelspec": {
   "display_name": "Python 3",
   "language": "python",
   "name": "python3"
  },
  "language_info": {
   "codemirror_mode": {
    "name": "ipython",
    "version": 3
   },
   "file_extension": ".py",
   "mimetype": "text/x-python",
   "name": "python",
   "nbconvert_exporter": "python",
   "pygments_lexer": "ipython3",
   "version": "3.8.2-final"
  }
 },
 "nbformat": 4,
 "nbformat_minor": 4
}