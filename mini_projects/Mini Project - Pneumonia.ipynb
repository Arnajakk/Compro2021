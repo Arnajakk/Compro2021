{
 "cells": [
  {
   "cell_type": "markdown",
   "metadata": {},
   "source": [
    "## Pneumonia\n",
    "\n",
    "Visits https://www.kaggle.com/paultimothymooney/chest-xray-pneumonia and attempt to complete the challenge.\n",
    "\n",
    "Apply at least three different architectures of CNN and compare the results.  Of course, perform necessary preprocessing as necessary.\n",
    "\n",
    "Please feel free to look at some of the existing notebooks to get some inspiration.\n",
    "\n",
    "Last but not least, explain why you choose those architectures, and explain why certain architecture works better.\n",
    "\n",
    "Good luck and enjoy thinking, learning, and coding!"
   ]
  },
  {
   "cell_type": "code",
   "execution_count": null,
   "metadata": {},
   "outputs": [],
   "source": []
  }
 ],
 "metadata": {
  "kernelspec": {
   "display_name": "Python 3",
   "language": "python",
   "name": "python3"
  },
  "language_info": {
   "codemirror_mode": {
    "name": "ipython",
    "version": 3
   },
   "file_extension": ".py",
   "mimetype": "text/x-python",
   "name": "python",
   "nbconvert_exporter": "python",
   "pygments_lexer": "ipython3",
   "version": "3.7.7"
  }
 },
 "nbformat": 4,
 "nbformat_minor": 4
}
