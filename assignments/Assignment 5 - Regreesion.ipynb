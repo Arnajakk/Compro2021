{
 "metadata": {
  "language_info": {
   "codemirror_mode": {
    "name": "ipython",
    "version": 3
   },
   "file_extension": ".py",
   "mimetype": "text/x-python",
   "name": "python",
   "nbconvert_exporter": "python",
   "pygments_lexer": "ipython3",
   "version": "3.8.2-final"
  },
  "orig_nbformat": 2,
  "kernelspec": {
   "name": "pythondsai",
   "display_name": "pythonDSAI"
  }
 },
 "nbformat": 4,
 "nbformat_minor": 2,
 "cells": [
  {
   "cell_type": "markdown",
   "metadata": {},
   "source": [
    "# Assigmnet 5 - Answer"
   ]
  },
  {
   "cell_type": "markdown",
   "metadata": {},
   "source": [
    "1. Load boston setting X as boston.data and y as boston.target\n",
    "\n",
    "Attempt the grid search using polyregression + (linear, ridge, lasso, elastic net), and \n",
    "\n",
    "Does feature mechanisms on ridge/lasso/elastic helps here?\n",
    "\n",
    "what is the optimal polynomial degree?  What does it mean?\n",
    "\n",
    "why do you think the result is like this?\n",
    "\n",
    "what is the value of lambdas, and what does it means?"
   ]
  },
  {
   "cell_type": "code",
   "execution_count": 1,
   "metadata": {},
   "outputs": [],
   "source": [
    "# Load boston dataset from sklearn here"
   ]
  },
  {
   "cell_type": "code",
   "execution_count": 2,
   "metadata": {
    "tags": []
   },
   "outputs": [],
   "source": [
    "# YOURE CODE HERE"
   ]
  },
  {
   "cell_type": "markdown",
   "metadata": {},
   "source": [
    "# #2 "
   ]
  },
  {
   "cell_type": "code",
   "execution_count": 3,
   "metadata": {},
   "outputs": [],
   "source": [
    "import numpy as np\n",
    "import pandas as pd\n",
    "import matplotlib.pyplot as plt\n",
    "from sklearn import linear_model"
   ]
  },
  {
   "cell_type": "code",
   "execution_count": 4,
   "metadata": {},
   "outputs": [],
   "source": [
    "from sklearn.datasets import make_regression\n",
    "from sklearn.model_selection import train_test_split\n",
    "from sklearn.preprocessing import StandardScaler\n",
    "\n",
    "#only 10 out of 100 features are informative, add some noise to add to the difficulty of the problem\n",
    "X, y, coef = make_regression(n_samples = 1000, n_features = 100, coef=True,\n",
    "                         random_state=42, bias=6, noise=50, n_informative=10)\n",
    "\n",
    "#scaling does not really help with simple linear regression\n",
    "#since the coefficients can be multiply to certain order but\n",
    "#with same result.  However, regularized models will be\n",
    "#affected.  The idea is that the constraint is applied to the\n",
    "#sum of a function of coefficients.  If we inflate an attribute,\n",
    "#the coefficient will be deflated, which will affect\n",
    "#the penalization.  Thus it is best to scale for all regression\n",
    "#problems since it does not hurt\n",
    "scaler = StandardScaler()\n",
    "X = scaler.fit_transform(X)\n",
    "\n",
    "X_train, X_test, y_train, y_test = train_test_split(X, y, test_size=0.3)\n",
    "\n",
    "#perform Ridge regression\n",
    "#plot training and validation errors as function of lambda\n",
    "#also plot coefficients and coefficients error as function of lambda\n",
    "#coefficients can be obtained simply using model.coef_\n",
    "#coeffcient error can be computed using mean_squared_error(model.coef_, w)\n",
    "#interpret what is happening"
   ]
  },
  {
   "cell_type": "code",
   "execution_count": 5,
   "metadata": {},
   "outputs": [],
   "source": [
    "# Your code here"
   ]
  },
  {
   "cell_type": "markdown",
   "metadata": {},
   "source": [
    "3.\n",
    "\n",
    "implement Linear regression from scratch using \n",
    "\n",
    "- the closed form OLS\n",
    "\n",
    "- the gradient descent\n",
    "\n",
    "- (optional challenge) the closed form OLS using pseudo inverse\n",
    "\n",
    "- LinearRegression() by sklearn. - please research which algorithm that sklearn use?\n",
    "\n",
    "measure which one is faster, try to vary the n_features\n",
    "\n",
    "so what do you think, closed_form or gradient descent?\n",
    "\n",
    "use the same X y from #1"
   ]
  },
  {
   "cell_type": "code",
   "execution_count": 6,
   "metadata": {
    "tags": []
   },
   "outputs": [],
   "source": [
    "# Your code here"
   ]
  },
  {
   "cell_type": "markdown",
   "metadata": {},
   "source": [
    "4.\n",
    "\n",
    "implement Ridge regression from scratch using \n",
    "\n",
    " - the closed form OLS\n",
    "\n",
    " - stochastic gradient descent\n",
    "\n",
    " - SGDRegressor() of sklearn using penalty as l2\n",
    "\n",
    " - Ridge() by sklearn\n",
    "\n",
    "loop through several lambda and print the MSE\n",
    "\n",
    "compare the time as well\n",
    "\n",
    "use the same X y from #1"
   ]
  },
  {
   "cell_type": "code",
   "execution_count": 7,
   "metadata": {},
   "outputs": [],
   "source": [
    "# Your code here"
   ]
  }
 ]
}