{
 "cells": [
  {
   "cell_type": "markdown",
   "id": "d7bec3a8-1ad5-4571-b76f-a57752589a0c",
   "metadata": {},
   "source": [
    "# Solution Pandas // Fabby"
   ]
  },
  {
   "cell_type": "code",
   "execution_count": null,
   "id": "5a6e5d0a-3880-4dd5-80bb-d70a6041edc6",
   "metadata": {},
   "outputs": [],
   "source": []
  }
 ],
 "metadata": {
  "kernelspec": {
   "display_name": "pythonDSAI",
   "language": "python",
   "name": "pythondsai"
  },
  "language_info": {
   "codemirror_mode": {
    "name": "ipython",
    "version": 3
   },
   "file_extension": ".py",
   "mimetype": "text/x-python",
   "name": "python",
   "nbconvert_exporter": "python",
   "pygments_lexer": "ipython3",
   "version": "3.8.10"
  }
 },
 "nbformat": 4,
 "nbformat_minor": 5
}
