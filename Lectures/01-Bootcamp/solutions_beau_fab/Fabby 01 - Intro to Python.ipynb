{
 "cells": [
  {
   "cell_type": "markdown",
   "metadata": {},
   "source": [
    "# Solution 1 intro to python // Fabby"
   ]
  },
  {
   "cell_type": "code",
   "execution_count": 2,
   "metadata": {},
   "outputs": [],
   "source": [
    "# Cell 1\n",
    "# Should we do \n",
    "# print(type(x)) to see ??\n",
    "\n",
    "\n",
    "# python keyword such as \"and\" cannot be used as variable name\n",
    "\n",
    "# more examples : or time class input true false"
   ]
  },
  {
   "cell_type": "code",
   "execution_count": 4,
   "metadata": {},
   "outputs": [],
   "source": [
    "# Cell 3\n",
    "\n",
    "# move these two lines up here\n",
    "# print(type(b))\n",
    "# print(type(b2))\n",
    "# print(\"1: Is a boolean: \", type(a) is bool)\n",
    "# print(\"2: Is a2 int: \", isinstance(a2, int))"
   ]
  },
  {
   "cell_type": "code",
   "execution_count": 5,
   "metadata": {},
   "outputs": [],
   "source": [
    "# Cell 4\n",
    "\n",
    "# ???\n",
    "# import math\n",
    "# print(\"6: Without math. \", math.cos(2* math.pi))"
   ]
  },
  {
   "cell_type": "code",
   "execution_count": 6,
   "metadata": {},
   "outputs": [],
   "source": [
    "# Cell 5\n",
    "# should we show example with real variables?"
   ]
  },
  {
   "cell_type": "markdown",
   "metadata": {},
   "source": [
    "===Task===\n",
    "1. Declare two strings with value \"3\" and \"4\". Add them by first converting them to int, and then perform addition\n",
    "\n",
    "2. Declare a variable x = 10, and then print a f-string saying \"my variable x = 10\" where 10 is from the x value, not hard-coded\n",
    "\n",
    "3. Perform a calculation of 10 mod 4 / 2 and convert to integer\n",
    "\n",
    "4. Get input from user using input(), and then print the type of the input\n",
    "\n",
    "5. Declare three strings: \"Chaky\", \"John\", \"Tom\", and concatenate them into \"Chaky, John, Tom\""
   ]
  },
  {
   "cell_type": "code",
   "execution_count": 13,
   "metadata": {},
   "outputs": [
    {
     "name": "stdout",
     "output_type": "stream",
     "text": [
      "my variable x = 10\n",
      "1\n"
     ]
    },
    {
     "name": "stdin",
     "output_type": "stream",
     "text": [
      " 4\n"
     ]
    },
    {
     "name": "stdout",
     "output_type": "stream",
     "text": [
      "<class 'str'>\n",
      "Chaky , John , Tom\n"
     ]
    }
   ],
   "source": [
    "a = '3'\n",
    "b = '4'\n",
    "a = int(a)\n",
    "b = int(b)\n",
    "# How to convert data types\n",
    "\n",
    "\n",
    "# What is hardcoded ???\n",
    "x = 10\n",
    "print(f'my variable x = {x}')\n",
    "\n",
    "\n",
    "print(int(10 % 4/2 ))\n",
    "\n",
    "\n",
    "# How to get input\n",
    "x = input()\n",
    "print(type(x))\n",
    "\n",
    "\n",
    "a = 'Chaky'\n",
    "b = 'John'\n",
    "c = 'Tom'\n",
    "print(a,b,c, sep=' , ')\n",
    "# change the instruction to \"print them with a separator such that the output is\""
   ]
  },
  {
   "cell_type": "code",
   "execution_count": 14,
   "metadata": {},
   "outputs": [],
   "source": [
    "# Cell 6\n",
    "# add some simpler examples of if and else ?"
   ]
  },
  {
   "cell_type": "markdown",
   "metadata": {},
   "source": [
    "\n",
    "===Task===\n",
    "1. Get input from user using input(). If the number is less than 5, print \"less than\". Otherwise, print \"higher than\".\n",
    "\n",
    "2. Write a simple number guessing game using pseudocode. The program generates a random integer. It then accepts input from users for a integer or else it outputs ‘Please input an integer’. After the user input, the system outputs one of the three possible states whether the number is higher, lower or equal to the target integer. If it is equal, the program asked whether users want to play another round, or else just keep asking users for input. Feel free to make any assumption for anything not stated."
   ]
  },
  {
   "cell_type": "code",
   "execution_count": null,
   "metadata": {},
   "outputs": [],
   "source": [
    "x = input()\n",
    "\n",
    "x = int(x)\n",
    "if x < 5 :\n",
    "    print(\"less than\")\n",
    "else:\n",
    "    print(\"higher than\")"
   ]
  },
  {
   "cell_type": "code",
   "execution_count": 20,
   "metadata": {},
   "outputs": [
    {
     "name": "stdin",
     "output_type": "stream",
     "text": [
      "Please input your guess :  8\n",
      "Please input an integer :  3\n"
     ]
    },
    {
     "name": "stdout",
     "output_type": "stream",
     "text": [
      "lower than target\n"
     ]
    },
    {
     "name": "stdin",
     "output_type": "stream",
     "text": [
      "Please input an integer :  9\n"
     ]
    },
    {
     "name": "stdout",
     "output_type": "stream",
     "text": [
      "higher than target\n"
     ]
    },
    {
     "name": "stdin",
     "output_type": "stream",
     "text": [
      "Please input an integer :  8\n"
     ]
    },
    {
     "name": "stdout",
     "output_type": "stream",
     "text": [
      "higher than target\n"
     ]
    },
    {
     "name": "stdin",
     "output_type": "stream",
     "text": [
      "Please input an integer :  7\n"
     ]
    },
    {
     "name": "stdout",
     "output_type": "stream",
     "text": [
      "higher than target\n"
     ]
    },
    {
     "name": "stdin",
     "output_type": "stream",
     "text": [
      "Please input an integer :  6\n"
     ]
    },
    {
     "name": "stdout",
     "output_type": "stream",
     "text": [
      "equal to target\n"
     ]
    },
    {
     "name": "stdin",
     "output_type": "stream",
     "text": [
      "Do you want to play another round ? (true/false) :  True\n"
     ]
    },
    {
     "ename": "KeyboardInterrupt",
     "evalue": "Interrupted by user",
     "output_type": "error",
     "traceback": [
      "\u001b[0;31m---------------------------------------------------------------------------\u001b[0m",
      "\u001b[0;31mKeyboardInterrupt\u001b[0m                         Traceback (most recent call last)",
      "\u001b[0;32m<ipython-input-20-fd8329d40895>\u001b[0m in \u001b[0;36m<module>\u001b[0;34m\u001b[0m\n\u001b[1;32m      3\u001b[0m \u001b[0;32mwhile\u001b[0m \u001b[0mmore\u001b[0m \u001b[0;34m==\u001b[0m \u001b[0;32mTrue\u001b[0m\u001b[0;34m:\u001b[0m\u001b[0;34m\u001b[0m\u001b[0;34m\u001b[0m\u001b[0m\n\u001b[1;32m      4\u001b[0m     \u001b[0mtarget\u001b[0m \u001b[0;34m=\u001b[0m \u001b[0;36m6\u001b[0m \u001b[0;31m# actually random\u001b[0m\u001b[0;34m\u001b[0m\u001b[0;34m\u001b[0m\u001b[0m\n\u001b[0;32m----> 5\u001b[0;31m     \u001b[0mguess\u001b[0m \u001b[0;34m=\u001b[0m \u001b[0minput\u001b[0m\u001b[0;34m(\u001b[0m\u001b[0;34m\"Please input your guess : \"\u001b[0m\u001b[0;34m)\u001b[0m\u001b[0;34m\u001b[0m\u001b[0;34m\u001b[0m\u001b[0m\n\u001b[0m\u001b[1;32m      6\u001b[0m     \u001b[0;32mwhile\u001b[0m \u001b[0mtype\u001b[0m\u001b[0;34m(\u001b[0m\u001b[0mguess\u001b[0m\u001b[0;34m)\u001b[0m\u001b[0;34m!=\u001b[0m \u001b[0mint\u001b[0m\u001b[0;34m:\u001b[0m\u001b[0;34m\u001b[0m\u001b[0;34m\u001b[0m\u001b[0m\n\u001b[1;32m      7\u001b[0m         \u001b[0mguess\u001b[0m \u001b[0;34m=\u001b[0m \u001b[0minput\u001b[0m\u001b[0;34m(\u001b[0m\u001b[0;34m\"Please input an integer : \"\u001b[0m\u001b[0;34m)\u001b[0m\u001b[0;34m\u001b[0m\u001b[0;34m\u001b[0m\u001b[0m\n",
      "\u001b[0;32m/opt/conda/lib/python3.8/site-packages/ipykernel/kernelbase.py\u001b[0m in \u001b[0;36mraw_input\u001b[0;34m(self, prompt)\u001b[0m\n\u001b[1;32m    858\u001b[0m                 \u001b[0;34m\"raw_input was called, but this frontend does not support input requests.\"\u001b[0m\u001b[0;34m\u001b[0m\u001b[0;34m\u001b[0m\u001b[0m\n\u001b[1;32m    859\u001b[0m             )\n\u001b[0;32m--> 860\u001b[0;31m         return self._input_request(str(prompt),\n\u001b[0m\u001b[1;32m    861\u001b[0m             \u001b[0mself\u001b[0m\u001b[0;34m.\u001b[0m\u001b[0m_parent_ident\u001b[0m\u001b[0;34m,\u001b[0m\u001b[0;34m\u001b[0m\u001b[0;34m\u001b[0m\u001b[0m\n\u001b[1;32m    862\u001b[0m             \u001b[0mself\u001b[0m\u001b[0;34m.\u001b[0m\u001b[0m_parent_header\u001b[0m\u001b[0;34m,\u001b[0m\u001b[0;34m\u001b[0m\u001b[0;34m\u001b[0m\u001b[0m\n",
      "\u001b[0;32m/opt/conda/lib/python3.8/site-packages/ipykernel/kernelbase.py\u001b[0m in \u001b[0;36m_input_request\u001b[0;34m(self, prompt, ident, parent, password)\u001b[0m\n\u001b[1;32m    902\u001b[0m             \u001b[0;32mexcept\u001b[0m \u001b[0mKeyboardInterrupt\u001b[0m\u001b[0;34m:\u001b[0m\u001b[0;34m\u001b[0m\u001b[0;34m\u001b[0m\u001b[0m\n\u001b[1;32m    903\u001b[0m                 \u001b[0;31m# re-raise KeyboardInterrupt, to truncate traceback\u001b[0m\u001b[0;34m\u001b[0m\u001b[0;34m\u001b[0m\u001b[0;34m\u001b[0m\u001b[0m\n\u001b[0;32m--> 904\u001b[0;31m                 \u001b[0;32mraise\u001b[0m \u001b[0mKeyboardInterrupt\u001b[0m\u001b[0;34m(\u001b[0m\u001b[0;34m\"Interrupted by user\"\u001b[0m\u001b[0;34m)\u001b[0m \u001b[0;32mfrom\u001b[0m \u001b[0;32mNone\u001b[0m\u001b[0;34m\u001b[0m\u001b[0;34m\u001b[0m\u001b[0m\n\u001b[0m\u001b[1;32m    905\u001b[0m             \u001b[0;32mexcept\u001b[0m \u001b[0mException\u001b[0m \u001b[0;32mas\u001b[0m \u001b[0me\u001b[0m\u001b[0;34m:\u001b[0m\u001b[0;34m\u001b[0m\u001b[0;34m\u001b[0m\u001b[0m\n\u001b[1;32m    906\u001b[0m                 \u001b[0mself\u001b[0m\u001b[0;34m.\u001b[0m\u001b[0mlog\u001b[0m\u001b[0;34m.\u001b[0m\u001b[0mwarning\u001b[0m\u001b[0;34m(\u001b[0m\u001b[0;34m\"Invalid Message:\"\u001b[0m\u001b[0;34m,\u001b[0m \u001b[0mexc_info\u001b[0m\u001b[0;34m=\u001b[0m\u001b[0;32mTrue\u001b[0m\u001b[0;34m)\u001b[0m\u001b[0;34m\u001b[0m\u001b[0;34m\u001b[0m\u001b[0m\n",
      "\u001b[0;31mKeyboardInterrupt\u001b[0m: Interrupted by user"
     ]
    }
   ],
   "source": [
    "# what is pseudo code??? TOO HARD !!!\n",
    "more =True\n",
    "while more == True:\n",
    "    target = 6 # actually random\n",
    "    guess = input(\"Please input your guess : \")\n",
    "    while type(guess)!= int:\n",
    "        guess = input(\"Please input an integer : \")\n",
    "        guess = int(guess) # cheated\n",
    "\n",
    "    equal = False\n",
    "    while equal == False:\n",
    "        if guess > target:\n",
    "            print(\"higher than target\")\n",
    "            guess = int(input(\"Please input an integer : \"))\n",
    "        elif guess < target:\n",
    "            print(\"lower than target\")\n",
    "            guess = int(input(\"Please input an integer : \"))\n",
    "        else:\n",
    "            print(\"equal to target\")\n",
    "            equal = True\n",
    "    more = bool(input(\"Do you want to play another round ? (True/False) : \"))"
   ]
  },
  {
   "cell_type": "code",
   "execution_count": null,
   "metadata": {},
   "outputs": [],
   "source": [
    "# Cell 14\n",
    "# typo\n",
    "# print(\"2: 4 in a?\", 4 in a)"
   ]
  },
  {
   "cell_type": "code",
   "execution_count": 21,
   "metadata": {},
   "outputs": [],
   "source": [
    "# Cell 15 typo\n",
    "\n",
    "# for i in range(3): #does not include 3, start with 0"
   ]
  },
  {
   "cell_type": "code",
   "execution_count": 23,
   "metadata": {},
   "outputs": [],
   "source": [
    "# Cell 17\n",
    "# print(\"3: Sampled three elements from a list: \", random.sample(a, 3))\n",
    "# print(\"4: Choose one element randomly from a list: \", random.choice(a))"
   ]
  },
  {
   "cell_type": "markdown",
   "metadata": {},
   "source": [
    "# TASK LIST"
   ]
  },
  {
   "cell_type": "code",
   "execution_count": 1,
   "metadata": {},
   "outputs": [
    {
     "name": "stdout",
     "output_type": "stream",
     "text": [
      "Python\n",
      "cool\n",
      "is\n",
      "chaklam\n",
      "Python\n",
      "[0, 1, 2, 3, 4, 5, 6, 7, 8, 9]\n",
      "[1, 2, 3, 4, 5, 6, 7, 8, 9]\n",
      "[-9, -7, -5, -3, -1, 1, 3, 5, 7, 9]\n",
      "10\n",
      "11\n",
      "[-9, -7, -5, -3, -1, 1, 3, 5, 7, 9]\n",
      "False\n",
      "[5, -9, -7, 9, -1, 3, 7, -3, -5]\n",
      "[-9, -7, -5, -3, -1, 3, 5, 7, 9]\n",
      "-9\n",
      "-7\n",
      "-5\n",
      "-3\n",
      "-1\n",
      "3\n",
      "5\n",
      "7\n",
      "9\n",
      "Random choice :  -3\n",
      "[(-9, -7), (-9, -5), (-9, -3), (-9, -1), (-9, 3), (-9, 5), (-9, 7), (-9, 9), (-7, -9), (-7, -5), (-7, -3), (-7, -1), (-7, 3), (-7, 5), (-7, 7), (-7, 9), (-5, -9), (-5, -7), (-5, -3), (-5, -1), (-5, 3), (-5, 5), (-5, 7), (-5, 9), (-3, -9), (-3, -7), (-3, -5), (-3, -1), (-3, 3), (-3, 5), (-3, 7), (-3, 9), (-1, -9), (-1, -7), (-1, -5), (-1, -3), (-1, 3), (-1, 5), (-1, 7), (-1, 9), (3, -9), (3, -7), (3, -5), (3, -3), (3, -1), (3, 5), (3, 7), (3, 9), (5, -9), (5, -7), (5, -5), (5, -3), (5, -1), (5, 3), (5, 7), (5, 9), (7, -9), (7, -7), (7, -5), (7, -3), (7, -1), (7, 3), (7, 5), (7, 9), (9, -9), (9, -7), (9, -5), (9, -3), (9, -1), (9, 3), (9, 5), (9, 7)]\n",
      "[-8, -6, -4, -2, 0, 4, 6, 8, 10]\n",
      "0 -8\n",
      "1 -6\n",
      "2 -4\n",
      "3 -2\n",
      "4 0\n",
      "5 4\n",
      "6 6\n",
      "7 8\n",
      "8 10\n"
     ]
    }
   ],
   "source": [
    "a = \"Python is cool\"\n",
    "print(a[0:6])\n",
    "print(a[-4:])\n",
    "print(a[7:9])\n",
    "\n",
    "b = \"malkahc\"\n",
    "print(b[::-1])\n",
    "\n",
    "c = \"dffdfPkyktkhkokn\"\n",
    "print(c[5::2])\n",
    "\n",
    "d = list(range(10))\n",
    "print(d)\n",
    "\n",
    "e = list(range(1,10))\n",
    "print(e)\n",
    "\n",
    "f = list(range(-9,10,2))\n",
    "print(f)\n",
    "f.append(10)\n",
    "print(f[-1])\n",
    "print(len(f))\n",
    "\n",
    "# Continuing, remove the value 10\n",
    "f.remove(10)\n",
    "print(f)\n",
    "\n",
    "f.pop(5)\n",
    "print(-20 in f)\n",
    "\n",
    "import random\n",
    "random.shuffle(f)\n",
    "print(f)\n",
    "f.sort()\n",
    "print(f)\n",
    "\n",
    "for item in f:\n",
    "    print(item)\n",
    "    \n",
    "print(\"Random choice : \",random.choice(f))\n",
    "\n",
    "from itertools import permutations, combinations\n",
    "print(list(permutations(f,2)))\n",
    "\n",
    "f = [item + 1 for item in f]\n",
    "print(f)\n",
    "\n",
    "# Continuing, using a for loop with enumerate, print the value in the list, as well as their index\n",
    "for index, item in enumerate(f) :\n",
    "    print(index,item)"
   ]
  },
  {
   "cell_type": "code",
   "execution_count": 57,
   "metadata": {},
   "outputs": [
    {
     "name": "stdout",
     "output_type": "stream",
     "text": [
      "('fb', 1) ('beau', 2) ('sit', 3)\n",
      "{1, 2}\n",
      "2\n"
     ]
    }
   ],
   "source": [
    "# should we have an example of zip?\n",
    "list1 = ['fb', 'beau', 'sit']\n",
    "list2 = [1,2,3]\n",
    "print(*zip(list1,list2))\n",
    "\n",
    "a = [1, 1, 2, 2]\n",
    "a = set(a)\n",
    "print(a)\n",
    "print(len(a))"
   ]
  },
  {
   "cell_type": "code",
   "execution_count": 58,
   "metadata": {},
   "outputs": [
    {
     "name": "stdout",
     "output_type": "stream",
     "text": [
      "EEG signal:  [[[8, 9], 1], [[3, 3], 2], [[2, 3], 2]]\n"
     ]
    }
   ],
   "source": [
    "two_channel_eeg_signal1 = [8, 9]\n",
    "event1 = 1\n",
    "two_channel_eeg_signal2 = [3, 3]\n",
    "event2 = 2\n",
    "two_channel_eeg_signal3 = [2, 3]\n",
    "event3 = 2\n",
    "some_nested_list = []\n",
    "some_nested_list.append([two_channel_eeg_signal1, event1])\n",
    "some_nested_list.append([two_channel_eeg_signal2, event2])\n",
    "some_nested_list.append([two_channel_eeg_signal3, event3])\n",
    "print(\"EEG signal: \", some_nested_list)"
   ]
  },
  {
   "cell_type": "code",
   "execution_count": 65,
   "metadata": {},
   "outputs": [
    {
     "name": "stdout",
     "output_type": "stream",
     "text": [
      "[8, 9] 1\n",
      "[3, 3] 2\n",
      "[2, 3] 2\n",
      "[[8, 9], [3, 3], [2, 3]]\n",
      "[1, 2, 2]\n"
     ]
    }
   ],
   "source": [
    "for (eeg,event) in some_nested_list:\n",
    "    print(eeg, event)\n",
    "    \n",
    "print([eeg for (eeg,event) in some_nested_list])\n",
    "print([event for (eeg,event) in some_nested_list])"
   ]
  },
  {
   "cell_type": "code",
   "execution_count": 67,
   "metadata": {},
   "outputs": [
    {
     "name": "stdout",
     "output_type": "stream",
     "text": [
      "[[3, 3], [2, 3]]\n"
     ]
    }
   ],
   "source": [
    "print([eeg for (eeg,event) in some_nested_list if event == 2])"
   ]
  },
  {
   "cell_type": "code",
   "execution_count": 69,
   "metadata": {},
   "outputs": [
    {
     "name": "stdout",
     "output_type": "stream",
     "text": [
      "Female\n"
     ]
    }
   ],
   "source": [
    "person = 22,'Female',160\n",
    "print(person[1])"
   ]
  },
  {
   "cell_type": "code",
   "execution_count": 70,
   "metadata": {},
   "outputs": [
    {
     "name": "stdout",
     "output_type": "stream",
     "text": [
      "age 22\n",
      "name fb\n",
      "gender f\n",
      "id 121395\n"
     ]
    }
   ],
   "source": [
    "my_dict = {\"age\" : '22',\n",
    "          \"name\" : 'fb',\n",
    "          \"gender\" : 'f',\n",
    "          \"id\":121395}\n",
    "for key, value in my_dict.items():\n",
    "    print(key, value)"
   ]
  },
  {
   "cell_type": "code",
   "execution_count": 71,
   "metadata": {},
   "outputs": [],
   "source": [
    "# Cell 31\n",
    "# for returning functions should we add the accepting variables to the first two examples?"
   ]
  },
  {
   "cell_type": "code",
   "execution_count": 74,
   "metadata": {},
   "outputs": [
    {
     "name": "stdout",
     "output_type": "stream",
     "text": [
      "\n",
      "*\n",
      "**\n",
      "***\n",
      "****\n",
      "*****\n"
     ]
    }
   ],
   "source": [
    "def down(height=2):\n",
    "    for i in range(height+1):\n",
    "        print(\"*\"*i)\n",
    "        \n",
    "down(5)"
   ]
  },
  {
   "cell_type": "code",
   "execution_count": 76,
   "metadata": {},
   "outputs": [
    {
     "name": "stdout",
     "output_type": "stream",
     "text": [
      "*****\n",
      "****\n",
      "***\n",
      "**\n",
      "*\n",
      "\n"
     ]
    }
   ],
   "source": [
    "def up(height=2):\n",
    "    for i in range(height+1):\n",
    "        print(\"*\"*(5-i))\n",
    "        \n",
    "up(5)"
   ]
  },
  {
   "cell_type": "code",
   "execution_count": 86,
   "metadata": {},
   "outputs": [
    {
     "name": "stdout",
     "output_type": "stream",
     "text": [
      "     *     \n",
      "    ***    \n",
      "   *****   \n"
     ]
    }
   ],
   "source": [
    "def tree(height=2):\n",
    "    for i in range(height):\n",
    "        print(\" \"*(height-i+1),\"*\"*((i*2)+1),\" \"*(height-i+1))\n",
    "        \n",
    "tree(3)"
   ]
  },
  {
   "cell_type": "code",
   "execution_count": 92,
   "metadata": {},
   "outputs": [
    {
     "data": {
      "text/plain": [
       "True"
      ]
     },
     "execution_count": 92,
     "metadata": {},
     "output_type": "execute_result"
    }
   ],
   "source": [
    "def is_palindrome(word):\n",
    "    word_r = word[::-1]\n",
    "    for index, letter in enumerate(word):\n",
    "        if letter == word_r[index]:\n",
    "            pass\n",
    "        else:\n",
    "            return False\n",
    "        \n",
    "    return True\n",
    "    \n",
    "is_palindrome(\"radar\")"
   ]
  },
  {
   "cell_type": "code",
   "execution_count": 93,
   "metadata": {},
   "outputs": [
    {
     "data": {
      "text/plain": [
       "[1, 3]"
      ]
     },
     "execution_count": 93,
     "metadata": {},
     "output_type": "execute_result"
    }
   ],
   "source": [
    "def remove_dups(list_):\n",
    "    list_= list(set(list_))\n",
    "    return list_\n",
    "\n",
    "a = [1,1,1,3]\n",
    "remove_dups(a)"
   ]
  },
  {
   "cell_type": "code",
   "execution_count": 96,
   "metadata": {},
   "outputs": [
    {
     "name": "stdout",
     "output_type": "stream",
     "text": [
      "4\n",
      "4\n"
     ]
    }
   ],
   "source": [
    "def max(list_):\n",
    "    now_max = float('-inf')\n",
    "    for i in list_:\n",
    "        if i > now_max:\n",
    "            now_max = i\n",
    "        else:\n",
    "            pass\n",
    "    return now_max\n",
    "\n",
    "print(max([1,2,3,4]))\n",
    "print(max([4,3,2,1]))"
   ]
  },
  {
   "cell_type": "code",
   "execution_count": 99,
   "metadata": {},
   "outputs": [
    {
     "data": {
      "text/plain": [
       "{1: 1,\n",
       " 2: 4,\n",
       " 3: 9,\n",
       " 4: 16,\n",
       " 5: 25,\n",
       " 6: 36,\n",
       " 7: 49,\n",
       " 8: 64,\n",
       " 9: 81,\n",
       " 10: 100,\n",
       " 11: 121,\n",
       " 12: 144,\n",
       " 13: 169,\n",
       " 14: 196,\n",
       " 15: 225,\n",
       " 16: 256,\n",
       " 17: 289,\n",
       " 18: 324,\n",
       " 19: 361,\n",
       " 20: 400}"
      ]
     },
     "execution_count": 99,
     "metadata": {},
     "output_type": "execute_result"
    }
   ],
   "source": [
    "def create_dict():\n",
    "    my_dict = {}\n",
    "    for i in range(1,21):\n",
    "        my_dict[i] = i**2\n",
    "    return my_dict\n",
    "\n",
    "create_dict()"
   ]
  },
  {
   "cell_type": "code",
   "execution_count": 103,
   "metadata": {},
   "outputs": [
    {
     "name": "stdout",
     "output_type": "stream",
     "text": [
      "3\n",
      "2\n",
      "1\n",
      "done!\n"
     ]
    }
   ],
   "source": [
    "import time\n",
    "for i in range(3,-1,-1):\n",
    "    if i == 0:\n",
    "        print(\"done!\")\n",
    "        break\n",
    "    print(i)\n",
    "    time.sleep(1)"
   ]
  },
  {
   "cell_type": "code",
   "execution_count": 107,
   "metadata": {},
   "outputs": [
    {
     "name": "stdout",
     "output_type": "stream",
     "text": [
      "5\n",
      "6\n",
      "4\n",
      "3\n",
      "12\n"
     ]
    }
   ],
   "source": [
    "class Rectangle:\n",
    "    def __init__(self, height=1, width=2):\n",
    "        self.height = height \n",
    "        self.width = width\n",
    "\n",
    "    def setHeight(self, new_height):\n",
    "        self.height = new_height\n",
    "        \n",
    "    def setWidth(self, new_width):\n",
    "        self.width = new_width\n",
    "\n",
    "    def getArea(self):\n",
    "        return self.width * self.height\n",
    "\n",
    "\n",
    "r = Rectangle(height=6, width=5)\n",
    "\n",
    "print(r.width)\n",
    "print(r.height)\n",
    "\n",
    "r.setWidth(4)\n",
    "r.setHeight(3)\n",
    "\n",
    "print(r.width)\n",
    "print(r.height)\n",
    "\n",
    "print(r.getArea())"
   ]
  },
  {
   "cell_type": "code",
   "execution_count": null,
   "metadata": {},
   "outputs": [],
   "source": []
  }
 ],
 "metadata": {
  "kernelspec": {
   "display_name": "Python 3",
   "language": "python",
   "name": "python3"
  },
  "language_info": {
   "codemirror_mode": {
    "name": "ipython",
    "version": 3
   },
   "file_extension": ".py",
   "mimetype": "text/x-python",
   "name": "python",
   "nbconvert_exporter": "python",
   "pygments_lexer": "ipython3",
   "version": "3.6.9"
  }
 },
 "nbformat": 4,
 "nbformat_minor": 4
}
