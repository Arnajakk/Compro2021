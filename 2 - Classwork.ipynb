{
 "cells": [
  {
   "cell_type": "markdown",
   "metadata": {},
   "source": [
    "# Exercise"
   ]
  },
  {
   "cell_type": "raw",
   "metadata": {},
   "source": [
    "1. #somehow, your y comes in 2D\n",
    "#as we know, in scikit learn, it needs a 1D y  --> (samples, )\n",
    "#convert this y into 1D\n",
    "y = np.array([[3, 2, 3, 4, 5]])"
   ]
  },
  {
   "cell_type": "raw",
   "metadata": {},
   "source": [
    "2.  Given the following array\n",
    "celsius_fahrenheit = np.array([10, 50, 15, 59, 5, 42])\n",
    "#convert them to a 2d array with first col as celsius and second col as fahrenheit"
   ]
  },
  {
   "cell_type": "raw",
   "metadata": {},
   "source": [
    "3.  Given the 3D temperature field and 1-D pressure coordinates below, calculate: T∗exp(P/1000). You will need to use broadcasting to make the arrays compatible. \n",
    "pressure = np.array([1000, 850, 500, 300])\n",
    "temps = np.linspace(20, 30, 24).reshape(4, 3, 2)\n",
    "print(temps.shape)"
   ]
  },
  {
   "cell_type": "raw",
   "metadata": {},
   "source": [
    "4. Given following arrays: \n",
    "array3d = np.array([[[ 0,  1,  2],\n",
    "                     [ 3,  4,  5],\n",
    "                     [ 6,  7,  8]],\n",
    "                    [[ 9, 10, 11],\n",
    "                     [12, 13, 14],\n",
    "                     [15, 16, 17]],\n",
    "                    [[18, 19, 20],\n",
    "                     [21, 22, 23],\n",
    "                     [24, 25, 26]]])\n",
    "                      \n",
    "Index into the 3d array to produce the following\n",
    "'''\n",
    "array([[ 2,  5,  8],\n",
    "       [11, 14, 17],\n",
    "       [20, 23, 26]])\n",
    "\n",
    "array([[ 3,  4,  5],\n",
    "       [12, 13, 14]])\n",
    "\n",
    "array([2, 5])\n",
    "\n",
    "array([[11, 10,  9],\n",
    "       [14, 13, 12],\n",
    "       [17, 16, 15]])\n",
    "'''"
   ]
  },
  {
   "cell_type": "raw",
   "metadata": {},
   "source": [
    "5.  Given the following arrays: \n",
    "#unit is power measured in volts (value is mock)\n",
    "eeg1 = np.array([[1, 19, 3], [3, 2, 10], [30, 2, 8]])\n",
    "marker1 = np.array(1)  #cat\n",
    "eeg2 = np.array([[3, 6, 9], [8, 2, 3], [4, 5, 9]])\n",
    "marker2 = np.array(2) #dog\n",
    "eeg3 = np.array([[1, 2, 10], [15, 2, 3], [6, 2, 1]])\n",
    "marker3 = np.array(1)  #cat\n",
    "all_eeg = []\n",
    "all_eeg.append([eeg1, marker1])\n",
    "all_eeg.append([eeg2, marker2])\n",
    "all_eeg.append([eeg3, marker3])\n",
    "\n",
    "all_eeg_numpy = np.array(all_eeg)\n",
    "print(\"All eeg numpy: \", all_eeg_numpy)\n",
    "print(\"All eeg numpy shape: \", all_eeg_numpy.shape)\n",
    "\n",
    "Compare whether marker of 1 (i.e., cat) has an average power higher than 2 across all channels (i.e., dog). Use all_eeg_numpy, assuming that eeg and marker are not given.\n",
    "\n",
    "Hint: First you want to get eeg belonging to only 1 and 2.  Then perform np.mean across all eeg signals sharing same markers, then np mean across all channels, i.e., column wise."
   ]
  },
  {
   "cell_type": "raw",
   "metadata": {},
   "source": [
    "6. let x be 111 points from 1 to 100, and y be f(x) of sin, cos, exp and log.  Construct x and y.\n",
    "\n",
    "Then use the following function to plot x, and y\n",
    "\n",
    "'''\n",
    "import matplotlib as plt\n",
    "plt.plot(x,y )\n",
    "plt.title(\"Any title\",fontsize=16)\n",
    "\n",
    "'''"
   ]
  },
  {
   "cell_type": "raw",
   "metadata": {},
   "source": [
    "7. Let's compute distance between all pairs of X, Y, total of 10 points:\n",
    "coordinates = np.random.rand(10, 2)\n",
    "X, Y = coordinates[:, 0], coordinates[:, 1]\n",
    "import matplotlib.pyplot as plt\n",
    "plt.scatter(X, Y, s=100)\n",
    "\n",
    "Then, find the closest neighbor for the fourth points (index 3)"
   ]
  },
  {
   "cell_type": "raw",
   "metadata": {},
   "source": [
    "8. np.array([True, 1, 2]) + np.array([3, 4, False]) == which one?\n",
    "    a. np.array([True, 1, 2, 3, 4, False])\n",
    "    b. np.array([4, 3, 0]) + np.array([0, 2, 2])\n",
    "    c. np.array([1, 1, 2]) + np.array([3, 4, -1])\n",
    "    d. np.array([0, 1, 2, 3, 4, 5])"
   ]
  },
  {
   "cell_type": "markdown",
   "metadata": {},
   "source": [
    "# Solution"
   ]
  },
  {
   "cell_type": "code",
   "execution_count": null,
   "metadata": {},
   "outputs": [],
   "source": [
    "#1\n",
    "y = np.array([[3, 2, 3, 4, 5]])\n",
    "print(y.shape)\n",
    "print(y.reshape(y.shape[1]).shape)\n",
    "\n",
    "#or we can use squeeze\n",
    "print(np.squeeze(y).shape)"
   ]
  },
  {
   "cell_type": "code",
   "execution_count": null,
   "metadata": {},
   "outputs": [],
   "source": [
    "#2\n",
    "data = np.array([10, 50, 15, 59, 5, 42])\n",
    "c_f = np.reshape(celsius_fahrenheit, (3, int(data.shape[0]/3)))\n",
    "print(c_f)"
   ]
  },
  {
   "cell_type": "code",
   "execution_count": null,
   "metadata": {},
   "outputs": [],
   "source": [
    "#3\n",
    "pressure = np.array([1000, 850, 500, 300])\n",
    "temps = np.linspace(20, 30, 24).reshape(4, 3, 2)\n",
    "\n",
    "print(\"Pressure shape: \", pressure.shape)\n",
    "#to make pressure compatible, we can simply add 1\n",
    "new_pressure = pressure[:, np.newaxis, np.newaxis]\n",
    "#new_pressure = np.reshape(pressure, (4, 1, 1))  #can equally do this\n",
    "temps * np.exp(new_pressure/ 1000)"
   ]
  },
  {
   "cell_type": "code",
   "execution_count": null,
   "metadata": {},
   "outputs": [],
   "source": [
    "#4\n",
    "array3d = np.array([[[ 0,  1,  2],\n",
    "                     [ 3,  4,  5],\n",
    "                     [ 6,  7,  8]],\n",
    "                    [[ 9, 10, 11],\n",
    "                     [12, 13, 14],\n",
    "                     [15, 16, 17]],\n",
    "                    [[18, 19, 20],\n",
    "                     [21, 22, 23],\n",
    "                     [24, 25, 26]]])\n",
    "\n",
    "print(array3d[:, :, -1])\n",
    "print(array3d[:2, 1, :])\n",
    "print(array3d[0, :2, -1])\n",
    "print(array3d[1, :, ::-1])"
   ]
  },
  {
   "cell_type": "code",
   "execution_count": null,
   "metadata": {},
   "outputs": [],
   "source": [
    "#5\n",
    "eeg1 = np.array([[1, 19, 3], [3, 2, 10], [30, 2, 8]])\n",
    "marker1 = np.array(1)  #cat\n",
    "eeg2 = np.array([[3, 6, 9], [8, 2, 3], [4, 5, 9]])\n",
    "marker2 = np.array(2) #dog\n",
    "eeg3 = np.array([[1, 2, 10], [15, 2, 3], [6, 2, 1]])\n",
    "marker3 = np.array(1)  #cat\n",
    "all_eeg = []\n",
    "all_eeg.append([eeg1, marker1])\n",
    "all_eeg.append([eeg2, marker2])\n",
    "all_eeg.append([eeg3, marker3])\n",
    "\n",
    "all_eeg_numpy = np.array(all_eeg)\n",
    "print(\"All eeg numpy: \", all_eeg_numpy)\n",
    "print(\"All eeg numpy shape: \", all_eeg_numpy.shape)\n",
    "\n",
    "cond1 = all_eeg_numpy[:, 1] == 1\n",
    "cond2 = all_eeg_numpy[:, 1] == 2\n",
    "\n",
    "eeg_marker_1 = all_eeg_numpy[cond1, 0]\n",
    "eeg_marker_2 = all_eeg_numpy[cond2, 0]\n",
    "\n",
    "print(\"EEG marker 1: \", eeg_marker_1)\n",
    "print(\"EEG marker 2: \", eeg_marker_2)\n",
    "\n",
    "print(\"EEG marker 1 mean: \", np.mean(np.mean(eeg_marker_1)))\n",
    "print(\"EEG marker 2 mean: \", np.mean(np.mean(eeg_marker_2)))"
   ]
  },
  {
   "cell_type": "code",
   "execution_count": null,
   "metadata": {},
   "outputs": [],
   "source": [
    "#6\n",
    "import matplotlib.pyplot as plt\n",
    "import numpy as np\n",
    "\n",
    "x = np.linspace(1, 100, 111)\n",
    "functions = [np.sin(x), np.cos(x), np.exp(x), np.log(x)]\n",
    "titles = ['Sine', 'Cosine', 'Exponential', 'Log']\n",
    "\n",
    "plt.figure(figsize=(7,7))\n",
    "\n",
    "for ix, function in enumerate(functions):\n",
    "    plt.subplot(2, 2, ix + 1)\n",
    "    plt.plot(x, function)\n",
    "    plt.title(titles[ix],fontsize=16)"
   ]
  },
  {
   "cell_type": "code",
   "execution_count": 24,
   "metadata": {},
   "outputs": [
    {
     "name": "stdout",
     "output_type": "stream",
     "text": [
      "[[2 0]\n",
      " [3 1]\n",
      " [0 7]\n",
      " [3 5]\n",
      " [1 2]\n",
      " [8 3]\n",
      " [9 4]\n",
      " [6 6]\n",
      " [0 7]\n",
      " [8 4]]\n",
      "Nearest neighbor:  [[0 1 4 3 5 7 9 2 8 6]\n",
      " [1 0 4 3 5 7 9 2 6 8]\n",
      " [2 8 3 4 7 1 0 9 5 6]\n",
      " [3 7 2 4 8 1 0 9 5 6]\n",
      " [4 0 1 3 2 8 7 5 9 6]\n",
      " [5 9 6 7 1 3 0 4 2 8]\n",
      " [6 9 5 7 3 1 0 4 2 8]\n",
      " [7 9 3 5 6 1 2 8 4 0]\n",
      " [2 8 3 4 7 1 0 9 5 6]\n",
      " [9 5 6 7 3 1 0 4 2 8]]\n",
      "Nearest point for fourth point:  7\n"
     ]
    },
    {
     "data": {
      "image/png": "[encoded data removed]",
      "text/plain": [
       "<Figure size 432x288 with 1 Axes>"
      ]
     },
     "metadata": {
      "needs_background": "light"
     },
     "output_type": "display_data"
    }
   ],
   "source": [
    "#7\n",
    "import numpy as np\n",
    "coordinates = np.random.randint(10, size = (10, 2))\n",
    "print(coordinates)\n",
    "X, Y = coordinates[:, 0], coordinates[:, 1]\n",
    "\n",
    "import matplotlib.pyplot as plt\n",
    "plt.scatter(X, Y, s=100)\n",
    "\n",
    "#we first create a new axis, in which \n",
    "#X.T can be transposed and broadcasted\n",
    "X = X[np.newaxis, :]\n",
    "# print(\"X: \", X)  #now the shape is (1,10)\n",
    "# print(\"X.T: \", X.T)  #(10, 1)\n",
    "\n",
    "#given 1, 10, and 10, 1, they will be broadcasted in different dir\n",
    "x_squared_diff = (X - X.T)**2\n",
    "# print(\"x_squared_diff: \", (X - X.T).shape)\n",
    "\n",
    "##similar to Y\n",
    "Y = Y[np.newaxis, :]\n",
    "# print(\"Y: \", Y)\n",
    "# print(\"Y.T: \", Y.T)\n",
    "\n",
    "y_squared_diff = (Y - Y.T)**2\n",
    "# print(\"y_squared_diff: \", (Y - Y.T).shape)\n",
    "\n",
    "D = np.sqrt(x_squared_diff+y_squared_diff)\n",
    "# print(\"Distance: \", D)\n",
    "\n",
    "# print(\"Distance: \", D)\n",
    "print(\"Nearest neighbor: \", np.argsort(D, axis=1))\n",
    "#since itself is nearest neighbors, it's no surprise\n",
    "#that itself is the index for the first column\n",
    "#what we are interested is the second column for fourth point\n",
    "print(\"Nearest point for fourth point: \", np.argsort(D[3])[1])\n"
   ]
  },
  {
   "cell_type": "code",
   "execution_count": 26,
   "metadata": {},
   "outputs": [],
   "source": [
    "#8\n",
    "#Ans: c"
   ]
  },
  {
   "cell_type": "code",
   "execution_count": null,
   "metadata": {},
   "outputs": [],
   "source": []
  }
 ],
 "metadata": {
  "kernelspec": {
   "display_name": "Python 3",
   "language": "python",
   "name": "python3"
  },
  "language_info": {
   "codemirror_mode": {
    "name": "ipython",
    "version": 3
   },
   "file_extension": ".py",
   "mimetype": "text/x-python",
   "name": "python",
   "nbconvert_exporter": "python",
   "pygments_lexer": "ipython3",
   "version": "3.6.9"
  }
 },
 "nbformat": 4,
 "nbformat_minor": 4
}
