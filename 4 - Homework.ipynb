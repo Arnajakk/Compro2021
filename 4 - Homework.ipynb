{
 "cells": [
  {
   "cell_type": "markdown",
   "metadata": {},
   "source": [
    "# Exercise"
   ]
  },
  {
   "cell_type": "code",
   "execution_count": 1,
   "metadata": {},
   "outputs": [],
   "source": [
    "import numpy as np\n",
    "import pandas as pd\n",
    "import matplotlib.pyplot as plt"
   ]
  },
  {
   "cell_type": "code",
   "execution_count": 2,
   "metadata": {},
   "outputs": [],
   "source": [
    "#1\n",
    "from sklearn.datasets import make_blobs\n",
    "X, y_true = make_blobs(n_samples=500, centers=3,\n",
    "                       cluster_std=3, random_state=42)\n",
    "\n",
    "#apply K means library from sklearn with n_clusters=4, and plot a scatter plot with colors based on their grouping\n",
    "#also plot the centers using cluster_centers_"
   ]
  },
  {
   "cell_type": "code",
   "execution_count": 3,
   "metadata": {},
   "outputs": [],
   "source": [
    "#2\n",
    "#apply ridge regression with degrees, 1 to 5 and plot using these x and f(x)\n",
    "#print their r^2 on the graph\n",
    "import numpy as np\n",
    "import matplotlib.pyplot as plt\n",
    "\n",
    "from sklearn.linear_model import Ridge\n",
    "from sklearn.preprocessing import PolynomialFeatures\n",
    "from sklearn.pipeline import make_pipeline\n",
    "\n",
    "x = np.linspace(0, 10, 30)\n",
    "X = x[:, np.newaxis]\n",
    "y = x**2 * np.cos(x) + 105"
   ]
  },
  {
   "cell_type": "code",
   "execution_count": 4,
   "metadata": {},
   "outputs": [],
   "source": [
    "#3\n",
    "from sklearn import datasets\n",
    "from sklearn.linear_model import LogisticRegression\n",
    "\n",
    "iris = datasets.load_iris()\n",
    "X = iris.data[:, :2]  #so this can be nicely plot using x1 and x2\n",
    "y = iris.target  #a reminder that there are 3 classes, e.g., Versicolor\n",
    "\n",
    "#predit using LogisticRegression\n",
    "#to add some flavor, learn how to plot the decision boundary using plt.pcolormesh\n",
    "#in order to generate Z for input to plt.pcolormesh, use np.meshgrid which will generate all possible x and y"
   ]
  },
  {
   "cell_type": "code",
   "execution_count": 5,
   "metadata": {},
   "outputs": [],
   "source": [
    "#4\n",
    "#this one is simple, seaborn has a very useful pairplot function\n",
    "#first understand why pairplot is useful - write one or two short sentences\n",
    "#then attempt to apply pairplot with the iris dataset\n",
    "#reminder to check what pairplot accepts, so you can prepare the data in that correct format\n",
    "#you may also want to read what sklearn return for dataset"
   ]
  },
  {
   "cell_type": "code",
   "execution_count": 6,
   "metadata": {},
   "outputs": [],
   "source": [
    "#5\n",
    "#Make a scatter plot with histograms above and right of the scatter plot\n",
    "#along with the cdf curve (Hint: use hist-type(step))\n",
    "#Next, find the correlation and p-value using pearson correlation, and print the results on the graph"
   ]
  },
  {
   "cell_type": "code",
   "execution_count": 7,
   "metadata": {},
   "outputs": [],
   "source": [
    "#6\n",
    "#Boxplot is commonly used in academic settings due to its compact format but with abundant information\n",
    "#Attempt to create a boxplot of total_bills by days based on this dataset\n",
    "#to add some challenge, attempt to add a scatterplot on top of the boxplot\n",
    "import seaborn as sns\n",
    "df = sns.load_dataset('tips')  #return pd dataframe"
   ]
  },
  {
   "cell_type": "code",
   "execution_count": 8,
   "metadata": {},
   "outputs": [],
   "source": [
    "#7\n",
    "#Common task is to initially compare machine learning algorithms as a spot checking process before fine-tuning hypteramaters\n",
    "#Here we gonna use boxplot to compare the algorithms based on accuracy\n",
    "#Note that there are many metrics you can use to compare algorithms, and not only accuracy that matters, e.g., time, learning curves, etc.\n",
    "#Also note that it is silly to consider this result done.  This is simply an exploratory process to check which model is viable, before fine-tuning\n",
    "\n",
    "import pandas\n",
    "import matplotlib.pyplot as plt\n",
    "from sklearn import model_selection\n",
    "from sklearn.linear_model import LogisticRegression\n",
    "from sklearn.tree import DecisionTreeClassifier\n",
    "from sklearn.neighbors import KNeighborsClassifier\n",
    "from sklearn.discriminant_analysis import LinearDiscriminantAnalysis\n",
    "from sklearn.naive_bayes import GaussianNB\n",
    "from sklearn.svm import SVC\n",
    "from sklearn.preprocessing import StandardScaler\n",
    "\n",
    "# load dataset\n",
    "digits = datasets.load_digits()\n",
    "\n",
    "#perform classification based on what we have imported\n",
    "#then plot the results using boxplot"
   ]
  },
  {
   "cell_type": "markdown",
   "metadata": {},
   "source": [
    "# Solution"
   ]
  },
  {
   "cell_type": "code",
   "execution_count": null,
   "metadata": {},
   "outputs": [],
   "source": []
  }
 ],
 "metadata": {
  "kernelspec": {
   "display_name": "Python 3",
   "language": "python",
   "name": "python3"
  },
  "language_info": {
   "codemirror_mode": {
    "name": "ipython",
    "version": 3
   },
   "file_extension": ".py",
   "mimetype": "text/x-python",
   "name": "python",
   "nbconvert_exporter": "python",
   "pygments_lexer": "ipython3",
   "version": "3.7.7"
  }
 },
 "nbformat": 4,
 "nbformat_minor": 4
}