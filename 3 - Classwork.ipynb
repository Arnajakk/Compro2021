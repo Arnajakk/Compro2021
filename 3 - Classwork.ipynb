{
 "cells": [
  {
   "cell_type": "markdown",
   "metadata": {},
   "source": [
    "# Exercise"
   ]
  },
  {
   "cell_type": "code",
   "execution_count": 1,
   "metadata": {},
   "outputs": [],
   "source": [
    "import pandas as pd\n",
    "import numpy as np\n",
    "import random"
   ]
  },
  {
   "cell_type": "markdown",
   "metadata": {},
   "source": [
    "The Boston Housing Dataset\n",
    "\n",
    "The Boston Housing Dataset is a derived from information collected by the U.S. Census Service concerning housing in the area of Boston MA. The following describes the dataset columns:\n",
    "- CRIM - per capita crime rate by town\n",
    "- ZN - proportion of residential land zoned for lots over 25,000 sq.ft.\n",
    "- INDUS - proportion of non-retail business acres per town.\n",
    "- CHAS - Charles River dummy variable (1 if tract bounds river; 0 otherwise)\n",
    "- NOX - nitric oxides concentration (parts per 10 million)\n",
    "- RM - average number of rooms per dwelling\n",
    "- AGE - proportion of owner-occupied units built prior to 1940\n",
    "- DIS - weighted distances to five Boston employment centres\n",
    "- RAD - index of accessibility to radial highways\n",
    "- TAX - full-value property-tax rate per 10,000 USD\n",
    "- PTRATIO - pupil-teacher ratio by town\n",
    "- B - 1000(Bk - 0.63)^2 where Bk is the proportion of blacks by town\n",
    "- LSTAT - %lower status of the population\n",
    "- MEDV - Median value of owner-occupied homes in $1000's\n",
    "\n"
   ]
  },
  {
   "cell_type": "code",
   "execution_count": 2,
   "metadata": {},
   "outputs": [],
   "source": [
    "#1\n",
    "#Loading data resources/boston_housing_delimiter.csv to pandas\n",
    "#make sure it's properly split\n",
    "#check shape\n",
    "#check head\n",
    "\n",
    "#YOUR CODE HERE"
   ]
  },
  {
   "cell_type": "code",
   "execution_count": 3,
   "metadata": {},
   "outputs": [],
   "source": [
    "#2\n",
    "#.head() gives all columns.  Sometimes it is useful to see only a few cols\n",
    "#Select only Age and Tax and perform .head()"
   ]
  },
  {
   "cell_type": "code",
   "execution_count": 4,
   "metadata": {},
   "outputs": [],
   "source": [
    "#3\n",
    "#retrieve age columns greater than 95\n",
    "#calculate the percentage \n",
    "#show only TAX column for housing of age greater than 95 using head()"
   ]
  },
  {
   "cell_type": "code",
   "execution_count": 5,
   "metadata": {},
   "outputs": [],
   "source": [
    "#4\n",
    "#I want boston housing connected to highways with RAD at least 6\n",
    "#And where DIS is lower than average DIS\n",
    "#count how many houses are like that"
   ]
  },
  {
   "cell_type": "code",
   "execution_count": 6,
   "metadata": {},
   "outputs": [],
   "source": [
    "#5\n",
    "#using df.columns, loop through and perform sum for each columns"
   ]
  },
  {
   "cell_type": "code",
   "execution_count": 7,
   "metadata": {},
   "outputs": [],
   "source": [
    "#6\n",
    "#using df.columns, loop through them and perform rename to lowercase"
   ]
  },
  {
   "cell_type": "code",
   "execution_count": 8,
   "metadata": {},
   "outputs": [],
   "source": [
    "#7\n",
    "#convert column RAD to int type"
   ]
  },
  {
   "cell_type": "code",
   "execution_count": 9,
   "metadata": {},
   "outputs": [],
   "source": [
    "#8\n",
    "#drop all columns with DIS greater than DIS mean\n",
    "#in addition, drop CHAS column\n",
    "#df.drop (remember it's not inplace!)"
   ]
  },
  {
   "cell_type": "code",
   "execution_count": 10,
   "metadata": {},
   "outputs": [],
   "source": [
    "#9\n",
    "#check if housing is priced higher when nearer to highways\n",
    "#i.e., show mean of MEDV group by RAD"
   ]
  },
  {
   "cell_type": "code",
   "execution_count": 11,
   "metadata": {},
   "outputs": [],
   "source": [
    "#10\n",
    "#let's add some arbitrary zip codes to the dataset\n",
    "#zipcodes = [101, 102, 103, np.nan]\n",
    "#df['zip_code'] = pd.Series([random.choice(zipcodes) for i in df.index])\n",
    "\n",
    "#check any missing values\n",
    "#replace with majority  #mode return a series, use [0] to get the number\n",
    "#check any again any missing values"
   ]
  },
  {
   "cell_type": "code",
   "execution_count": 12,
   "metadata": {},
   "outputs": [],
   "source": [
    "#11\n",
    "#Here is another dataset with zip codes and \n",
    "#corresponding electricity rate, and water rate\n",
    "#zip_dict = {'zip_code' : [101, 102, 103], 'e_rate': [5.643, 2.234, 13.42],\n",
    "#           'w_rate': [1.21, 1.23, 1.99]}\n",
    "\n",
    "#zip_df = pd.DataFrame.from_dict(zip_dict)\n",
    "#zip_df.head()\n",
    "\n",
    "#merge them with the existing dataset, so every row has e_rate and w_rate"
   ]
  },
  {
   "cell_type": "markdown",
   "metadata": {},
   "source": [
    "# Solution"
   ]
  }
 ],
 "metadata": {
  "kernelspec": {
   "display_name": "Python 3",
   "language": "python",
   "name": "python3"
  },
  "language_info": {
   "codemirror_mode": {
    "name": "ipython",
    "version": 3
   },
   "file_extension": ".py",
   "mimetype": "text/x-python",
   "name": "python",
   "nbconvert_exporter": "python",
   "pygments_lexer": "ipython3",
   "version": "3.7.7"
  }
 },
 "nbformat": 4,
 "nbformat_minor": 4
}