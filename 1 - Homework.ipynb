{
 "cells": [
  {
   "cell_type": "markdown",
   "metadata": {},
   "source": [
    "# Exercise"
   ]
  },
  {
   "cell_type": "markdown",
   "metadata": {},
   "source": [
    "1). Write a program which will find all such numbers which are divisible by 7 but are not a multiple of 5,  between 2000 and 3200 (both included). The numbers obtained should be printed in a comma-separated sequence on a single line.\n",
    "        \n",
    "        \n",
    "2). With a given integral number n, write a program to generate a dictionary that contains (i, i*i) such that is an integral number between 1 and n (both included). and then the program should print the dictionary. Suppose the following input is supplied to the program:\n",
    "\n",
    "        8\n",
    "    \n",
    "Then, the output should be:\n",
    "    \n",
    "        {1: 1, 2: 4, 3: 9, 4: 16, 5: 25, 6: 36, 7: 49, 8: 64}\n",
    "        \n",
    "3). Write a program that calculates and prints the value according to the given formula:  $Q = \\sqrt{(2CD)/H}$\n",
    "    \n",
    "Following are the fixed values of C and H:\n",
    "\n",
    "        C is 50. H is 30.\n",
    "\n",
    "D is the variable whose values should be input to your program in a comma-separated sequence.  If the output received is in decimal form, it should be rounded off to its nearest value (for example, if the output received is 26.0, it should be printed as 26).  Example, Let us assume the following comma separated input sequence is given to the program:\n",
    "\n",
    "        100,150,180\n",
    "\n",
    "The output of the program should be:\n",
    "\n",
    "        18,22,24\n",
    "        \n",
    "4). With one line of code (excluding input words), write a program that accepts a sequence of whitespace separated words as input and prints the words after removing all duplicate words and sorting them alphanumerically.\n",
    "\n",
    "Suppose the following input is supplied to the program:\n",
    "\n",
    "        hello world and practice makes perfect and hello world again\n",
    "\n",
    "Then, the output should be:\n",
    "\n",
    "        again and hello makes perfect practice world\n",
    "        \n",
    "5). Write a program that computes the value of a+aa+aaa+aaaa with a given digit as the value of a.  Suppose the following input is supplied to the program:\n",
    "\n",
    "        9\n",
    "\n",
    "Then, the output should be:\n",
    "\n",
    "        11106\n",
    "        \n",
    "6). With one line, use a list comprehension to square each odd number in a list. Suppose the following input is supplied to the program:\n",
    "\n",
    "        1,2,3,4,5,6,7,8,9\n",
    "\n",
    "Then, the output should be:\n",
    "\n",
    "        1,3,5,7,9\n",
    "        \n",
    "7). Write a program to check the validity of password.  Following are the criteria for checking the password:\n",
    "- At least 1 letter between [a-z]\n",
    "- At least 1 number between [0-9]\n",
    "- At least 1 letter between [A-Z]\n",
    "- At least 1 character from $#@\n",
    "- Minimum length of transaction password: 6\n",
    "- Maximum length of transaction password: 12\n",
    "\n",
    "Your program should accept a sequence of comma separated passwords and will check them according to the above criteria. Passwords that match the criteria are to be printed, each separated by a comma.  Example, if the following passwords are given as input to the program:\n",
    "\n",
    "        ABd1234@1,a F1#,2w3E*,2We3345\n",
    "\n",
    "Then, the output of the program should be:\n",
    "\n",
    "        ABd1234@1\n",
    "\n",
    "Hint: Uses re python module\n",
    "    \n",
    "    \n",
    "8). You are required to write a program to sort the (name, age, height) tuples by ascending order where name is string, age and height are numbers. The sort criteria is:\n",
    "\n",
    "- Sort based on name;\n",
    "- Then sort based on age;\n",
    "- Then sort by score.\n",
    "    \n",
    "The priority is that name > age > score. If the following tuples are given as input to the program:\n",
    "        \n",
    "        Tom,19,80\n",
    "        John,20,90\n",
    "        Jony,17,91\n",
    "        Jony,17,93\n",
    "        Json,21,85\n",
    "\n",
    "Then, the output of the program should be:\n",
    "\n",
    "        [('John', '20', '90'), ('Jony', '17', '91'), ('Jony', '17', '93'), ('Json', '21', '85'), ('Tom', '19', '80')]\n",
    "\n",
    "Hints: Use itemgetter to enable multiple sort keys.  In addition, sorted takes a argument called key.  Thus you can do sorted(the_tuple, key = itemgetter(0,1,2)), where 0, 1, 2 corresponds to name, age, height\n",
    "\n",
    "\n",
    "9). Count frequency of word given a string assuming input uses space and sometimes comma as separator.\n",
    "\n",
    "\n",
    "10). Define a function which can generate a dictionary where the keys are numbers between 1 and 20 (both included) and the values are square of keys. The function should just print the values only.\n",
    "\n",
    "Hints:\n",
    "- Use `dict[key]`=value pattern to put entry into a dictionary.\n",
    "- Use ** operator to get power of a number.\n",
    "- Use `range()` for loops.\n",
    "- Use `keys()` to iterate keys in the dictionary. Also we can use item() to get key/value pairs.\n",
    "\n",
    "\n",
    "11). Research a bit about lambda function.  Write a program which can filter even numbers in a list by using `filter()` python function. Use `lambda` function.  The list is: [1,2,3,4,5,6,7,8,9,10].  Then, using the filtered list, use `map()` and lambda function to perform square for each number in the list\n",
    "\n",
    "\n",
    "12). Write a function to compute 5/0 and use `try/except` to catch the exceptions.\n",
    "\n",
    "\n",
    "13).  Write a function that accepts the following arguments\n",
    "- name, and age, where name is keyword argument with default of \"N/A\" two keyword arguments (i.e., default)\n",
    "- list of family salary where the length is unknown (e.g., 20000, 30000, 10000).  Then length is unknown is due to the fact that we never know the size of any family ahead.  Hint: Use `*args`\n",
    "- a dict of kids and their school name Peter = 'Saint Peter\", John = 'Pattaya International School'}.  Again, this size is unknown.  Hint: Use `*kwargs`\n",
    "\n",
    "Print all info in any preferred format.\n",
    "\n",
    "Supposed\n",
    "    \n",
    "`some_func(30, 30000, 40000, name='Chaky', John=\"some_school\", Peter=\"another_school\")`\n",
    "\n",
    "should print\n",
    "    \n",
    "            Chaky has age of 30 with family salary of 70000\n",
    "            The school of John is some_school\n",
    "            The school of Peter is another_school\n",
    "\n",
    "Some info: when working with multiple type of arguments, it is important to keep the order of arguments as follow, otherwise, you will receive a syntax error\n",
    "    \n",
    "`def example2(arg_1, arg_2, *args, kw_1=\"something\", kw_2=\"something\", **kwargs)`\n",
    "\n",
    "where arg_1 and 2 are normal arguments, `*args` are variable-length argument, kw_1 and 2 are keyword arguments, and `*kwargs` are dict variable length argument\n",
    "    \n",
    "\n",
    "14). Let $f(x) = x^2$.   Given K lists containing N elements, select one number from each list such that $(f(x_{1}) + f(x_{2}) + ....f(x_{k})) \\mod M$  is maximized.  Here are some constraints (to make sure there won't be some null values):\n",
    "\n",
    "$1 <= K <= 7$, \n",
    "$1 <= M <= 1000$, \n",
    "$1 <= N <= 7$\n",
    "\n",
    "For example, given\n",
    "        \n",
    "`list1 = [2, 5, 4]\n",
    " list2 = [3, 7, 8, 9]\n",
    " list3 = [5, 5, 7, 8, 9, 10]\n",
    " k, m = 3, 1000`\n",
    "\n",
    "We can pick 5 from first list, 9 from 2nd list, and 10 from 3rd list which gives $(5^2 + 9^2 + 10^2 ) \\mod 1000 = 206$\n",
    "    \n",
    "\n",
    "15).  We count 35 heads and 94 legs among the chickens and rabbits in a farm. How many rabbits and how many chickens do we have?\n",
    "\n",
    "\n",
    "16). Consider the following 6 x 6 matrix (actually a P300 matrix for those who are interested):\n",
    "\n",
    "        A B C D E F\n",
    "        G H I J K L\n",
    "        M N O P Q R\n",
    "        S T U V W X \n",
    "        Y Z 0 1 2 3 \n",
    "        4 5 6 7 8 9 \n",
    "    \n",
    "where the index starts at 0 and ends at 35 (i.e., A = 0, B = 1, ... 9 = 35)\n",
    "\n",
    "Construct a series of n list containing k elements of s where:\n",
    "- Each element $s_{1}...s_{k}$ falls with range of  $0 <= s <= 35$\n",
    "- Each list should contain elements such that\n",
    "    - Rule a: $s_{1} != s_{2} .... != s_{k}$  (i.e., no duplicates)\n",
    "    - Rule b: Given list nth, $s_{1n}, s_{2n},..s_{kn} \\cap neighbors(s_{1n}, s_{2n}...s_{kn}) == 0$. Neighbors are defined as the top, right, bottom, left of the element.  For example, B and G are neighbors of A, whereas D, I, P, K are neighbors of J, thus if A and J are in the list, then B, G, D, I, P, K should not be in that list\n",
    "    - Rule c: Given list nth, and the previous list nth-1, $s_{1n}....s_{kn} \\cap s_{1n-1}....s_{kn-1} ==0$ (i.e., element should not appear in the previous list.)\n",
    "    - Rule d: Over all n lists, the probability of 0...35 appearing in the list should be as equal as possible\n",
    "   \n",
    "Let's see some incorrect output:\n",
    "    \n",
    "        [[0, 3, 9, 3, 4, 6], [0, 7, 8, 12, 34, 21]....]\n",
    "\n",
    "Here, k = 6, and n = 2 (excluding ...).  Does not meet the folowing criteria:\n",
    "- In the first list, 3 has duplicates thus violating Rule a\n",
    "- In the first list, neighbors of 3 (i.e., D) are 2, 4, and 9.  Unfortunately, 9 is in the same list of 3, thus violating Rule b\n",
    "- In the second list, 0 has already appeared in previous list (N - 1), thus violating Rule c.\n",
    "- For Rule d, it may be wise to look at multiple lists, count the occurrences of each s, and make sure all s1...sk has equal probability of occurrences\n",
    "    \n",
    "Help: To help you, use the below generator to test your code.  I have provided three simple examples which result all in assertion error"
   ]
  },
  {
   "cell_type": "code",
   "execution_count": 1,
   "metadata": {},
   "outputs": [],
   "source": [
    "#16 cont.\n",
    "seqs_rule_a = [[3, 4, 4, 5, 6, 7]]\n",
    "seqs_rule_b = [[3, 9]]\n",
    "seqs_rule_c = [[22, 24, 0, 20, 7, 3], [1, 30, 18, 24, 13, 6]]\n",
    "\n",
    "#write some test\n",
    "def test_list_generator(seqs):\n",
    "    for i in range(1, len(seqs)+1):\n",
    "        current = seqs[-i]\n",
    "        if not (i == len(seqs)):\n",
    "            prev = seqs[-i-1]\n",
    "            #check rule c\n",
    "            assert len(set(current).intersection(set(prev))) == 0, f\"Prev: {prev}; Current: {current} - Violate rule c: Repeat across consecutive list!\"\n",
    "        #check rule a\n",
    "        assert len(current) == len(set(current)), f\"Current: {current} - Violate rule a: Got duplicates!\"\n",
    "        #check rule b\n",
    "        nl = set(get_neighbors(current))\n",
    "        assert len(nl.intersection(set(current))) == 0, f\"Current: {current} - Violate rule b: Got neighbors in same list\"\n",
    "\n",
    "    #examine rule d; should be roughly equal +-1\n",
    "    print(\"Counting: \", Counter(list(chain(*seqs))))\n",
    "    \n",
    "# test_list_generator(seqs_rule_a)  #try out!\n",
    "# test_list_generator(seqs_rule_b)\n",
    "# test_list_generator(seqs_rule_c) "
   ]
  },
  {
   "cell_type": "markdown",
   "metadata": {},
   "source": [
    "# Solution"
   ]
  },
  {
   "cell_type": "code",
   "execution_count": 2,
   "metadata": {},
   "outputs": [
    {
     "name": "stdout",
     "output_type": "stream",
     "text": [
      "2002,2009,2016,2023,2037,2044,2051,2058,2072,2079,2086,2093,2107,2114,2121,2128,2142,2149,2156,2163,2177,2184,2191,2198,2212,2219,2226,2233,2247,2254,2261,2268,2282,2289,2296,2303,2317,2324,2331,2338,2352,2359,2366,2373,2387,2394,2401,2408,2422,2429,2436,2443,2457,2464,2471,2478,2492,2499,2506,2513,2527,2534,2541,2548,2562,2569,2576,2583,2597,2604,2611,2618,2632,2639,2646,2653,2667,2674,2681,2688,2702,2709,2716,2723,2737,2744,2751,2758,2772,2779,2786,2793,2807,2814,2821,2828,2842,2849,2856,2863,2877,2884,2891,2898,2912,2919,2926,2933,2947,2954,2961,2968,2982,2989,2996,3003,3017,3024,3031,3038,3052,3059,3066,3073,3087,3094,3101,3108,3122,3129,3136,3143,3157,3164,3171,3178,3192,3199\n"
     ]
    }
   ],
   "source": [
    "#1.\n",
    "l=[]\n",
    "for i in range(2000, 3201):\n",
    "    if (i%7==0) and (i%5!=0):\n",
    "        l.append(str(i))\n",
    "\n",
    "print(','.join(l))"
   ]
  },
  {
   "cell_type": "code",
   "execution_count": 3,
   "metadata": {},
   "outputs": [
    {
     "name": "stdout",
     "output_type": "stream",
     "text": [
      "{1: 1, 2: 4, 3: 9, 4: 16, 5: 25, 6: 36, 7: 49, 8: 64}\n"
     ]
    }
   ],
   "source": [
    "#2\n",
    "def some_func(n):\n",
    "    d=dict()\n",
    "    for i in range(1,n+1):\n",
    "        d[i]=i*i\n",
    "    print(d)\n",
    "    \n",
    "some_func(8)\n"
   ]
  },
  {
   "cell_type": "code",
   "execution_count": 4,
   "metadata": {},
   "outputs": [
    {
     "name": "stdout",
     "output_type": "stream",
     "text": [
      "18,22,24\n"
     ]
    }
   ],
   "source": [
    "#3\n",
    "import math\n",
    "c=50\n",
    "h=30\n",
    "input_list = \"100, 150, 180\"\n",
    "value = []\n",
    "items=[x for x in input_list.split(',')]\n",
    "for d in items:\n",
    "    value.append(str(int(round(math.sqrt(2*c*float(d)/h)))))\n",
    "print(','.join(value))"
   ]
  },
  {
   "cell_type": "code",
   "execution_count": 5,
   "metadata": {},
   "outputs": [
    {
     "name": "stdout",
     "output_type": "stream",
     "text": [
      "again and hello makes perfect practice world\n"
     ]
    }
   ],
   "source": [
    "#4\n",
    "words = \"hello world and practice makes perfect and hello world again\"\n",
    "print(\" \".join(sorted(list(set([word for word in words.split(\" \")])))))"
   ]
  },
  {
   "cell_type": "code",
   "execution_count": 6,
   "metadata": {},
   "outputs": [
    {
     "name": "stdout",
     "output_type": "stream",
     "text": [
      "11106\n"
     ]
    }
   ],
   "source": [
    "#5\n",
    "a = 9\n",
    "n1 = int( \"%s\" % a )\n",
    "n2 = int( \"%s%s\" % (a,a) )\n",
    "n3 = int( \"%s%s%s\" % (a,a,a) )\n",
    "n4 = int( \"%s%s%s%s\" % (a,a,a,a) )\n",
    "print(n1+n2+n3+n4)"
   ]
  },
  {
   "cell_type": "code",
   "execution_count": 7,
   "metadata": {},
   "outputs": [
    {
     "name": "stdout",
     "output_type": "stream",
     "text": [
      "1,3,5,7,9\n"
     ]
    }
   ],
   "source": [
    "#6\n",
    "values = \"1,2,3,4,5,6,7,8,9\"\n",
    "print(\",\".join([x for x in values.split(\",\") if int(x)%2!=0]))"
   ]
  },
  {
   "cell_type": "code",
   "execution_count": 8,
   "metadata": {},
   "outputs": [
    {
     "name": "stdout",
     "output_type": "stream",
     "text": [
      "ABd1234@1\n"
     ]
    }
   ],
   "source": [
    "#7\n",
    "import re\n",
    "input_list = \"ABd1234@1,a F1#,2w3E*,2We3345\"\n",
    "value = []\n",
    "items=[x for x in input_list.split(',')]\n",
    "for p in items:\n",
    "    if len(p)<6 or len(p)>12:\n",
    "        continue   #skip this word\n",
    "    else:\n",
    "        pass  #pass to next\n",
    "    #re.search() function will search the regular expression pattern \n",
    "    #and return the first occurrence. It returns a match object when \n",
    "    #the pattern is found and “null” if the pattern is not found \n",
    "    if not re.search(\"[a-z]\",p):\n",
    "        continue\n",
    "    elif not re.search(\"[0-9]\",p):\n",
    "        continue\n",
    "    elif not re.search(\"[A-Z]\",p):\n",
    "        continue\n",
    "    elif not re.search(\"[$#@]\",p):\n",
    "        continue\n",
    "    elif re.search(\"\\s\",p):\n",
    "        continue\n",
    "    else:\n",
    "        pass\n",
    "    value.append(p)\n",
    "print(\",\".join(value))"
   ]
  },
  {
   "cell_type": "code",
   "execution_count": 9,
   "metadata": {},
   "outputs": [
    {
     "name": "stdout",
     "output_type": "stream",
     "text": [
      "[('John', 20, 90), ('Jony', 17, 91), ('Jony', 17, 93), ('Json', 21, 85), ('Tom', 19, 80)]\n"
     ]
    }
   ],
   "source": [
    "#8\n",
    "l = []\n",
    "tom = \"Tom\",19,80\n",
    "john = \"John\",20,90\n",
    "johny = \"Jony\",17,91\n",
    "jony = \"Jony\",17,93\n",
    "json = \"Json\",21,85\n",
    "#put extra bracket to trick as one element\n",
    "l.extend(((tom), (john), (johny), (jony), (json))) \n",
    "#optionally, you can do append each one\n",
    "\n",
    "import operator\n",
    "print(sorted(l, key=operator.itemgetter(0,1,2)))"
   ]
  },
  {
   "cell_type": "code",
   "execution_count": 10,
   "metadata": {},
   "outputs": [
    {
     "name": "stdout",
     "output_type": "stream",
     "text": [
      "apple: 3\n",
      "loves: 1\n",
      "i: 1\n",
      "love: 1\n",
      "mango: 1\n",
      "Counts:  [('apple', 3), ('loves', 1), ('i', 1)]\n"
     ]
    }
   ],
   "source": [
    "#9\n",
    "s = \"Apple loves apple. I love apple, mango.\"\n",
    "s = s.replace(\".\", \"\").replace(\",\", \"\").lower().split(\" \")\n",
    "s2 = []  #just for printing\n",
    "for word in s:\n",
    "    if word not in s2:\n",
    "        s2.append(word)\n",
    "\n",
    "for word in s2:\n",
    "    print(f\"{word}: {s.count(word)}\")\n",
    "    \n",
    "#another way is to use Collections counter\n",
    "from collections import Counter\n",
    "counts = Counter(s)\n",
    "print(\"Counts: \", counts.most_common(3))"
   ]
  },
  {
   "cell_type": "code",
   "execution_count": 11,
   "metadata": {},
   "outputs": [
    {
     "name": "stdout",
     "output_type": "stream",
     "text": [
      "1 1\n",
      "2 4\n",
      "3 9\n",
      "4 16\n",
      "5 25\n",
      "6 36\n",
      "7 49\n",
      "8 64\n",
      "9 81\n",
      "10 100\n",
      "11 121\n",
      "12 144\n",
      "13 169\n",
      "14 196\n",
      "15 225\n",
      "16 256\n",
      "17 289\n",
      "18 324\n",
      "19 361\n",
      "20 400\n"
     ]
    }
   ],
   "source": [
    "#10\n",
    "d=dict()\n",
    "for i in range(1,21):\n",
    "    d[i]=i**2\n",
    "for (k,v) in d.items():\n",
    "    print(k, v)"
   ]
  },
  {
   "cell_type": "code",
   "execution_count": 12,
   "metadata": {},
   "outputs": [
    {
     "name": "stdout",
     "output_type": "stream",
     "text": [
      "[4, 16, 36, 64, 100]\n"
     ]
    }
   ],
   "source": [
    "#11\n",
    "some_list = [1,2,3,4,5,6,7,8,9,10]\n",
    "filtered_list = list(filter(lambda x: x%2==0, some_list))\n",
    "print(list(map(lambda x: x**2, filtered_list)))"
   ]
  },
  {
   "cell_type": "code",
   "execution_count": 13,
   "metadata": {},
   "outputs": [
    {
     "name": "stdout",
     "output_type": "stream",
     "text": [
      "Error:  division by zero\n",
      "Executed regardless error or not\n"
     ]
    }
   ],
   "source": [
    "#12\n",
    "try:\n",
    "    x = 5/0\n",
    "except ZeroDivisionError as e:\n",
    "    print(\"Error: \", e)\n",
    "else:\n",
    "    print(\"Dividing successfully!\")\n",
    "finally: \n",
    "    print('Executed regardless error or not')"
   ]
  },
  {
   "cell_type": "code",
   "execution_count": 14,
   "metadata": {},
   "outputs": [
    {
     "name": "stdout",
     "output_type": "stream",
     "text": [
      "Chaky has age of 30 with family salary of 70000\n",
      "The school of John is some_school\n",
      "The school of Peter is another_school\n"
     ]
    }
   ],
   "source": [
    "#13\n",
    "#try put name before age to see some error\n",
    "def some_func(age, *salary, name=\"N/A\", **kids):\n",
    "    total_salary = 0\n",
    "    for each_salary in salary:\n",
    "        total_salary += each_salary\n",
    "    print(f\"{name} has age of {age} with family salary of {total_salary}\")\n",
    "    \n",
    "    for k, v in kids.items():\n",
    "        print(\"The school of {} is {}\".format(k, v))\n",
    "some_func(30, 30000, 40000, name='Chaky', John=\"some_school\", Peter=\"another_school\")"
   ]
  },
  {
   "cell_type": "code",
   "execution_count": 15,
   "metadata": {},
   "outputs": [
    {
     "name": "stdout",
     "output_type": "stream",
     "text": [
      "206\n"
     ]
    }
   ],
   "source": [
    "#14\n",
    "#try input() if you want users to input by themselves\n",
    "list1 = [2, 5, 4]\n",
    "list2 = [3, 7, 8, 9]\n",
    "list3 = [5, 5, 7, 8, 9, 10]\n",
    "k, m = 3, 1000 \n",
    "n = 3\n",
    "\n",
    "#meeting constraints\n",
    "assert 1 <= k <= 7\n",
    "assert 1 <= m <= 1000\n",
    "assert 1 <= n <= 7\n",
    "\n",
    "def f(x):\n",
    "    return x**2\n",
    "\n",
    "from itertools import product\n",
    "\n",
    "#get all possible pairs\n",
    "all_pair = list(product(list1, list2, list3))\n",
    "\n",
    "print(max([sum(map(f, pair)) % m for pair in all_pair]))"
   ]
  },
  {
   "cell_type": "code",
   "execution_count": 16,
   "metadata": {},
   "outputs": [
    {
     "name": "stdout",
     "output_type": "stream",
     "text": [
      "[12. 23.]\n"
     ]
    }
   ],
   "source": [
    "#15\n",
    "import numpy as np\n",
    "def solve(numheads,numlegs):\n",
    "    #r + c = 35\n",
    "    #4r + 2c = 94\n",
    "    coeff = np.array([[1, 1], [4, 2]])\n",
    "    y = np.array([35, 94])\n",
    "    x = np.linalg.solve(coeff, y)\n",
    "    return x\n",
    "\n",
    "numheads=35\n",
    "numlegs=94\n",
    "print(solve(numheads,numlegs))"
   ]
  },
  {
   "cell_type": "code",
   "execution_count": 17,
   "metadata": {},
   "outputs": [
    {
     "name": "stdout",
     "output_type": "stream",
     "text": [
      "Last 10 sequence:  [[31, 7, 17, 22, 35, 12], [23, 11, 2, 18, 33, 28], [24, 8, 5, 32, 21, 3], [26, 34, 9, 13, 0, 29], [19, 14, 27, 16, 4, 30], [15, 6, 20, 10, 25, 1], [3, 21, 31, 11, 26, 34], [5, 35, 17, 19, 14, 9], [27, 8, 25, 12, 4, 1], [29, 20, 32, 16, 6, 24]]\n",
      "[[3, 30, 28, 32, 10, 35], [29, 17, 9, 21, 2, 26], [25, 22, 33, 5, 7, 0], [23, 15, 4, 31, 20, 13], [27, 1, 6, 14, 11, 18], [24, 16, 19, 8, 34, 12], [13, 10, 28, 2, 5, 26], [22, 0, 24, 35, 3, 32], [9, 4, 34, 23, 27, 31], [16, 6, 19, 33, 1, 11], [29, 18, 21, 14, 7, 25], [20, 15, 12, 8, 17, 30], [33, 5, 35, 9, 19, 31], [12, 28, 17, 15, 0, 24], [26, 16, 8, 29, 4, 21], [18, 11, 13, 2, 20, 22], [25, 6, 14, 32, 1, 3], [27, 7, 10, 23, 30, 34], [8, 18, 25, 11, 20, 32], [10, 26, 3, 12, 28, 23], [13, 1, 33, 24, 29, 22], [21, 5, 31, 14, 0, 9], [27, 16, 7, 2, 30, 35], [19, 6, 15, 34, 4, 17], [23, 30, 27, 12, 10, 3], [13, 1, 35, 20, 32, 8], [9, 4, 14, 24, 2, 34], [15, 33, 17, 5, 19, 7], [6, 25, 29, 11, 22, 18], [26, 31, 0, 21, 16, 28], [33, 23, 13, 11, 20, 6], [28, 24, 15, 0, 35, 26], [1, 22, 31, 29, 14, 19], [18, 7, 2, 25, 21, 9], [17, 5, 3, 34, 10, 32], [16, 12, 4, 27, 8, 30], [15, 29, 13, 6, 31, 11], [28, 20, 25, 5, 16, 8], [33, 35, 18, 22, 2, 26], [27, 23, 30, 10, 19, 14], [4, 17, 0, 9, 7, 34], [32, 3, 24, 21, 12, 1], [34, 16, 14, 25, 27, 30], [21, 35, 2, 26, 6, 11], [17, 3, 8, 29, 15, 32], [33, 23, 7, 18, 5, 20], [19, 1, 12, 10, 28, 24], [4, 31, 13, 22, 0, 9], [1, 19, 10, 8, 33, 3], [22, 2, 0, 17, 29, 20], [14, 23, 9, 18, 21, 32], [5, 28, 35, 7, 30, 15], [25, 12, 4, 27, 16, 34], [31, 6, 13, 24, 26, 11], [29, 19, 5, 34, 9, 7], [18, 4, 26, 14, 28, 6], [33, 8, 24, 21, 1, 13], [0, 15, 25, 32, 17, 35], [20, 12, 22, 3, 30, 10], [2, 27, 23, 11, 31, 16], [20, 0, 34, 25, 29, 8], [27, 17, 15, 31, 4, 6], [26, 9, 19, 1, 12, 28], [14, 7, 10, 30, 3, 23], [21, 5, 32, 35, 16, 18], [2, 13, 11, 24, 33, 22], [20, 35, 31, 27, 8, 3], [21, 7, 23, 33, 16, 18], [25, 5, 32, 13, 22, 2], [10, 0, 30, 12, 28, 17], [4, 15, 6, 34, 26, 19], [1, 11, 29, 24, 14, 9], [30, 10, 15, 5, 34, 12], [27, 11, 14, 32, 2, 19], [0, 18, 9, 4, 23, 21], [28, 6, 13, 35, 17, 26], [8, 1, 20, 16, 25, 29], [33, 3, 7, 22, 24, 31], [12, 1, 32, 23, 19, 9], [8, 15, 31, 22, 24, 3], [28, 7, 5, 21, 17, 35], [25, 10, 27, 13, 0, 2], [20, 6, 29, 16, 4, 34], [26, 18, 14, 11, 30, 33], [7, 34, 27, 3, 5, 12], [8, 17, 4, 24, 32, 21], [13, 22, 15, 1, 31, 29], [14, 11, 35, 30, 25, 9], [16, 0, 23, 19, 26, 28], [10, 20, 18, 2, 6, 33], [31, 7, 17, 22, 35, 12], [23, 11, 2, 18, 33, 28], [24, 8, 5, 32, 21, 3], [26, 34, 9, 13, 0, 29], [19, 14, 27, 16, 4, 30], [15, 6, 20, 10, 25, 1], [3, 21, 31, 11, 26, 34], [5, 35, 17, 19, 14, 9], [27, 8, 25, 12, 4, 1], [29, 20, 32, 16, 6, 24]]\n",
      "Counting:  Counter({3: 17, 32: 17, 35: 17, 29: 17, 17: 17, 9: 17, 21: 17, 26: 17, 25: 17, 5: 17, 4: 17, 31: 17, 20: 17, 27: 17, 1: 17, 6: 17, 14: 17, 11: 17, 24: 17, 16: 17, 19: 17, 8: 17, 34: 17, 12: 17, 30: 16, 28: 16, 10: 16, 2: 16, 22: 16, 33: 16, 7: 16, 0: 16, 23: 16, 15: 16, 13: 16, 18: 16})\n"
     ]
    }
   ],
   "source": [
    "#16\n",
    "import random\n",
    "from itertools import chain\n",
    "from collections import Counter\n",
    "# from tqdm import tqdm\n",
    "\n",
    "seqs = []\n",
    "n = 100  #if this num is too big...it will take quite a while or even crash your pc!\n",
    "k = 6  #the bigger this value, the more difficult to find the solution\n",
    "\n",
    "def find_replacement(nextelem, seq):\n",
    "    length = k if len(seqs) > 5 else len(seqs)\n",
    "    for i in range(1, length+1):\n",
    "        prev_seq = seqs[-i:][0]  #try to swap with prev -i sequence, starting with the nearest one\n",
    "        for j in range(len(prev_seq)):\n",
    "            previous_seq_elem = seqs[-i:][0][j]  #start with first element of -i sequence\n",
    "            prev_seq_without_prevelem = [x for x in prev_seq if x != previous_seq_elem] \n",
    "            nl_prev = get_neighbors(prev_seq_without_prevelem)\n",
    "            nl_current = get_neighbors(seq)            \n",
    "            if ( nextelem not in prev_seq and #a\n",
    "                 nextelem not in nl_prev and #b\n",
    "                 nextelem not in seqs[-i-1:][0] and #c1  left consecutive\n",
    "                 nextelem not in seqs[-i+1:][0] #c2  right consecutive\n",
    "                 and\n",
    "                 previous_seq_elem not in seq and #a\n",
    "                 previous_seq_elem not in nl_current and #b  \n",
    "                 previous_seq_elem not in seqs[-1:][0]): #c\n",
    "                seqs[-i:][0][j] = nextelem\n",
    "                seq.append(previous_seq_elem)\n",
    "                return seq\n",
    "            \n",
    "    print(\"Can't swap..Restarting everything...\")\n",
    "    return False\n",
    "    \n",
    "def get_neighbors(seq):\n",
    "    right = [ x + 1 for x in seq]\n",
    "    left = [ x - 1 for x in seq]\n",
    "    top = [ x - 6 for x in seq]\n",
    "    bottom = [ x + 6 for x in seq]\n",
    "    neighbors = list(chain(right, left, top, bottom))\n",
    "    return neighbors\n",
    "\n",
    "def start():\n",
    "    global seqs  #make sure this local seqs is refering to the global seqs\n",
    "    seqs = []\n",
    "    num_rows = 6\n",
    "    num_cols = 6\n",
    "    total = num_rows * num_cols\n",
    "\n",
    "    #generate 0 -35\n",
    "    li = list(range(total))\n",
    "\n",
    "    #as long as seqs haven't reached the desired length\n",
    "    while len(seqs) < n:\n",
    "        seq = []\n",
    "        failcount = 0  #for preventing stuck\n",
    "        if not li:\n",
    "            #if li is exhausted\n",
    "            li = list(range(36))\n",
    "        while len(seq) < k:  #make sure seq is of size k before redoing again\n",
    "            nextelem = random.choice(li)\n",
    "            if len(seq) > 0:  \n",
    "                nl = get_neighbors(seq)    \n",
    "                if failcount > 20: #in case of multiple failed attempts, we shall try swap with prev_seqs\n",
    "                    seq = find_replacement(nextelem, seq)\n",
    "                    if(seq):  #if successful\n",
    "                        li.remove(nextelem)\n",
    "                        failcount = 0\n",
    "                    else:  #if cannot find replacement, we simply restart the whole program\n",
    "                        seq = []\n",
    "                        seqs = []\n",
    "                        failcount = 0\n",
    "                        li = list(range(36))\n",
    "                        print(\"Restarted.\")\n",
    "                elif nextelem not in nl and nextelem not in seq: #rule b and a\n",
    "                    if len(seqs):\n",
    "                        #element must not appear in prev list\n",
    "                        if nextelem not in seqs[-1:][0]:  #rule c\n",
    "                            seq.append(nextelem)\n",
    "                            li.remove(nextelem)\n",
    "                        else:\n",
    "                            failcount += 1\n",
    "                    else:\n",
    "                        seq.append(nextelem)\n",
    "                        li.remove(nextelem)\n",
    "                else:\n",
    "                    failcount += 1\n",
    "            else:  #first element, check whether it appears in prev list or not\n",
    "                if len(seqs):\n",
    "                    if nextelem not in seqs[-1:][0]: #rule c\n",
    "                        seq.append(nextelem)\n",
    "                        li.remove(nextelem)\n",
    "                    else:\n",
    "                        failcount += 1\n",
    "                else:\n",
    "                    seq.append(nextelem)\n",
    "                    li.remove(nextelem)\n",
    "                \n",
    "        seqs.append(seq)\n",
    "        \n",
    "    print(\"Last 10 sequence: \", seqs[-10:])\n",
    "\n",
    "#write some test\n",
    "def test_list_generator(seqs):\n",
    "    for i in range(1, len(seqs)+1):\n",
    "        current = seqs[-i]\n",
    "        if not (i == len(seqs)):\n",
    "            prev = seqs[-i-1]\n",
    "            #check rule c\n",
    "            assert len(set(current).intersection(set(prev))) == 0, f\"Prev: {prev}; Current: {current} - Violate rule c: Repeat across consecutive list!\"\n",
    "        #check rule a\n",
    "        assert len(current) == len(set(current)), f\"Current: {current} - Violate rule a: Got duplicates!\"\n",
    "        #check rule b\n",
    "        nl = set(get_neighbors(current))\n",
    "        assert len(nl.intersection(set(current))) == 0, f\"Current: {current} - Violate rule b: Got neighbors in same list\"\n",
    "\n",
    "    print(seqs)\n",
    "    #examine rule d = should be roughly equal +-1\n",
    "    print(\"Counting: \", Counter(list(chain(*seqs))))\n",
    "\n",
    "# test_list_generator(seqs_rule_a)  #try out!\n",
    "# test_list_generator(seqs_rule_b)\n",
    "# test_list_generator(seqs_rule_c)    \n",
    "\n",
    "seqs_rule_a = [[3, 4, 4, 5, 6, 7]]\n",
    "seqs_rule_b = [[3, 9]]\n",
    "seqs_rule_c = [[22, 24, 0, 20, 7, 3], [1, 30, 18, 24, 13, 6]]\n",
    "\n",
    "if __name__ == '__main__':\n",
    "    start()\n",
    "    test_list_generator(seqs)"
   ]
  },
  {
   "cell_type": "markdown",
   "metadata": {},
   "source": [
    "## Case Study"
   ]
  },
  {
   "cell_type": "markdown",
   "metadata": {},
   "source": [
    "- DataSet.txt - 3195 rows, one for the U.S., one for each state, one for each county, but no column headings. Each row is identified by a 5-digit combined state and county code. Data are comma-delimited.\n",
    "- DataDict.txt - One row for each column in DataSet.txt. Flat ASCII files have mnemonic identifier, full title, number of decimals, and the U.S. total value (matching the first row of DataDict.txt)\n",
    "- FIPS_CountyName.txt - Federal Information Processing Standard codes (FIPS) and corresponding place names."
   ]
  },
  {
   "cell_type": "code",
   "execution_count": 18,
   "metadata": {},
   "outputs": [],
   "source": [
    "dataset_fname = \"resources/DataSet.txt\"\n",
    "datadict_fname = \"resources/DataDict.txt\" \n",
    "fips_fname = \"resources/FIPS_CountyName.txt\""
   ]
  },
  {
   "cell_type": "markdown",
   "metadata": {},
   "source": [
    "### Load FIPS_CountyName.txt"
   ]
  },
  {
   "cell_type": "code",
   "execution_count": 19,
   "metadata": {},
   "outputs": [],
   "source": [
    "# f = open(fips_fname)\n",
    "# for row in f:\n",
    "#     print (row)"
   ]
  },
  {
   "cell_type": "markdown",
   "metadata": {},
   "source": [
    "### EXERCISE: create a fips dict, with FIPS code as key"
   ]
  },
  {
   "cell_type": "code",
   "execution_count": 20,
   "metadata": {},
   "outputs": [],
   "source": [
    "# fips = dict()\n",
    "\n",
    "#1 YOUR CODE HERE"
   ]
  },
  {
   "cell_type": "code",
   "execution_count": 21,
   "metadata": {},
   "outputs": [],
   "source": [
    "# check NEW YORK state and New York County\n",
    "\n",
    "# print (fips['36000'], fips['36061'])"
   ]
  },
  {
   "cell_type": "markdown",
   "metadata": {},
   "source": [
    "### EXERCISE: generate a set of FIPS codes that correspond to states"
   ]
  },
  {
   "cell_type": "code",
   "execution_count": 22,
   "metadata": {},
   "outputs": [],
   "source": [
    "#2 YOUR CODE HERE\n",
    "\n",
    "# print (states_fips)\n",
    "\n",
    "# fyi: states_fips look like this, with three 000 at the end\n",
    "# states_fips == set([u'01000', u'02000', u'04000', u'05000', u'06000', u'08000',\n",
    "# u'09000', u'10000', u'11000', u'12000', u'13000', u'15000', u'16000', u'17000',\n",
    "# u'18000', u'19000', u'20000', u'21000', u'22000', u'23000', u'24000', u'25000',\n",
    "# u'26000', u'27000', u'28000', u'29000', u'30000', u'31000', u'32000', u'33000',\n",
    "# u'34000', u'35000', u'36000', u'37000', u'38000', u'39000', u'40000', u'41000',\n",
    "# u'42000', u'44000', u'45000', u'46000', u'47000', u'48000', u'49000', u'50000',\n",
    "# u'51000', u'53000', u'54000', u'55000', u'56000'])"
   ]
  },
  {
   "cell_type": "markdown",
   "metadata": {},
   "source": [
    "### EXERCISE: use collections.Counter to check number of counties / state and verify that NY has 62 counties"
   ]
  },
  {
   "cell_type": "code",
   "execution_count": 23,
   "metadata": {},
   "outputs": [],
   "source": [
    "from collections import Counter\n",
    "\n",
    "# https://en.wikipedia.org/wiki/List_of_counties_in_New_York\n",
    "\n",
    "#3 YOUR CODE HERE\n",
    "\n",
    "# print (counties_count_by_state['36'])"
   ]
  },
  {
   "cell_type": "markdown",
   "metadata": {},
   "source": [
    "### EXERCISE: write a function county_fips_for_state that return all county fips for a given state fips"
   ]
  },
  {
   "cell_type": "code",
   "execution_count": 24,
   "metadata": {},
   "outputs": [],
   "source": [
    "# def county_fips_for_state(state):\n",
    "    #4 YOUR CODE HERE"
   ]
  },
  {
   "cell_type": "code",
   "execution_count": 25,
   "metadata": {},
   "outputs": [],
   "source": [
    "# check for NY\n",
    "# print ([(k, fips[k]) for k in list(county_fips_for_state('36000')) ])"
   ]
  },
  {
   "cell_type": "markdown",
   "metadata": {},
   "source": [
    "## Load dataset"
   ]
  },
  {
   "cell_type": "code",
   "execution_count": 26,
   "metadata": {},
   "outputs": [],
   "source": [
    "# import csv\n",
    "\n",
    "# f = open(dataset_fname)\n",
    "\n",
    "# reader = csv.DictReader(f)\n",
    "# dataset = dict([(row[\"fips\"], row) for row in reader])"
   ]
  },
  {
   "cell_type": "code",
   "execution_count": 27,
   "metadata": {},
   "outputs": [],
   "source": [
    "# check the population in the US\n",
    "# https://www.census.gov/quickfacts/fact/table/US/POP010210\n",
    "# k = 00000 belongs to US whole country, while others are values\n",
    "# print(int(dataset['00000']['POP010210'])) == 308745538"
   ]
  },
  {
   "cell_type": "markdown",
   "metadata": {},
   "source": [
    "### EXERCISE: Show that the sum of all state populations is equal to the population of US"
   ]
  },
  {
   "cell_type": "code",
   "execution_count": 28,
   "metadata": {},
   "outputs": [],
   "source": [
    "#5 YOUR CODE HERE"
   ]
  },
  {
   "cell_type": "markdown",
   "metadata": {},
   "source": [
    "### EXERCISE: Sum up population for all NY counties and verify that they equal NY population"
   ]
  },
  {
   "cell_type": "code",
   "execution_count": 29,
   "metadata": {},
   "outputs": [],
   "source": [
    "# int(dataset['36000']['POP010210'])  # total 2010 population of NY"
   ]
  },
  {
   "cell_type": "code",
   "execution_count": 30,
   "metadata": {},
   "outputs": [],
   "source": [
    "#6 YOUR CODE HERE"
   ]
  },
  {
   "cell_type": "markdown",
   "metadata": {},
   "source": [
    "### EXERCISE: for each state, list FIPS, state name, population and whether county totals is the same of state total"
   ]
  },
  {
   "cell_type": "code",
   "execution_count": 31,
   "metadata": {},
   "outputs": [],
   "source": [
    "#7 YOUR CODE HERE"
   ]
  },
  {
   "cell_type": "markdown",
   "metadata": {},
   "source": [
    "# Solution"
   ]
  },
  {
   "cell_type": "code",
   "execution_count": 32,
   "metadata": {},
   "outputs": [
    {
     "name": "stdout",
     "output_type": "stream",
     "text": [
      "NEW YORK New York County, NY\n"
     ]
    }
   ],
   "source": [
    "#1\n",
    "fips_fname = \"resources/FIPS_CountyName.txt\"\n",
    "fips = dict()\n",
    "with open(fips_fname) as f:\n",
    "    for line in f:\n",
    "        fips[line[:5]] = line[6:-1]\n",
    "        \n",
    "print(fips['36000'], fips['36061'])"
   ]
  },
  {
   "cell_type": "code",
   "execution_count": 33,
   "metadata": {},
   "outputs": [],
   "source": [
    "#2\n",
    "states_fips = set([k for k in fips.keys() if k[-3:] == '000' and k != '00000'])"
   ]
  },
  {
   "cell_type": "code",
   "execution_count": 34,
   "metadata": {},
   "outputs": [
    {
     "name": "stdout",
     "output_type": "stream",
     "text": [
      "Counter({'48': 254, '13': 159, '51': 134, '21': 120, '29': 115, '20': 105, '17': 102, '37': 100, '19': 99, '47': 95, '31': 93, '18': 92, '39': 88, '27': 87, '26': 83, '28': 82, '40': 77, '05': 75, '55': 72, '01': 67, '12': 67, '42': 67, '46': 66, '08': 64, '22': 64, '36': 62, '06': 58, '30': 56, '54': 55, '38': 53, '45': 46, '16': 44, '53': 39, '41': 36, '35': 33, '02': 29, '49': 29, '24': 24, '56': 23, '34': 21, '32': 17, '23': 16, '04': 15, '25': 14, '50': 14, '33': 10, '09': 8, '15': 5, '44': 5, '10': 3, '11': 1})\n"
     ]
    }
   ],
   "source": [
    "#3\n",
    "from collections import Counter\n",
    "\n",
    "#get key of each state, which is the first two digits, and count them\n",
    "counties_count_by_state = Counter((k[:2] for k in fips.keys() if k[-3:] != '000'))\n",
    "print(counties_count_by_state)  #look for 36"
   ]
  },
  {
   "cell_type": "code",
   "execution_count": 35,
   "metadata": {},
   "outputs": [
    {
     "name": "stdout",
     "output_type": "stream",
     "text": [
      "Return func:  36001\n",
      "Return func with yield:  ['36001', '36003', '36005', '36007', '36009', '36011', '36013', '36015', '36017', '36019', '36021', '36023', '36025', '36027', '36029', '36031', '36033', '36035', '36037', '36039', '36041', '36043', '36045', '36047', '36049', '36051', '36053', '36055', '36057', '36059', '36061', '36063', '36065', '36067', '36069', '36071', '36073', '36075', '36077', '36079', '36081', '36083', '36085', '36087', '36089', '36091', '36093', '36095', '36097', '36099', '36101', '36103', '36105', '36107', '36109', '36111', '36113', '36115', '36117', '36119', '36121', '36123']\n",
      "A nicer return:\n",
      "[('36001', 'Albany County, NY'), ('36003', 'Allegany County, NY'), ('36005', 'Bronx County, NY'), ('36007', 'Broome County, NY'), ('36009', 'Cattaraugus County, NY'), ('36011', 'Cayuga County, NY'), ('36013', 'Chautauqua County, NY'), ('36015', 'Chemung County, NY'), ('36017', 'Chenango County, NY'), ('36019', 'Clinton County, NY'), ('36021', 'Columbia County, NY'), ('36023', 'Cortland County, NY'), ('36025', 'Delaware County, NY'), ('36027', 'Dutchess County, NY'), ('36029', 'Erie County, NY'), ('36031', 'Essex County, NY'), ('36033', 'Franklin County, NY'), ('36035', 'Fulton County, NY'), ('36037', 'Genesee County, NY'), ('36039', 'Greene County, NY'), ('36041', 'Hamilton County, NY'), ('36043', 'Herkimer County, NY'), ('36045', 'Jefferson County, NY'), ('36047', 'Kings County, NY'), ('36049', 'Lewis County, NY'), ('36051', 'Livingston County, NY'), ('36053', 'Madison County, NY'), ('36055', 'Monroe County, NY'), ('36057', 'Montgomery County, NY'), ('36059', 'Nassau County, NY'), ('36061', 'New York County, NY'), ('36063', 'Niagara County, NY'), ('36065', 'Oneida County, NY'), ('36067', 'Onondaga County, NY'), ('36069', 'Ontario County, NY'), ('36071', 'Orange County, NY'), ('36073', 'Orleans County, NY'), ('36075', 'Oswego County, NY'), ('36077', 'Otsego County, NY'), ('36079', 'Putnam County, NY'), ('36081', 'Queens County, NY'), ('36083', 'Rensselaer County, NY'), ('36085', 'Richmond County, NY'), ('36087', 'Rockland County, NY'), ('36089', 'St. Lawrence County, NY'), ('36091', 'Saratoga County, NY'), ('36093', 'Schenectady County, NY'), ('36095', 'Schoharie County, NY'), ('36097', 'Schuyler County, NY'), ('36099', 'Seneca County, NY'), ('36101', 'Steuben County, NY'), ('36103', 'Suffolk County, NY'), ('36105', 'Sullivan County, NY'), ('36107', 'Tioga County, NY'), ('36109', 'Tompkins County, NY'), ('36111', 'Ulster County, NY'), ('36113', 'Warren County, NY'), ('36115', 'Washington County, NY'), ('36117', 'Wayne County, NY'), ('36119', 'Westchester County, NY'), ('36121', 'Wyoming County, NY'), ('36123', 'Yates County, NY')]\n"
     ]
    }
   ],
   "source": [
    "#4  \n",
    "\n",
    "#if we use return, we will only get one key\n",
    "def county_fips_for_state(state):\n",
    "    for k in fips.keys():\n",
    "        if k[:2] == state[:2] and k[-3:] != '000':\n",
    "            return k\n",
    "            \n",
    "print(\"Return func: \", county_fips_for_state('36000'))\n",
    "\n",
    "#if we use yield, we can continue getting the values\n",
    "# yield return a generator which can then be iterated\n",
    "# generator is not the same as iterable given that generator \n",
    "# can only be used once\n",
    "def county_fips_for_state(state):\n",
    "    for k in fips.keys():\n",
    "        if k[:2] == state[:2] and k[-3:] != '000':\n",
    "            yield k\n",
    "            \n",
    "print(\"Return func with yield: \", list(county_fips_for_state('36000')))\n",
    "\n",
    "#to make a nicer output, we can print the key along with names\n",
    "print(\"A nicer return:\")\n",
    "print([(k, fips[k]) for k in list(county_fips_for_state('36000'))])"
   ]
  },
  {
   "cell_type": "code",
   "execution_count": 36,
   "metadata": {},
   "outputs": [
    {
     "name": "stdout",
     "output_type": "stream",
     "text": [
      "308745538\n",
      "308745538\n"
     ]
    }
   ],
   "source": [
    "#5\n",
    "dataset_fname = \"resources/DataSet.txt\"\n",
    "\n",
    "import csv\n",
    "f = open(dataset_fname)\n",
    "reader = csv.DictReader(f)\n",
    "dataset = dict([(row[\"fips\"], row) for row in reader])\n",
    "\n",
    "# check the population in the US\n",
    "# https://www.census.gov/quickfacts/fact/table/US/POP010210\n",
    "# k = 00000 belongs to US whole country, while others are values\n",
    "print (int(dataset['00000']['POP010210']))\n",
    "\n",
    "# show the sum of all state populations is equal to population of US\n",
    "print(sum([int(dataset[k]['POP010210']) for k in states_fips]))"
   ]
  },
  {
   "cell_type": "code",
   "execution_count": 37,
   "metadata": {},
   "outputs": [
    {
     "name": "stdout",
     "output_type": "stream",
     "text": [
      "19378102\n",
      "19378102\n"
     ]
    }
   ],
   "source": [
    "#6\n",
    "print(int(dataset['36000']['POP010210']))  # total 2010 population of NY\n",
    "state = '36000'\n",
    "print(sum([int(dataset[cf]['POP010210']) \\\n",
    "               for cf in county_fips_for_state(state)]))"
   ]
  },
  {
   "cell_type": "code",
   "execution_count": 38,
   "metadata": {},
   "outputs": [
    {
     "name": "stdout",
     "output_type": "stream",
     "text": [
      "23000 MAINE 1328361 True\n",
      "28000 MISSISSIPPI 2967297 True\n",
      "47000 TENNESSEE 6346105 True\n",
      "19000 IOWA 3046355 True\n",
      "44000 RHODE ISLAND 1052567 True\n",
      "12000 FLORIDA 18801310 True\n",
      "01000 ALABAMA 4779736 True\n",
      "16000 IDAHO 1567582 True\n",
      "37000 NORTH CAROLINA 9535483 True\n",
      "39000 OHIO 11536504 True\n",
      "53000 WASHINGTON 6724540 True\n",
      "48000 TEXAS 25145561 True\n",
      "50000 VERMONT 625741 True\n",
      "08000 COLORADO 5029196 True\n",
      "05000 ARKANSAS 2915918 True\n",
      "02000 ALASKA 710231 True\n",
      "09000 CONNECTICUT 3574097 True\n",
      "54000 WEST VIRGINIA 1852994 True\n",
      "56000 WYOMING 563626 True\n",
      "35000 NEW MEXICO 2059179 True\n",
      "11000 DISTRICT OF COLUMBIA 601723 True\n",
      "55000 WISCONSIN 5686986 True\n",
      "49000 UTAH 2763885 True\n",
      "32000 NEVADA 2700551 True\n",
      "04000 ARIZONA 6392017 True\n",
      "38000 NORTH DAKOTA 672591 True\n",
      "21000 KENTUCKY 4339367 True\n",
      "41000 OREGON 3831074 True\n",
      "29000 MISSOURI 5988927 True\n",
      "42000 PENNSYLVANIA 12702379 True\n",
      "27000 MINNESOTA 5303925 True\n",
      "45000 SOUTH CAROLINA 4625364 True\n",
      "20000 KANSAS 2853118 True\n",
      "30000 MONTANA 989415 True\n",
      "31000 NEBRASKA 1826341 True\n",
      "15000 HAWAII 1360301 True\n",
      "06000 CALIFORNIA 37253956 True\n",
      "17000 ILLINOIS 12830632 True\n",
      "34000 NEW JERSEY 8791894 True\n",
      "40000 OKLAHOMA 3751351 True\n",
      "24000 MARYLAND 5773552 True\n",
      "22000 LOUISIANA 4533372 True\n",
      "46000 SOUTH DAKOTA 814180 True\n",
      "18000 INDIANA 6483802 True\n",
      "26000 MICHIGAN 9883640 True\n",
      "33000 NEW HAMPSHIRE 1316470 True\n",
      "10000 DELAWARE 897934 True\n",
      "51000 VIRGINIA 8001024 True\n",
      "36000 NEW YORK 19378102 True\n",
      "25000 MASSACHUSETTS 6547629 True\n",
      "13000 GEORGIA 9687653 True\n"
     ]
    }
   ],
   "source": [
    "#7\n",
    "for state in states_fips:\n",
    "    print(state, fips[state], int(dataset[state]['POP010210']), end=\" \") \n",
    "    print(sum([int(dataset[cf]['POP010210']) \\\n",
    "               for cf in county_fips_for_state(state)]) == int(dataset[state]['POP010210']))"
   ]
  },
  {
   "cell_type": "code",
   "execution_count": null,
   "metadata": {},
   "outputs": [],
   "source": []
  },
  {
   "cell_type": "code",
   "execution_count": null,
   "metadata": {},
   "outputs": [],
   "source": []
  },
  {
   "cell_type": "code",
   "execution_count": null,
   "metadata": {},
   "outputs": [],
   "source": []
  }
 ],
 "metadata": {
  "kernelspec": {
   "display_name": "Python 3",
   "language": "python",
   "name": "python3"
  },
  "language_info": {
   "codemirror_mode": {
    "name": "ipython",
    "version": 3
   },
   "file_extension": ".py",
   "mimetype": "text/x-python",
   "name": "python",
   "nbconvert_exporter": "python",
   "pygments_lexer": "ipython3",
   "version": "3.6.9"
  }
 },
 "nbformat": 4,
 "nbformat_minor": 4
}
