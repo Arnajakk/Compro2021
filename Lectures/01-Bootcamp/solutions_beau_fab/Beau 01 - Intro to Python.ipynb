{
 "cells": [
  {
   "cell_type": "markdown",
   "id": "quiet-ladder",
   "metadata": {},
   "source": [
    "# Solution Intro to python // Beau\n",
    "### === Task 1 === \n",
    "1. Declare two strings with value \"3\" and \"4\". Add them by first converting them to int, and then perform addition\n",
    "2. Declare a variable x = 10, and then print a f-string saying \"my variable x = 10\" where 10 is from the x value, not hard-coded\n",
    "3. Perform a calculation of 10 mod 4 / 2 and convert to integer\n",
    "4. Get input from user using input(), and then print the type of the input\n",
    "5. Declare three strings: \"Chaky\", \"John\", \"Tom\", and concatenate them into \"Chaky, John, Tom\""
   ]
  },
  {
   "cell_type": "code",
   "execution_count": 42,
   "id": "loaded-bench",
   "metadata": {},
   "outputs": [
    {
     "name": "stdout",
     "output_type": "stream",
     "text": [
      "Answer Q1: \n",
      " 7\n",
      "Answer Q2: \n",
      " my variable x = 10\n",
      "Answer Q3: \n",
      " 1\n"
     ]
    },
    {
     "name": "stdin",
     "output_type": "stream",
     "text": [
      " 4\n"
     ]
    },
    {
     "name": "stdout",
     "output_type": "stream",
     "text": [
      "Answer Q4: \n",
      " <class 'str'>\n",
      "Answer Q5: \n",
      "Chaky,John,Tom\n"
     ]
    }
   ],
   "source": [
    "#====== 1 =======\n",
    "s1 = int(\"3\")\n",
    "s2 = int(\"4\")\n",
    "ans1 = s1+s2\n",
    "print(\"Answer Q1: \\n\",ans1)\n",
    "#====== 2 =======\n",
    "x = 10\n",
    "print(\"Answer Q2: \\n\", f\"my variable x = {x}\")\n",
    "#====== 3 =======\n",
    "x = int(10 % 4/2)\n",
    "print(\"Answer Q3: \\n\",x)\n",
    "#====== 4 =======\n",
    "ans = input()\n",
    "print(\"Answer Q4: \\n\",type(ans))\n",
    "#====== 5 =======\n",
    "s1 = \"Chaky\"\n",
    "s2 = \"John\"\n",
    "s3 = \"Tom\"\n",
    "print(\"Answer Q5: \\n\" + s1,s2,s3,sep = \",\")"
   ]
  },
  {
   "cell_type": "markdown",
   "id": "composite-magnitude",
   "metadata": {},
   "source": [
    "### === Task === \n",
    "1. Get input from user using input(). If the number is less than 5, print \"less than\". Otherwise, print \"higher than\".\n",
    "\n",
    "2. Write a simple number guessing game using pseudocode. The program generates a random integer. It then accepts input from users for a integer or else it outputs ‘Please input an integer’. After the user input, the system outputs one of the three possible states whether the number is higher, lower or equal to the target integer. If it is equal, the program asked whether users want to play another round, or else just keep asking users for input. Feel free to make any assumption for anything not stated."
   ]
  },
  {
   "cell_type": "code",
   "execution_count": 43,
   "id": "reported-tuning",
   "metadata": {},
   "outputs": [
    {
     "name": "stdin",
     "output_type": "stream",
     "text": [
      " 2\n"
     ]
    },
    {
     "name": "stdout",
     "output_type": "stream",
     "text": [
      "Answer Q1: \n",
      " less than\n"
     ]
    }
   ],
   "source": [
    "#====== 1 =======\n",
    "a = int(input())\n",
    "if a < 5:\n",
    "    print(\"Answer Q1: \\n\", \"less than\")\n",
    "else:\n",
    "    print(\"Answer Q1: \\n\",  \"higher than\")"
   ]
  },
  {
   "cell_type": "markdown",
   "id": "technological-solid",
   "metadata": {},
   "source": [
    "#====== 2 =======\n",
    "<code>\n",
    "Generate a random integer\n",
    "Get user's input by asking \"Please input an integer\"\n",
    "<code>\n",
    "while user's input != generated integer\n",
    "    If user's input > generated integer\n",
    "        then print \"higher\"\n",
    "    elif user's input < generated integer\n",
    "        then print \"lower\"\n",
    "    else\n",
    "        print \"equal\"\n",
    "        Ask user whether he wants to play another round "
   ]
  },
  {
   "cell_type": "markdown",
   "id": "identical-river",
   "metadata": {},
   "source": [
    "### === Task 2 === \n",
    "\n",
    "1. Declare a string \"Python is cool\".  Get the first 6 letters \"Python\".\n",
    "\n",
    "2. Similarly, print the last 4 letters \"cool\".\n",
    "\n",
    "3. Print the \"is\"\n",
    "\n",
    "4. Declare a string \"malkahc\".  Print them reversely.\n",
    "\n",
    "5. Declare a string \"dffdfPkyktkhkokn\".  Print by skipping \"dffdf\", and then from that index onward, skip the even letters, i.e., the \"k\".  It should print \"Python\""
   ]
  },
  {
   "cell_type": "code",
   "execution_count": 3,
   "id": "quality-harvey",
   "metadata": {},
   "outputs": [
    {
     "name": "stdout",
     "output_type": "stream",
     "text": [
      "Answer Q1:  Python\n",
      "Answer Q2:  cool\n",
      "Answer Q3:  is\n",
      "Answer Q4:  chaklam\n",
      "Answer Q5:  Python\n"
     ]
    }
   ],
   "source": [
    "#====== 1 =======\n",
    "s1 = \"Python is cool\"\n",
    "print(\"Answer Q1: \\n\", s1[:6])\n",
    "#====== 2 =======\n",
    "print(\"Answer Q2: \\n\", s1[-4:])\n",
    "#====== 3 =======\n",
    "print(\"Answer Q3: \\n\", s1[7:9])\n",
    "#====== 4 =======\n",
    "s2 = \"malkahc\"\n",
    "print(\"Answer Q4: \\n\", s2[::-1])\n",
    "#====== 5 =======\n",
    "s3 = \"dffdfPkyktkhkokn\"\n",
    "print(\"Answer Q5: \\n\", s3[5::2])"
   ]
  },
  {
   "cell_type": "markdown",
   "id": "republican-mount",
   "metadata": {},
   "source": [
    "6. Generate a list from 0 to 9\n",
    "\n",
    "7. Generate a list from 1 to 9 \n",
    "\n",
    "8. Generate a list from -9 to 9 skipping even numbers\n",
    "\n",
    "9. Continuing, append number 10 to list\n",
    "\n",
    "10. Continuing, check the index of number -1"
   ]
  },
  {
   "cell_type": "code",
   "execution_count": 45,
   "id": "forty-earth",
   "metadata": {},
   "outputs": [
    {
     "name": "stdout",
     "output_type": "stream",
     "text": [
      "Answer Q6: \n",
      " [0, 1, 2, 3, 4, 5, 6, 7, 8, 9]\n",
      "Answer Q7: \n",
      " [1, 2, 3, 4, 5, 6, 7, 8, 9]\n",
      "Answer Q8: \n",
      " [-9, -7, -5, -3, -1, 1, 3, 5, 7, 9]\n",
      "Answer Q9: \n",
      " [-9, -7, -5, -3, -1, 1, 3, 5, 7, 9, 10]\n",
      "Answer Q10: \n",
      " 4\n"
     ]
    }
   ],
   "source": [
    "#====== 6 =======\n",
    "list1 = [n for n in range(10)]\n",
    "print(\"Answer Q6: \\n\", list1)\n",
    "#====== 7 =======\n",
    "list2 = [n for n in range(1,10)]\n",
    "print(\"Answer Q7: \\n\", list2)\n",
    "#====== 8 =======\n",
    "list3 = [n for n in range(-9,10,2)]\n",
    "print(\"Answer Q8: \\n\", list3)\n",
    "#====== 9 =======\n",
    "list3.append(10)\n",
    "print(\"Answer Q9: \\n\", list3)\n",
    "#====== 10 =======\n",
    "print(\"Answer Q10: \\n\", list3.index(-1))"
   ]
  },
  {
   "cell_type": "markdown",
   "id": "earned-kansas",
   "metadata": {},
   "source": [
    "11. Continuing, check the length of list\n",
    "\n",
    "12. Continuing, remove the value \"10\"\n",
    "\n",
    "13. Continuing, remove whatever value at index 5\n",
    "\n",
    "14. Continuing, check whether number -20 is in the list\n",
    "\n",
    "15. Continuing, shuffle the list, and then perform sort()\n"
   ]
  },
  {
   "cell_type": "code",
   "execution_count": 46,
   "id": "plain-protein",
   "metadata": {},
   "outputs": [
    {
     "name": "stdout",
     "output_type": "stream",
     "text": [
      "Answer Q11: \n",
      " 11\n",
      "Answer Q12: \n",
      " [-9, -7, -5, -3, -1, 1, 3, 5, 7, 9]\n",
      "Answer Q13: \n",
      " [-9, -7, -5, -3, -1, 3, 5, 7, 9]\n",
      "Answer Q14: \n",
      " False\n",
      "Answer Q15a: \n",
      " [7, -7, 5, -3, -1, -9, 9, -5, 3]\n",
      "Answer Q15b: \n",
      " [-9, -7, -5, -3, -1, 3, 5, 7, 9]\n"
     ]
    }
   ],
   "source": [
    "#====== 11 =======\n",
    "print(\"Answer Q11: \\n\", len(list3))\n",
    "#====== 12 =======\n",
    "list3.remove(10)\n",
    "print(\"Answer Q12: \\n\", list3)\n",
    "#====== 13 =======\n",
    "list3.remove(list3[5])\n",
    "print(\"Answer Q13: \\n\", list3)\n",
    "#====== 14 =======\n",
    "print(\"Answer Q14: \\n\", -20 in list3)\n",
    "#====== 15 =======\n",
    "import random\n",
    "random.shuffle(list3)\n",
    "print(\"Answer Q15a: \\n\", list3)\n",
    "list3.sort()\n",
    "print(\"Answer Q15b: \\n\", list3)"
   ]
  },
  {
   "cell_type": "markdown",
   "id": "meaningful-offset",
   "metadata": {},
   "source": [
    "16. Continuing, print all the values of the list by looping them\n",
    "\n",
    "17. Continuing, randomly choose 1 value from the list\n",
    "\n",
    "18. Continuing, print all the posible paired-permutations\n",
    "\n",
    "19. Continuing, using list comprehension, add 1 to all value in the list\n",
    "\n",
    "20. Continuing, using a for loop + enumerate, print the value in the list, as well as their index\n"
   ]
  },
  {
   "cell_type": "code",
   "execution_count": 47,
   "id": "satellite-league",
   "metadata": {},
   "outputs": [
    {
     "name": "stdout",
     "output_type": "stream",
     "text": [
      "Answer Q16: \n",
      "\n",
      "-9\n",
      "-7\n",
      "-5\n",
      "-3\n",
      "-1\n",
      "3\n",
      "5\n",
      "7\n",
      "9\n",
      "Answer Q17: \n",
      " [5]\n",
      "Answer Q18: \n",
      " [(-9, -7), (-9, -5), (-9, -3), (-9, -1), (-9, 3), (-9, 5), (-9, 7), (-9, 9), (-7, -9), (-7, -5), (-7, -3), (-7, -1), (-7, 3), (-7, 5), (-7, 7), (-7, 9), (-5, -9), (-5, -7), (-5, -3), (-5, -1), (-5, 3), (-5, 5), (-5, 7), (-5, 9), (-3, -9), (-3, -7), (-3, -5), (-3, -1), (-3, 3), (-3, 5), (-3, 7), (-3, 9), (-1, -9), (-1, -7), (-1, -5), (-1, -3), (-1, 3), (-1, 5), (-1, 7), (-1, 9), (3, -9), (3, -7), (3, -5), (3, -3), (3, -1), (3, 5), (3, 7), (3, 9), (5, -9), (5, -7), (5, -5), (5, -3), (5, -1), (5, 3), (5, 7), (5, 9), (7, -9), (7, -7), (7, -5), (7, -3), (7, -1), (7, 3), (7, 5), (7, 9), (9, -9), (9, -7), (9, -5), (9, -3), (9, -1), (9, 3), (9, 5), (9, 7)]\n",
      "Answer Q19: \n",
      " [-8, -6, -4, -2, 0, 4, 6, 8, 10]\n",
      "Answer Q20: \n",
      "\n",
      "0 -8\n",
      "1 -6\n",
      "2 -4\n",
      "3 -2\n",
      "4 0\n",
      "5 4\n",
      "6 6\n",
      "7 8\n",
      "8 10\n"
     ]
    }
   ],
   "source": [
    "#====== 16 =======\n",
    "print(\"Answer Q16: \\n\")\n",
    "for i in list3:\n",
    "    print(i)\n",
    "#====== 17 =======\n",
    "print(\"Answer Q17: \\n\",random.sample(list3, 1))\n",
    "#====== 18 =======\n",
    "from itertools import permutations, combinations\n",
    "print(\"Answer Q18: \\n\", list(permutations(list3,2)))\n",
    "#====== 19 =======\n",
    "list3 = [n+1 for n in list3]\n",
    "print(\"Answer Q19: \\n\", list3)\n",
    "#====== 20 =======\n",
    "print(\"Answer Q20: \\n\")\n",
    "for idx, n in enumerate(list3):\n",
    "    print(idx, n)"
   ]
  },
  {
   "cell_type": "markdown",
   "id": "retired-explanation",
   "metadata": {},
   "source": [
    "21. Create two list of length 3. One list contains your friends name, and another list contains their makeup ID number.  Using zip, print the name along the ID number\n",
    "\n",
    "22. Create a list containing [1, 1, 2, 2].  Using set, print the unique values.  Then print the length of this unique set.\n",
    "\n",
    "23. See below code.  Print only the eeg signal and event separately from this nested list using (1) for loop, (2) list comprehension\n",
    "\n",
    "24. Continuing, print only the eeg signal with event = 2 using list comprehension"
   ]
  },
  {
   "cell_type": "code",
   "execution_count": 48,
   "id": "explicit-observation",
   "metadata": {},
   "outputs": [
    {
     "name": "stdout",
     "output_type": "stream",
     "text": [
      "Answer Q21: \n",
      "\n",
      "fabby st1111\n",
      "film st2222\n",
      "nice st3333\n",
      "Answer Q22: \n",
      " {1, 2}\n",
      "EEG signal: \n",
      " [[[8, 9], 1], [[3, 3], 2], [[2, 3], 2]]\n",
      "Answer Q23 eeg:  [[8, 9], [3, 3], [2, 3]]\n",
      "Answer Q23 event:  [1, 2, 2]\n",
      "Answer Q24: \n",
      "event = 2 found at:  [3, 3]\n",
      "event = 2 found at:  [2, 3]\n"
     ]
    }
   ],
   "source": [
    "#====== 21 =======\n",
    "print(\"Answer Q21: \\n\")\n",
    "names = ['fabby','film','nice']\n",
    "ids = ['st1111','st2222','st3333']\n",
    "for n,id in zip(names, ids):\n",
    "    print(n,id)\n",
    "#====== 22 =======\n",
    "list4 = [1, 1, 2, 2]\n",
    "print(\"Answer Q22: \\n\", set(list4))\n",
    "#====== 23 =======\n",
    "two_channel_eeg_signal1 = [8, 9]\n",
    "event1 = 1\n",
    "two_channel_eeg_signal2 = [3, 3]\n",
    "event2 = 2\n",
    "two_channel_eeg_signal3 = [2, 3]\n",
    "event3 = 2\n",
    "some_nested_list = []\n",
    "some_nested_list.append([two_channel_eeg_signal1, event1])\n",
    "some_nested_list.append([two_channel_eeg_signal2, event2])\n",
    "some_nested_list.append([two_channel_eeg_signal3, event3])\n",
    "print(\"EEG signal: \\n\", some_nested_list)\n",
    "\n",
    "eeg = []\n",
    "event = []\n",
    "for eegs in some_nested_list:\n",
    "    eeg.append(eegs[0])\n",
    "    event.append(eegs[1])\n",
    "print(\"Answer Q23 eeg: \",eeg)\n",
    "print(\"Answer Q23 event: \",event)\n",
    "#====== 24 =======\n",
    "print(\"Answer Q24: \")\n",
    "for idx, e in enumerate(event):\n",
    "    if e == 2:\n",
    "        print(\"event = 2 found at: \",eeg[idx])"
   ]
  },
  {
   "cell_type": "markdown",
   "id": "absent-launch",
   "metadata": {},
   "source": [
    "### === Task 3 === \n",
    "\n",
    "1. Create a tuple variable containing a person age, gender, and height, and then attempt to print the gender of the tuple variable.\n",
    "2. Create a dictionary of your age, name, gender, ID number.  Loop the dictionary and print the key - value."
   ]
  },
  {
   "cell_type": "code",
   "execution_count": 50,
   "id": "balanced-gateway",
   "metadata": {},
   "outputs": [
    {
     "name": "stdout",
     "output_type": "stream",
     "text": [
      "Answer Q1: \n",
      " f\n",
      "Answer Q2: \n",
      "\n",
      "age [24]\n",
      "name ['Beau']\n",
      "gender ['f']\n",
      "ID number ['st1111']\n"
     ]
    }
   ],
   "source": [
    "#====== 1 =======\n",
    "t = (24,\"f\",160)\n",
    "print(\"Answer Q1: \\n\", t[1])\n",
    "#====== 2 =======\n",
    "print(\"Answer Q2: \\n\")\n",
    "d = {\"age\": [24],\n",
    "     \"name\": [\"Beau\"],\n",
    "     \"gender\": [\"f\"],\n",
    "     \"ID number\": [\"st1111\"],\n",
    "    }\n",
    "for k,v in d.items():\n",
    "    print(k,v)"
   ]
  },
  {
   "cell_type": "markdown",
   "id": "fitted-sleeve",
   "metadata": {},
   "source": [
    "### === Task 4 === \n",
    "\n",
    "1. Given height = 5, perform a for loop and print\n",
    "   <code>\n",
    "   *\n",
    "   **\n",
    "   ***\n",
    "   ****\n",
    "   *****\n",
    "   </code>\n",
    "\n",
    "2. Given height = 5, perform a for loop and print\n",
    "   <code>\n",
    "   *****\n",
    "   ****\n",
    "   ***\n",
    "   **\n",
    "   *\n",
    "   </code>\n",
    "   \n",
    "3. Given height = 3, perform a for loop and print\n",
    "   <code>\n",
    "     *\n",
    "    ***\n",
    "   *****\n",
    "   </code>\n",
    "   \n",
    "4. Put the above code into a function def pyramid(height), with default height of 2"
   ]
  },
  {
   "cell_type": "code",
   "execution_count": 51,
   "id": "hawaiian-significance",
   "metadata": {},
   "outputs": [
    {
     "name": "stdout",
     "output_type": "stream",
     "text": [
      "Answer Q1: \n",
      "\n",
      "*\n",
      "**\n",
      "***\n",
      "****\n",
      "*****\n",
      "Answer Q2: \n",
      "\n",
      "*****\n",
      "****\n",
      "***\n",
      "**\n",
      "*\n",
      "Answer Q3: \n",
      "\n",
      "   *\n",
      "  ***\n",
      " *****\n",
      "Answer Q4: \n",
      "\n",
      "  *\n",
      " ***\n",
      "     *\n",
      "    ***\n",
      "   *****\n",
      "  *******\n",
      " *********\n"
     ]
    }
   ],
   "source": [
    "#====== 1 =======\n",
    "print(\"Answer Q1: \\n\")\n",
    "for i in range(1,6):\n",
    "    print(\"*\" * i)\n",
    "#====== 2 =======\n",
    "print(\"Answer Q2: \\n\")\n",
    "for i in range(5,0,-1):\n",
    "    print(\"*\" * i)\n",
    "#====== 3 =======\n",
    "print(\"Answer Q3: \\n\")    \n",
    "for i in range(0, 3):\n",
    "    for j in reversed(range(3-i)):\n",
    "        print(\" \", end='')\n",
    "    s = 2 * i + 1\n",
    "    print(\"*\" * s)\n",
    "#====== 4 =======\n",
    "print(\"Answer Q4: \\n\")\n",
    "def pyramid(h=2):\n",
    "    for i in range(0, h):\n",
    "        for j in reversed(range(h-i)):\n",
    "            print(\" \", end='')\n",
    "        s = 2 * i + 1\n",
    "        print(\"*\" * s)\n",
    "pyramid()\n",
    "pyramid(5)"
   ]
  },
  {
   "cell_type": "markdown",
   "id": "agreed-kazakhstan",
   "metadata": {},
   "source": [
    "5. Define a function <code>is_palindrome()</code> that recognizes palindromes (i.e. words that look the same written backwards). For example, <code>is_palindrome(\"radar\")</code> should return True.\n",
    "6. Create a function that removes duplicates from a given list\n",
    "7. Define a function <code>max()</code> that takes list of numbers as arguments and returns the largest of them.\n",
    "8. Generate a dictionary where the keys are numbers between 1 and 20 (both included) and the values are square of keys.\n",
    "9. Create a countdown clock that counts 3, 2, 1 and done! (hint: use <code>time.sleep(1)</code>)"
   ]
  },
  {
   "cell_type": "code",
   "execution_count": 56,
   "id": "beneficial-visibility",
   "metadata": {},
   "outputs": [
    {
     "name": "stdout",
     "output_type": "stream",
     "text": [
      "Answer Q5: \n",
      "\n",
      "True\n",
      "Answer Q6: \n",
      "\n",
      "['beau', 'fabby']\n",
      "Answer Q7: \n",
      "\n",
      "21\n",
      "Answer Q8: \n",
      "\n",
      "{1: 1, 2: 4, 3: 9, 4: 16, 5: 25, 6: 36, 7: 49, 8: 64, 9: 81, 10: 100, 11: 121, 12: 144, 13: 169, 14: 196, 15: 225, 16: 256, 17: 289, 18: 324, 19: 361, 20: 400}\n",
      "Answer Q9: \n",
      "\n",
      "3..2..1.."
     ]
    }
   ],
   "source": [
    "#====== 5 =======\n",
    "print(\"Answer Q5: \\n\") \n",
    "def is_palindrome(word):\n",
    "    rev_word = word[::-1]\n",
    "    if rev_word == word:\n",
    "        return True\n",
    "w = is_palindrome(\"radar\")\n",
    "print(w)\n",
    "#====== 6 =======\n",
    "print(\"Answer Q6: \\n\") \n",
    "l = [\"beau\", \"beau\", \"fabby\"]\n",
    "def rem_duplicate(list_):\n",
    "    return list(set(list_))\n",
    "rem_dup = rem_duplicate(l)\n",
    "print(rem_dup)\n",
    "#====== 7 =======\n",
    "print(\"Answer Q7: \\n\") \n",
    "l2 = [1,3,21,4,3]\n",
    "def max_elem(list):\n",
    "    return max(list)\n",
    "max_l2 = max_elem(l2)\n",
    "print(max_l2)\n",
    "#====== 8 =======\n",
    "print(\"Answer Q8: \\n\") \n",
    "dict1 = {k:k**2 for k in range(1,21)}\n",
    "print(dict1)\n",
    "#====== 9 =======\n",
    "print(\"Answer Q9: \\n\") \n",
    "import time\n",
    "def countdown(n):\n",
    "    for i in range(n,0,-1):\n",
    "        time.sleep(1)\n",
    "        print(f\"{i}..\", end='')\n",
    "countdown(3)"
   ]
  },
  {
   "cell_type": "markdown",
   "id": "interior-static",
   "metadata": {},
   "source": [
    "### ===Task===\n",
    "\n",
    "1. Create a class for Rectangle with function of setHeight(), setWidth(), and getArea().\n",
    "\n",
    "1. Create a class called `class rectangle()`. This class includes the following functions:\n",
    "\n",
    "- `__init__()` where height and width of your rectangle are initiated. \n",
    "- `setHeight()` and `setWidth()` which allow you to change height and width of your rectangle.\n",
    "- `getArea()` where the area of your rectangle is calculated."
   ]
  },
  {
   "cell_type": "code",
   "execution_count": 39,
   "id": "governing-medline",
   "metadata": {},
   "outputs": [],
   "source": [
    "class rectangle():\n",
    "    def __init__(self, h=2,w=1):\n",
    "        self.height = h\n",
    "        self.width = w\n",
    "        \n",
    "    def setHeight(self, n_h):\n",
    "        self.height = n_h\n",
    "        \n",
    "    def setWidth(self, n_w):\n",
    "        self.width = n_w\n",
    "        \n",
    "    def getArea(self):\n",
    "        return self.height * self.width\n"
   ]
  },
  {
   "cell_type": "code",
   "execution_count": 58,
   "id": "undefined-islam",
   "metadata": {},
   "outputs": [
    {
     "name": "stdout",
     "output_type": "stream",
     "text": [
      "Height:  5\n",
      "Width:  2\n",
      "Area:  10\n",
      "New Height:  3\n",
      "New Width:  2\n"
     ]
    },
    {
     "data": {
      "text/plain": [
       "6"
      ]
     },
     "execution_count": 58,
     "metadata": {},
     "output_type": "execute_result"
    }
   ],
   "source": [
    "rec = rectangle(5,2)\n",
    "print(\"Height: \",rec.height)\n",
    "print(\"Width: \",rec.width)\n",
    "print(\"Area: \",rec.getArea())\n",
    "rec.setHeight(3)\n",
    "print(\"New Height: \",rec.height)\n",
    "rec.setWidth(2)\n",
    "print(\"New Width: \",rec.width)\n",
    "rec.getArea()"
   ]
  },
  {
   "cell_type": "code",
   "execution_count": 61,
   "id": "exposed-shield",
   "metadata": {},
   "outputs": [
    {
     "name": "stdout",
     "output_type": "stream",
     "text": [
      "Default Height:  2\n",
      "Default Width:  1\n",
      "Default Area:  2\n"
     ]
    }
   ],
   "source": [
    "rec = rectangle()\n",
    "print(\"Default Height: \",rec.height)\n",
    "print(\"Default Width: \",rec.width)\n",
    "print(\"Default Area: \",rec.getArea())"
   ]
  }
 ],
 "metadata": {
  "kernelspec": {
   "display_name": "Python 3",
   "language": "python",
   "name": "python3"
  },
  "language_info": {
   "codemirror_mode": {
    "name": "ipython",
    "version": 3
   },
   "file_extension": ".py",
   "mimetype": "text/x-python",
   "name": "python",
   "nbconvert_exporter": "python",
   "pygments_lexer": "ipython3",
   "version": "3.6.9"
  }
 },
 "nbformat": 4,
 "nbformat_minor": 5
}
