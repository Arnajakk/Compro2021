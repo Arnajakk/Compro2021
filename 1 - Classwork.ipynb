{
 "cells": [
  {
   "cell_type": "markdown",
   "metadata": {},
   "source": [
    "# Exercise"
   ]
  },
  {
   "cell_type": "markdown",
   "metadata": {},
   "source": [
    "1. Define a function <code>is_palindrome()</code> that recognizes palindromes (i.e. words that look the same written backwards). For example, <code>is_palindrome(\"radar\")</code> should return True.\n",
    "\n",
    "\n",
    "2. Create a countdown clock that counts 3, 2, 1 and done! (hint: use <code>time.sleep(1)</code>)\n",
    "\n",
    "\n",
    "3. Create a function that removes duplicates from a given list\n",
    "\n",
    "\n",
    "4. Define a function <code>max()</code> that takes list of numbers as arguments and returns the largest of them.\n",
    "\n",
    "\n",
    "5. Define a function <code>summ()</code> and a function <code>multiply()</code> that sums and multiplies (respectively) all the numbers in a list of numbers. For example, <code>sum([1, 2, 3, 4])</code> should return 10, and <code>multiply([1, 2, 3, 4])</code> should return 24.\n",
    "\n",
    "\n",
    "6. Define a function <code>factorial()</code> that calculates the factorial of a number.\n",
    "\n",
    "\n",
    "7. Define a function <code>matrix()</code> that creates a matrix with N rows and M columns.\n",
    "\n",
    "\n",
    "8. Create a function <code>dot()</code> that calculates the dot product between the matrices a and b.\n",
    "\n",
    "\n",
    "9. Create a matrix $a$ with 5 rows and 10 columns and fill the positions of the matrix such that $a_{ij} = i^2 + j^2$"
   ]
  },
  {
   "cell_type": "markdown",
   "metadata": {},
   "source": [
    "# Solution"
   ]
  },
  {
   "cell_type": "code",
   "execution_count": 1,
   "metadata": {},
   "outputs": [
    {
     "name": "stdout",
     "output_type": "stream",
     "text": [
      "True\n",
      "False\n"
     ]
    }
   ],
   "source": [
    "#1\n",
    "def is_palindrome(word):\n",
    "    return word == word[::-1]\n",
    "\n",
    "print(is_palindrome(\"radar\"))\n",
    "print(is_palindrome(\"apple\"))"
   ]
  },
  {
   "cell_type": "code",
   "execution_count": 2,
   "metadata": {},
   "outputs": [
    {
     "name": "stdout",
     "output_type": "stream",
     "text": [
      "3...2...1...Go!\n"
     ]
    }
   ],
   "source": [
    "#2\n",
    "import time\n",
    "\n",
    "num_seconds = 3\n",
    "for countdown in reversed(range(num_seconds + 1)):\n",
    "    if countdown > 0:\n",
    "        print(countdown, end='...')\n",
    "        time.sleep(1)\n",
    "    else:\n",
    "        print('Go!')\n"
   ]
  },
  {
   "cell_type": "code",
   "execution_count": 3,
   "metadata": {},
   "outputs": [
    {
     "name": "stdout",
     "output_type": "stream",
     "text": [
      "[1, 2, 3, 4, 5, 6, 7, 8]\n",
      "[1, 2, 3, 4, 5, 6, 7, 8]\n"
     ]
    }
   ],
   "source": [
    "#3\n",
    "a = [1, 2, 2, 3, 3, 4, 5, 6, 7, 7, 8]\n",
    "new_list = []\n",
    "for num in a:\n",
    "    if num not in new_list:\n",
    "        new_list.append(num)\n",
    "\n",
    "print(new_list)\n",
    "\n",
    "#faster way - set returns a unique elements with type {set}, then typecast with list()\n",
    "print(list(set(a)))"
   ]
  },
  {
   "cell_type": "code",
   "execution_count": 4,
   "metadata": {},
   "outputs": [
    {
     "name": "stdout",
     "output_type": "stream",
     "text": [
      "3\n"
     ]
    }
   ],
   "source": [
    "#4\n",
    "a = [1, 2, 3]\n",
    "def max(some_list):\n",
    "    temp = 0\n",
    "    for num in some_list:\n",
    "        if num > temp:\n",
    "            temp = num\n",
    "    return temp\n",
    "            \n",
    "print(max(a))"
   ]
  },
  {
   "cell_type": "code",
   "execution_count": 5,
   "metadata": {},
   "outputs": [
    {
     "name": "stdout",
     "output_type": "stream",
     "text": [
      "10\n",
      "12\n"
     ]
    }
   ],
   "source": [
    "#5\n",
    "def summ(some_list):\n",
    "    total = 0\n",
    "    for num in some_list:\n",
    "        total += num\n",
    "    return total\n",
    "\n",
    "def multi(some_list):\n",
    "    total = 1\n",
    "    for num in some_list:\n",
    "        total *= num\n",
    "    return total\n",
    "\n",
    "print(summ([1, 2, 3, 4]))\n",
    "print(multi([3, 2, 2]))"
   ]
  },
  {
   "cell_type": "code",
   "execution_count": 6,
   "metadata": {},
   "outputs": [
    {
     "name": "stdout",
     "output_type": "stream",
     "text": [
      "24\n"
     ]
    }
   ],
   "source": [
    "#6\n",
    "def factorial(num):\n",
    "    if num == 0:\n",
    "        return 1\n",
    "    return factorial(num - 1) * num\n",
    "\n",
    "print(factorial(4))"
   ]
  },
  {
   "cell_type": "code",
   "execution_count": 7,
   "metadata": {},
   "outputs": [
    {
     "name": "stdout",
     "output_type": "stream",
     "text": [
      "[[0, 0], [0, 0], [0, 0], [0, 0], [0, 0], [0, 0], [0, 0], [0, 0]]\n"
     ]
    }
   ],
   "source": [
    "#7\n",
    "# Creates a list containing N lists, each of M items, all set to 0\n",
    "def matrix(N,M):\n",
    "    mat = [[0 for j in range(M)] for i in range(N)]\n",
    "    return mat\n",
    "\n",
    "print(matrix(8,2))"
   ]
  },
  {
   "cell_type": "code",
   "execution_count": 8,
   "metadata": {},
   "outputs": [
    {
     "name": "stdout",
     "output_type": "stream",
     "text": [
      "[[22, 28], [49, 64]]\n"
     ]
    }
   ],
   "source": [
    "#8\n",
    "#let's create arbitrary matrices\n",
    "a = [ [1, 2, 3], [4, 5, 6] ]  #2 x 3 | x1 * y1\n",
    "b = [ [1, 2], [3, 4], [5, 6] ]  #3 x 2 | x2 * y2\n",
    "\n",
    "#for a dot b possible, y1 == x2 otherwise errors\n",
    "#results will be x1 * y2\n",
    "\n",
    "def dot(a, b):\n",
    "    result = matrix(len(a), len(b[0]))  #define the shape of result\n",
    "    for i in range(len(a)):  #num of row of a\n",
    "        for j in range(len(b[0])):  #num of col of b\n",
    "            for k in range(len(b)):    #num of row of b\n",
    "                result[i][j] += a[i][k] * b[k][j]\n",
    "                \n",
    "    return result\n",
    "\n",
    "print(dot(a, b))"
   ]
  },
  {
   "cell_type": "code",
   "execution_count": 9,
   "metadata": {},
   "outputs": [
    {
     "name": "stdout",
     "output_type": "stream",
     "text": [
      "[[0, 1, 4, 9, 16, 25, 36, 49, 64, 81], [1, 2, 5, 10, 17, 26, 37, 50, 65, 82], [4, 5, 8, 13, 20, 29, 40, 53, 68, 85], [9, 10, 13, 18, 25, 34, 45, 58, 73, 90], [16, 17, 20, 25, 32, 41, 52, 65, 80, 97]]\n"
     ]
    }
   ],
   "source": [
    "#9\n",
    "a = matrix(5, 10)\n",
    "for i in range(len(a)):\n",
    "    for j in range(len(a[i])):\n",
    "        a[i][j] = i**2 + j**2\n",
    "print(a)"
   ]
  },
  {
   "cell_type": "code",
   "execution_count": null,
   "metadata": {},
   "outputs": [],
   "source": []
  }
 ],
 "metadata": {
  "kernelspec": {
   "display_name": "Python 3",
   "language": "python",
   "name": "python3"
  },
  "language_info": {
   "codemirror_mode": {
    "name": "ipython",
    "version": 3
   },
   "file_extension": ".py",
   "mimetype": "text/x-python",
   "name": "python",
   "nbconvert_exporter": "python",
   "pygments_lexer": "ipython3",
   "version": "3.6.9"
  }
 },
 "nbformat": 4,
 "nbformat_minor": 4
}
