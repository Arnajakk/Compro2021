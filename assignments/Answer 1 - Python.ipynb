{
 "metadata": {
  "language_info": {
   "codemirror_mode": {
    "name": "ipython",
    "version": 3
   },
   "file_extension": ".py",
   "mimetype": "text/x-python",
   "name": "python",
   "nbconvert_exporter": "python",
   "pygments_lexer": "ipython3",
   "version": 3
  },
  "orig_nbformat": 2,
  "kernelspec": {
   "name": "python_defaultSpec_1595842650756",
   "display_name": "Python 3.8.2 64-bit"
  }
 },
 "nbformat": 4,
 "nbformat_minor": 2,
 "cells": [
  {
   "cell_type": "markdown",
   "metadata": {},
   "source": [
    "# Assignment 1"
   ]
  },
  {
   "cell_type": "markdown",
   "metadata": {},
   "source": [
    "1. Define a function <code>is_palindrome()</code> that recognizes palindromes (i.e. words that look the same written backwards). For example, <code>is_palindrome(\"radar\")</code> should return True."
   ]
  },
  {
   "cell_type": "code",
   "execution_count": 18,
   "metadata": {
    "tags": []
   },
   "outputs": [
    {
     "output_type": "stream",
     "name": "stdout",
     "text": "True\nFalse\n"
    }
   ],
   "source": [
    "def is_palindrome(input):\n",
    "    return input == input[::-1]\n",
    "\n",
    "print(is_palindrome(\"radar\"))\n",
    "print(is_palindrome(\"apple\"))"
   ]
  },
  {
   "cell_type": "markdown",
   "metadata": {},
   "source": [
    "2. Create a countdown clock that counts 3, 2, 1 and done! (hint: use <code>time.sleep(1)</code>)"
   ]
  },
  {
   "cell_type": "code",
   "execution_count": 19,
   "metadata": {
    "tags": []
   },
   "outputs": [
    {
     "output_type": "stream",
     "name": "stdout",
     "text": "3...2...1...Go!\n"
    }
   ],
   "source": [
    "def countdown():\n",
    "    import time\n",
    "    num_seconds = 3\n",
    "    for countdown in reversed(range(num_seconds + 1)):\n",
    "        if countdown > 0:\n",
    "            print(countdown, end='...')\n",
    "            time.sleep(1)\n",
    "        else:\n",
    "            print('Go!')\n",
    "countdown()"
   ]
  },
  {
   "cell_type": "markdown",
   "metadata": {},
   "source": [
    "3. Create a function that removes duplicates from a given list"
   ]
  },
  {
   "cell_type": "code",
   "execution_count": 20,
   "metadata": {
    "tags": []
   },
   "outputs": [
    {
     "output_type": "stream",
     "name": "stdout",
     "text": "[1, 2, 3, 4, 5, 6, 7, 8]\n[1, 2, 3, 4, 5, 6, 7, 8]\n"
    }
   ],
   "source": [
    "def removeDuplicates(input: list):\n",
    "    if not isinstance(input, list):\n",
    "        raise ValueError(f\"{input} is not a type of list.\")\n",
    "\n",
    "    new_list = []\n",
    "    for num in input:\n",
    "        if num not in new_list:\n",
    "            new_list.append(num)\n",
    "    return new_list\n",
    "\n",
    "a = [1, 2, 2, 3, 3, 4, 5, 6, 7, 7, 8]\n",
    "print(removeDuplicates(a))\n",
    "\n",
    "#faster way - set returns a unique elements with type {set}, then typecast with list()\n",
    "print(list(set(a)))"
   ]
  },
  {
   "cell_type": "markdown",
   "metadata": {},
   "source": [
    "4. Define a function <code>max()</code> that takes list of numbers as arguments and returns the largest of them."
   ]
  },
  {
   "cell_type": "code",
   "execution_count": 21,
   "metadata": {},
   "outputs": [
    {
     "output_type": "execute_result",
     "data": {
      "text/plain": "3"
     },
     "metadata": {},
     "execution_count": 21
    }
   ],
   "source": [
    "def max(input: list):\n",
    "    if not isinstance(input, list):\n",
    "        raise ValueError(f\"{input} is not a type of list.\")\n",
    "    temp = 0\n",
    "    for num in input:\n",
    "        if num > temp:\n",
    "            temp = num\n",
    "    return temp\n",
    "\n",
    "a = [1, 2, 3]\n",
    "max(a)"
   ]
  },
  {
   "cell_type": "markdown",
   "metadata": {},
   "source": [
    "5. Define a function <code>sum()</code> and a function <code>multiply()</code> that sums and multiplies (respectively) all the numbers in a list of numbers. For example, <code>sum([1, 2, 3, 4])</code> should return 10, and <code>multiply([1, 2, 3, 4])</code> should return 24."
   ]
  },
  {
   "cell_type": "code",
   "execution_count": 22,
   "metadata": {
    "tags": []
   },
   "outputs": [
    {
     "output_type": "stream",
     "name": "stdout",
     "text": "10\n12\n"
    }
   ],
   "source": [
    "def sum(input: list):\n",
    "    if not isinstance(input, list):\n",
    "        raise ValueError(f\"{input} is not a type of list.\")\n",
    "    total = 0\n",
    "    for num in input:\n",
    "        total += num\n",
    "    return total\n",
    "\n",
    "def multiply(input: list):\n",
    "    if not isinstance(input, list):\n",
    "        raise ValueError(f\"{input} is not a type of list.\")\n",
    "    total = 1\n",
    "    for num in input:\n",
    "        total *= num\n",
    "    return total\n",
    "\n",
    "print(sum([1, 2, 3, 4]))\n",
    "print(multiply([3, 2, 2]))"
   ]
  },
  {
   "cell_type": "markdown",
   "metadata": {},
   "source": [
    "6. Define a function <code>factorial()</code> that calculates the factorial of a number."
   ]
  },
  {
   "cell_type": "code",
   "execution_count": 23,
   "metadata": {
    "tags": []
   },
   "outputs": [
    {
     "output_type": "stream",
     "name": "stdout",
     "text": "24\n"
    }
   ],
   "source": [
    "def factorial(input):\n",
    "    if input == 0:\n",
    "        return 1\n",
    "    return factorial(input - 1) * input\n",
    "\n",
    "print(factorial(4))"
   ]
  },
  {
   "cell_type": "markdown",
   "metadata": {},
   "source": [
    "7. Define a function <code>matrix()</code> that creates a matrix with n rows and m columns."
   ]
  },
  {
   "cell_type": "code",
   "execution_count": 24,
   "metadata": {
    "tags": []
   },
   "outputs": [
    {
     "output_type": "stream",
     "name": "stdout",
     "text": "[[0, 0], [0, 0], [0, 0], [0, 0], [0, 0], [0, 0], [0, 0], [0, 0]]\n"
    }
   ],
   "source": [
    "def matrix(n,m):\n",
    "    mat = [[0 for j in range(m)] for i in range(n)]\n",
    "    return mat\n",
    "\n",
    "print(matrix(8,2))"
   ]
  },
  {
   "cell_type": "markdown",
   "metadata": {},
   "source": [
    "8. Create a function <code>dot()</code> that calculates the dot product between the matrices A and B."
   ]
  },
  {
   "cell_type": "code",
   "execution_count": 25,
   "metadata": {
    "tags": []
   },
   "outputs": [
    {
     "output_type": "stream",
     "name": "stdout",
     "text": "[[22, 28], [49, 64]]\n"
    }
   ],
   "source": [
    "def dot(A,B):\n",
    "    result = matrix(len(A), len(B[0]))  #define the shape of result\n",
    "    for i in range(len(A)):  #num of row of A\n",
    "        for j in range(len(B[0])):  #num of col of B\n",
    "            for k in range(len(B)):    #num of row of B\n",
    "                result[i][j] += A[i][k] * B[k][j]\n",
    "                \n",
    "    return result\n",
    "\n",
    "#let's create arbitrary matrices\n",
    "A = [ [1, 2, 3], [4, 5, 6] ]  #2 x 3 | x1 * y1\n",
    "B = [ [1, 2], [3, 4], [5, 6] ]  #3 x 2 | x2 * y2\n",
    "\n",
    "print(dot(A, B))"
   ]
  },
  {
   "cell_type": "markdown",
   "metadata": {},
   "source": [
    "9. Create a matrix $a$ with 5 rows and 10 columns and fill the positions of the matrix such that $a_{ij} = i^2 + j^2$"
   ]
  },
  {
   "cell_type": "code",
   "execution_count": 26,
   "metadata": {
    "tags": []
   },
   "outputs": [
    {
     "output_type": "stream",
     "name": "stdout",
     "text": "[[0, 1, 4, 9, 16, 25, 36, 49, 64, 81], [1, 2, 5, 10, 17, 26, 37, 50, 65, 82], [4, 5, 8, 13, 20, 29, 40, 53, 68, 85], [9, 10, 13, 18, 25, 34, 45, 58, 73, 90], [16, 17, 20, 25, 32, 41, 52, 65, 80, 97]]\n"
    }
   ],
   "source": [
    "def answer_9():\n",
    "    a = matrix(5, 10)\n",
    "    for i in range(len(a)):\n",
    "        for j in range(len(a[i])):\n",
    "            a[i][j] = i**2 + j**2\n",
    "    print(a)\n",
    "\n",
    "answer_9()"
   ]
  }
 ]
}