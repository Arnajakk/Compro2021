{
 "cells": [
  {
   "cell_type": "markdown",
   "metadata": {},
   "source": [
    "## Mini Project- HR\n",
    "\n",
    "- Load the HRDataset from the resources folder\n",
    "- Here probably the inspiration is to understand and improve your organizational management based on the given data of human resources.\n",
    "- Here is probably some of the questions you may want to answer:\n",
    "    - Is there any relationship between who a person works for and their performance score?\n",
    "    - What is the overall diversity profile of the organization?\n",
    "    - What are our best recruiting sources if we want to ensure a diverse organization?\n",
    "    - Can we predict who is going to terminate and who isn't? What level of accuracy can we achieve on this?\n",
    "    - Are there areas of the company where pay is not equitable?\n",
    "    \n",
    "Good luck and enjoy thinking, learning, and coding!"
   ]
  },
  {
   "cell_type": "code",
   "execution_count": null,
   "metadata": {},
   "outputs": [],
   "source": []
  }
 ],
 "metadata": {
  "kernelspec": {
   "display_name": "Python 3",
   "language": "python",
   "name": "python3"
  },
  "language_info": {
   "codemirror_mode": {
    "name": "ipython",
    "version": 3
   },
   "file_extension": ".py",
   "mimetype": "text/x-python",
   "name": "python",
   "nbconvert_exporter": "python",
   "pygments_lexer": "ipython3",
   "version": "3.7.7"
  }
 },
 "nbformat": 4,
 "nbformat_minor": 4
}
