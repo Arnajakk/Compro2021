{
 "cells": [
  {
   "cell_type": "markdown",
   "metadata": {},
   "source": [
    "Modify the Gradient Boosting scratch code in our lecture such that:\n",
    "- Notice that we are still using max_depth = 1.  Attempt to tweak min_samples_split, max_depth for the regression and see whether we can achieve better mse on our boston data\n",
    "- Notice that we only write scratch code for gradient boosting for regression, add some code so that it also works for binary classification.  Load the breast cancer data from sklearn and see that it works.\n",
    "- Further change the code so that it works for multiclass classification.  Load the digits data from sklearn and see that it works\n",
    "- Put everything into class"
   ]
  },
  {
   "cell_type": "code",
   "execution_count": 90,
   "metadata": {},
   "outputs": [],
   "source": [
    "from scipy.special import expit\n",
    "from sklearn.tree import DecisionTreeRegressor\n",
    "from sklearn.dummy import DummyRegressor\n",
    "from sklearn.ensemble import GradientBoostingRegressor\n",
    "from sklearn.model_selection import train_test_split\n",
    "from sklearn.datasets import load_digits\n",
    "import numpy as np"
   ]
  },
  {
   "cell_type": "code",
   "execution_count": 91,
   "metadata": {},
   "outputs": [],
   "source": [
    "from sklearn.datasets import load_boston\n",
    "from sklearn.metrics import mean_squared_error"
   ]
  },
  {
   "cell_type": "code",
   "execution_count": 92,
   "metadata": {},
   "outputs": [],
   "source": [
    "X, y = load_boston(return_X_y=True)\n",
    "X_train, X_test, y_train, y_test = train_test_split(X, y, \n",
    "                        test_size=0.3, random_state=42)"
   ]
  },
  {
   "cell_type": "code",
   "execution_count": 93,
   "metadata": {},
   "outputs": [],
   "source": [
    "class GradientBoosting:\n",
    "    \n",
    "    def __init__(self,n_estimators,max_depth,min_samples_split,regression = False):\n",
    "        self.n_estimators = n_estimators\n",
    "        self.max_depth = max_depth\n",
    "        self.min_samples_split= min_samples_split\n",
    "        self.regression=regression\n",
    "        tree_params = {'max_depth': self.max_depth,'min_samples_split': self.min_samples_split}\n",
    "        self.models = [DecisionTreeRegressor(**tree_params) for _ in range(self.n_estimators)]\n",
    "    \n",
    "    def grad(self,y, h):\n",
    "        return y - h\n",
    "\n",
    "    def fit(self,X, y):\n",
    "\n",
    "        self.models_trained = []\n",
    "\n",
    "        #using DummyRegressor is a good technique for starting model\n",
    "        first_model = DummyRegressor(strategy='mean')\n",
    "        first_model.fit(X, y)\n",
    "        \n",
    "        self.models_trained.append(first_model)\n",
    "\n",
    "        #fit the estimators\n",
    "        for i, model in enumerate(self.models):\n",
    "            #predict using all the weak learners we trained up to\n",
    "            #this point\n",
    "            y_pred = self.pred(X,argmax = False)\n",
    "\n",
    "            #errors will be the total errors maded by models_trained\n",
    "            residual = self.grad(y, y_pred)\n",
    "\n",
    "            #fit the next model with residual\n",
    "            model.fit(X, residual)\n",
    "\n",
    "            self.models_trained.append(model)\n",
    "\n",
    "    def softmax(self,theta_t_x):\n",
    "        return np.exp(theta_t_x) / np.sum(np.exp(theta_t_x), axis=1, keepdims=True)\n",
    "\n",
    "    def pred(self,X,argmax = True):\n",
    "        models = self.models_trained\n",
    "        learning_rate = 0.1  ##hard code for now\n",
    "        f0 = models[0].predict(X)  #first use the dummy model\n",
    "        boosting = sum(learning_rate * model.predict(X) for model in models[1:])\n",
    "        yhat = f0 + boosting\n",
    "        \n",
    "        if self.regression:\n",
    "            yhat = self.softmax(yhat)\n",
    "            \n",
    "            if argmax:\n",
    "                yhat = np.argmax(yhat, axis=1)\n",
    "            \n",
    "        return yhat"
   ]
  },
  {
   "cell_type": "code",
   "execution_count": 94,
   "metadata": {},
   "outputs": [
    {
     "name": "stdout",
     "output_type": "stream",
     "text": [
      "Our MSE:  7.7006643758730515\n"
     ]
    }
   ],
   "source": [
    "models = GradientBoosting(n_estimators=200,max_depth=3,min_samples_split=2)\n",
    "models.fit(X_train, y_train)\n",
    "y_pred = models.pred(X_test)\n",
    "\n",
    "#print metrics\n",
    "print(\"Our MSE: \", mean_squared_error(y_test, y_pred))"
   ]
  },
  {
   "cell_type": "code",
   "execution_count": 95,
   "metadata": {},
   "outputs": [],
   "source": [
    "from sklearn.datasets import load_breast_cancer\n",
    "X, y = load_breast_cancer(return_X_y=True)\n",
    "\n",
    "X_train, X_test, y_train, y_test = \\\n",
    "        train_test_split(X, y, test_size=0.3, random_state=42)\n",
    "y_train_encoded = np.zeros((y_train.shape[0], len(set(y))))\n",
    "for each_class in range(len(set(y))):\n",
    "    cond = y_train==each_class\n",
    "    y_train_encoded[np.where(cond), each_class] = 1"
   ]
  },
  {
   "cell_type": "code",
   "execution_count": 96,
   "metadata": {},
   "outputs": [
    {
     "name": "stdout",
     "output_type": "stream",
     "text": [
      "Our accuracy:  0.9649122807017544\n"
     ]
    }
   ],
   "source": [
    "models = GradientBoosting(n_estimators=200,max_depth=3,min_samples_split=2,regression = True)\n",
    "models.fit(X_train, y_train_encoded)\n",
    "yhat = models.pred(X_test)\n",
    "\n",
    "#print metrics\n",
    "from sklearn.metrics import accuracy_score\n",
    "print(\"Our accuracy: \", accuracy_score(y_test, yhat))"
   ]
  },
  {
   "cell_type": "code",
   "execution_count": 97,
   "metadata": {},
   "outputs": [],
   "source": [
    "from sklearn.datasets import load_iris\n",
    "from sklearn.metrics import accuracy_score\n",
    "from sklearn.ensemble import GradientBoostingClassifier\n",
    "\n",
    "X, y = load_digits(return_X_y=True)\n",
    "\n",
    "X_train, X_test, y_train, y_test = train_test_split(X, y, test_size=0.3, random_state=42)\n",
    "y_train_encoded = np.zeros((y_train.shape[0], len(set(y))))\n",
    "for each_class in range(len(set(y))):\n",
    "    cond = y_train==each_class\n",
    "    y_train_encoded[np.where(cond), each_class] = 1"
   ]
  },
  {
   "cell_type": "code",
   "execution_count": 98,
   "metadata": {},
   "outputs": [
    {
     "name": "stdout",
     "output_type": "stream",
     "text": [
      "Our accuracy:  0.9314814814814815\n"
     ]
    }
   ],
   "source": [
    "models = GradientBoosting(n_estimators=200,max_depth=3,min_samples_split=2,regression = True)\n",
    "models.fit(X_train, y_train_encoded)\n",
    "yhat = models.pred(X_test)\n",
    "\n",
    "from sklearn.metrics import accuracy_score\n",
    "print(\"Our accuracy: \", accuracy_score(y_test, yhat))"
   ]
  }
 ],
 "metadata": {
  "kernelspec": {
   "display_name": "Python 3",
   "language": "python",
   "name": "python3"
  },
  "language_info": {
   "codemirror_mode": {
    "name": "ipython",
    "version": 3
   },
   "file_extension": ".py",
   "mimetype": "text/x-python",
   "name": "python",
   "nbconvert_exporter": "python",
   "pygments_lexer": "ipython3",
   "version": "3.8.3"
  }
 },
 "nbformat": 4,
 "nbformat_minor": 4
}
