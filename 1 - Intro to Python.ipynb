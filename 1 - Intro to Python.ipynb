{
 "cells": [
  {
   "cell_type": "markdown",
   "metadata": {},
   "source": [
    "# Programming for Data Science and Artificial Intelligence\n",
    "\n",
    "## 1: Introduction to Python programming"
   ]
  },
  {
   "cell_type": "markdown",
   "metadata": {},
   "source": [
    "## How the course will be run"
   ]
  },
  {
   "cell_type": "raw",
   "metadata": {},
   "source": [
    "* All materials can be found on my Github - https://github.com/chaklam-silpasuwanchai/.  If you forget, you can also get the link from chaklam.com\n",
    "\n",
    "* I use python3 as interpreter.  For editors, you can always use anything, jupyter notebook, pycharm, VS, or more lightweight like sublime\n",
    "\n",
    "* We will be using a lot of modules that may not be pre-built in python, so I assume you know how to use pip to install missing modules.   I also assume you use linux systems since I have no experience in Windows :)\n",
    "\n",
    "* Highly recommend to use venv to setup your python environment, before installing python modules.  If you do not know how and what is venv, read this.  https://docs.python.org/3/library/venv\n",
    "\n",
    "* Very practical course.  Intermediate level (no entry basics). Could be extremely difficult for those without any programming experience, but I urge you to keep practicing, and do not give up.\n",
    "\n",
    "*Lecture for 1 hour, and then classwork after.  No limit to when the class ends, but I shall wait for the last person.  Need to submit right after the class.  You can stay how long you want.  Take-home assignment will also be provided.  Most homeworks are research-focused and required you to do some research before you can actually do - e.g., getting the math formula\n",
    "\n",
    "* Does not require you to code exactly like mine.  There are zillion ways of programming python to achieve the same thing.  That's the beauty of python!  But of course, I would prefer you writing in a pythonic way (i.e., using list comprehension)\n",
    "\n",
    "*Submit your classwork and homework on Google classroom.   You ARE NOT ALLOWED TO COPY my solution, or your friend solution.  Both copier and copee shall be given zero without any questionning - I simply do not accept any excuse - so be very careful.    All homework will be deducted 50% after the due date, and 100% after next homework due date.\n",
    "\n",
    "* I will open online discussion on the Google Classroom as well - do not forget to ask or reply - there are points!  \n",
    "\n",
    "* Mid-term and final will be open book, open internet but should be challenging enough for you to take your whole 2-3 hours time\n",
    "\n",
    "* Project will be conducted in the area of **\"Health and AI\"**, given this is one of the top reserach milestone of AIT. Scores will be judged according to the technical challenge and paper quality. \n",
    "    I am personally interested in\n",
    "      - Real-Time Emotion Recognition using EEG\n",
    "      - Generative Adversarial Networks of EEG to Audio/Visual Form\n",
    "      - Unsupervised P300 Spellers using EEG\n",
    "      - Reinforcement Learning\n",
    "      - Transfer/Adaptive Learning\n",
    "   I AM NOT interested in\n",
    "      - Linear regression, classification, or simple deep neural \n",
    "        network on some datasets\n",
    "   Deliverables include\n",
    "       - Paper writing in IEEE format, which should include Introduction, Related Work (at least 15 papers review), Implementation, Evaluation, Discussion and Conclusion  (Will be conducted in several phases).  Recommend using latex format\n",
    "       - Python code\n",
    "       - PPT Presentation (present one week before the final exam)\n",
    "       - Team of two people\n",
    "\n",
    "* Percentage:  Midterm: 25, Final: 35, Project 20, Assignment 10, Online Participation/Discussion 10\n",
    "\n",
    "*Curve-based grade criteri"
   ]
  },
  {
   "cell_type": "markdown",
   "metadata": {},
   "source": [
    "## (Really) Crash-course on python basics "
   ]
  },
  {
   "cell_type": "raw",
   "metadata": {},
   "source": [
    "* Python code is usually stored in text files with the file ending \"`.py`\":\n",
    "\n",
    "        myprogram.py\n",
    "\n",
    "* Comments are made using `#` for single line or `'''` for multiline \n",
    "\n",
    "* To run our Python program from the command line we use:\n",
    "\n",
    "        $ python myprogram.py\n",
    "\n",
    "* On UNIX systems it is common to define the path to the interpreter on the first line of the program (note that this is a comment line as far as the Python interpreter is concerned):\n",
    "\n",
    "        #!/usr/bin/env python\n",
    "\n",
    "  If we do, and if we additionally set the file script to be executable, we can run the program like this:\n",
    "\n",
    "        $ myprogram.py\n",
    "        \n",
    "* This file - an IPython notebook, ending with .ipynb -  does not follow the standard pattern with Python code in a text file. Instead, an IPython notebook is stored as a file in the [JSON](http://en.wikipedia.org/wiki/JSON) format. The advantage is that we can mix formatted text, Python code and code output. It requires the IPython notebook server to run it though, and therefore isn't a stand-alone Python program as described above. Other than that, there is no difference between the Python code that goes into a program file or an IPython notebook.   \n",
    "\n",
    "* ipython notebook is good for demonstrating, but I personally prefer .py files as it's slightly faster.  But anyhow, since we want to combine teaching with python, notebook seems to be the right platform\n",
    "\n",
    "* Most of the functionality in Python is provided by *modules*. The Python Standard Library is a large collection of modules that provides *cross-platform* implementations of common facilities such as access to the operating system, file I/O, string management, network communication, and much more.  To use a module in a Python program it first has to be imported. A module can be imported using the `import` statement. For example, to import the module `math`, which contains many standard mathematical functions, we can do:"
   ]
  },
  {
   "cell_type": "markdown",
   "metadata": {},
   "source": [
    "### Help and importing"
   ]
  },
  {
   "cell_type": "code",
   "execution_count": 1,
   "metadata": {},
   "outputs": [
    {
     "name": "stdout",
     "output_type": "stream",
     "text": [
      "['__doc__', '__loader__', '__name__', '__package__', '__spec__', 'acos', 'acosh', 'asin', 'asinh', 'atan', 'atan2', 'atanh', 'ceil', 'copysign', 'cos', 'cosh', 'degrees', 'e', 'erf', 'erfc', 'exp', 'expm1', 'fabs', 'factorial', 'floor', 'fmod', 'frexp', 'fsum', 'gamma', 'gcd', 'hypot', 'inf', 'isclose', 'isfinite', 'isinf', 'isnan', 'ldexp', 'lgamma', 'log', 'log10', 'log1p', 'log2', 'modf', 'nan', 'pi', 'pow', 'radians', 'sin', 'sinh', 'sqrt', 'tan', 'tanh', 'tau', 'trunc']\n",
      "\n",
      "\n",
      "\n",
      "Help on built-in function log in module math:\n",
      "\n",
      "log(...)\n",
      "    log(x[, base])\n",
      "    \n",
      "    Return the logarithm of x to the given base.\n",
      "    If the base not specified, returns the natural logarithm (base e) of x.\n",
      "\n",
      "log(10):  2.302585092994046\n",
      "log(10, 2):  3.3219280948873626\n"
     ]
    }
   ],
   "source": [
    "import math\n",
    "from math import log\n",
    "\n",
    "print(dir(math))   #list all possible methods\n",
    "print(\"\\n\\n\")\n",
    "help(math.log)  #show build-in function method  #try help(math)  but is very long!\n",
    "print(\"log(10): \", log(10))  #support default parameter, here is base e\n",
    "print(\"log(10, 2): \", log(10, 2))  #specified parameter, here is base 2"
   ]
  },
  {
   "cell_type": "markdown",
   "metadata": {},
   "source": [
    "### Basics"
   ]
  },
  {
   "cell_type": "code",
   "execution_count": 2,
   "metadata": {},
   "outputs": [
    {
     "name": "stdout",
     "output_type": "stream",
     "text": [
      "X with newline: \n",
      " 1.0\n",
      "X with .format: 1.0\n",
      "X using f-string with 1.0\n",
      "User/Desktop/Home\n",
      "Hello World\n",
      "\\n is used for newline\n",
      "\"Hi\n",
      "C style printing = 1.000000\n",
      "Casting with c style:  value1= 3.14. value2 = 1\n",
      "hello with +: hello\n",
      "hello with f-string: hello\n",
      "X + 3 with int():  4.0\n",
      "3 with string using str():  <class 'str'>\n",
      "Is a boolean:  True\n",
      "Is a2 int:  True\n",
      "<class 'bool'>\n",
      "<class 'int'>\n",
      "a is True\n",
      "a2 is True\n",
      "b is False\n",
      "b2 is False\n",
      "True and False:  False\n",
      "True or False:  True\n",
      "Not False:  True\n",
      "Not 0:  True\n",
      "float + int  <class 'float'>\n",
      "int + int <class 'int'>\n",
      "3+3 --> 6\n",
      "3/3 --> 1.0\n",
      "4 // 3 --> 1\n",
      "4 mod 3 --> 1\n",
      "4 ^ 2 --> 16\n",
      "Complex num: <class 'complex'> , real: 1.0, imag: -1.0\n",
      "Without math.  1.0\n"
     ]
    }
   ],
   "source": [
    "import math\n",
    "\n",
    "#function is enclosed with () and is called by .\n",
    "#variables are dynamic typed\n",
    "x = math.cos(2 * math.pi)  #math.pi is a variable thus there is no ()\n",
    "hello = \"hello\"  #declare string\n",
    "hello2 = 'hello2' #single quote also fine\n",
    "string_3 = '3'  #this three is a string\n",
    "\n",
    "#many ways to print\n",
    "print(\"X with newline: \\n\", x)  #comma for variable, \\n for newline\n",
    "print(\"X with .format: {}\".format(x))  #.format for inserting variable at particular position\n",
    "print(f\"X using f-string with {x}\")  #good for not forgetting to write comma, .format\n",
    "print(\"User\", \"Desktop\", \"Home\", sep=\"/\") #with separator\n",
    "print(\"Hello\", end='')  #disable newline\n",
    "print(\" World\")\n",
    "print(r\"\\n is used for newline\")  #use r-string for raw; useful for regular expressions\n",
    "print(\"\\\"Hi\")  #use \\ to escape \"\n",
    "print(\"C style printing = %f\" % 1.0)  #C-style; %s for string, %f for float, %d for int\n",
    "print(\"Casting with c style:  value1= %.2f. value2 = %d\" % (3.1415, 1.5))\n",
    "\n",
    "#strings\n",
    "print(\"hello with +: \" + hello)   #concatentation can only be used with string\n",
    "print(f\"hello with f-string: {hello}\")\n",
    "#print(\"X: \" + x)  #this will raise errors\n",
    "#print(\"X + 3: \", x + string_3)  #this will raise errors\n",
    "print(\"X + 3 with int(): \", x + int(string_3)) #use int() to convert to string\n",
    "print(\"3 with string using str(): \", type(str(int(string_3))))  #use str to convert back to string, use type() to check type \n",
    "\n",
    "#boolean, can use either Boolean or int\n",
    "a = True\n",
    "a2 = 10  #anything digit not 0 is count as True\n",
    "b = False\n",
    "b2 = 0\n",
    "print(\"Is a boolean: \", type(a) is bool)\n",
    "print(\"Is a2 int: \", isinstance(a2, int))\n",
    "print(type(b))\n",
    "print(type(b2))\n",
    "\n",
    "if(a):\n",
    "    print(\"a is True\")  #no use of {}, should have equal indentation\n",
    "if(a2):\n",
    "    print(\"a2 is True\")\n",
    "if not(b):\n",
    "    print(\"b is False\")\n",
    "if not(b2):\n",
    "    print(\"b2 is False\")\n",
    "    \n",
    "print(\"True and False: \", True and False)\n",
    "print(\"True or False: \", True or False)\n",
    "print(\"Not False: \", not False)\n",
    "print(\"Not 0: \", not 0)\n",
    "\n",
    "#float + int = float\n",
    "#int + int = int\n",
    "#int/float + string = error\n",
    "print(\"float + int \", type(float(3) + int(3)))\n",
    "print(\"int + int\", type(int(3) + int(3)))\n",
    "#print(\"string + int\", type(str(3) + int(3))) #error\n",
    "\n",
    "#math operations\n",
    "print(\"3+3 -->\", 3 + 3)\n",
    "print(\"3/3 -->\", 3 / 3)\n",
    "print(\"4 // 3 -->\", 4 // 3)  #integer division\n",
    "print(\"4 mod 3 -->\", 4 % 3)  #modulo\n",
    "print(\"4 ^ 2 -->\", 4 ** 2) #power\n",
    "x = 1.0 - 1.0j\n",
    "print(f\"Complex num: {type(x)} , real: {x.real}, imag: {x.imag}\") #complex\n",
    "\n",
    "#if we do not want to write math.cos, we can import cos\n",
    "from math import cos\n",
    "print(\"Without math. \", cos(2* math.pi))"
   ]
  },
  {
   "cell_type": "markdown",
   "metadata": {},
   "source": [
    "### Variable convention"
   ]
  },
  {
   "cell_type": "raw",
   "metadata": {},
   "source": [
    "Variable names in Python can contain alphanumerical characters `a-z`, `A-Z`, `0-9` and some special characters such as `_`. Normal variable names must start with a letter. \n",
    "\n",
    "By convention, variable names start with a lower-case letter, and Class names start with a capital letter. "
   ]
  },
  {
   "cell_type": "code",
   "execution_count": 3,
   "metadata": {},
   "outputs": [],
   "source": [
    "a, b = 1, 2  #small letters for variables\n",
    "PI = 3.14  #it's good practice to use all-caps for constants\n",
    "#and = 1  #python keyword such as \"and\" cannot be used as variable name"
   ]
  },
  {
   "cell_type": "markdown",
   "metadata": {},
   "source": [
    "### Comparison"
   ]
  },
  {
   "cell_type": "code",
   "execution_count": 4,
   "metadata": {},
   "outputs": [
    {
     "data": {
      "text/plain": [
       "(True, False, False, False, True, True, True)"
      ]
     },
     "execution_count": 4,
     "metadata": {},
     "output_type": "execute_result"
    }
   ],
   "source": [
    "2 > 1, 2 < 1, 2 > 2, 2 < 2, 2 >= 2, 2 <= 2, [1,2] == [1,2]"
   ]
  },
  {
   "cell_type": "code",
   "execution_count": 5,
   "metadata": {},
   "outputs": [
    {
     "data": {
      "text/plain": [
       "True"
      ]
     },
     "execution_count": 5,
     "metadata": {},
     "output_type": "execute_result"
    }
   ],
   "source": [
    "# objects identical?\n",
    "l1 = l2 = [1,2]\n",
    "\n",
    "l1 is l2"
   ]
  },
  {
   "cell_type": "markdown",
   "metadata": {},
   "source": [
    "### List and Strings"
   ]
  },
  {
   "cell_type": "code",
   "execution_count": 6,
   "metadata": {},
   "outputs": [
    {
     "name": "stdout",
     "output_type": "stream",
     "text": [
      "Length:  13\n",
      "string[0]:  S\n",
      "string[0:2]:  St\n",
      "string[:3]:  Str\n",
      "string[3:]:  ing is fun\n",
      "string[:]:  String is fun\n",
      "string[-2:]:  un\n",
      "string[-0:]:  String is fun\n",
      "string[::2]:  Srn sfn\n",
      "string[1::2]:  Srn\n",
      "Replace ing with ange:  Strange is fun\n",
      "L1:  [1, [2, 3], [4, 5], [[6, 7], 8]]\n",
      "Length of L1:  4\n",
      "l1[3][1]:  8\n",
      "Range [0, 1, 2, 3, 4, 5, 6, 7, 8, 9]\n",
      "With step 2 [1, 3, 5, 7, 9]\n",
      "With start -10:  [-5, -4, -3, -2, -1, 0, 1, 2, 3, 4]\n",
      "5 zeros:  [0, 0, 0, 0, 0]\n",
      "A append b [1, 2, [3]]\n",
      "A extend b [1, 2, [3], 3]\n",
      "A append c [1, 2, [3], 3, 3]\n",
      "Changing value at index 0 to 0:  [0, 2, 3]\n",
      "Changing using slicing method:  [5, 6, 3]\n",
      "Index of 1:  0\n",
      "Comparing copy and original:  False\n",
      "Insert:  insert\n",
      "l removing i ['n', 's', 'e', 'r', 't']\n",
      "l removing index 0 ['s', 'e', 'r', 't']\n",
      "Sorted [3, 19, 5]:  [3, 5, 19]\n",
      "Sorted ['Car', 'Apple', 'Boy']:  ['Apple', 'Boy', 'Car']\n",
      "Reverse:  None ['Car', 'Boy', 'Apple']\n",
      "A.insert(1,4) [3, 4, 5, 19]\n",
      "3 in a? True\n",
      "99 in a? True\n",
      "I:  0\n",
      "I:  1\n",
      "I:  2\n",
      "I:  3\n",
      "I:  4\n",
      "I:  5\n",
      "I:  6\n",
      "I:  7\n",
      "I:  8\n",
      "I:  9\n",
      "8\n",
      "9\n",
      "10\n",
      "8\n",
      "9\n",
      "10\n",
      "Index: 0; value: 8\n",
      "Index: 1; value: 9\n",
      "Index: 2; value: 10\n",
      "Some random list:  [5, 10, 2, 8, 8, 10, 1, 8, 3, 1]\n",
      "Suffled list:  [8, 2, 7, 3, 6, 5, 4, 0, 9, 1]\n",
      "Sampled 3 from a list:  [5, 1, 4]\n",
      "Choose 1 randomly from a list:  0\n",
      "Random choice to put in your algorithm:  fridge\n",
      "All possible permuations:  [('1', '2', '3'), ('1', '3', '2'), ('2', '1', '3'), ('2', '3', '1'), ('3', '1', '2'), ('3', '2', '1')]\n",
      "All possible pairs, ordered-sensitive:  [('1', '2'), ('1', '3'), ('2', '1'), ('2', '3'), ('3', '1'), ('3', '2')]\n",
      "All possible pairs, not ordered-sensitive:  [('1', '2'), ('1', '3'), ('2', '3')]\n",
      "[2, 3, 4]\n",
      "[3, 4, 5]\n",
      "Pokemon stats - non-pythonic:  [('Bulbasaur', 45), ('Charmander', 49), ('Squirtle', 44)]\n",
      "Pokemon stats - pythonic:  [('Bulbasaur', 45), ('Charmander', 49), ('Squirtle', 44)]\n",
      "Pokemon stats - pythonic2:  [('Bulbasaur', 45), ('Charmander', 49), ('Squirtle', 44)]\n",
      "Set a - i.e., no duplicates:  {'Bulbasaur', 'Squirtle', 'Charmander'}\n",
      "Set intersection:  {'Squirtle'}\n",
      "Set a - b:  {'Bulbasaur', 'Charmander'}\n",
      "Set b - a:  {'Caterpie', 'Pidgey'}\n",
      "Set (a-b) + (b-a):  {'Pidgey', 'Bulbasaur', 'Caterpie', 'Charmander'}\n",
      "Set (a-b) + (b-a):  {'Pidgey', 'Bulbasaur', 'Caterpie', 'Charmander'}\n",
      "Set a U b {'Caterpie', 'Pidgey', 'Squirtle', 'Bulbasaur', 'Charmander'}\n",
      "EEG signal:  [[[8, 9], 1], [[3, 3], 2], [[2, 3], 2]]\n",
      "EEG:  [8, 9]\n",
      "Event:  1\n",
      "EEG:  [3, 3]\n",
      "Event:  2\n",
      "EEG:  [2, 3]\n",
      "Event:  2\n",
      "Use list comprehension EEG:  [[8, 9], [3, 3], [2, 3]]\n",
      "Use list comprehension Event:  [1, 2, 2]\n",
      "Use list comprehension EEG:  [[3, 3], [2, 3]]\n"
     ]
    }
   ],
   "source": [
    "string = \"String is fun\"  #string\n",
    "list_num = [1, 2, 3, 4] #list of nums\n",
    "list_string = [\"Chaky\", \"John\", \"Peter\"] #list of strings\n",
    "list_combine = [\"Chaky\", 1, 2, True]  #commonly not used, because difficult to handle\n",
    "\n",
    "#string/list operations - try this with list_num or list_string\n",
    "print(\"Length: \", len(string))\n",
    "print(\"string[0]: \", string[0])\n",
    "print(\"string[0:2]: \", string[0:2])  #it will exclude the stop\n",
    "print(\"string[:3]: \", string[:3]) #start beginning with stop 3 thus 0,1,2\n",
    "print(\"string[3:]: \", string[3:])  #start with 3 and end wherever thus, 3, 4, 5...\n",
    "print(\"string[:]: \", string[:]) #everything\n",
    "print(\"string[-2:]: \", string[-2:]) #from second last until the end, thus last+1, and last\n",
    "print(\"string[-0:]: \", string[-0:]) #basically whole thing\n",
    "print(\"string[::2]: \", string[::2]) #skip every 2\n",
    "print(\"string[1::2]: \", string[0:5:2])  #from first, skip every 2\n",
    "\n",
    "#string specific operation\n",
    "print(\"Replace ing with ange: \", string.replace(\"ing\", \"ange\"))\n",
    "\n",
    "#nested list\n",
    "l1 = [1,[2,3], [4,5], [[6, 7], 8]]\n",
    "print(\"L1: \", l1)\n",
    "print(\"Length of L1: \", len(l1))\n",
    "print(\"l1[3][1]: \", l1[3][1])\n",
    "\n",
    "#generating list\n",
    "#range is a iterator object, casting with list return a list\n",
    "print(\"Range\", list(range(10)))  #0 to 9  range(start, stop, step)\n",
    "print(\"With step 2\", list(range(1, 10, 2)))\n",
    "print(\"With start -10: \", list(range(-5, 5)))\n",
    "\n",
    "#list is multiplicable\n",
    "print(\"5 zeros: \", [0] * 5)\n",
    "\n",
    "#append and extend list\n",
    "a = [1, 2]\n",
    "b = [3]\n",
    "c = 3\n",
    "a.append(b)  #append whole list\n",
    "print(\"A append b\", a)\n",
    "a.extend(b) #extend the original list\n",
    "print(\"A extend b\", a)\n",
    "a.append(c)\n",
    "print(\"A append c\", a)\n",
    "#a.extend(c)# error because c is not iterable\n",
    "\n",
    "#list are mutable\n",
    "a = [1, 2, 3]\n",
    "a[0] = 0\n",
    "print(\"Changing value at index 0 to 0: \", a)\n",
    "a[0:2] = 5, 6\n",
    "print(\"Changing using slicing method: \", a)\n",
    "\n",
    "#getting index\n",
    "print(\"Index of 1: \", a.index(5))\n",
    "\n",
    "#copy()\n",
    "some_copy = a.copy()\n",
    "print(\"Comparing copy and original: \", some_copy is a) #False - different memory\n",
    "\n",
    "#use insert()\n",
    "l = []\n",
    "l.insert(0, \"i\")\n",
    "l.insert(1, \"n\")\n",
    "l.insert(2, \"s\")\n",
    "l.insert(3, \"e\")\n",
    "l.insert(4, \"r\")\n",
    "l.insert(5, \"t\")\n",
    "print(\"Insert: \", \"\".join(l))  #\"\" specifies the separator\n",
    "\n",
    "#use remove() and pop()\n",
    "l.remove(\"i\")\n",
    "print(\"l removing i\", l)\n",
    "l.pop(0)  #remove value from index\n",
    "print(\"l removing index 0\", l)\n",
    "\n",
    "#sort\n",
    "a = [3,19,5]\n",
    "b = [\"Car\", \"Apple\", \"Boy\"]\n",
    "a.sort()\n",
    "b.sort()  #try put argument reverse=True\n",
    "print(\"Sorted [3, 19, 5]: \", a)\n",
    "print(\"Sorted ['Car', 'Apple', 'Boy']: \", b)\n",
    "print(\"Reverse: \", b.reverse(), b)  #remember that b.reverse or sort is in place, and return None\n",
    "a.insert(1, 4)\n",
    "print(\"A.insert(1,4)\", a)  #this will shift to the right\n",
    "\n",
    "#check things in list\n",
    "print(\"3 in a?\", 3 in a)\n",
    "print(\"99 in a?\", 4 in a)\n",
    "\n",
    "#looping list\n",
    "for i in range(10): #does not include 10, start with 0\n",
    "    print(\"I: \", i)\n",
    "\n",
    "#given a list\n",
    "some_list = [8, 9, 10]\n",
    "\n",
    "for num in some_list:  #use in\n",
    "    print(num)\n",
    "\n",
    "for i in range(len(some_list)):  #use len (old guys love to do this!)\n",
    "    print(some_list[i])\n",
    "\n",
    "for ix, (value) in enumerate(some_list):\n",
    "    print(f\"Index: {ix}; value: {value}\")\n",
    "    \n",
    "# Making random_list is also a common task in research\n",
    "import random\n",
    "\n",
    "some_rand_list = []\n",
    "\n",
    "for i in range(10):\n",
    "    some_rand_list.append(random.randint(1, 10))  #randint(a, b) return random integer N where a<=N<=b\n",
    "print(\"Some random list: \", some_rand_list)\n",
    "\n",
    "#Another way to random is to use shuffle\n",
    "a = list(range(10))\n",
    "random.shuffle(a)  #this is in place!  so it will return None!\n",
    "print(\"Suffled list: \", a)\n",
    "print(\"Sampled 3 from a list: \", random.sample(a, 3))\n",
    "print(\"Choose 1 randomly from a list: \", random.choice(a))\n",
    "\n",
    "#choice is useful for words, e.g., \n",
    "my_dictionary = ['fridge', 'pen', 'apple']\n",
    "print(\"Random choice to put in your algorithm: \", random.choice(my_dictionary))\n",
    "\n",
    "#permuations using itertools\n",
    "from itertools import permutations, combinations\n",
    "print(\"All possible permuations: \", list(permutations(['1','2','3'])))\n",
    "print(\"All possible pairs, ordered-sensitive: \", list(permutations(['1','2','3'],2)))\n",
    "print(\"All possible pairs, not ordered-sensitive: \", list(combinations(['1','2','3'], 2)))\n",
    "\n",
    "\n",
    "#you will love this - list comprehension\n",
    "# [ expression for item in list if conditional ]\n",
    "#let's say i have this list\n",
    "x = [1, 2, 3]\n",
    "#I want to +1 to every element to the list, I can do\n",
    "for i in range(len(x)):\n",
    "    x[i] +=1\n",
    "print(x)\n",
    "#better yet - use list comprehension\n",
    "new_x = [num + 1 for num in x]  #remember to enclose with []!!\n",
    "print(new_x)\n",
    "\n",
    "#let's pokemon\n",
    "#suppose we have two lists - one are pokemon names, and another are their hps\n",
    "names = ['Bulbasaur', 'Charmander', 'Squirtle']\n",
    "hps = [45, 49, 44]\n",
    "\n",
    "#we can use non-pythonic way (i..e, not recommended) to combine them as tuples\n",
    "combined = []\n",
    "for i, pokemon in enumerate(names):\n",
    "    combined.append((pokemon, hps[i]))\n",
    "\n",
    "print(\"Pokemon stats - non-pythonic: \", combined)\n",
    "\n",
    "#more pythonic is to use zip()\n",
    "#zip: The zip method is used to combine multiple lists in Python \n",
    "#into tuples. If the two lists are not the same length, \n",
    "#then the longer of the two lists would be truncated to the length \n",
    "#of the shorter.\n",
    "print(\"Pokemon stats - pythonic: \", list(zip(names, hps)))  #zip is iterable, not list or dict\n",
    "\n",
    "#we can use * to unpack zip to tuples and use [] to convert to list\n",
    "print(\"Pokemon stats - pythonic2: \", [*zip(names, hps)]    )  #zip is iterable, not list or dict\n",
    "    \n",
    "#let's learn about set\n",
    "list_a = ['Bulbasaur', 'Charmander', 'Squirtle', 'Charmander']\n",
    "list_b = ['Caterpie', 'Pidgey', 'Squirtle']\n",
    "set_a = set(list_a)\n",
    "print(\"Set a - i.e., no duplicates: \", set_a)\n",
    "set_b = set(list_b)\n",
    "\n",
    "#intersect; make sure to convert list to set first!\n",
    "print(\"Set intersection: \", set_a.intersection(set_b))\n",
    "print(\"Set a - b: \", set_a.difference(set_b))\n",
    "print(\"Set b - a: \", set_b.difference(set_a))\n",
    "print(\"Set (a-b) + (b-a): \", set_a.symmetric_difference(set_b))\n",
    "print(\"Set (a-b) + (b-a): \", set_b.symmetric_difference(set_a)) #same result both sides\n",
    "print(\"Set a U b\", set_a.union(set_b))  #remove any duplicate intersection\n",
    "\n",
    "\n",
    "#let's try more real-world, advanced list\n",
    "two_channel_eeg_signal1 = [8, 9]\n",
    "event1 = 1\n",
    "two_channel_eeg_signal2 = [3, 3]\n",
    "event2 = 2\n",
    "two_channel_eeg_signal3 = [2, 3]\n",
    "event3 = 2\n",
    "some_nested_list = []\n",
    "some_nested_list.append([two_channel_eeg_signal1, event1])\n",
    "some_nested_list.append([two_channel_eeg_signal2, event2])\n",
    "some_nested_list.append([two_channel_eeg_signal3, event3])\n",
    "print(\"EEG signal: \", some_nested_list)\n",
    "\n",
    "#how do i get only the eeg_signal, and only the events?\n",
    "eeg = []\n",
    "event = []\n",
    "for each_event_list in some_nested_list:\n",
    "    each_eeg = each_event_list[0]\n",
    "    each_event = each_event_list[1]\n",
    "    eeg.append(each_eeg)\n",
    "    eeg.append(each_event)\n",
    "    print(\"EEG: \", each_eeg)\n",
    "    print(\"Event: \", each_event)\n",
    "\n",
    "#use list comprenhension\n",
    "print(\"Use list comprehension EEG: \", [i[0] for i in some_nested_list])\n",
    "print(\"Use list comprehension Event: \", [i[1] for i in some_nested_list])\n",
    "\n",
    "#how to get only event 2 eeg signal?\n",
    "print(\"Use list comprehension EEG: \", [i[0] for i in some_nested_list if i[1]==2])"
   ]
  },
  {
   "cell_type": "markdown",
   "metadata": {},
   "source": [
    "### Tuples"
   ]
  },
  {
   "cell_type": "raw",
   "metadata": {},
   "source": [
    "Tuples are like lists, except that they cannot be modified once created, that is they are *immutable*. \n",
    "\n",
    "1. You can't add to tuples, so no extend or append\n",
    "2. You can't remove or insert, so no insert, remove, pop\n",
    "3. You can find, thus \"in\"  or indexing can be used\n",
    "4. Tuples are much faster than list\n",
    "\n",
    "*Make sense* to use tuples for write-protected data\n",
    "\n",
    "In Python, tuples are created using the syntax `(..., ..., ...)`, or even `..., ...`:"
   ]
  },
  {
   "cell_type": "code",
   "execution_count": 7,
   "metadata": {},
   "outputs": [
    {
     "name": "stdout",
     "output_type": "stream",
     "text": [
      "(10, 20) <class 'tuple'>\n",
      "(10, 20) <class 'tuple'>\n"
     ]
    }
   ],
   "source": [
    "#creating tuples\n",
    "point = (10, 20)\n",
    "point2 = 10, 20\n",
    "print(point, type(point))\n",
    "print(point2, type(point2))"
   ]
  },
  {
   "cell_type": "code",
   "execution_count": 8,
   "metadata": {},
   "outputs": [
    {
     "name": "stdout",
     "output_type": "stream",
     "text": [
      "x = 10\n",
      "y = 20\n"
     ]
    }
   ],
   "source": [
    "#unpack tuples to individual variable\n",
    "x, y = point\n",
    "print(\"x =\", x)\n",
    "print(\"y =\", y)"
   ]
  },
  {
   "cell_type": "code",
   "execution_count": 9,
   "metadata": {},
   "outputs": [],
   "source": [
    "#point[0] = 20 #errors"
   ]
  },
  {
   "cell_type": "markdown",
   "metadata": {},
   "source": [
    "### Dictionaries"
   ]
  },
  {
   "cell_type": "raw",
   "metadata": {},
   "source": [
    "Dictionaries are also like lists, except that each element is a key-value pair. The syntax for dictionaries is `{key1 : value1, ...}`:"
   ]
  },
  {
   "cell_type": "code",
   "execution_count": 10,
   "metadata": {},
   "outputs": [
    {
     "name": "stdout",
     "output_type": "stream",
     "text": [
      "<class 'dict'>\n",
      "{'Pineapple': 12, 'Orange': 10, 'Apple': 15}\n"
     ]
    }
   ],
   "source": [
    "some_dict = {\"Pineapple\" : 12,\n",
    "          \"Orange\" : 10,\n",
    "          \"Apple\" : 15,}\n",
    "\n",
    "print(type(some_dict))\n",
    "print(some_dict)"
   ]
  },
  {
   "cell_type": "code",
   "execution_count": 11,
   "metadata": {},
   "outputs": [
    {
     "name": "stdout",
     "output_type": "stream",
     "text": [
      "Pineapple = 12\n",
      "Orange = 10\n",
      "Apple = 15\n"
     ]
    }
   ],
   "source": [
    "#accessing the value with key\n",
    "print(\"Pineapple = \" + str(some_dict[\"Pineapple\"]))\n",
    "print(\"Orange = \" + str(some_dict[\"Orange\"]))\n",
    "print(\"Apple = \" + str(some_dict[\"Apple\"]))\n",
    "\n",
    "#adding new key and value\n",
    "some_dict[\"Durian\"] = 50"
   ]
  },
  {
   "cell_type": "code",
   "execution_count": 12,
   "metadata": {},
   "outputs": [
    {
     "name": "stdout",
     "output_type": "stream",
     "text": [
      "Pineapple = 12\n",
      "Orange = 10\n",
      "Apple = 15\n",
      "Durian = 50\n",
      "Pineapple 12\n",
      "Orange 10\n",
      "Apple 15\n",
      "Durian 50\n",
      "Apple 15\n",
      "Durian 50\n",
      "Orange 10\n",
      "Pineapple 12\n",
      "0 Pineapple 12\n",
      "1 Orange 10\n",
      "2 Apple 15\n",
      "3 Durian 50\n",
      "name -> John\n",
      "name -> Jane\n",
      "last_name -> Doe\n",
      "last_name -> Doe\n",
      "job -> Python Consultant\n",
      "job -> Community Manager\n"
     ]
    }
   ],
   "source": [
    "#Looping in dict...\n",
    "for key in some_dict:\n",
    "    print(key + \" = \" + str(some_dict[key]))\n",
    "\n",
    "#With items()\n",
    "for key, value in some_dict.items():\n",
    "    print(key, value)\n",
    "    \n",
    "#With sorted()\n",
    "for key, value in sorted(some_dict.items()):\n",
    "    print(key, value)\n",
    "    \n",
    "#With enumerate...remember that it will return as tuples for the pair\n",
    "for index, (key, value) in enumerate(some_dict.items()):\n",
    "    print(index, key, value)\n",
    "    \n",
    "\n",
    "#zip is useful to perform a parallel iteration over multiple dict\n",
    "dict_one = {'name': 'John', 'last_name': 'Doe', 'job': 'Python Consultant'}\n",
    "dict_two = {'name': 'Jane', 'last_name': 'Doe', 'job': 'Community Manager'}\n",
    "for (k1, v1), (k2, v2) in zip(dict_one.items(), dict_two.items()):\n",
    "    print(k1, '->', v1)\n",
    "    print(k2, '->', v2)"
   ]
  },
  {
   "cell_type": "markdown",
   "metadata": {},
   "source": [
    "### If, while"
   ]
  },
  {
   "cell_type": "code",
   "execution_count": 13,
   "metadata": {},
   "outputs": [
    {
     "name": "stdout",
     "output_type": "stream",
     "text": [
      "statement1 and statement2 are False\n",
      "Still inside the else block!!\n",
      "Now outside the if block!\n",
      "0\n",
      "1\n",
      "2\n",
      "3\n",
      "4\n",
      "done\n"
     ]
    }
   ],
   "source": [
    "statement1 = False\n",
    "statement2 = False\n",
    "statement3 = True\n",
    "\n",
    "#use indentation, this is one annoying aspect of python!\n",
    "if statement1:\n",
    "    if statement3:\n",
    "        print(\"statement1 is True\")\n",
    "        \n",
    "elif statement2:\n",
    "    print(\"statement2 is True\")\n",
    "else:\n",
    "    print(\"statement1 and statement2 are False\")\n",
    "    \n",
    "    print(\"Still inside the else block!!\")\n",
    "    \n",
    "print(\"Now outside the if block!\")\n",
    "\n",
    "\n",
    "i = 0\n",
    "while i < 5:\n",
    "    print(i)\n",
    "    i = i + 1  #try i+=1\n",
    "print(\"done\")"
   ]
  },
  {
   "cell_type": "markdown",
   "metadata": {},
   "source": [
    "### Functions"
   ]
  },
  {
   "cell_type": "raw",
   "metadata": {},
   "source": [
    "A function in Python is defined using the keyword `def`, followed by a function name, a signature within parentheses `()`, and a colon `:`. The following code, with one additional level of indentation, is the function body."
   ]
  },
  {
   "cell_type": "code",
   "execution_count": 14,
   "metadata": {},
   "outputs": [],
   "source": [
    "def func0():   \n",
    "    print(\"test\")"
   ]
  },
  {
   "cell_type": "code",
   "execution_count": 15,
   "metadata": {},
   "outputs": [
    {
     "name": "stdout",
     "output_type": "stream",
     "text": [
      "test\n"
     ]
    }
   ],
   "source": [
    "func0()"
   ]
  },
  {
   "cell_type": "raw",
   "metadata": {},
   "source": [
    "Optionally, but highly recommended, we can define a so called \"docstring\", which is a description of the functions purpose and behaivor. The docstring should follow directly after the function definition, before the code in the function body."
   ]
  },
  {
   "cell_type": "code",
   "execution_count": 16,
   "metadata": {},
   "outputs": [],
   "source": [
    "def func1(s):\n",
    "    \"\"\"\n",
    "    Print a string 's' and tell how many characters it has    \n",
    "    \"\"\"\n",
    "    \n",
    "    print(s + \" has \" + str(len(s)) + \" characters\")"
   ]
  },
  {
   "cell_type": "code",
   "execution_count": 17,
   "metadata": {},
   "outputs": [
    {
     "name": "stdout",
     "output_type": "stream",
     "text": [
      "Help on function func1 in module __main__:\n",
      "\n",
      "func1(s)\n",
      "    Print a string 's' and tell how many characters it has\n",
      "\n"
     ]
    }
   ],
   "source": [
    "help(func1)"
   ]
  },
  {
   "cell_type": "code",
   "execution_count": 18,
   "metadata": {},
   "outputs": [
    {
     "name": "stdout",
     "output_type": "stream",
     "text": [
      "test has 4 characters\n"
     ]
    }
   ],
   "source": [
    "func1(\"test\")"
   ]
  },
  {
   "cell_type": "raw",
   "metadata": {},
   "source": [
    "Functions that returns a value use the `return` keyword:"
   ]
  },
  {
   "cell_type": "code",
   "execution_count": 19,
   "metadata": {},
   "outputs": [],
   "source": [
    "def square(x):\n",
    "    \"\"\"\n",
    "    Return the square of x.\n",
    "    \"\"\"\n",
    "    return x ** 2"
   ]
  },
  {
   "cell_type": "code",
   "execution_count": 20,
   "metadata": {},
   "outputs": [
    {
     "data": {
      "text/plain": [
       "16"
      ]
     },
     "execution_count": 20,
     "metadata": {},
     "output_type": "execute_result"
    }
   ],
   "source": [
    "square(4)"
   ]
  },
  {
   "cell_type": "raw",
   "metadata": {},
   "source": [
    "We can return multiple values from a function using tuples (see above):"
   ]
  },
  {
   "cell_type": "code",
   "execution_count": 21,
   "metadata": {},
   "outputs": [],
   "source": [
    "def powers(x):\n",
    "    \"\"\"\n",
    "    Return a few powers of x.\n",
    "    \"\"\"\n",
    "    return x ** 2, x ** 3, x ** 4"
   ]
  },
  {
   "cell_type": "code",
   "execution_count": 22,
   "metadata": {},
   "outputs": [
    {
     "data": {
      "text/plain": [
       "(9, 27, 81)"
      ]
     },
     "execution_count": 22,
     "metadata": {},
     "output_type": "execute_result"
    }
   ],
   "source": [
    "powers(3)"
   ]
  },
  {
   "cell_type": "code",
   "execution_count": 23,
   "metadata": {},
   "outputs": [
    {
     "name": "stdout",
     "output_type": "stream",
     "text": [
      "27\n"
     ]
    }
   ],
   "source": [
    "x2, x3, x4 = powers(3)\n",
    "\n",
    "print(x3)"
   ]
  },
  {
   "cell_type": "markdown",
   "metadata": {},
   "source": [
    "### Default argument and keyword arguments"
   ]
  },
  {
   "cell_type": "raw",
   "metadata": {},
   "source": [
    "In a definition of a function, we can give default values to the arguments the function takes:"
   ]
  },
  {
   "cell_type": "code",
   "execution_count": 24,
   "metadata": {},
   "outputs": [],
   "source": [
    "def myfunc(x, p=2, debug=False):\n",
    "    if debug:\n",
    "        print(\"evaluating myfunc for x = \" + str(x) + \" using exponent p = \" + str(p))\n",
    "    return x**p"
   ]
  },
  {
   "cell_type": "raw",
   "metadata": {},
   "source": [
    "If we don't provide a value of the `debug` argument when calling the the function `myfunc` it defaults to the value provided in the function definition:"
   ]
  },
  {
   "cell_type": "code",
   "execution_count": 25,
   "metadata": {},
   "outputs": [
    {
     "data": {
      "text/plain": [
       "25"
      ]
     },
     "execution_count": 25,
     "metadata": {},
     "output_type": "execute_result"
    }
   ],
   "source": [
    "myfunc(5)"
   ]
  },
  {
   "cell_type": "code",
   "execution_count": 26,
   "metadata": {},
   "outputs": [
    {
     "name": "stdout",
     "output_type": "stream",
     "text": [
      "evaluating myfunc for x = 5 using exponent p = 2\n"
     ]
    },
    {
     "data": {
      "text/plain": [
       "25"
      ]
     },
     "execution_count": 26,
     "metadata": {},
     "output_type": "execute_result"
    }
   ],
   "source": [
    "myfunc(5, debug=True)"
   ]
  },
  {
   "cell_type": "raw",
   "metadata": {},
   "source": [
    "If we explicitly list the name of the arguments in the function calls, they do not need to come in the same order as in the function definition. This is called *keyword* arguments, and is often very useful in functions that takes a lot of optional arguments."
   ]
  },
  {
   "cell_type": "code",
   "execution_count": 27,
   "metadata": {},
   "outputs": [
    {
     "name": "stdout",
     "output_type": "stream",
     "text": [
      "evaluating myfunc for x = 7 using exponent p = 3\n"
     ]
    },
    {
     "data": {
      "text/plain": [
       "343"
      ]
     },
     "execution_count": 27,
     "metadata": {},
     "output_type": "execute_result"
    }
   ],
   "source": [
    "myfunc(p=3, debug=True, x=7)  #argument name must match that of the func!"
   ]
  },
  {
   "cell_type": "markdown",
   "metadata": {},
   "source": [
    "### Unnamed functions (lambda function)"
   ]
  },
  {
   "cell_type": "raw",
   "metadata": {},
   "source": [
    "In Python we can also create unnamed functions, using the `lambda` keyword:"
   ]
  },
  {
   "cell_type": "code",
   "execution_count": 28,
   "metadata": {},
   "outputs": [],
   "source": [
    "f1 = lambda x: x**2\n",
    "    \n",
    "# is equivalent to \n",
    "\n",
    "def f2(x):\n",
    "    return x**2"
   ]
  },
  {
   "cell_type": "code",
   "execution_count": 29,
   "metadata": {},
   "outputs": [
    {
     "data": {
      "text/plain": [
       "(4, 4)"
      ]
     },
     "execution_count": 29,
     "metadata": {},
     "output_type": "execute_result"
    }
   ],
   "source": [
    "f1(2), f2(2)"
   ]
  },
  {
   "cell_type": "raw",
   "metadata": {},
   "source": [
    "This technique is useful for example when we want to pass a simple function as an argument to another function, like this:"
   ]
  },
  {
   "cell_type": "code",
   "execution_count": 30,
   "metadata": {},
   "outputs": [
    {
     "data": {
      "text/plain": [
       "[9, 4, 1, 0, 1, 4, 9]"
      ]
     },
     "execution_count": 30,
     "metadata": {},
     "output_type": "execute_result"
    }
   ],
   "source": [
    "#Python map() function is used to apply a function on all the elements \n",
    "#of specified iterable and return map object. Python map object is an iterator, \n",
    "#so we can iterate over its elements\n",
    "list(map(lambda x: x**2, range(-3,4)))"
   ]
  },
  {
   "cell_type": "markdown",
   "metadata": {},
   "source": [
    "### Classes"
   ]
  },
  {
   "cell_type": "raw",
   "metadata": {},
   "source": [
    "Classes are the key features of object-oriented programming. A class is a structure for representing an object and the operations that can be performed on the object. \n",
    "\n",
    "In Python a class can contain *attributes* (variables) and *methods* (functions).\n",
    "\n",
    "A class is defined almost like a function, but using the `class` keyword, and the class definition usually contains a number of class method definitions (a function in a class).\n",
    "\n",
    "* [important!] Each class method should have an argument `self` as it first argument. This object is a self-reference.\n",
    "\n",
    "* Some class method names have special meaning, for example:\n",
    "\n",
    "    * `__init__`: The name of the method that is invoked when the object is first created.\n",
    "    * `__str__` : A method that is invoked when a simple string representation of the class is needed, as for example when printed.\n",
    "    * There are many more, see http://docs.python.org/2/reference/datamodel.html#special-method-names"
   ]
  },
  {
   "cell_type": "code",
   "execution_count": 31,
   "metadata": {},
   "outputs": [],
   "source": [
    "class Point:\n",
    "    \"\"\"\n",
    "    Simple class for representing a point in a Cartesian coordinate system.\n",
    "    \"\"\"\n",
    "    \n",
    "    def __init__(self, x, y):\n",
    "        \"\"\"\n",
    "        Create a new Point at x, y.\n",
    "        \"\"\"\n",
    "        self.x = x\n",
    "        self.y = y\n",
    "        \n",
    "    def translate(self, dx, dy):\n",
    "        \"\"\"\n",
    "        Translate the point by dx and dy in the x and y direction.\n",
    "        \"\"\"\n",
    "        self.x += dx\n",
    "        self.y += dy\n",
    "        \n",
    "    def __str__(self):\n",
    "        return(\"Point at [%f, %f]\" % (self.x, self.y))"
   ]
  },
  {
   "cell_type": "raw",
   "metadata": {},
   "source": [
    "To create a new instance of a class:"
   ]
  },
  {
   "cell_type": "code",
   "execution_count": 32,
   "metadata": {},
   "outputs": [
    {
     "name": "stdout",
     "output_type": "stream",
     "text": [
      "Point at [0.000000, 0.000000]\n"
     ]
    }
   ],
   "source": [
    "p1 = Point(0, 0) # this will invoke the __init__ method in the Point class\n",
    "\n",
    "print(p1)         # this will invoke the __str__ method"
   ]
  },
  {
   "cell_type": "markdown",
   "metadata": {},
   "source": [
    "To invoke a class method in the class instance `p`:"
   ]
  },
  {
   "cell_type": "code",
   "execution_count": 33,
   "metadata": {},
   "outputs": [
    {
     "name": "stdout",
     "output_type": "stream",
     "text": [
      "Point at [0.250000, 1.500000]\n",
      "Point at [1.000000, 1.000000]\n"
     ]
    }
   ],
   "source": [
    "p2 = Point(1, 1)\n",
    "\n",
    "p1.translate(0.25, 1.5)\n",
    "\n",
    "print(p1)\n",
    "print(p2)"
   ]
  },
  {
   "cell_type": "markdown",
   "metadata": {},
   "source": [
    "## Modules"
   ]
  },
  {
   "cell_type": "raw",
   "metadata": {},
   "source": [
    "One of the most important concepts in good programming is to reuse code and avoid repetitions.\n",
    "\n",
    "The idea is to write functions and classes with a well-defined purpose and scope, and reuse these instead of repeating similar code in different part of a program (modular programming). The result is usually that readability and maintainability of a program is greatly improved. What this means in practice is that our programs have fewer bugs, are easier to extend and debug/troubleshoot. \n",
    "\n",
    "Python supports modular programming at different levels. Functions and classes are examples of tools for low-level modular programming. Python modules are a higher-level modular programming construct, where we can collect related variables, functions and classes in a module. A python module is defined in a python file (with file-ending `.py`), and it can be made accessible to other Python modules and programs using the `import` statement. \n",
    "\n",
    "Consider the following example: the file `mymodule.py` contains simple example implementations of a variable, function and a class:"
   ]
  },
  {
   "cell_type": "code",
   "execution_count": 34,
   "metadata": {},
   "outputs": [
    {
     "name": "stdout",
     "output_type": "stream",
     "text": [
      "Overwriting resources/mymodule.py\n"
     ]
    }
   ],
   "source": [
    "%%file resources/mymodule.py   \n",
    "#%%file is used to write whatever content here into mymodule.py\n",
    "\"\"\"\n",
    "Example of a python module. Contains a variable called my_variable,\n",
    "a function called my_function, and a class called MyClass.\n",
    "\"\"\"\n",
    "\n",
    "my_variable = 0\n",
    "\n",
    "def my_function():\n",
    "    \"\"\"\n",
    "    Example function\n",
    "    \"\"\"\n",
    "    return my_variable\n",
    "    \n",
    "class MyClass:\n",
    "    \"\"\"\n",
    "    Example class.\n",
    "    \"\"\"\n",
    "\n",
    "    def __init__(self):\n",
    "        self.variable = my_variable\n",
    "        \n",
    "    def set_variable(self, new_value):\n",
    "        \"\"\"\n",
    "        Set self.variable to a new value\n",
    "        \"\"\"\n",
    "        self.variable = new_value\n",
    "        \n",
    "    def get_variable(self):\n",
    "        return self.variable\n",
    "\n",
    "#common question is what is __name_ == \"__main__\"?\n",
    "if __name__ == \"__main__\": \n",
    "    print(\"Executed when invoked directly\")\n",
    "else: \n",
    "    print(\"Executed when imported\")"
   ]
  },
  {
   "cell_type": "raw",
   "metadata": {},
   "source": [
    "We can import the module `mymodule` into our Python program using `import`:"
   ]
  },
  {
   "cell_type": "code",
   "execution_count": 35,
   "metadata": {},
   "outputs": [
    {
     "name": "stdout",
     "output_type": "stream",
     "text": [
      "Executed when imported\n"
     ]
    }
   ],
   "source": [
    "import sys\n",
    "sys.path.insert(1, 'resources/')\n",
    "\n",
    "import mymodule"
   ]
  },
  {
   "cell_type": "raw",
   "metadata": {},
   "source": [
    "Use `help(module)` to get a summary of what the module provides:"
   ]
  },
  {
   "cell_type": "code",
   "execution_count": 36,
   "metadata": {},
   "outputs": [
    {
     "name": "stdout",
     "output_type": "stream",
     "text": [
      "Help on module mymodule:\n",
      "\n",
      "NAME\n",
      "    mymodule\n",
      "\n",
      "DESCRIPTION\n",
      "    Example of a python module. Contains a variable called my_variable,\n",
      "    a function called my_function, and a class called MyClass.\n",
      "\n",
      "CLASSES\n",
      "    builtins.object\n",
      "        MyClass\n",
      "    \n",
      "    class MyClass(builtins.object)\n",
      "     |  Example class.\n",
      "     |  \n",
      "     |  Methods defined here:\n",
      "     |  \n",
      "     |  __init__(self)\n",
      "     |      Initialize self.  See help(type(self)) for accurate signature.\n",
      "     |  \n",
      "     |  get_variable(self)\n",
      "     |  \n",
      "     |  set_variable(self, new_value)\n",
      "     |      Set self.variable to a new value\n",
      "     |  \n",
      "     |  ----------------------------------------------------------------------\n",
      "     |  Data descriptors defined here:\n",
      "     |  \n",
      "     |  __dict__\n",
      "     |      dictionary for instance variables (if defined)\n",
      "     |  \n",
      "     |  __weakref__\n",
      "     |      list of weak references to the object (if defined)\n",
      "\n",
      "FUNCTIONS\n",
      "    my_function()\n",
      "        Example function\n",
      "\n",
      "DATA\n",
      "    my_variable = 0\n",
      "\n",
      "FILE\n",
      "    /home/chaklam/Google Drive/2. Teaching/Python for DS/resources/mymodule.py\n",
      "\n",
      "\n"
     ]
    }
   ],
   "source": [
    "help(mymodule)"
   ]
  },
  {
   "cell_type": "code",
   "execution_count": 37,
   "metadata": {},
   "outputs": [
    {
     "data": {
      "text/plain": [
       "0"
      ]
     },
     "execution_count": 37,
     "metadata": {},
     "output_type": "execute_result"
    }
   ],
   "source": [
    "mymodule.my_variable"
   ]
  },
  {
   "cell_type": "code",
   "execution_count": 38,
   "metadata": {},
   "outputs": [
    {
     "data": {
      "text/plain": [
       "0"
      ]
     },
     "execution_count": 38,
     "metadata": {},
     "output_type": "execute_result"
    }
   ],
   "source": [
    "mymodule.my_function() "
   ]
  },
  {
   "cell_type": "code",
   "execution_count": 39,
   "metadata": {},
   "outputs": [
    {
     "data": {
      "text/plain": [
       "10"
      ]
     },
     "execution_count": 39,
     "metadata": {},
     "output_type": "execute_result"
    }
   ],
   "source": [
    "my_class = mymodule.MyClass() \n",
    "my_class.set_variable(10)\n",
    "my_class.get_variable()"
   ]
  },
  {
   "cell_type": "raw",
   "metadata": {},
   "source": [
    "If we make changes to the code in `mymodule.py`, we need to reload it using `reload`:"
   ]
  },
  {
   "cell_type": "code",
   "execution_count": 40,
   "metadata": {},
   "outputs": [
    {
     "name": "stdout",
     "output_type": "stream",
     "text": [
      "Executed when imported\n"
     ]
    },
    {
     "data": {
      "text/plain": [
       "<module 'mymodule' from 'resources/mymodule.py'>"
      ]
     },
     "execution_count": 40,
     "metadata": {},
     "output_type": "execute_result"
    }
   ],
   "source": [
    "#in python3 reload has been moved to importlib\n",
    "from importlib import reload\n",
    "reload(mymodule)"
   ]
  },
  {
   "cell_type": "markdown",
   "metadata": {},
   "source": [
    "## Exceptions"
   ]
  },
  {
   "cell_type": "raw",
   "metadata": {},
   "source": [
    "In Python errors are managed with a special language construct called \"Exceptions\". When errors occur exceptions can be raised, which interrupts the normal program flow and fallback to somewhere else in the code where the closest try-except statement is defined."
   ]
  },
  {
   "cell_type": "raw",
   "metadata": {},
   "source": [
    "To generate an exception we can use the `raise` statement, which takes an argument that must be an instance of the class `BaseException` or a class derived from it. "
   ]
  },
  {
   "cell_type": "code",
   "execution_count": 41,
   "metadata": {},
   "outputs": [
    {
     "ename": "Exception",
     "evalue": "description of the error",
     "output_type": "error",
     "traceback": [
      "\u001b[0;31m---------------------------------------------------------------------------\u001b[0m",
      "\u001b[0;31mException\u001b[0m                                 Traceback (most recent call last)",
      "\u001b[0;32m<ipython-input-41-c32f93e4dfa0>\u001b[0m in \u001b[0;36m<module>\u001b[0;34m\u001b[0m\n\u001b[0;32m----> 1\u001b[0;31m \u001b[0;32mraise\u001b[0m \u001b[0mException\u001b[0m\u001b[0;34m(\u001b[0m\u001b[0;34m\"description of the error\"\u001b[0m\u001b[0;34m)\u001b[0m\u001b[0;34m\u001b[0m\u001b[0;34m\u001b[0m\u001b[0m\n\u001b[0m",
      "\u001b[0;31mException\u001b[0m: description of the error"
     ]
    }
   ],
   "source": [
    "raise Exception(\"description of the error\")"
   ]
  },
  {
   "cell_type": "raw",
   "metadata": {},
   "source": [
    "A typical use of exceptions is to abort functions when some error condition occurs, for example:\n",
    "\n",
    "    def my_function(arguments):\n",
    "    \n",
    "        if not verify(arguments):\n",
    "            raise Exception(\"Invalid arguments\")\n",
    "        \n",
    "        # rest of the code goes here"
   ]
  },
  {
   "cell_type": "raw",
   "metadata": {},
   "source": [
    "To gracefully catch errors that are generated by functions and class methods, or by the Python interpreter itself, use the `try` and  `except` statements:\n",
    "\n",
    "    try:\n",
    "        # normal code goes here\n",
    "    except:\n",
    "        # code for error handling goes here\n",
    "        # this code is not executed unless the code\n",
    "        # above generated an error\n",
    "\n",
    "For example:"
   ]
  },
  {
   "cell_type": "code",
   "execution_count": null,
   "metadata": {},
   "outputs": [],
   "source": [
    "try:\n",
    "    print(\"test\")\n",
    "    # generate an error: the variable test is not defined\n",
    "    print(test)\n",
    "except:\n",
    "    print(\"Caught an exception\")"
   ]
  },
  {
   "cell_type": "raw",
   "metadata": {},
   "source": [
    "To get information about the error, we can access the `Exception` class instance that describes the exception by using for example:\n",
    "\n",
    "    except Exception as e:"
   ]
  },
  {
   "cell_type": "code",
   "execution_count": null,
   "metadata": {},
   "outputs": [],
   "source": [
    "try:\n",
    "    print(\"test\")\n",
    "    # generate an error: the variable test is not defined\n",
    "    print(test)\n",
    "except Exception as e:\n",
    "    print(\"Caught an exception: \" + str(e))"
   ]
  },
  {
   "cell_type": "markdown",
   "metadata": {},
   "source": [
    "### Reading, creating file"
   ]
  },
  {
   "cell_type": "code",
   "execution_count": null,
   "metadata": {},
   "outputs": [],
   "source": [
    "#r open file for reading ONLY\n",
    "#r+ open file for boht reading and writing\n",
    "#w open file for writing ONLY, overwrite everything if exists, or create the file if not exists\n",
    "#w+ open a file for both writing and reading.  Overwrites if exist, otherwise, creates a new file for reading and writing\n",
    "#a - pointer at end of file.  Create file if does not exists\n",
    "#a+ - two pointers - one at beginning for read, and another at end for write\n",
    "\n",
    "import os\n",
    "\n",
    "directory = \"resources\"  #use forward slashes in pathlib\n",
    "filename = os.path.join(directory, \"test.txt\")\n",
    "\n",
    "#file = open(\"test.txt\", \"r\") #error file not exists\n",
    "\n",
    "f = open(filename, \"w+\")\n",
    "f.write(\"Hello World\\nSecond Line\")  #writing contents\n",
    "f.seek(0)  #since after writing, f pointer is at end of file\n",
    "contents = f.read()\n",
    "f.seek(0) #same here, reset the pointer\n",
    "line_content = f.readlines()\n",
    "print(\"Reading contents: \", contents)\n",
    "print(\"Reading line_contents: \", line_content)\n",
    "f.close() #save memory\n",
    "\n",
    "f = open(filename, \"a+\")\n",
    "f.write(\"\\nAppended line\")\n",
    "f.seek(0)  #since after writing, f pointer is at end of file\n",
    "contents = f.read()\n",
    "print(\"Reading contents: \", contents)\n",
    "f.close()\n",
    "\n",
    "f = open(filename, \"r+\")\n",
    "print(\"Reading only: \", f.read())\n",
    "\n",
    "#finding files based on some expression\n",
    "#useful for image/signal algorithms\n",
    "#glob is a technique of retrieving files/pathnames matching a specified pattern\n",
    "#with glob, we can use *, ? ([ranges])\n",
    "import glob\n",
    "\n",
    "# Using '?' pattern \n",
    "print('\\nNamed with ?:') \n",
    "for name in glob.glob('resources/letter_highlight_images/?_black.png'): \n",
    "    print(name) \n",
    "    \n",
    "print('\\nNamed with range:') \n",
    "for name in glob.glob('resources/letter_highlight_images/[A-C]_black.png'): \n",
    "    print(name)\n",
    "    \n",
    "# Using '?' pattern \n",
    "print('\\nUsing recursive with ** and recursive = True:') \n",
    "for name in glob.glob('resources/letter_highlight_images/**/?_black.png', recursive=True): \n",
    "    print(name) "
   ]
  },
  {
   "cell_type": "markdown",
   "metadata": {},
   "source": [
    "### Logging"
   ]
  },
  {
   "cell_type": "code",
   "execution_count": null,
   "metadata": {},
   "outputs": [],
   "source": [
    "import logging\n",
    "\n",
    "logging.debug('This is a debug message')\n",
    "logging.info('This is an info message')\n",
    "logging.warning('This is a warning message')\n",
    "logging.error('This is an error message')\n",
    "logging.critical('This is a critical message')\n",
    "\n",
    "logfile = os.path.join(\"resources\", \"development.log\")\n",
    "\n",
    "#Create a custom logger\n",
    "logger = logging.getLogger(__name__)  #__name__ corresponds to where execution starts\n",
    "\n",
    "# Create handlers\n",
    "c_handler = logging.StreamHandler()  #prints to console\n",
    "f_handler = logging.FileHandler(logfile) #prints to file\n",
    "c_handler.setLevel(logging.WARNING) #all warning will be handled by c\n",
    "f_handler.setLevel(logging.ERROR) #all errors handled by f\n",
    "\n",
    "# Create formatters and add it to handlers\n",
    "c_format = logging.Formatter('%(name)s - %(levelname)s - %(message)s')\n",
    "f_format = logging.Formatter('%(asctime)s - %(name)s - %(levelname)s - %(message)s')\n",
    "c_handler.setFormatter(c_format)\n",
    "f_handler.setFormatter(f_format)\n",
    "\n",
    "# Add handlers to the logger\n",
    "logger.addHandler(c_handler)\n",
    "logger.addHandler(f_handler)\n",
    "\n",
    "logger.warning('This is a warning')\n",
    "logger.error('This is an error')\n",
    "\n",
    "#logging variable error\n",
    "name = \"Chaky\"\n",
    "logger.error(\"%s raised an error\", name)\n",
    "\n",
    "#logging exception\n",
    "a = 1\n",
    "b = 0\n",
    "try:\n",
    "    c = a / b\n",
    "except Exception as e:\n",
    "    logger.error(\"Exception occured\", exc_info=True)\n",
    "    \n",
    "#all attributes can be found here - https://docs.python.org/3/library/logging.html#logrecord-attributes"
   ]
  },
  {
   "cell_type": "markdown",
   "metadata": {},
   "source": [
    "### Progress bar while looping"
   ]
  },
  {
   "cell_type": "code",
   "execution_count": null,
   "metadata": {},
   "outputs": [],
   "source": [
    "from tqdm import tqdm\n",
    "\n",
    "for i in tqdm(range(10000)):\n",
    "    pass"
   ]
  },
  {
   "cell_type": "markdown",
   "metadata": {},
   "source": [
    "## Multiprocessing vs. threading"
   ]
  },
  {
   "cell_type": "raw",
   "metadata": {},
   "source": [
    "Python is designed to run sequentially.  Multiprocessing and threading are two common ways to run asynchrously in the background.\n",
    "\n",
    "Threading use threads, while multiprocessing uses processes.  Threading is much more light weight since threads share same memory space, while processes do not.\n",
    "\n",
    "When to use threading:\n",
    "- Network or I/O related task. Typical scenario is when you are monitoring multiple sources of data in parallel.  Let's say you are reading human eeg signal, at the same time, reading human heart rate signal, threading is game-changing.  It allos you to aynchronously read data from various sources and combine them later on.\n",
    "\n",
    "Big cons of threading:\n",
    "- difficult to debug, can never ensure who goes first\n",
    "- possible concurrency problem since threads are shared.  Require implementation of locks\n",
    "\n",
    "When to use multiprocessing:\n",
    "- CPU intensive task.  Python is not designed to utilize the computer max spec.  Multiprocessing here comes to the rescue.   No problem with concurrency since memory are not shared.\n",
    "\n",
    "Big cons of multiprocessing:\n",
    "- Big overhead shuffling around processes"
   ]
  },
  {
   "cell_type": "markdown",
   "metadata": {},
   "source": [
    "### Multiprocessing"
   ]
  },
  {
   "cell_type": "code",
   "execution_count": null,
   "metadata": {},
   "outputs": [],
   "source": [
    "# importing the multiprocessing module \n",
    "import multiprocessing \n",
    "import time\n",
    "import os\n",
    "  \n",
    "def first_func(num): \n",
    "    print(\"First func start time: \", time.time())\n",
    "    print(\"Cube: {}\".format(num ** 3)) \n",
    "    print(\"PID: \", os.getpid())\n",
    "  \n",
    "def second_func(num): \n",
    "    print(\"Second func start time: \", time.time())\n",
    "    print(\"Square: {}\".format(num ** 2)) \n",
    "    print(\"PID: \", os.getpid())\n",
    "\n",
    "  \n",
    "#creating processes \n",
    "p1 = multiprocessing.Process(target=first_func, args=(10, )) \n",
    "p2 = multiprocessing.Process(target=second_func, args=(10, )) \n",
    "\n",
    "# starting process 1 \n",
    "p1.start() \n",
    "# starting process 2 \n",
    "p2.start() \n",
    "\n",
    "# wait until process 1 is finished \n",
    "p1.join() \n",
    "# wait until process 2 is finished \n",
    "p2.join() \n",
    "\n",
    "# both processes finished \n",
    "print(\"Done!\") \n",
    "\n",
    "#without multiprocesses\n",
    "first_func(10)\n",
    "second_func(10)"
   ]
  },
  {
   "cell_type": "markdown",
   "metadata": {},
   "source": [
    "### Threading"
   ]
  },
  {
   "cell_type": "code",
   "execution_count": null,
   "metadata": {},
   "outputs": [],
   "source": [
    "import threading\n",
    "  \n",
    "def first_func(num): \n",
    "    print(\"First func start time: \", time.time())\n",
    "    print(\"Cube: {}\".format(num ** 3)) \n",
    "    print(\"PID: \", os.getpid())\n",
    "  \n",
    "def second_func(num): \n",
    "    print(\"Second func start time: \", time.time())\n",
    "    print(\"Square: {}\".format(num ** 2)) \n",
    "    print(\"PID: \", os.getpid())\n",
    "\n",
    "#creating threads \n",
    "p1 = threading.Thread(target=first_func, args=(10, )) \n",
    "p2 = threading.Thread(target=second_func, args=(10, )) \n",
    "\n",
    "# starting process 1 \n",
    "p1.start() \n",
    "# starting process 2 \n",
    "p2.start() \n",
    "\n",
    "# wait until process 1 is finished \n",
    "p1.join() \n",
    "# wait until process 2 is finished \n",
    "p2.join() \n",
    "\n",
    "# both processes finished \n",
    "print(\"Done!\") \n",
    "\n",
    "#without multiprocesses\n",
    "first_func(10)\n",
    "second_func(10)"
   ]
  },
  {
   "cell_type": "markdown",
   "metadata": {},
   "source": [
    "### Timing code run time"
   ]
  },
  {
   "cell_type": "code",
   "execution_count": null,
   "metadata": {},
   "outputs": [],
   "source": [
    "import timeit #also check out line_profiler and memory_profiler\n",
    "timeit.timeit('\"-\".join(str(n) for n in range(100))', number=10000)  #iterates 10000 times"
   ]
  },
  {
   "cell_type": "code",
   "execution_count": null,
   "metadata": {},
   "outputs": [],
   "source": []
  }
 ],
 "metadata": {
  "kernelspec": {
   "display_name": "Python 3",
   "language": "python",
   "name": "python3"
  },
  "language_info": {
   "codemirror_mode": {
    "name": "ipython",
    "version": 3
   },
   "file_extension": ".py",
   "mimetype": "text/x-python",
   "name": "python",
   "nbconvert_exporter": "python",
   "pygments_lexer": "ipython3",
   "version": "3.6.9"
  }
 },
 "nbformat": 4,
 "nbformat_minor": 1
}
