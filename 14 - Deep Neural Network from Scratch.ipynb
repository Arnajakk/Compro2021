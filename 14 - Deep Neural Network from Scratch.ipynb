{
 "cells": [
  {
   "cell_type": "markdown",
   "metadata": {},
   "source": [
    "# Programming for Data Science and Artificial Intelligence\n",
    "\n",
    "## 14 Deep Neural Network from Scratch\n",
    "\n",
    "### Readings\n",
    "\n",
    "- [WEIDMAN] Ch3\n",
    "- [CHARU] Ch2-3\n",
    "\n"
   ]
  },
  {
   "cell_type": "markdown",
   "metadata": {},
   "source": [
    "As a recap, last time, we have inputted our data into a linear function wwhich we got some decent result.  To improve, we inserted a non-linear function in between follow by a linear function, which obviously increase the result since it help model the non-linearity.  We can summarize that neural newtork has basically the following key things that make it work:\n",
    "\n",
    "1. **Activation function (we can also generalized as Operations)**: these functions help model input data into a non-linear relationship\n",
    "\n",
    "2. **Chain rule / Backpropagation**: they are essential for us to improve the neural network\n",
    "\n",
    "3. **Layers of neurons**: they are performing some sequential processes that split out desired output.\n",
    "\n",
    "In fact, you are now very close to understanding Deep Neural Networks.  In this lesson, we have several objectives:\n",
    "\n",
    "- From our low-level understandings of neural network, we shall code them up as a class, so they are resuable.  They will be essential for understanding deep neural network, CNN, and RNN.  You will be so surprised that all these fancy terms are simply layers after layers\n",
    "\n",
    "- Of course, we shall also understand what is \"deep\" neural network.  Here, we shall simply say that \"deep\" neural network is simply neural network that has more than \"one\" hidden layers (which we did not yet define what is \"hidden\" layers)  "
   ]
  },
  {
   "cell_type": "code",
   "execution_count": null,
   "metadata": {},
   "outputs": [],
   "source": []
  }
 ],
 "metadata": {
  "kernelspec": {
   "display_name": "Python 3",
   "language": "python",
   "name": "python3"
  },
  "language_info": {
   "codemirror_mode": {
    "name": "ipython",
    "version": 3
   },
   "file_extension": ".py",
   "mimetype": "text/x-python",
   "name": "python",
   "nbconvert_exporter": "python",
   "pygments_lexer": "ipython3",
   "version": "3.7.7"
  }
 },
 "nbformat": 4,
 "nbformat_minor": 4
}
