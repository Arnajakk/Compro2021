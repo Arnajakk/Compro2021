{
 "cells": [
  {
   "cell_type": "markdown",
   "id": "excellent-operation",
   "metadata": {},
   "source": [
    "### === Task === \n",
    "1. Declare two strings with value \"3\" and \"4\". Add them by first converting them to int, and then perform addition\n",
    "2. Declare a variable x = 10, and then print a f-string saying \"my variable x = 10\" where 10 is from the x value, not hard-coded\n",
    "3. Perform a calculation of 10 mod 4 / 2 and convert to integer\n",
    "4. Get input from user using input(), and then print the type of the input\n",
    "5. Declare three strings: \"Chaky\", \"John\", \"Tom\", and concatenate them into \"Chaky, John, Tom\""
   ]
  },
  {
   "cell_type": "code",
   "execution_count": 32,
   "id": "global-stake",
   "metadata": {},
   "outputs": [
    {
     "name": "stdout",
     "output_type": "stream",
     "text": [
      "Answer Q1:  7\n",
      "Answer Q2:  my variable x = 10\n",
      "Answer Q3:  1\n"
     ]
    },
    {
     "name": "stdin",
     "output_type": "stream",
     "text": [
      " e\n"
     ]
    },
    {
     "name": "stdout",
     "output_type": "stream",
     "text": [
      "Answer Q4:  <class 'str'>\n",
      "Answer Q5: Chaky,John,Tom\n"
     ]
    }
   ],
   "source": [
    "#====== 1 =======\n",
    "s1 = int(\"3\")\n",
    "s2 = int(\"4\")\n",
    "ans1 = s1+s2\n",
    "print(\"Answer Q1: \",ans1)\n",
    "#====== 2 =======\n",
    "x = 10\n",
    "print(\"Answer Q2: \", f\"my variable x = {x}\")\n",
    "#====== 3 =======\n",
    "x = int(10 % 4/2)\n",
    "print(\"Answer Q3: \",x)\n",
    "#====== 4 =======\n",
    "ans = input()\n",
    "print(\"Answer Q4: \",type(ans))\n",
    "#====== 5 =======\n",
    "s1 = \"Chaky\"\n",
    "s2 = \"John\"\n",
    "s3 = \"Tom\"\n",
    "print(\"Answer Q5: \" + s1,s2,s3,sep = \",\")"
   ]
  },
  {
   "cell_type": "markdown",
   "id": "played-rebecca",
   "metadata": {},
   "source": [
    "### === Task === \n",
    "1. Get input from user using input(). If the number is less than 5, print \"less than\". Otherwise, print \"higher than\".\n",
    "\n",
    "2. Write a simple number guessing game using pseudocode. The program generates a random integer. It then accepts input from users for a integer or else it outputs ‘Please input an integer’. After the user input, the system outputs one of the three possible states whether the number is higher, lower or equal to the target integer. If it is equal, the program asked whether users want to play another round, or else just keep asking users for input. Feel free to make any assumption for anything not stated."
   ]
  },
  {
   "cell_type": "code",
   "execution_count": 34,
   "id": "digital-triumph",
   "metadata": {},
   "outputs": [
    {
     "name": "stdin",
     "output_type": "stream",
     "text": [
      " 3\n"
     ]
    },
    {
     "name": "stdout",
     "output_type": "stream",
     "text": [
      "Answer Q1:  less than\n"
     ]
    }
   ],
   "source": [
    "#====== 1 =======\n",
    "a = int(input())\n",
    "if a < 5:\n",
    "    print(\"Answer Q1: \", \"less than\")\n",
    "else:\n",
    "    print(\"Answer Q1: \",  \"higher than\")"
   ]
  },
  {
   "cell_type": "markdown",
   "id": "basic-sensitivity",
   "metadata": {},
   "source": [
    "#====== 2 =======\n",
    "<code>\n",
    "Generate a random integer\n",
    "Get user's input by asking \"Please input an integer\"\n",
    "<code>\n",
    "while user's input != generated integer\n",
    "    If user's input > generated integer\n",
    "        then print \"higher\"\n",
    "    elif user's input < generated integer\n",
    "        then print \"lower\"\n",
    "    else\n",
    "        print \"equal\"\n",
    "        Ask user whether he wants to play another round "
   ]
  },
  {
   "cell_type": "markdown",
   "id": "induced-highlight",
   "metadata": {},
   "source": [
    "### ===Task===\n",
    "\n",
    "1. Declare a string \"Python is cool\".  Get the first 6 letters \"Python\".\n",
    "\n",
    "2. Similarly, print the last 4 letters \"cool\".\n",
    "\n",
    "3. Print the \"is\"\n",
    "\n",
    "4. Declare a string \"malkahc\".  Print them reversely.\n",
    "\n",
    "5. Declare a string \"dffdfPkyktkhkokn\".  Print by skipping \"dffdf\", and then from that index onward, skip the even letters, i.e., the \"k\".  It should print \"Python\""
   ]
  },
  {
   "cell_type": "code",
   "execution_count": 48,
   "id": "tamil-error",
   "metadata": {},
   "outputs": [
    {
     "name": "stdout",
     "output_type": "stream",
     "text": [
      "Answer Q1:  Python\n",
      "Answer Q2:  cool\n",
      "Answer Q3:  is\n",
      "Answer Q4:  chaklam\n",
      "Answer Q5:  Python\n"
     ]
    }
   ],
   "source": [
    "#====== 1 =======\n",
    "s1 = \"Python is cool\"\n",
    "print(\"Answer Q1: \", s1[:6])\n",
    "#====== 2 =======\n",
    "print(\"Answer Q2: \", s1[-4:])\n",
    "#====== 3 =======\n",
    "print(\"Answer Q3: \", s1[7:9])\n",
    "#====== 4 =======\n",
    "s2 = \"malkahc\"\n",
    "print(\"Answer Q4: \", s2[::-1])\n",
    "#====== 5 =======\n",
    "s3 = \"dffdfPkyktkhkokn\"\n",
    "print(\"Answer Q5: \", s3[5::2])"
   ]
  },
  {
   "cell_type": "markdown",
   "id": "viral-comment",
   "metadata": {},
   "source": [
    "6. Generate a list from 0 to 9\n",
    "\n",
    "7. Generate a list from 1 to 9 \n",
    "\n",
    "8. Generate a list from -9 to 9 skipping even numbers\n",
    "\n",
    "9. Continuing, append number 10 to list\n",
    "\n",
    "10. Continuing, check the index of number -1"
   ]
  },
  {
   "cell_type": "code",
   "execution_count": 80,
   "id": "executed-buying",
   "metadata": {},
   "outputs": [
    {
     "name": "stdout",
     "output_type": "stream",
     "text": [
      "Answer Q6:  [0, 1, 2, 3, 4, 5, 6, 7, 8, 9]\n",
      "Answer Q7:  [1, 2, 3, 4, 5, 6, 7, 8, 9]\n",
      "Answer Q8:  [-9, -7, -5, -3, -1, 1, 3, 5, 7, 9]\n",
      "Answer Q9:  [-9, -7, -5, -3, -1, 1, 3, 5, 7, 9, 10]\n",
      "Answer Q10:  4\n"
     ]
    }
   ],
   "source": [
    "#====== 6 =======\n",
    "list1 = [n for n in range(10)]\n",
    "print(\"Answer Q6: \", list1)\n",
    "#====== 7 =======\n",
    "list2 = [n for n in range(1,10)]\n",
    "print(\"Answer Q7: \", list2)\n",
    "#====== 8 =======\n",
    "list3 = [n for n in range(-9,10,2)]\n",
    "print(\"Answer Q8: \", list3)\n",
    "#====== 9 =======\n",
    "list3.append(10)\n",
    "print(\"Answer Q9: \", list3)\n",
    "#====== 10 =======\n",
    "print(\"Answer Q10: \", list3.index(-1))"
   ]
  },
  {
   "cell_type": "markdown",
   "id": "virgin-metropolitan",
   "metadata": {},
   "source": [
    "11. Continuing, check the length of list\n",
    "\n",
    "12. Continuing, remove the value \"10\"\n",
    "\n",
    "13. Continuing, remove whatever value at index 5\n",
    "\n",
    "14. Continuing, check whether number -20 is in the list\n",
    "\n",
    "15. Continuing, shuffle the list, and then perform sort()\n"
   ]
  },
  {
   "cell_type": "code",
   "execution_count": 81,
   "id": "herbal-combine",
   "metadata": {},
   "outputs": [
    {
     "name": "stdout",
     "output_type": "stream",
     "text": [
      "Answer Q11:  11\n",
      "Answer Q12:  [-9, -7, -5, -3, -1, 1, 3, 5, 7, 9]\n",
      "Answer Q13:  [-9, -7, -5, -3, -1, 3, 5, 7, 9]\n",
      "Answer Q14:  False\n",
      "Answer Q15a:  [-1, -9, 7, -7, 9, -3, 3, -5, 5]\n",
      "Answer Q15b:  [-9, -7, -5, -3, -1, 3, 5, 7, 9]\n"
     ]
    }
   ],
   "source": [
    "#====== 11 =======\n",
    "print(\"Answer Q11: \", len(list3))\n",
    "#====== 12 =======\n",
    "list3.remove(10)\n",
    "print(\"Answer Q12: \", list3)\n",
    "#====== 13 =======\n",
    "list3.remove(list3[5])\n",
    "print(\"Answer Q13: \", list3)\n",
    "#====== 14 =======\n",
    "print(\"Answer Q14: \", -20 in list3)\n",
    "#====== 15 =======\n",
    "import random\n",
    "random.shuffle(list3)\n",
    "print(\"Answer Q15a: \", list3)\n",
    "list3.sort()\n",
    "print(\"Answer Q15b: \", list3)"
   ]
  },
  {
   "cell_type": "markdown",
   "id": "latest-white",
   "metadata": {},
   "source": [
    "16. Continuing, print all the values of the list by looping them\n",
    "\n",
    "17. Continuing, randomly choose 1 value from the list\n",
    "\n",
    "18. Continuing, print all the posible paired-permutations\n",
    "\n",
    "19. Continuing, using list comprehension, add 1 to all value in the list\n",
    "\n",
    "20. Continuing, using a for loop + enumerate, print the value in the list, as well as their index\n"
   ]
  },
  {
   "cell_type": "code",
   "execution_count": 90,
   "id": "threaded-geography",
   "metadata": {},
   "outputs": [
    {
     "name": "stdout",
     "output_type": "stream",
     "text": [
      "Answer Q16: \n",
      "-7\n",
      "-5\n",
      "-3\n",
      "-1\n",
      "1\n",
      "5\n",
      "7\n",
      "9\n",
      "11\n",
      "Answer Q17:  [1]\n",
      "Answer Q18:  [(-7, -5), (-7, -3), (-7, -1), (-7, 1), (-7, 5), (-7, 7), (-7, 9), (-7, 11), (-5, -7), (-5, -3), (-5, -1), (-5, 1), (-5, 5), (-5, 7), (-5, 9), (-5, 11), (-3, -7), (-3, -5), (-3, -1), (-3, 1), (-3, 5), (-3, 7), (-3, 9), (-3, 11), (-1, -7), (-1, -5), (-1, -3), (-1, 1), (-1, 5), (-1, 7), (-1, 9), (-1, 11), (1, -7), (1, -5), (1, -3), (1, -1), (1, 5), (1, 7), (1, 9), (1, 11), (5, -7), (5, -5), (5, -3), (5, -1), (5, 1), (5, 7), (5, 9), (5, 11), (7, -7), (7, -5), (7, -3), (7, -1), (7, 1), (7, 5), (7, 9), (7, 11), (9, -7), (9, -5), (9, -3), (9, -1), (9, 1), (9, 5), (9, 7), (9, 11), (11, -7), (11, -5), (11, -3), (11, -1), (11, 1), (11, 5), (11, 7), (11, 9)]\n",
      "Answer Q19:  [-6, -4, -2, 0, 2, 6, 8, 10, 12]\n",
      "Answer Q20: \n",
      "0 -6\n",
      "1 -4\n",
      "2 -2\n",
      "3 0\n",
      "4 2\n",
      "5 6\n",
      "6 8\n",
      "7 10\n",
      "8 12\n"
     ]
    }
   ],
   "source": [
    "#====== 16 =======\n",
    "print(\"Answer Q16: \")\n",
    "for i in list3:\n",
    "    print(i)\n",
    "#====== 17 =======\n",
    "print(\"Answer Q17: \",random.sample(list3, 1))\n",
    "#====== 18 =======\n",
    "from itertools import permutations, combinations\n",
    "print(\"Answer Q18: \", list(permutations(list3,2)))\n",
    "#====== 19 =======\n",
    "list3 = [n+1 for n in list3]\n",
    "print(\"Answer Q19: \", list3)\n",
    "#====== 20 =======\n",
    "print(\"Answer Q20: \")\n",
    "for idx, n in enumerate(list3):\n",
    "    print(idx, n)"
   ]
  },
  {
   "cell_type": "markdown",
   "id": "injured-cosmetic",
   "metadata": {},
   "source": [
    "21. Create two list of length 3. One list contains your friends name, and another list contains their makeup ID number.  Using zip, print the name along the ID number\n",
    "\n",
    "22. Create a list containing [1, 1, 2, 2].  Using set, print the unique values.  Then print the length of this unique set.\n",
    "\n",
    "23. See below code.  Print only the eeg signal and event separately from this nested list using (1) for loop, (2) list comprehension\n",
    "\n",
    "24. Continuing, print only the eeg signal with event = 2 using list comprehension"
   ]
  },
  {
   "cell_type": "code",
   "execution_count": 105,
   "id": "aging-squad",
   "metadata": {},
   "outputs": [
    {
     "name": "stdout",
     "output_type": "stream",
     "text": [
      "Answer Q21: \n",
      "fabby st1111\n",
      "film st2222\n",
      "nice st3333\n",
      "Answer Q22:  {1, 2}\n",
      "EEG signal:  [[[8, 9], 1], [[3, 3], 2], [[2, 3], 2]]\n",
      "Answer Q23 eeg:  [[8, 9], [3, 3], [2, 3]]\n",
      "Answer Q23 event:  [1, 2, 2]\n",
      "Answer Q24: \n",
      "event = 2 found at:  [3, 3]\n",
      "event = 2 found at:  [2, 3]\n"
     ]
    }
   ],
   "source": [
    "#====== 21 =======\n",
    "print(\"Answer Q21: \")\n",
    "names = ['fabby','film','nice']\n",
    "ids = ['st1111','st2222','st3333']\n",
    "for n,id in zip(names, ids):\n",
    "    print(n,id)\n",
    "#====== 22 =======\n",
    "list4 = [1, 1, 2, 2]\n",
    "print(\"Answer Q22: \", set(list4))\n",
    "#====== 23 =======\n",
    "two_channel_eeg_signal1 = [8, 9]\n",
    "event1 = 1\n",
    "two_channel_eeg_signal2 = [3, 3]\n",
    "event2 = 2\n",
    "two_channel_eeg_signal3 = [2, 3]\n",
    "event3 = 2\n",
    "some_nested_list = []\n",
    "some_nested_list.append([two_channel_eeg_signal1, event1])\n",
    "some_nested_list.append([two_channel_eeg_signal2, event2])\n",
    "some_nested_list.append([two_channel_eeg_signal3, event3])\n",
    "print(\"EEG signal: \", some_nested_list)\n",
    "\n",
    "eeg = []\n",
    "event = []\n",
    "for eegs in some_nested_list:\n",
    "    eeg.append(eegs[0])\n",
    "    event.append(eegs[1])\n",
    "print(\"Answer Q23 eeg: \",eeg)\n",
    "print(\"Answer Q23 event: \",event)\n",
    "#====== 24 =======\n",
    "print(\"Answer Q24: \")\n",
    "for idx, e in enumerate(event):\n",
    "    if e == 2:\n",
    "        print(\"event = 2 found at: \",eeg[idx])"
   ]
  },
  {
   "cell_type": "code",
   "execution_count": null,
   "id": "stuck-momentum",
   "metadata": {},
   "outputs": [],
   "source": []
  }
 ],
 "metadata": {
  "kernelspec": {
   "display_name": "Python 3",
   "language": "python",
   "name": "python3"
  },
  "language_info": {
   "codemirror_mode": {
    "name": "ipython",
    "version": 3
   },
   "file_extension": ".py",
   "mimetype": "text/x-python",
   "name": "python",
   "nbconvert_exporter": "python",
   "pygments_lexer": "ipython3",
   "version": "3.6.9"
  }
 },
 "nbformat": 4,
 "nbformat_minor": 5
}
