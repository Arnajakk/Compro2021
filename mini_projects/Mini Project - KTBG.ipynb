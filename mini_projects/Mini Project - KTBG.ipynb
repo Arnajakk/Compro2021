{
 "cells": [
  {
   "cell_type": "markdown",
   "metadata": {},
   "source": [
    "## Mini Project- KTBG\n",
    "\n",
    "This mini project is simple.  I got these files from one of the hackathon competition organized by KTBG.  You simply have to read the README file, and then complete the challenge.\n",
    "\n",
    "I have put the files in the folder KTBG under the resources folder.\n",
    "\n",
    "Good luck and enjoy thinking, learning, and coding!"
   ]
  },
  {
   "cell_type": "code",
   "execution_count": null,
   "metadata": {},
   "outputs": [],
   "source": []
  }
 ],
 "metadata": {
  "kernelspec": {
   "display_name": "Python 3",
   "language": "python",
   "name": "python3"
  },
  "language_info": {
   "codemirror_mode": {
    "name": "ipython",
    "version": 3
   },
   "file_extension": ".py",
   "mimetype": "text/x-python",
   "name": "python",
   "nbconvert_exporter": "python",
   "pygments_lexer": "ipython3",
   "version": "3.7.7"
  }
 },
 "nbformat": 4,
 "nbformat_minor": 4
}
