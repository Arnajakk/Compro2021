{
 "cells": [
  {
   "cell_type": "markdown",
   "metadata": {},
   "source": [
    "## Song Analytics\n",
    "\n",
    "Download a subset of data from the http://millionsongdataset.com\n",
    "\n",
    "This is the list of thing (but not limited) you can actually try to do in your project (choose one):\n",
    "- music genre recognition\n",
    "- mood detection\n",
    "- blind source separation \n",
    "    - unmixing audio\n",
    "- year recognition \n",
    "    - predicting which year is the song sang\n",
    "    \n",
    "Good luck and enjoy thinking, learning, and coding!"
   ]
  },
  {
   "cell_type": "code",
   "execution_count": null,
   "metadata": {},
   "outputs": [],
   "source": []
  }
 ],
 "metadata": {
  "kernelspec": {
   "display_name": "Python 3",
   "language": "python",
   "name": "python3"
  },
  "language_info": {
   "codemirror_mode": {
    "name": "ipython",
    "version": 3
   },
   "file_extension": ".py",
   "mimetype": "text/x-python",
   "name": "python",
   "nbconvert_exporter": "python",
   "pygments_lexer": "ipython3",
   "version": "3.7.7"
  }
 },
 "nbformat": 4,
 "nbformat_minor": 4
}
