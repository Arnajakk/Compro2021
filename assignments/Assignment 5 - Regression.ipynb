{
 "cells": [
  {
   "cell_type": "markdown",
   "metadata": {},
   "source": [
    "# Assigmnet 5"
   ]
  },
  {
   "cell_type": "markdown",
   "metadata": {},
   "source": [
    "1. Load boston setting X as boston.data and y as boston.target\n",
    "\n",
    "Attempt the grid search using polyregression + (linear, ridge, lasso, elastic net), and \n",
    "\n",
    "Does feature mechanisms on ridge/lasso/elastic helps here?\n",
    "\n",
    "what is the optimal polynomial degree?  What does it mean?\n",
    "\n",
    "why do you think the result is like this?\n",
    "\n",
    "what is the value of lambdas, and what does it means?"
   ]
  },
  {
   "cell_type": "code",
   "execution_count": 1,
   "metadata": {
    "tags": []
   },
   "outputs": [
    {
     "name": "stdout",
     "output_type": "stream",
     "text": [
      ".. _boston_dataset:\n",
      "\n",
      "Boston house prices dataset\n",
      "---------------------------\n",
      "\n",
      "**Data Set Characteristics:**  \n",
      "\n",
      "    :Number of Instances: 506 \n",
      "\n",
      "    :Number of Attributes: 13 numeric/categorical predictive. Median Value (attribute 14) is usually the target.\n",
      "\n",
      "    :Attribute Information (in order):\n",
      "        - CRIM     per capita crime rate by town\n",
      "        - ZN       proportion of residential land zoned for lots over 25,000 sq.ft.\n",
      "        - INDUS    proportion of non-retail business acres per town\n",
      "        - CHAS     Charles River dummy variable (= 1 if tract bounds river; 0 otherwise)\n",
      "        - NOX      nitric oxides concentration (parts per 10 million)\n",
      "        - RM       average number of rooms per dwelling\n",
      "        - AGE      proportion of owner-occupied units built prior to 1940\n",
      "        - DIS      weighted distances to five Boston employment centres\n",
      "        - RAD      index of accessibility to radial highways\n",
      "        - TAX      full-value property-tax rate per $10,000\n",
      "        - PTRATIO  pupil-teacher ratio by town\n",
      "        - B        1000(Bk - 0.63)^2 where Bk is the proportion of blacks by town\n",
      "        - LSTAT    % lower status of the population\n",
      "        - MEDV     Median value of owner-occupied homes in $1000's\n",
      "\n",
      "    :Missing Attribute Values: None\n",
      "\n",
      "    :Creator: Harrison, D. and Rubinfeld, D.L.\n",
      "\n",
      "This is a copy of UCI ML housing dataset.\n",
      "https://archive.ics.uci.edu/ml/machine-learning-databases/housing/\n",
      "\n",
      "\n",
      "This dataset was taken from the StatLib library which is maintained at Carnegie Mellon University.\n",
      "\n",
      "The Boston house-price data of Harrison, D. and Rubinfeld, D.L. 'Hedonic\n",
      "prices and the demand for clean air', J. Environ. Economics & Management,\n",
      "vol.5, 81-102, 1978.   Used in Belsley, Kuh & Welsch, 'Regression diagnostics\n",
      "...', Wiley, 1980.   N.B. Various transformations are used in the table on\n",
      "pages 244-261 of the latter.\n",
      "\n",
      "The Boston house-price data has been used in many machine learning papers that address regression\n",
      "problems.   \n",
      "     \n",
      ".. topic:: References\n",
      "\n",
      "   - Belsley, Kuh & Welsch, 'Regression diagnostics: Identifying Influential Data and Sources of Collinearity', Wiley, 1980. 244-261.\n",
      "   - Quinlan,R. (1993). Combining Instance-Based and Model-Based Learning. In Proceedings on the Tenth International Conference of Machine Learning, 236-243, University of Massachusetts, Amherst. Morgan Kaufmann.\n",
      "\n"
     ]
    }
   ],
   "source": [
    "# Load boston dataset from sklearn here\n",
    "from sklearn.datasets import load_boston\n",
    "\n",
    "boston = load_boston()\n",
    "# boston.feature_names\n",
    "print(boston.DESCR)"
   ]
  },
  {
   "cell_type": "code",
   "execution_count": 2,
   "metadata": {
    "tags": []
   },
   "outputs": [],
   "source": [
    "# YOURE CODE HERE"
   ]
  },
  {
   "cell_type": "markdown",
   "metadata": {},
   "source": [
    "# #2 "
   ]
  },
  {
   "cell_type": "code",
   "execution_count": 3,
   "metadata": {},
   "outputs": [],
   "source": [
    "import numpy as np\n",
    "import pandas as pd\n",
    "import matplotlib.pyplot as plt\n",
    "from sklearn import linear_model"
   ]
  },
  {
   "cell_type": "code",
   "execution_count": 4,
   "metadata": {},
   "outputs": [],
   "source": [
    "from sklearn.datasets import make_regression\n",
    "from sklearn.model_selection import train_test_split\n",
    "from sklearn.preprocessing import StandardScaler\n",
    "\n",
    "#only 10 out of 100 features are informative, add some noise to add to the difficulty of the problem\n",
    "X, y, coef = make_regression(n_samples = 1000, n_features = 100, coef=True,\n",
    "                         random_state=42, bias=6, noise=50, n_informative=10)\n",
    "\n",
    "#scaling does not really help with simple linear regression\n",
    "#since the coefficients can be multiply to certain order but\n",
    "#with same result.  However, regularized models will be\n",
    "#affected.  The idea is that the constraint is applied to the\n",
    "#sum of a function of coefficients.  If we inflate an attribute,\n",
    "#the coefficient will be deflated, which will affect\n",
    "#the penalization.  Thus it is best to scale for all regression\n",
    "#problems since it does not hurt\n",
    "scaler = StandardScaler()\n",
    "X = scaler.fit_transform(X)\n",
    "\n",
    "X_train, X_test, y_train, y_test = train_test_split(X, y, test_size=0.3)\n",
    "\n",
    "#perform Ridge regression\n",
    "#plot training and validation errors as function of lambda\n",
    "#also plot coefficients and coefficients error as function of lambda\n",
    "#coefficients can be obtained simply using model.coef_\n",
    "#coeffcient error can be computed using mean_squared_error(model.coef_, w)\n",
    "#interpret what is happening"
   ]
  },
  {
   "cell_type": "code",
   "execution_count": 5,
   "metadata": {},
   "outputs": [],
   "source": [
    "# Your code here"
   ]
  },
  {
   "cell_type": "markdown",
   "metadata": {},
   "source": [
    "3.\n",
    "\n",
    "Implement Linear regression from scratch using \n",
    "\n",
    "- **the closed form OLS**\n",
    "\n",
    "    - Recall that linear regression closed form is expressed in this equation:\n",
    "\n",
    " $$\\mathbf{w} = (\\mathbf{X}^{\\rm T}\\mathbf{X})^{-1} \\mathbf{X}^{\\rm T}\\mathbf{y}$$\n",
    "\n",
    "- **the gradient descent**\n",
    "\n",
    "    - Recall that the cost function is\n",
    "\n",
    "        $$ \\frac{1}{2} (h_\\theta x - y)^2 $$\n",
    "\n",
    "    - where its gradient (for single sample) is\n",
    "\n",
    "        $$ \\frac{\\partial J(\\theta)}{\\partial \\theta_j} = (h_\\theta x - y)x_j $$\n",
    "    \n",
    "    - where gradients of all sample can be calculated to\n",
    "        $$ \\frac{\\partial J(\\theta)}{\\partial \\theta_j} = \\Sigma_{i=1}^{m} (y^{(i)} - h_\\theta(x^{(i)})x_j^{(i)}$$\n",
    "        \n",
    "    - last, the update rule for \\theta is\n",
    "        $$ \\theta_j := \\theta_j - \\alpha (\\frac{\\partial J(\\theta)}{\\partial \\theta_j}) $$\n",
    "    \n",
    "    - where $\\alpha$ is learning rate, commonly set as 0.01\n",
    "\n",
    "\n",
    "- **the closed form OLS using pseudo inverse**\n",
    "\n",
    "    - Note that this part of the closed form is called pseudo inverse $X^+$ with the following equation:\n",
    "    \n",
    "        $$X^+ = (\\mathbf{X}^{\\rm T}\\mathbf{X})^{-1} \\mathbf{X}^{\\rm T}$$ \n",
    "         \n",
    "    - For those who are wondering what's so great about pseudo-inverse.  The great thing is that pseudo-inverse is a technique that allow us to perform inverse even the matrix is non-square and non-singular.  I recommend to check it out.  \n",
    "    \n",
    "    - The intuition is the following.  First, look into the inverse of a matrix given by (adj is the adjoint matrix which is the transpose of the cofactor matrix)\n",
    "    \n",
    "        $$A^{-1} = \\frac{1}{\\mid A \\mid} adj(A)$$\n",
    "        \n",
    "    - You can clearly see that inverse depends on the determinant of A, thus A MUST BE non-singular.  Also, A MUST BE square, because determinant of A only exists for square matrices only.\n",
    "    \n",
    "    - We can define pseudoinverse of the following which solves this issue (Note that A above is analogical to X here):\n",
    "    \n",
    "        $$X^+ = (\\mathbf{X}^{\\rm T}\\mathbf{X})^{-1} \\mathbf{X}^{\\rm T}$$ \n",
    "  \n",
    "    - First, the problem of X being non-square is solved by the term $X^TX$, since if $X$ is of shape $(n, m)$, then $X^TX$ is of shape $m, m$.  Second, the problem of it being singular is also solved, as $X$ is not comimg in the denomionator anymore, so there is no problem if $𝐴^+$ being $\\infty$\n",
    "    \n",
    "    - Also, let us also remember the basic rules of Matrices as:\n",
    "    \n",
    "       $$(AB)^{-1} = B^{-1}A^{-1}$$\n",
    "       $$(A)^{-1}A = I$$\n",
    "       $$AI = A$$\n",
    "       \n",
    "   - Thus, let us assume X is square and non-singular, then\n",
    "       \n",
    "       $$X^+ = (\\mathbf{X}^{\\rm T}\\mathbf{X})^{-1} \\mathbf{X}^{\\rm T}$$ \n",
    "       $$X^+ = X^{-1}(X^T)^{-1}X^T  \\text{(from rule 1)} $$\n",
    "       $$X^+ = X^{-1}I  \\text{(from rule 2)} $$\n",
    "       $$X^+ = X^{-1}  \\text{(from rule 3)} $$\n",
    "\n",
    "\n",
    "- **LinearRegression() by sklearn**.\n",
    "\n",
    "\n",
    "1. please research which algorithm that sklearn use?\n",
    "\n",
    "2. measure which one is faster, try to vary the n_features\n",
    "\n",
    "3. so what do you think, closed_form or gradient descent?\n",
    "\n",
    "use the same X y from #1"
   ]
  },
  {
   "cell_type": "code",
   "execution_count": 6,
   "metadata": {
    "tags": []
   },
   "outputs": [],
   "source": [
    "# Your code here"
   ]
  },
  {
   "cell_type": "markdown",
   "metadata": {},
   "source": [
    "4.\n",
    "\n",
    "Implement Ridge regression from scratch using \n",
    "\n",
    " - **the closed form OLS**\n",
    " \n",
    "    - Note that Ridge regression closed form is expressed in this equation:\n",
    " \n",
    " $$\\mathbf{w} = (\\mathbf{X}^{\\rm T}\\mathbf{X} + \\lambda I)^{-1} \\mathbf{X}^{\\rm T}\\mathbf{y}$$\n",
    "\n",
    " - **stochastic gradient descent**\n",
    "    - Recall that the Ridge regression cost function have an added lambda term\n",
    "    \n",
    "    $$ J(\\theta) = \\sum (y - h_\\theta(x))^2 + \\lambda\\sum_{n=1}^N \\theta_n^2\n",
    "$$\n",
    "    \n",
    "    - Note that stochastic gradient descent is similar to batch gradient descent in all aspect, except the gradient, which (1) added the gradient of the lambda term, and (2) use one sample for the gradient\n",
    "    \n",
    "    $$ \\frac{\\partial J(\\theta)}{\\partial \\theta_j} = (y^{(i)} - h_\\theta(x^{(i)})x_j^{(i)} + \\lambda \\theta_j$$\n",
    "\n",
    " - **SGDRegressor() of sklearn using penalty as l2**\n",
    "\n",
    " - **Ridge() by sklearn**\n",
    "\n",
    "loop through several lambda and print the MSE\n",
    "\n",
    "compare the time as well\n",
    "\n",
    "use the same X y from #1"
   ]
  },
  {
   "cell_type": "code",
   "execution_count": 7,
   "metadata": {},
   "outputs": [],
   "source": [
    "# Your code here"
   ]
  }
 ],
 "metadata": {
  "kernelspec": {
   "display_name": "Python 3",
   "language": "python",
   "name": "python3"
  },
  "language_info": {
   "codemirror_mode": {
    "name": "ipython",
    "version": 3
   },
   "file_extension": ".py",
   "mimetype": "text/x-python",
   "name": "python",
   "nbconvert_exporter": "python",
   "pygments_lexer": "ipython3",
   "version": "3.7.7"
  }
 },
 "nbformat": 4,
 "nbformat_minor": 2
}
