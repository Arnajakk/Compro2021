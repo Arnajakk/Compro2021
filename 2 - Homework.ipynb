{
 "cells": [
  {
   "cell_type": "markdown",
   "metadata": {},
   "source": [
    "# Exercise"
   ]
  },
  {
   "cell_type": "code",
   "execution_count": 1,
   "metadata": {},
   "outputs": [],
   "source": [
    "import numpy as np\n",
    "from numpy import genfromtxt"
   ]
  },
  {
   "cell_type": "markdown",
   "metadata": {},
   "source": [
    "1). <code>baseball = genfromtxt('resources/baseball.csv', delimiter=',',\n",
    "                      encoding=\"utf-8\", dtype=None)\n",
    "print(\"Fields: \", baseball[0])\n",
    "print(\"First name: \", baseball[1][0])\n",
    "print(\"First name: \", baseball[1][0], \" has a weight of\", \n",
    "      baseball[1][4]) </code>\n",
    "\n",
    "- find out all unique team\n",
    "- find out all unique position\n",
    "- average height by team and position (sorted descending)"
   ]
  },
  {
   "cell_type": "markdown",
   "metadata": {},
   "source": [
    "2). <code> fifa = genfromtxt('resources/fifa.csv', delimiter=',',\n",
    "                      encoding=\"utf-8\", dtype=None)\n",
    "print(\"Fields: \", fifa[0]) </code>\n",
    "\n",
    "we are scouts who want strikers/forward (A) with left foot, with height\n",
    "more than 190, with shooting over 75.  Basically, he should be able\n",
    "to both shoot and head!"
   ]
  },
  {
   "cell_type": "markdown",
   "metadata": {},
   "source": [
    "3).  Create a function that compute moving average using a sliding\n",
    "window over a list.  You may want to perform a bit of research what is moving average\n",
    "\n",
    "For example, <code>moving_average([1,2,5,10], n=2)</code> should produce\n",
    "        \n",
    "        [1.5 3.5 7.5]"
   ]
  },
  {
   "cell_type": "markdown",
   "metadata": {},
   "source": [
    "4).\n",
    "<code>#Read a digits image and split it up in different training examples\n",
    "import cv2\n",
    "import matplotlib.pyplot as plt\n",
    "img = cv2.imread('resources/digits.png', 0)\n",
    "plt.imshow(img)\n",
    "print(img.shape)</code>\n",
    "\n",
    "- first, our img is a numpy array, attempt to break into 100 letters \n",
    "\n",
    "- commonly, we break our dataset to training and testing set.  If our dataset is small, then probably testing should be around 30% then the rest is training set.  When our dataset is really big, 5% for testing set suffice.  Here our dataset is quite small, so attempt to break into 30% testing set, and 70% training set. Result should be X_train, X_test, y_train, y_test.  Code from scratch!"
   ]
  },
  {
   "cell_type": "markdown",
   "metadata": {},
   "source": [
    "5)  Create a set of 100 points that follow the function   \n",
    "\n",
    "$$f(x) = 0.5x + 1$$\n",
    "\n",
    "- first, add gaussian white noise to the result using np.random.normal\n",
    "- second, use polyfit to fit the results in a line and plot them using\n",
    "  <code>\n",
    "import matplotlib.pyplot as plt\n",
    "plt.plot(X, y, 'b.')  #blue dots\n",
    "plt.plot(X, coeff[1] + coeff[0]*X, 'r')  #overlay the line</code>\n",
    "- third, perform linear regression with ordinary least squares using the closed-form expression matrix formula $$\\mathbf{w} = (\\mathbf{X}^{\\rm T}\\mathbf{X})^{-1} \\mathbf{X}^{\\rm T}\\mathbf{y}$$  See whether we can get back the coefficients 1 and 0.5.  FYI: To invert a matrix, use <code>np.linalg.inv</code>"
   ]
  },
  {
   "cell_type": "markdown",
   "metadata": {},
   "source": [
    "6). \n",
    "<code>iris = genfromtxt('resources/iris.csv', delimiter=',',\n",
    "                      encoding=\"utf-8\", dtype=None)\n",
    "iris_without_headers = np.array(iris[1:])\n",
    "species = iris_without_headers[:, 5]\n",
    "sepal_length = iris_without_headers[:, 1].astype(float)\n",
    "petal_length = iris_without_headers[:, 3].astype(float)\n",
    "print(\"Fields: \", iris[0]) </code>\n",
    "\n",
    "- calculate how many samples of data we have\n",
    "- get all unique species\n",
    "- compute the mean and std of sepal length of each species\n",
    "- retrieve data with sepal length less than 5, and petal length greater than 1.5\n",
    "- Check if any missing values in the whole data\n",
    "- find correlation between sepal and petal length\n",
    "- let's perform logistic regression.  For fun, implement from scratch!(Do not use scikit learn!).  Define X as sepal length and Y as 0, 1"
   ]
  },
  {
   "cell_type": "markdown",
   "metadata": {},
   "source": [
    "7). Implement a simple perceptron using Numpy on the given file and output the trained weights, attempt to measure the accuracy of this trained weights.  Use a simple stochastic gradient descent method in which the model make prediction at each training instance where error is calculated.  Then the model is updated in order to reduce the error for the next prediction.  This procedure can be used fo find the set of weights in a model that result in the smallest error.  The formula is as follows:\n",
    "\n",
    "<code>w = w + learning_rate * (expected - predicted) * x #for x\n",
    "w = w + learning_rate * (expected - predicted) #for bias</code>\n",
    "\n",
    "Here is the initial code:\n",
    "\n",
    "<code>data = np.genfromtxt('resources/perceptron.csv', delimiter=',', skip_header=1)\n",
    "X = data[:, :-1]\n",
    "y = data[:, -1]\n",
    "cond0 = y==0\n",
    "cond1 = y==1\n",
    "plt.plot(X[:,0][cond0], X[:,1][cond0], 'o', mec='r', mfc='none')\n",
    "plt.plot(X[:,0][cond1], X[:,1][cond1], 'o', mec='g', mfc='none')</code>\n"
   ]
  },
  {
   "cell_type": "markdown",
   "metadata": {},
   "source": [
    "# Solution"
   ]
  },
  {
   "cell_type": "code",
   "execution_count": 2,
   "metadata": {},
   "outputs": [
    {
     "name": "stdout",
     "output_type": "stream",
     "text": [
      "Fields:  ['\"Name\"' '\"Team\"' '\"Position\"' '\"Height\"' '\"Weight\"' '\"Age\"'\n",
      " '\"PosCategory\"']\n",
      "First name:  \"Adam_Donachie\"\n",
      "First name:  \"Adam_Donachie\"  has a weight of 180\n",
      "Teams:  {'\"SD\"', '\"KC\"', '\"ARZ\"', '\"STL\"', '\"BOS\"', '\"NYM\"', '\"NYY\"', '\"BAL\"', '\"ANA\"', '\"MIN\"', '\"CWS\"', '\"DET\"', '\"ATL\"', '\"SEA\"', '\"LA\"', '\"PIT\"', '\"SF\"', '\"HOU\"', '\"TOR\"', '\"CHC\"', '\"FLA\"', '\"WAS\"', '\"CIN\"', '\"OAK\"', '\"CLE\"', '\"TB\"', '\"TEX\"', '\"MLW\"', '\"COL\"', '\"PHI\"'}\n",
      "Number of teams:  30\n",
      "Positions:  {'\"Catcher\"', '\"Starting_Pitcher\"', '\"Outfielder\"', '\"First_Baseman\"', '\"Shortstop\"', '\"Second_Baseman\"', '\"Relief_Pitcher\"', '\"Third_Baseman\"'}\n",
      "Number of positions:  8\n",
      "Average height:  73.6896551724138\n",
      "Sorted height in desc order:  [['74.73181818181818' '\"Third_Baseman\"']\n",
      " ['74.37460317460318' '\"Starting_Pitcher\"']\n",
      " ['74.0' '\"Shortstop\"']\n",
      " ['73.04444444444445' '\"Second_Baseman\"']\n",
      " ['73.01030927835052' '\"Relief_Pitcher\"']\n",
      " ['72.72368421052632' '\"Outfielder\"']\n",
      " ['71.90384615384616' '\"First_Baseman\"']\n",
      " ['71.36206896551724' '\"Catcher\"']]\n"
     ]
    }
   ],
   "source": [
    "#1\n",
    "baseball = genfromtxt('resources/baseball.csv', delimiter=',',\n",
    "                      encoding=\"utf-8\", dtype=None)\n",
    "\n",
    "print(\"Fields: \", baseball[0])\n",
    "print(\"First name: \", baseball[1][0])\n",
    "print(\"First name: \", baseball[1][0], \" has a weight of\", \n",
    "      baseball[1][4])\n",
    "\n",
    "baseball_without_header = baseball[1:]\n",
    "\n",
    "#find out all unique team\n",
    "team = baseball_without_header[:, 1]\n",
    "\n",
    "print(\"Teams: \", set(team))\n",
    "print(\"Number of teams: \", len(set(team)))  #you can also do np.unique\n",
    "\n",
    "#find out all unique position\n",
    "pos = baseball_without_header[:, 2]\n",
    "\n",
    "print(\"Positions: \", set(pos))\n",
    "print(\"Number of positions: \", len(set(pos)))\n",
    "\n",
    "#average height by team and position (sorted descending)\n",
    "print(\"Average height: \", baseball_without_header[:, 3].astype(float).mean())\n",
    "\n",
    "height_info = []\n",
    "for each_pos in set(pos):\n",
    "    height = baseball_without_header[pos==each_pos, 3].astype(float).mean()\n",
    "    height_info.append([height, each_pos])\n",
    "\n",
    "#create numpy for easy indexing using np.vstack\n",
    "height_info_numpy = np.vstack(height_info)\n",
    "\n",
    "#use ::-1 for printing in reverse order\n",
    "print(\"Sorted height in desc order: \", np.sort(height_info_numpy, axis=0)[::-1])"
   ]
  },
  {
   "cell_type": "code",
   "execution_count": 3,
   "metadata": {},
   "outputs": [
    {
     "name": "stdout",
     "output_type": "stream",
     "text": [
      "Fields:  ['id' ' name' ' rating' ' position' ' height' ' foot' ' rare' ' pace'\n",
      " ' shooting' ' passing' ' dribbling' ' defending' ' heading' ' diving'\n",
      " ' handling' ' kicking' ' reflexes' ' speed' ' positioning']\n",
      "Here is our scouted list boss:  [['106019' 'Adriano' '77' 'A' '190' 'Left' '0' '62' '80' '52' '71' '59'\n",
      "  '67' '' '' '' '' '' '']\n",
      " ['138384' 'Marc Janko' '75' 'A' '196' 'Left' '1' '38' '76' '47' '58'\n",
      "  '56' '65' '' '' '' '' '' '']\n",
      " ['178509' 'Olivier Giroud' '76' 'A' '192' 'Left' '1' '63' '77' '64' '67'\n",
      "  '60' '85' '' '' '' '' '' '']\n",
      " ['179752' 'Óscar Cardozo' '81' 'A' '192' 'Left' '1' '42' '85' '71' '73'\n",
      "  '63' '77' '' '' '' '' '' '']\n",
      " ['200647' 'Josip Iličić' '79' 'A' '190' 'Left' '1' '71' '81' '80' '81'\n",
      "  '64' '49' '' '' '' '' '' '']]\n"
     ]
    }
   ],
   "source": [
    "#2\n",
    "fifa = genfromtxt('resources/fifa.csv', delimiter=',',\n",
    "                      encoding=\"utf-8\", dtype=None)\n",
    "print(\"Fields: \", fifa[0])\n",
    "\n",
    "#we are scouts who want strikers/forward (A) with left foot, with height\n",
    "#more than 190, with shooting over 75.  Basically, he should be able\n",
    "#to both shoot and head!\n",
    "fifa_without_header = np.array(fifa[1:])\n",
    "\n",
    "#remove some strange trailing whitespace\n",
    "fifa_without_header_cleaned = np.char.lstrip(fifa_without_header)\n",
    "pos = fifa_without_header_cleaned[:, 3]\n",
    "cond_pos = pos == \"A\"\n",
    "\n",
    "filtered_pos = fifa_without_header_cleaned[cond_pos]\n",
    "foot = filtered_pos[:, 5]\n",
    "cond_foot = foot == \"Left\"\n",
    "\n",
    "filtered_pos_foot = filtered_pos[cond_foot]\n",
    "height = filtered_pos_foot[:, 4].astype(float)\n",
    "cond_height = height >= 190\n",
    "\n",
    "filtered_pos_foot_height = filtered_pos_foot[cond_height]\n",
    "shoot = filtered_pos_foot_height[:, 8].astype(float)\n",
    "cond_shoot = shoot > 75\n",
    "\n",
    "filtered_pos_foot_height_shoot = filtered_pos_foot_height[cond_shoot]\n",
    "\n",
    "print(\"Here is our scouted list boss: \", filtered_pos_foot_height_shoot)\n"
   ]
  },
  {
   "cell_type": "code",
   "execution_count": 4,
   "metadata": {},
   "outputs": [
    {
     "name": "stdout",
     "output_type": "stream",
     "text": [
      "[1.5 3.5 7.5]\n",
      "[1.5 3.5 7.5]\n"
     ]
    },
    {
     "data": {
      "text/plain": [
       "\"\\n [1,   2,   5,  10]\\n [0.5, 0.5]            #(actually need to reverse this, but reverse of it look the same) #without reverse, we call correlation\\n  -->  1*0.5 + 2*0.5 = 1.5\\n  \\n [1,   2,   5,  10]\\n     [0.5, 0.5]            #(actually need to reverse this, but reverse of it look the same) #without reverse, we call correlation\\n  2*0.5 + 5*0.5 = 3.5\\n\\n  [1,   2,   5,  10]\\n           [0.5, 0.5]            #(actually need to reverse this, but reverse of it look the same) #without reverse, we call correlation\\n  5*0.5 + 10*0.5 = 7.5\\n\\nExplanation:\\nThe running mean is a case of the mathematical operation of convolution. \\nFor the running mean, you slide a window along the input and compute the mean of the window's contents. \\nFor discrete 1D signals, convolution is the same thing, except instead of the mean you compute an arbitrary \\nlinear combination, i.e. multiply each element by a corresponding coefficient and add up the results. \\nThose coefficients, one for each position in the window, are sometimes called the convolution kernel. Now, the arithmetic mean of N values is (x_1 + x_2 + ... + x_N) / N, so the corresponding kernel \\nis (1/N, 1/N, ..., 1/N), and that's exactly what we get by using np.ones((N,))/N.\\n\\nConvolution is very very essential in many areas, such as fourier transform for eeg signals or image filtering\\nIn fourier transform, you can think of first vector as composed signal, and second vector\\nis a sinusoidal curve function of a particular frequency, by convoluting them together,\\nyou can get the signal with only that particular frequency.  Think of music, by convoluting\\nit with frequency 1-10Hz, you get only the sound with 1-10hz (just like what you do in a video-editing progrma)\\n\""
      ]
     },
     "execution_count": 4,
     "metadata": {},
     "output_type": "execute_result"
    }
   ],
   "source": [
    "#3\n",
    "data = [1, 2, 5, 10]\n",
    "\n",
    "def moving_average(a, n=3) :\n",
    "    ret = np.cumsum(a, dtype=float)\n",
    "    #we modify [n:] so that it only contains first previous n values accumulation\n",
    "    ret[n:] = ret[n:] - ret[:-n]\n",
    "    #we ignore n-1 value since they cannot calculate moving average\n",
    "    return ret[n - 1:] / n\n",
    "\n",
    "print(moving_average([1,2,5,10], n=2))\n",
    "\n",
    "#we can also use numpy.convolve\n",
    "def moving_average_convolve(data, n=3):\n",
    "    weights = np.ones(n) / n\n",
    "    #mode='valid' make sure our value lies where signal overlap completely\n",
    "    #Basically, mode ‘valid’ returns output of length max(len(weights), len(data)) - min(len(weights), len(data)) + 1\n",
    "    #4-2+1 = 3, thus the resulting list is of length 3\n",
    "    return np.convolve(data, weights, mode='valid')\n",
    "\n",
    "print(moving_average_convolve(data, n=2))\n",
    "\n",
    "#convolve basically do this:\n",
    "'''\n",
    " [1,   2,   5,  10]\n",
    " [0.5, 0.5]            #(actually need to reverse this, but reverse of it look the same) #without reverse, we call correlation\n",
    "  -->  1*0.5 + 2*0.5 = 1.5\n",
    "  \n",
    " [1,   2,   5,  10]\n",
    "     [0.5, 0.5]            #(actually need to reverse this, but reverse of it look the same) #without reverse, we call correlation\n",
    "  2*0.5 + 5*0.5 = 3.5\n",
    "\n",
    "  [1,   2,   5,  10]\n",
    "           [0.5, 0.5]            #(actually need to reverse this, but reverse of it look the same) #without reverse, we call correlation\n",
    "  5*0.5 + 10*0.5 = 7.5\n",
    "\n",
    "Explanation:\n",
    "The running mean is a case of the mathematical operation of convolution. \n",
    "For the running mean, you slide a window along the input and compute the mean of the window's contents. \n",
    "For discrete 1D signals, convolution is the same thing, except instead of the mean you compute an arbitrary \n",
    "linear combination, i.e. multiply each element by a corresponding coefficient and add up the results. \n",
    "Those coefficients, one for each position in the window, are sometimes called the convolution kernel. \\\n",
    "Now, the arithmetic mean of N values is (x_1 + x_2 + ... + x_N) / N, so the corresponding kernel \n",
    "is (1/N, 1/N, ..., 1/N), and that's exactly what we get by using np.ones((N,))/N.\n",
    "\n",
    "Convolution is very very essential in many areas, such as fourier transform for eeg signals or image filtering\n",
    "In fourier transform, you can think of first vector as composed signal, and second vector\n",
    "is a sinusoidal curve function of a particular frequency, by convoluting them together,\n",
    "you can get the signal with only that particular frequency.  Think of music, by convoluting\n",
    "it with frequency 1-10Hz, you get only the sound with 1-10hz (just like what you do in a video-editing progrma)\n",
    "'''\n",
    "\n"
   ]
  },
  {
   "cell_type": "code",
   "execution_count": 5,
   "metadata": {},
   "outputs": [
    {
     "name": "stdout",
     "output_type": "stream",
     "text": [
      "(80, 80)\n"
     ]
    },
    {
     "data": {
      "image/png": "[encoded data removed]",
      "text/plain": [
       "<Figure size 432x288 with 1 Axes>"
      ]
     },
     "metadata": {
      "needs_background": "light"
     },
     "output_type": "display_data"
    }
   ],
   "source": [
    "#4\n",
    "#Read a digits image and split it up in different training examples\n",
    "import cv2\n",
    "import matplotlib.pyplot as plt\n",
    "\n",
    "#0 means gray scale\n",
    "img = cv2.imread('resources/digits.png', 0)\n",
    "plt.imshow(img)\n",
    "\n",
    "print(img.shape)\n",
    "\n",
    "#img is a numpy array, attempt to break into 100 letters\n",
    "\n",
    "X = []\n",
    "#8 pixels for each letter since  80 pixels /10 letters = 8\n",
    "for i in range(0, img.shape[0], 8):\n",
    "    for j in range(0, img.shape[1], 8):\n",
    "        X.append(img[i:i+8, j:j+8])\n",
    "        \n",
    "X = np.array(X)\n",
    "        \n",
    "#view the first 0\n",
    "plt.imshow(X[0])\n",
    "\n",
    "#view the last 9 of the last column\n",
    "#plt.imshow(data[99])\n",
    "\n",
    "#commonly, we break our dataset to training and testing set\n",
    "#if our dataset is small, then probably testing should be around 30% then the rest is training set\n",
    "#if our dataset is really big, 5% for testing set suffice\n",
    "#here our dataset is quite small, so attempt to break into 30% testing set, and 70%training set\n",
    "#result should be X_train, X_test, y_train, y_test \n",
    "#Code from scratch!\n",
    "\n",
    "y = np.zeros(X.shape[0])\n",
    "for idx, i in enumerate(range(10, y.shape[0], 10)):\n",
    "    y[i:i+10] = idx + 1\n",
    "\n",
    "def test_train_split(X, y, size=0.3):\n",
    "    #do some shuffling\n",
    "    assert len(X) == len(y)\n",
    "    shuffle_X = np.empty(X.shape, dtype=X.dtype)\n",
    "    shuffle_y = np.empty(y.shape, dtype=y.dtype)\n",
    "    permutation = np.random.permutation(len(X))\n",
    "    for old_idx, new_idx in enumerate(permutation):\n",
    "        shuffle_X[new_idx] = X[old_idx]\n",
    "        shuffle_y[new_idx] = y[old_idx]\n",
    "    \n",
    "    #get split index and slice\n",
    "    idx = int(X.shape[0] * size)\n",
    "    X_train, X_test = shuffle_X[:idx], shuffle_X[idx:]\n",
    "    y_train, y_test = shuffle_y[:idx], shuffle_y[idx:]\n",
    "    return X_train, X_test, y_train, y_test\n",
    "\n",
    "X_train, X_test, y_train, y_test = test_train_split(X, y, size=0.3)"
   ]
  },
  {
   "cell_type": "code",
   "execution_count": 6,
   "metadata": {},
   "outputs": [
    {
     "name": "stdout",
     "output_type": "stream",
     "text": [
      "Weights:  [0.97258362 0.49767773]\n"
     ]
    },
    {
     "data": {
      "image/png": "[encoded data removed]",
      "text/plain": [
       "<Figure size 432x288 with 1 Axes>"
      ]
     },
     "metadata": {
      "needs_background": "light"
     },
     "output_type": "display_data"
    }
   ],
   "source": [
    "#5  Create a set of 100 points that follow the function\n",
    "#                      f(x) = 0.5x + 1\n",
    "\n",
    "import matplotlib.pyplot as plt\n",
    "import numpy as np\n",
    "\n",
    "X = np.linspace(1, 10, 1000)\n",
    "\n",
    "#then add gaussian white noise to the result using np.random.normal\n",
    "def f(X):\n",
    "    return 0.5*X + 1 + np.random.normal(size=X.shape[0])\n",
    "\n",
    "y = f(X)\n",
    "\n",
    "#use polyfit fo fit the results in a line and plot them\n",
    "coeff = np.polyfit(X, y, 1)  #1 for linear reg \n",
    "plt.plot(X, y, 'b.')  #blue dots\n",
    "plt.plot(X, coeff[1] + coeff[0]*X, 'r')  #overlay the line\n",
    "\n",
    "#for the sake of practice\n",
    "#let's perform linear regression with ordinary least squares using\n",
    "#the closed-form expression matrix formula.  See whether we\n",
    "#can get back the coefficients 1 and 0.5\n",
    "#FYI: To invert a matrix, use np.linalg.inv\n",
    "#for the marix formula, it's (X.T dot X)^-1 dot X.T dot Y \n",
    "#or see https://en.wikipedia.org/wiki/Linear_regression\n",
    "def linear_reg(X, y):\n",
    "    return np.linalg.inv(X.T.dot(X)).dot(X.T).dot(y)\n",
    "\n",
    "#make X in the form of (samples, features)\n",
    "X = X[:, np.newaxis]\n",
    "\n",
    "#add intercept to X\n",
    "intercept = np.ones((X.shape[0], 1)) \n",
    "X = np.concatenate((intercept, X), axis=1)\n",
    "\n",
    "#now our X is in the form, so that it can be multiplied with weights\n",
    "#[ 1  x1\n",
    "#  1  x2\n",
    "#  1  x3\n",
    "#  1  x4\n",
    "# .\n",
    "# .       ] *  [WeightforB0,\n",
    "#                WeightforB1]\n",
    "\n",
    "#if you do not understand this part, see\n",
    "##https://en.wikipedia.org/wiki/Design_matrix \n",
    "\n",
    "weights = linear_reg(X, y)\n",
    "print(\"Weights: \", weights)  #yay, seems like our 0.9 is close to 1, and 0.515 is close to 0.5\n"
   ]
  },
  {
   "cell_type": "code",
   "execution_count": 7,
   "metadata": {},
   "outputs": [
    {
     "name": "stdout",
     "output_type": "stream",
     "text": [
      "Fields:  ['Id' 'SepalLengthCm' 'SepalWidthCm' 'PetalLengthCm' 'PetalWidthCm'\n",
      " 'Species']\n",
      "Rows:  100\n",
      "Rows:  100\n",
      "Unique species:  {'Iris-setosa', 'Iris-virginica'}\n",
      "Iris-setosa: 5.006\n",
      "Iris-virginica: 6.587999999999998\n",
      "Filtered iris:  [['12' '4.8' '3.4' '1.6' '0.2' 'Iris-setosa']\n",
      " ['25' '4.8' '3.4' '1.9' '0.2' 'Iris-setosa']\n",
      " ['30' '4.7' '3.2' '1.6' '0.2' 'Iris-setosa']\n",
      " ['31' '4.8' '3.1' '1.6' '0.2' 'Iris-setosa']\n",
      " ['107' '4.9' '2.5' '4.5' '1.7' 'Iris-virginica']]\n",
      "Any missing values?:  0\n",
      "Correation of 0.9047958050294632 and p_value of 4.1155959453122893e-38\n",
      "[-2.12889688  5.45877571]\n",
      "loss: 0.3147901138532218\n",
      "Accuracy:  0.96\n"
     ]
    }
   ],
   "source": [
    "#6\n",
    "iris = genfromtxt('resources/iris.csv', delimiter=',',\n",
    "                      encoding=\"utf-8\", dtype=None)\n",
    "\n",
    "iris_without_headers = np.array(iris[1:])\n",
    "species = iris_without_headers[:, 5]\n",
    "sepal_length = iris_without_headers[:, 1].astype(float)\n",
    "petal_length = iris_without_headers[:, 3].astype(float)\n",
    "\n",
    "print(\"Fields: \", iris[0])\n",
    "\n",
    "#calculate how many samples of data we have\n",
    "print(\"Rows: \", len(iris_without_headers))\n",
    "print(\"Rows: \", np.array(iris_without_headers).shape[0])\n",
    "\n",
    "#get all unique species\n",
    "print(\"Unique species: \", set(species))\n",
    "\n",
    "#compute the mean and std of sepal length of each species\n",
    "for spec in set(species):\n",
    "    cond = species == spec\n",
    "    print(spec, end=\": \")\n",
    "    mean = iris_without_headers[cond][:, 1].astype(float).mean()\n",
    "    print(mean)\n",
    "    \n",
    "##Here you will see that sepal length seems to be a good predictor\n",
    "##for each class\n",
    "\n",
    "#just for the sake of practicing boolean masking\n",
    "#retrieve data with sepal length less than 5, and petal length \n",
    "#greater than 1.5\n",
    "cond1 = petal_length > 1.5\n",
    "cond2 = sepal_length < 5\n",
    "filtered_iris = iris_without_headers[cond1 & cond2]\n",
    "print(\"Filtered iris: \", filtered_iris)\n",
    "\n",
    "#Check if any missing values in the whole data\n",
    "print(\"Any missing values?: \", np.isnan(petal_length).sum())  #seems no, rejoice!\n",
    "\n",
    "#find correlation between sepal and petal length\n",
    "from scipy.stats.stats import pearsonr  \n",
    "corr, p_value = pearsonr(sepal_length, petal_length)\n",
    "print(f\"Correation of {corr} and p_value of {p_value}\")\n",
    "\n",
    "##Seems i=like sepal and petal length has high correlation,\n",
    "##thus if we want to predict, probably use either is enough\n",
    "\n",
    "#let's create our X as noramlized sepal length \n",
    "#in many algorithms, especially distance based, normalizing data can yield better results\n",
    "#normalize the sepal length such that max value has value 1 and min value has value 0\n",
    "#formula is this x ′ = ( x − x m i n ) / ( x m a x − x m i n )\n",
    "#then make sure to reshape this X to the form (samples, features)\n",
    "normalized_sepal_length = (sepal_length - np.min(sepal_length))/(np.max(sepal_length) - np.min(sepal_length))\n",
    "X = normalized_sepal_length[:, np.newaxis]\n",
    "\n",
    "##also add some intercept for our X\n",
    "intercept = np.ones((X.shape[0], 1)) \n",
    "X = np.concatenate((intercept, X), axis=1)\n",
    "\n",
    "##create your y, taking species as labels\n",
    "##notice that my y is small char, and it should be in the shape of\n",
    "##(samples, )  ##easy way is to use squeeze\n",
    "y = np.squeeze(iris_without_headers[:, 5])\n",
    "y[y=='Iris-setosa'] = 0\n",
    "y[y=='Iris-virginica'] = 1\n",
    "y = y.astype(int)\n",
    "\n",
    "##let's perform logistic regression.  For fun, implement from scratch!(Do not use scikit learn!)\n",
    "##define X as sepal length and Y as 0, 1, where 0 for \n",
    "##let's define some function, first is the sigmoid function\n",
    "##if you are not familiar with logistic regression, read a bit\n",
    "def sigmoid(X, weight):\n",
    "    hx = np.dot(X, weight)\n",
    "    return 1 / (1 + np.exp(-hx))\n",
    "\n",
    "##let's define a loss function so we can do some gradient descent on it\n",
    "##fx is our sigmoid output, and y is the actual y\n",
    "def loss(fx, y):\n",
    "    #.mean for 1/n\n",
    "    return (-y * np.log(fx) - (1 - y) * np.log (1-fx)).mean()\n",
    "\n",
    "##let's create a function to predict the class then\n",
    "def predict(X, weight):\n",
    "    return sigmoid(X, weight) >= 0.5\n",
    "\n",
    "#let's do some predictions\n",
    "\n",
    "#weights initialization; you can actually randomize...\n",
    "weight = np.zeros(X.shape[1])\n",
    "lr = 0.1  #learning rate\n",
    "\n",
    "##let's do gradient descent for 1000 times\n",
    "for i in range(1000):\n",
    "    fx = sigmoid(X, weight)\n",
    "    ##let's define a gradient descent formula, and update\n",
    "    ##which basically is the partial derivatives of the loss function\n",
    "    gradient = np.dot(X.T, (fx-y)) / y.shape[0]\n",
    "    weight -= lr * gradient\n",
    "\n",
    "print(weight)\n",
    "print(f\"loss: {loss(fx, y)}\")\n",
    "\n",
    "#accuracy  ##we later will discuss why this method is bad since we could be overfitting\n",
    "prediction = predict(X, weight)\n",
    "print(\"Accuracy: \", (prediction == y).mean())"
   ]
  },
  {
   "cell_type": "code",
   "execution_count": 8,
   "metadata": {},
   "outputs": [
    {
     "name": "stdout",
     "output_type": "stream",
     "text": [
      "Accuracy:  1.0\n"
     ]
    },
    {
     "data": {
      "image/png": "[encoded data removed]",
      "text/plain": [
       "<Figure size 432x288 with 1 Axes>"
      ]
     },
     "metadata": {
      "needs_background": "light"
     },
     "output_type": "display_data"
    }
   ],
   "source": [
    "#7 Implement a simple perceptron using Numpy on the given file\n",
    "# and output the trained weights, attempt to measure the accuracy\n",
    "# of this trained weights.  \n",
    "# Use a simple stochastic gradient descent method in which\n",
    "#the model make prediction at each training instance where\n",
    "#error is calculated.  Then the model is updated in order\n",
    "#to reduce the error for the next prediction\n",
    "#this procedure can be used fo find the set of weights\n",
    "#in a model that result in the smallest error.  The formula is as follows:\n",
    "\n",
    "# w = w + learning_rate * (expected - predicted) * x\n",
    "\n",
    "# Does not require splitting train-test set for simplicity\n",
    "data = np.genfromtxt('resources/perceptron.csv', delimiter=',', skip_header=1)\n",
    "\n",
    "X = data[:, :-1]\n",
    "y = data[:, -1]\n",
    "\n",
    "#we can do this, because X and y has same length\n",
    "cond0 = y==0\n",
    "cond1 = y==1\n",
    "\n",
    "#mec: marker edge color; mfc: marker face color\n",
    "plt.plot(X[:,0][cond0], X[:,1][cond0], 'o', mec='r', mfc='none')\n",
    "plt.plot(X[:,0][cond1], X[:,1][cond1], 'o', mec='g', mfc='none')\n",
    "\n",
    "def predict(row, w):\n",
    "    #will be run for each training instance\n",
    "    #negative - classify as 0 class\n",
    "    if np.dot(w[1:], row) + w[0] < 0:\n",
    "        return 0\n",
    "    else:\n",
    "        return 1\n",
    "\n",
    "def get_preds(X, w):\n",
    "    preds = np.squeeze(np.dot(X, w[1:, np.newaxis]) + w[0])\n",
    "    return preds > 0 \n",
    "\n",
    "def fit(X, y):\n",
    "    num_feature = X.shape[1]\n",
    "    w = np.zeros(num_feature+1)  #bias, w1, w2\n",
    "    l_rate = 0.1\n",
    "    iteration = 1000\n",
    "    for i in range(iteration):\n",
    "        #loop through each X pairs\n",
    "        for j in range(X.shape[0]):\n",
    "            #predict using the w\n",
    "            ypred = predict(X[j], w)\n",
    "            yactual = y[j]\n",
    "            error = yactual - ypred\n",
    "            #Weights are updated based on the error the model made.\n",
    "            w[0] += l_rate * error  #updating bias\n",
    "            w[1:] += l_rate * error * X[j]  #updating w1, w2\n",
    "    return w\n",
    "                \n",
    "w = fit(X, y)\n",
    "pred = get_preds(X, w)\n",
    "print(\"Accuracy: \", (pred == y).mean())\n",
    "\n",
    "#getting 1 is not a surprise, since we know all training data\n",
    "#thus it is better to have separate test training set"
   ]
  },
  {
   "cell_type": "code",
   "execution_count": null,
   "metadata": {},
   "outputs": [],
   "source": []
  }
 ],
 "metadata": {
  "kernelspec": {
   "display_name": "Python 3",
   "language": "python",
   "name": "python3"
  },
  "language_info": {
   "codemirror_mode": {
    "name": "ipython",
    "version": 3
   },
   "file_extension": ".py",
   "mimetype": "text/x-python",
   "name": "python",
   "nbconvert_exporter": "python",
   "pygments_lexer": "ipython3",
   "version": "3.7.7"
  }
 },
 "nbformat": 4,
 "nbformat_minor": 4
}
