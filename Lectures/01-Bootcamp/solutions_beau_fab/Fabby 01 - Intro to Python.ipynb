{
 "cells": [
  {
   "cell_type": "markdown",
   "metadata": {},
   "source": [
    "# Solution 1 intro to python // Fabby"
   ]
  },
  {
   "cell_type": "markdown",
   "metadata": {},
   "source": [
    "### === Task 1 ===\n",
    "\n",
    "1. Declare two strings with value \"3\" and \"4\". Converting them to int, and then perform addition\n",
    "\n",
    "2. Declare a variable x = 10, and then print a f-string saying \"my variable x = 10\" where 10 is from the x value.\n",
    "\n",
    "3. Perform a calculation of (10 mod 4 / 2) and convert to integer\n",
    "\n",
    "4. Get input from user using input(), and then print the type of the input <br>\n",
    "Hint: https://www.geeksforgeeks.org/taking-input-in-python/\n",
    "\n",
    "5. Declare three strings: \"Chaky\", \"John\", \"Tom\", and concatenate (connect) them into \"Chaky, John, Tom\""
   ]
  },
  {
   "cell_type": "code",
   "execution_count": 13,
   "metadata": {},
   "outputs": [
    {
     "name": "stdout",
     "output_type": "stream",
     "text": [
      "Answer Q1:  7\n",
      "Answer Q2:  my variable x = 10\n",
      "Answer Q3:  1\n"
     ]
    },
    {
     "name": "stdin",
     "output_type": "stream",
     "text": [
      "Please enter your input :  5\n"
     ]
    },
    {
     "name": "stdout",
     "output_type": "stream",
     "text": [
      "Answer Q4:  <class 'str'>\n",
      "Answer Q5:  Chaky, John, Tom\n"
     ]
    }
   ],
   "source": [
    "#====== 1 =======\n",
    "a = '3'\n",
    "b = '4'\n",
    "a = int(a)\n",
    "b = int(b)\n",
    "print(\"Answer Q1: \", a + b)\n",
    "\n",
    "#====== 2 =======\n",
    "x = 10\n",
    "print(\"Answer Q2: \", f'my variable x = {x}')\n",
    "\n",
    "#====== 3 =======\n",
    "print(\"Answer Q3: \", int(10 % 4/2 ))\n",
    "\n",
    "#====== 4 =======\n",
    "x = input(\"Please enter your input : \")\n",
    "print(\"Answer Q4: \", type(x))\n",
    "\n",
    "#====== 5 =======\n",
    "a = 'Chaky'\n",
    "b = 'John'\n",
    "c = 'Tom'\n",
    "print(\"Answer Q5: \", a + \", \" + b + \", \" + c)"
   ]
  },
  {
   "cell_type": "markdown",
   "metadata": {},
   "source": [
    "### === Task 2 ===\n",
    "\n",
    "1. Get input from user using input().  If the number is less than 5, print \"less than\".  Otherwise, print \"higher than\". <br>\n",
    "Note: input() always returns str\n",
    "\n",
    "2. Write a simple number guessing game using pseudocode.  The program generates a random integer.  It then accepts input from users for a integer.  After the user input, the system outputs one of the three possible states whether the number is higher, lower or equal to the target integer.  If it is wrong, it will keep asking users for input.  Feel free to make any assumption for anything not stated.\n",
    "\n",
    "##### An example of a pseudocode\n",
    "\n",
    "<code>\n",
    "If sugar is required\n",
    "    then add sugar\n",
    "else\n",
    "    don't add sugar\n",
    "endif"
   ]
  },
  {
   "cell_type": "code",
   "execution_count": 4,
   "metadata": {},
   "outputs": [
    {
     "name": "stdin",
     "output_type": "stream",
     "text": [
      " 6\n"
     ]
    },
    {
     "name": "stdout",
     "output_type": "stream",
     "text": [
      "Answer Q2: higher than\n"
     ]
    }
   ],
   "source": [
    "#====== 1 =======\n",
    "x = input()\n",
    "x = int(x)\n",
    "if x < 5 :\n",
    "    print(\"Answer Q1: less than\")\n",
    "else:\n",
    "    print(\"Answer Q2: higher than\")"
   ]
  },
  {
   "cell_type": "code",
   "execution_count": 11,
   "metadata": {},
   "outputs": [
    {
     "name": "stdin",
     "output_type": "stream",
     "text": [
      "Please input your guess :  7\n",
      "Please input an integer :  6\n"
     ]
    },
    {
     "name": "stdout",
     "output_type": "stream",
     "text": [
      "higher than target\n"
     ]
    },
    {
     "name": "stdin",
     "output_type": "stream",
     "text": [
      "Please input an integer :  5\n"
     ]
    },
    {
     "name": "stdout",
     "output_type": "stream",
     "text": [
      "higher than target\n"
     ]
    },
    {
     "name": "stdin",
     "output_type": "stream",
     "text": [
      "Please input an integer :  4\n"
     ]
    },
    {
     "name": "stdout",
     "output_type": "stream",
     "text": [
      "higher than target\n"
     ]
    },
    {
     "name": "stdin",
     "output_type": "stream",
     "text": [
      "Please input an integer :  3\n"
     ]
    },
    {
     "name": "stdout",
     "output_type": "stream",
     "text": [
      "equal to target\n"
     ]
    },
    {
     "name": "stdin",
     "output_type": "stream",
     "text": [
      "Do you want to play another round ? (0/1) :  0\n"
     ]
    }
   ],
   "source": [
    "#====== 2 =======\n",
    "import random\n",
    "more = True\n",
    "while more == True:\n",
    "    target = random.randint(0, 10)\n",
    "    guess = input(\"Please input your guess : \")\n",
    "    while type(guess)!= int:\n",
    "        guess = input(\"Please input an integer : \")\n",
    "        guess = int(guess) # cheated\n",
    "\n",
    "    equal = False\n",
    "    while equal == False:\n",
    "        if guess > target:\n",
    "            print(\"higher than target\")\n",
    "            guess = int(input(\"Please input an integer : \"))\n",
    "        elif guess < target:\n",
    "            print(\"lower than target\")\n",
    "            guess = int(input(\"Please input an integer : \"))\n",
    "        else:\n",
    "            print(\"equal to target\")\n",
    "            equal = True\n",
    "    more = int(input(\"Do you want to play another round ? (0/1) : \"))"
   ]
  },
  {
   "cell_type": "markdown",
   "metadata": {},
   "source": [
    "### === Task 3 ===\n",
    "\n",
    "1. Declare a string \"Python is cool\".  Get the first 6 letters \"Python\".\n",
    "\n",
    "2. Similarly, print the last 4 letters \"cool\".\n",
    "\n",
    "3. Print the \"is\"\n",
    "\n",
    "4. Declare a string \"Malkahc\".  Print them reversely.\n",
    "\n",
    "5. Declare a string \"dffdfPkyktkhkokn\".  Print by skipping \"dffdf\", and then from that index onward, skip the even letters, i.e., the \"k\".  It should print \"Python\"\n",
    "\n",
    "6. Generate a list from 0 to 9\n",
    "\n",
    "7. Generate a list from 1 to 9 \n",
    "\n",
    "8. Generate a list from -9 to 9 skipping even numbers\n",
    "\n",
    "9. Continuing, append value 10 to list\n",
    "\n",
    "10. Continuing, check the index of value -1\n",
    "\n",
    "11. Continuing, check the length of list\n",
    "\n",
    "12. Continuing, remove the value 10\n",
    "\n",
    "13. Continuing, remove whatever value at index 5\n",
    "\n",
    "14. Continuing, check whether value -20 is in the list\n",
    "\n",
    "15. Continuing, shuffle the list, and then perform sort()\n",
    "\n",
    "16. Continuing, print all the values of the list by looping them\n",
    "\n",
    "17. Continuing, randomly choose one value from the list\n",
    "\n",
    "18. Continuing, print all the posible paired-permutations\n",
    "\n",
    "19. Continuing, using list comprehension, add 1 to all value in the list\n",
    "\n",
    "20. Continuing, using a for loop and enumerate, print the value in the list, as well as their index\n",
    "\n",
    "21. Create two list of length 3. One list contains your friends name, and another list contains their makeup ID number.  Using zip, print the name along the ID number\n",
    "\n",
    "22. Create a list containing [1, 1, 2, 2].  Using set, print the unique values.  Then print the length of this unique set.\n",
    "\n",
    "23. See below code.  Print only the eeg signal and event separately from this nested list using (1) for loop, (2) list comprehension\n",
    "\n",
    "24. Continuing, print only the eeg signal with event = 2 using list comprehension"
   ]
  },
  {
   "cell_type": "code",
   "execution_count": 12,
   "metadata": {},
   "outputs": [
    {
     "name": "stdout",
     "output_type": "stream",
     "text": [
      "Answer Q1:  Python\n",
      "Answer Q2:  cool\n",
      "Answer Q3:  is\n",
      "Answer Q4:  chaklam\n",
      "Answer Q5:  Python\n",
      "Answer Q6:  [0, 1, 2, 3, 4, 5, 6, 7, 8, 9]\n",
      "Answer Q7:  [1, 2, 3, 4, 5, 6, 7, 8, 9]\n",
      "Answer Q8:  [-9, -7, -5, -3, -1, 1, 3, 5, 7, 9]\n",
      "Answer Q9:  [-9, -7, -5, -3, -1, 1, 3, 5, 7, 9, 10]\n",
      "Answer Q10:  4\n",
      "Answer Q11:  11\n",
      "Answer Q12:  [-9, -7, -5, -3, -1, 1, 3, 5, 7, 9]\n",
      "Answer Q13:  [-9, -7, -5, -3, -1, 3, 5, 7, 9]\n",
      "Answer Q14:  False\n",
      "Answer Q15:  [3, 9, 7, -1, -5, -9, -7, 5, -3]\n",
      "Answer Q15:  [-9, -7, -5, -3, -1, 3, 5, 7, 9]\n",
      "Answer Q16:  -9\n",
      "Answer Q16:  -7\n",
      "Answer Q16:  -5\n",
      "Answer Q16:  -3\n",
      "Answer Q16:  -1\n",
      "Answer Q16:  3\n",
      "Answer Q16:  5\n",
      "Answer Q16:  7\n",
      "Answer Q16:  9\n",
      "Answer Q17: Random choice :  -9\n",
      "Answer Q18:  [(-9, -7), (-9, -5), (-9, -3), (-9, -1), (-9, 3), (-9, 5), (-9, 7), (-9, 9), (-7, -9), (-7, -5), (-7, -3), (-7, -1), (-7, 3), (-7, 5), (-7, 7), (-7, 9), (-5, -9), (-5, -7), (-5, -3), (-5, -1), (-5, 3), (-5, 5), (-5, 7), (-5, 9), (-3, -9), (-3, -7), (-3, -5), (-3, -1), (-3, 3), (-3, 5), (-3, 7), (-3, 9), (-1, -9), (-1, -7), (-1, -5), (-1, -3), (-1, 3), (-1, 5), (-1, 7), (-1, 9), (3, -9), (3, -7), (3, -5), (3, -3), (3, -1), (3, 5), (3, 7), (3, 9), (5, -9), (5, -7), (5, -5), (5, -3), (5, -1), (5, 3), (5, 7), (5, 9), (7, -9), (7, -7), (7, -5), (7, -3), (7, -1), (7, 3), (7, 5), (7, 9), (9, -9), (9, -7), (9, -5), (9, -3), (9, -1), (9, 3), (9, 5), (9, 7)]\n",
      "Answer Q19:  [-8, -6, -4, -2, 0, 4, 6, 8, 10]\n",
      "Answer Q20: \n",
      "0 -8\n",
      "1 -6\n",
      "2 -4\n",
      "3 -2\n",
      "4 0\n",
      "5 4\n",
      "6 6\n",
      "7 8\n",
      "8 10\n"
     ]
    }
   ],
   "source": [
    "a = \"Python is cool\"\n",
    "print(\"Answer Q1: \", a[0:6])\n",
    "print(\"Answer Q2: \", a[-4:])\n",
    "print(\"Answer Q3: \", a[7:9])\n",
    "\n",
    "b = \"malkahc\"\n",
    "print(\"Answer Q4: \", b[::-1])\n",
    "\n",
    "c = \"dffdfPkyktkhkokn\"\n",
    "print(\"Answer Q5: \", c[5::2])\n",
    "\n",
    "d = list(range(10))\n",
    "print(\"Answer Q6: \", d)\n",
    "\n",
    "e = list(range(1,10))\n",
    "print(\"Answer Q7: \", e)\n",
    "\n",
    "f = list(range(-9,10,2))\n",
    "print(\"Answer Q8: \", f)\n",
    "f.append(10)\n",
    "print(\"Answer Q9: \", f)\n",
    "print(\"Answer Q10: \", f.index(-1))\n",
    "print(\"Answer Q11: \", len(f))\n",
    "\n",
    "# Continuing, remove the value 10\n",
    "f.remove(10)\n",
    "print(\"Answer Q12: \", f)\n",
    "\n",
    "f.pop(5)\n",
    "print(\"Answer Q13: \", f)\n",
    "print(\"Answer Q14: \", -20 in f)\n",
    "\n",
    "import random\n",
    "random.shuffle(f)\n",
    "print(\"Answer Q15: \", f)\n",
    "f.sort()\n",
    "print(\"Answer Q15: \", f)\n",
    "\n",
    "for item in f:\n",
    "    print(\"Answer Q16: \", item)\n",
    "    \n",
    "print(\"Answer Q17: Random choice : \",random.choice(f))\n",
    "\n",
    "from itertools import permutations, combinations\n",
    "print(\"Answer Q18: \", list(permutations(f,2)))\n",
    "\n",
    "f = [item + 1 for item in f]\n",
    "print(\"Answer Q19: \", f)\n",
    "\n",
    "print(\"Answer Q20: \")\n",
    "for index, item in enumerate(f) :\n",
    "    print(index,item)"
   ]
  },
  {
   "cell_type": "code",
   "execution_count": 14,
   "metadata": {},
   "outputs": [
    {
     "name": "stdout",
     "output_type": "stream",
     "text": [
      "Answer Q21:  ('fb', 1) ('beau', 2) ('sit', 3)\n",
      "Answer Q21:  {1, 2}\n",
      "Answer Q22:  2\n"
     ]
    }
   ],
   "source": [
    "# should we have an example of zip?\n",
    "list1 = ['fb', 'beau', 'sit']\n",
    "list2 = [1,2,3]\n",
    "print(\"Answer Q21: \", *zip(list1,list2))\n",
    "\n",
    "a = [1, 1, 2, 2]\n",
    "a = set(a)\n",
    "print(\"Answer Q21: \", a)\n",
    "print(\"Answer Q22: \", len(a))"
   ]
  },
  {
   "cell_type": "code",
   "execution_count": null,
   "metadata": {},
   "outputs": [],
   "source": [
    "two_channel_eeg_signal1 = [8, 9]\n",
    "event1 = 1\n",
    "two_channel_eeg_signal2 = [3, 3]\n",
    "event2 = 2\n",
    "two_channel_eeg_signal3 = [2, 3]\n",
    "event3 = 2\n",
    "some_nested_list = []\n",
    "some_nested_list.append([two_channel_eeg_signal1, event1])\n",
    "some_nested_list.append([two_channel_eeg_signal2, event2])\n",
    "some_nested_list.append([two_channel_eeg_signal3, event3])\n",
    "print(\"EEG signal: \", some_nested_list)"
   ]
  },
  {
   "cell_type": "code",
   "execution_count": 17,
   "metadata": {},
   "outputs": [
    {
     "name": "stdout",
     "output_type": "stream",
     "text": [
      "Answer Q23:  [[8, 9], [3, 3], [2, 3]]\n",
      "Answer Q23:  [1, 2, 2]\n",
      "Answer Q23:  [[8, 9], [3, 3], [2, 3]]\n",
      "Answer Q23:  [1, 2, 2]\n"
     ]
    }
   ],
   "source": [
    "eeg_list = []\n",
    "event_list = []\n",
    "for (eeg,event) in some_nested_list:\n",
    "    eeg_list.append(eeg)\n",
    "    event_list.append(event)\n",
    "    \n",
    "print(\"Answer Q23: \", eeg_list)\n",
    "print(\"Answer Q23: \", event_list)\n",
    "    \n",
    "print(\"Answer Q23: \", [eeg for (eeg,event) in some_nested_list])\n",
    "print(\"Answer Q23: \", [event for (eeg,event) in some_nested_list])"
   ]
  },
  {
   "cell_type": "code",
   "execution_count": 18,
   "metadata": {},
   "outputs": [
    {
     "name": "stdout",
     "output_type": "stream",
     "text": [
      "Answer Q24:  [[3, 3], [2, 3]]\n"
     ]
    }
   ],
   "source": [
    "print(\"Answer Q24: \", [eeg for (eeg,event) in some_nested_list if event == 2])"
   ]
  },
  {
   "cell_type": "markdown",
   "metadata": {},
   "source": [
    "### === Task 4 ===\n",
    "\n",
    "1. Create a tuple variable containing a person age, gender, and height, and then attempt to print the gender of the tuple variable.\n",
    "2. Create a dictionary of your age, name, gender, ID number.  Loop the dictionary and print the key - value."
   ]
  },
  {
   "cell_type": "code",
   "execution_count": 19,
   "metadata": {},
   "outputs": [
    {
     "name": "stdout",
     "output_type": "stream",
     "text": [
      "Answer Q1:  Female\n"
     ]
    }
   ],
   "source": [
    "person = 22,'Female',160\n",
    "print(\"Answer Q1: \", person[1])"
   ]
  },
  {
   "cell_type": "code",
   "execution_count": 20,
   "metadata": {},
   "outputs": [
    {
     "name": "stdout",
     "output_type": "stream",
     "text": [
      "Answer Q2: \n",
      "age 22\n",
      "name fb\n",
      "gender f\n",
      "id 121395\n"
     ]
    }
   ],
   "source": [
    "my_dict = {\"age\" : '22',\n",
    "          \"name\" : 'fb',\n",
    "          \"gender\" : 'f',\n",
    "          \"id\":121395}\n",
    "\n",
    "print(\"Answer Q2: \")\n",
    "for key, value in my_dict.items():\n",
    "    print(key, value)"
   ]
  },
  {
   "cell_type": "markdown",
   "metadata": {},
   "source": [
    "### === Task 5 ===\n",
    "\n",
    "1. Given height = 5, perform a for loop and print\n",
    "   <code>\n",
    "   *\n",
    "   **\n",
    "   ***\n",
    "   ****\n",
    "   *****\n",
    "   </code>\n",
    "\n",
    "2. Given height = 5, perform a for loop and print\n",
    "   <code>\n",
    "   *****\n",
    "   ****\n",
    "   ***\n",
    "   **\n",
    "   *\n",
    "   </code>\n",
    "   \n",
    "3. Given height = 3, perform a for loop and print\n",
    "   <code>\n",
    "     *\n",
    "    ***\n",
    "   *****\n",
    "   </code>\n",
    "   \n",
    "4. Put the above code into a function def pyramid(height), with default height of 2\n",
    "5. Define a function <code>is_palindrome()</code> that recognizes palindromes (i.e. words that look the same written backwards). For example, <code>is_palindrome(\"radar\")</code> should return True.\n",
    "6. Create a function that removes duplicates from a given list\n",
    "7. Define a function <code>max()</code> (without using max() built-in function) that takes list of numbers as arguments and returns the largest of them.\n",
    "8. Generate a dictionary where the keys are numbers between 1 and 20 (both included) and the values are square of keys.\n",
    "9. Create a countdown clock that counts 3, 2, 1 and done! (hint: use <code>time.sleep(1)</code>)"
   ]
  },
  {
   "cell_type": "code",
   "execution_count": 74,
   "metadata": {},
   "outputs": [
    {
     "name": "stdout",
     "output_type": "stream",
     "text": [
      "\n",
      "*\n",
      "**\n",
      "***\n",
      "****\n",
      "*****\n"
     ]
    }
   ],
   "source": [
    "#====== 1 =======\n",
    "def down(height=2):\n",
    "    for i in range(height+1):\n",
    "        print(\"*\"*i)\n",
    "\n",
    "down(5)"
   ]
  },
  {
   "cell_type": "code",
   "execution_count": 76,
   "metadata": {},
   "outputs": [
    {
     "name": "stdout",
     "output_type": "stream",
     "text": [
      "*****\n",
      "****\n",
      "***\n",
      "**\n",
      "*\n",
      "\n"
     ]
    }
   ],
   "source": [
    "#====== 2 =======\n",
    "def up(height=2):\n",
    "    for i in range(height+1):\n",
    "        print(\"*\"*(5-i))\n",
    "        \n",
    "up(5)"
   ]
  },
  {
   "cell_type": "code",
   "execution_count": 86,
   "metadata": {},
   "outputs": [
    {
     "name": "stdout",
     "output_type": "stream",
     "text": [
      "     *     \n",
      "    ***    \n",
      "   *****   \n"
     ]
    }
   ],
   "source": [
    "#====== 3 =======\n",
    "def tree(height=2):\n",
    "    for i in range(height):\n",
    "        print(\" \"*(height-i+1),\"*\"*((i*2)+1),\" \"*(height-i+1))\n",
    "        \n",
    "tree(3)"
   ]
  },
  {
   "cell_type": "code",
   "execution_count": 22,
   "metadata": {},
   "outputs": [
    {
     "data": {
      "text/plain": [
       "True"
      ]
     },
     "execution_count": 22,
     "metadata": {},
     "output_type": "execute_result"
    }
   ],
   "source": [
    "#====== 5 ======\n",
    "def is_palindrome(word):\n",
    "    return word == word[::-1]\n",
    "    \n",
    "is_palindrome(\"radar\")"
   ]
  },
  {
   "cell_type": "code",
   "execution_count": 93,
   "metadata": {},
   "outputs": [
    {
     "data": {
      "text/plain": [
       "[1, 3]"
      ]
     },
     "execution_count": 93,
     "metadata": {},
     "output_type": "execute_result"
    }
   ],
   "source": [
    "#====== 6 ======\n",
    "def remove_dups(list_):\n",
    "    list_= list(set(list_))\n",
    "    return list_\n",
    "\n",
    "a = [1,1,1,3]\n",
    "remove_dups(a)"
   ]
  },
  {
   "cell_type": "code",
   "execution_count": 96,
   "metadata": {},
   "outputs": [
    {
     "name": "stdout",
     "output_type": "stream",
     "text": [
      "4\n",
      "4\n"
     ]
    }
   ],
   "source": [
    "#====== 7 ======\n",
    "def max(list_):\n",
    "    now_max = float('-inf')\n",
    "    for i in list_:\n",
    "        if i > now_max:\n",
    "            now_max = i\n",
    "        else:\n",
    "            pass\n",
    "    return now_max\n",
    "\n",
    "print(max([1,2,3,4]))\n",
    "print(max([4,3,2,1]))"
   ]
  },
  {
   "cell_type": "code",
   "execution_count": 99,
   "metadata": {},
   "outputs": [
    {
     "data": {
      "text/plain": [
       "{1: 1,\n",
       " 2: 4,\n",
       " 3: 9,\n",
       " 4: 16,\n",
       " 5: 25,\n",
       " 6: 36,\n",
       " 7: 49,\n",
       " 8: 64,\n",
       " 9: 81,\n",
       " 10: 100,\n",
       " 11: 121,\n",
       " 12: 144,\n",
       " 13: 169,\n",
       " 14: 196,\n",
       " 15: 225,\n",
       " 16: 256,\n",
       " 17: 289,\n",
       " 18: 324,\n",
       " 19: 361,\n",
       " 20: 400}"
      ]
     },
     "execution_count": 99,
     "metadata": {},
     "output_type": "execute_result"
    }
   ],
   "source": [
    "#====== 8 ======\n",
    "def create_dict():\n",
    "    my_dict = {}\n",
    "    for i in range(1,21):\n",
    "        my_dict[i] = i**2\n",
    "    return my_dict\n",
    "\n",
    "create_dict()"
   ]
  },
  {
   "cell_type": "code",
   "execution_count": 103,
   "metadata": {},
   "outputs": [
    {
     "name": "stdout",
     "output_type": "stream",
     "text": [
      "3\n",
      "2\n",
      "1\n",
      "done!\n"
     ]
    }
   ],
   "source": [
    "#====== 9 ======\n",
    "import time\n",
    "for i in range(3,-1,-1):\n",
    "    if i == 0:\n",
    "        print(\"done!\")\n",
    "        break\n",
    "    print(i)\n",
    "    time.sleep(1)"
   ]
  },
  {
   "cell_type": "markdown",
   "metadata": {},
   "source": [
    "### === Task 6 ===\n",
    "\n",
    "1. Create a class called `class rectangle()`. This class includes the following functions:\n",
    "\n",
    "- `__init__()` where height and width of your rectangle are initiated. \n",
    "- `setHeight()` and `setWidth()` which allow you to change height and width of your rectangle.\n",
    "- `getArea()` where the area of your rectangle is returned."
   ]
  },
  {
   "cell_type": "code",
   "execution_count": 107,
   "metadata": {},
   "outputs": [
    {
     "name": "stdout",
     "output_type": "stream",
     "text": [
      "5\n",
      "6\n",
      "4\n",
      "3\n",
      "12\n"
     ]
    }
   ],
   "source": [
    "class Rectangle:\n",
    "    def __init__(self, height=1, width=2):\n",
    "        self.height = height \n",
    "        self.width = width\n",
    "\n",
    "    def setHeight(self, new_height):\n",
    "        self.height = new_height\n",
    "        \n",
    "    def setWidth(self, new_width):\n",
    "        self.width = new_width\n",
    "\n",
    "    def getArea(self):\n",
    "        return self.width * self.height\n",
    "\n",
    "\n",
    "r = Rectangle(height=6, width=5)\n",
    "\n",
    "print(r.width)\n",
    "print(r.height)\n",
    "\n",
    "r.setWidth(4)\n",
    "r.setHeight(3)\n",
    "\n",
    "print(r.width)\n",
    "print(r.height)\n",
    "print(r.getArea())"
   ]
  }
 ],
 "metadata": {
  "kernelspec": {
   "display_name": "pythonDSAI",
   "language": "python",
   "name": "pythondsai"
  },
  "language_info": {
   "codemirror_mode": {
    "name": "ipython",
    "version": 3
   },
   "file_extension": ".py",
   "mimetype": "text/x-python",
   "name": "python",
   "nbconvert_exporter": "python",
   "pygments_lexer": "ipython3",
   "version": "3.8.10"
  }
 },
 "nbformat": 4,
 "nbformat_minor": 4
}
