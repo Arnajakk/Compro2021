{
 "cells": [
  {
   "cell_type": "markdown",
   "metadata": {},
   "source": [
    "## EEG and Anger + Amuse\n",
    "\n",
    "Load the anger-amuse-100trials-3s.csv from the resources folder.\n",
    "\n",
    "Here is Chaky's data looking at 100 emotional pictures of either anger of amusement.  Each for a period of 3s.\n",
    "\n",
    "To work with it, you have to first clean the data.  At least, filter out the 50Hz data from the electrical applicances, as well as filter everything except 1-30Hz which is the interested range of emotions.\n",
    "\n",
    "Here attempt to do the followings:\n",
    "\n",
    "- Analyze Chaky's alpha, beta, gamma data and attempt to use these features to predict the class of anger vs. amusement.  To retrieve the alpha, and gamma, you need to perform Fast Fourier Transform. See https://github.com/chaklam-silpasuwanchai/BCI/blob/master/Psychological_Experiment/3-analysis/Offline.ipynb for some idea how to do this. \n",
    "\n",
    "- As an alternate approach, uses LSTM to predict anger or amusement.  Here you don't need to transform any features, but simply feed the whole raw data to the LSTM and hopefully it will work.\n",
    "\n",
    "- As the third alternate approach, transform Chaky's data to spectrogram, and feed them to CNN.\n",
    "\n",
    "- As the last approach, feed the data to CNN then to LSTM.\n",
    "\n",
    "- Compare the four approach, and report your results.\n",
    "\n",
    "Good luck and enjoy thinking, learning, and coding!"
   ]
  },
  {
   "cell_type": "code",
   "execution_count": null,
   "metadata": {},
   "outputs": [],
   "source": []
  }
 ],
 "metadata": {
  "kernelspec": {
   "display_name": "Python 3",
   "language": "python",
   "name": "python3"
  },
  "language_info": {
   "codemirror_mode": {
    "name": "ipython",
    "version": 3
   },
   "file_extension": ".py",
   "mimetype": "text/x-python",
   "name": "python",
   "nbconvert_exporter": "python",
   "pygments_lexer": "ipython3",
   "version": "3.7.7"
  }
 },
 "nbformat": 4,
 "nbformat_minor": 4
}
