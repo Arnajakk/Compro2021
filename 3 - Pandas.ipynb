{
 "cells": [
  {
   "cell_type": "markdown",
   "metadata": {},
   "source": [
    "# Programming for Data Science and Artificial Intelligence\n",
    "\n",
    "## 3. Pandas"
   ]
  },
  {
   "cell_type": "markdown",
   "metadata": {},
   "source": [
    "Pandas is a newer package **built on top of NumPy**, and provides an efficient implementation of a DataFrame.\n",
    "\n",
    "DataFrames are essentially multidimensional arrays with attached row and column labels, and often with heterogeneous types and/or missing data\n",
    "\n",
    "Offering a convenient storage interface for labeled data, Pandas implements a number of powerful data operations familiar to users of both database frameworks and spreadsheet programs\n",
    "\n",
    "Although NumPy ndarray data structure provides essential features, its limitations become clear when we need more flexibility (e.g., attaching labels to data, working with missing data, etc.) \n",
    "\n",
    "Pandas provides efficient access to these sorts of \"data munging\" tasks that occupy much of a data scientist's time."
   ]
  },
  {
   "cell_type": "code",
   "execution_count": 1,
   "metadata": {},
   "outputs": [
    {
     "data": {
      "text/plain": [
       "'1.0.3'"
      ]
     },
     "execution_count": 1,
     "metadata": {},
     "output_type": "execute_result"
    }
   ],
   "source": [
    "import pandas as pd\n",
    "pd.__version__"
   ]
  },
  {
   "cell_type": "markdown",
   "metadata": {},
   "source": [
    "## Series\n",
    "\n",
    "A Pandas <code>Series</code> is a one-dimensional array of indexed data. It can be created from a list or array as follows:"
   ]
  },
  {
   "cell_type": "code",
   "execution_count": 2,
   "metadata": {},
   "outputs": [
    {
     "name": "stdout",
     "output_type": "stream",
     "text": [
      "Pandas series from list:  0    0.25\n",
      "1    0.50\n",
      "2    0.75\n",
      "3    1.00\n",
      "dtype: float64\n",
      "Pandas series from numpy array:  0    0\n",
      "1    1\n",
      "2    2\n",
      "3    3\n",
      "4    4\n",
      "dtype: int64\n",
      "Data values:  [0 1 2 3 4]\n",
      "Data index:  RangeIndex(start=0, stop=5, step=1)\n",
      "Data[1]:  1\n",
      "Data[-2:]:  3    3\n",
      "4    4\n",
      "dtype: int64\n",
      "Data[-1]:  1.0\n",
      "Index['a']:  0\n",
      "Index[3]:  4\n",
      "Population['Bangkok']:  33333\n",
      "Population['Pathumthan':'Chiangmai']:  Pathum Thani    22222\n",
      "Bangkok         33333\n",
      "Chiangmai       44444\n",
      "dtype: int64\n",
      "Data pd scalar:  2    5\n",
      "3    5\n",
      "8    5\n",
      "dtype: int64\n"
     ]
    }
   ],
   "source": [
    "#creating a series from list\n",
    "data_pd = pd.Series([0.25, 0.5, 0.75, 1.0])\n",
    "print(\"Pandas series from list: \", data_pd)\n",
    "\n",
    "#creating a series from numpy array\n",
    "import numpy as np\n",
    "numpy_arr = np.arange(5)\n",
    "data_pd = pd.Series(numpy_arr)\n",
    "print(\"Pandas series from numpy array: \", data_pd)  #notice default index\n",
    "\n",
    "#attributes\n",
    "print(\"Data values: \", data_pd.values)  #numpy array \n",
    "print(\"Data index: \", data_pd.index)  #range index is pandas object\n",
    "\n",
    "#indexing\n",
    "print(\"Data[1]: \", data_pd[1])\n",
    "print(\"Data[-2:]: \", data_pd[-2:])  #slicing still works\n",
    "\n",
    "#index is explicitly defined!  Unlike numpy which is implicitly defined\n",
    "#errors, no index of -1\n",
    "# print(\"Data[-1]: \", data_pd[-1])  #you can provide index to pd.Series for this to work\n",
    "\n",
    "#integer indexing is nasty!  try change to letters\n",
    "data_pd = pd.Series([0.25, 0.5, 0.75, 1.0], \n",
    "                    index=['a', 'b', 'c', 'd'])\n",
    "\n",
    "print(\"Data[-1]: \", data_pd[-1])  #you can provide index to pd.Series for this to work\n",
    "\n",
    "#for example, index need not be integer\n",
    "index = ['a', 'b', 'c', 'd', 3]\n",
    "data_pd = pd.Series(numpy_arr, index = index)\n",
    "print(\"Index['a']: \", data_pd['a'])\n",
    "print(\"Index[3]: \", data_pd[3])  #3 is not position three but index 3!\n",
    "\n",
    "#since pandas index system looks like dictionary, it is no surprise\n",
    "#that pandas can be created from dictionary, see this:\n",
    "some_population_dict = {'Chiangrai': 11111, \n",
    "                        'Pathum Thani': 22222,\n",
    "                        'Bangkok': 33333,\n",
    "                        'Chiangmai': 44444}\n",
    "data_pd = pd.Series(some_population_dict)\n",
    "print(\"Population['Bangkok']: \", data_pd['Bangkok'])\n",
    "\n",
    "#also supports slicing!  Notice that Chiangmai is being included as well!\n",
    "print(\"Population['Pathumthan':'Chiangmai']: \", data_pd['Pathum Thani': 'Chiangmai'])\n",
    "\n",
    "#data can be scalar, which is repeated to fill the specified index\n",
    "data_pd = pd.Series(5, index=[2, 3, 8])\n",
    "print(\"Data pd scalar: \", data_pd)"
   ]
  },
  {
   "cell_type": "markdown",
   "metadata": {},
   "source": [
    "## Dataframe\n",
    "\n",
    "DataFrame is an analog of a two-dimensional array with both flexible row indices and flexible column names.  DataFrame as a sequence of aligned Series objects."
   ]
  },
  {
   "cell_type": "code",
   "execution_count": 3,
   "metadata": {},
   "outputs": [
    {
     "name": "stdout",
     "output_type": "stream",
     "text": [
      "Everything: \n",
      "              population  area\n",
      "Chiangrai        11111.0   999\n",
      "Pathum Thani     22222.0   888\n",
      "Bangkok          33333.0   777\n",
      "Chiangmai        44444.0   666\n",
      "Syria                NaN   333\n",
      "Only Chiangrai to Bangkok: \n",
      "              population  area\n",
      "Chiangrai        11111.0   999\n",
      "Pathum Thani     22222.0   888\n",
      "Bangkok          33333.0   777\n",
      "Only population column: \n",
      "Chiangrai       11111.0\n",
      "Pathum Thani    22222.0\n",
      "Bangkok         33333.0\n",
      "Name: population, dtype: float64\n",
      "Chiangrai       11111.0\n",
      "Pathum Thani    22222.0\n",
      "Bangkok         33333.0\n",
      "Name: population, dtype: float64\n",
      "Only area column with everything\n",
      "Chiangrai       999\n",
      "Pathum Thani    888\n",
      "Bangkok         777\n",
      "Chiangmai       666\n",
      "Syria           333\n",
      "Name: area, dtype: int64\n",
      "Chiangrai       999\n",
      "Pathum Thani    888\n",
      "Bangkok         777\n",
      "Chiangmai       666\n",
      "Syria           333\n",
      "Name: area, dtype: int64\n",
      "Index:  Index(['Chiangrai', 'Pathum Thani', 'Bangkok', 'Chiangmai', 'Syria'], dtype='object')\n",
      "Index[-1]:  Syria\n",
      "Columns:  Index(['population', 'area'], dtype='object')\n",
      "Columns[0:1]:  Index(['population'], dtype='object')\n",
      "PD from series:                population\n",
      "Chiangrai          11111\n",
      "Pathum Thani       22222\n",
      "Bangkok            33333\n",
      "Chiangmai          44444\n",
      "PD from list of dict:     a  b\n",
      "1  0  0\n",
      "2  1  2\n",
      "3  2  4\n",
      "PD from numpy:          foo       bar\n",
      "a  0.070751  0.901638\n",
      "b  0.504485  0.790337\n",
      "c  0.893493  0.332695\n"
     ]
    }
   ],
   "source": [
    "#create dataframe with two dict\n",
    "some_population_dict = {'Chiangrai': 11111, \n",
    "                        'Pathum Thani': 22222,\n",
    "                        'Bangkok': 33333,\n",
    "                        'Chiangmai': 44444}\n",
    "some_area_dict = {'Chiangrai': 999, \n",
    "                'Pathum Thani': 888,\n",
    "                'Bangkok': 777,\n",
    "                'Chiangmai': 666,\n",
    "                 'Syria': 333}\n",
    "states = pd.DataFrame({'population': some_population_dict,\n",
    "                       'area': some_area_dict})\n",
    "print(\"Everything: \")\n",
    "print(states)\n",
    "\n",
    "print(\"Only Chiangrai to Bangkok: \")\n",
    "print(states['Chiangrai': 'Bangkok'])\n",
    "\n",
    "print(\"Only population column: \")\n",
    "print(states['Chiangrai': 'Bangkok']['population'])\n",
    "print(states['population']['Chiangrai': 'Bangkok'])  #order does not matter; imagine as drill down\n",
    "# print(states['population']['Chiangrai': 'Bangkok']['area']) #error, since area is gone already\n",
    "\n",
    "print(\"Only area column with everything\")\n",
    "print(states['area'])  #first way\n",
    "print(states[:]['area']) #second way\n",
    "\n",
    "#attributes\n",
    "print(\"Index: \", states.index)  #pandas index object\n",
    "print(\"Index[-1]: \", states.index[-1])  #pandas index object is similar to numpy array\n",
    "print(\"Columns: \", states.columns)  #pandas index object\n",
    "print(\"Columns[0:1]: \", states.columns[0:1]) #notice how 1 is not included\n",
    "\n",
    "#many other ways to create panda dataframe\n",
    "\n",
    "#from series\n",
    "population_series = pd.Series(some_population_dict)\n",
    "pd_from_series = pd.DataFrame(population_series, columns=['population'])  #since it's series, we need to pass column name, if not, it will be named 0\n",
    "print(\"PD from series: \", pd_from_series)\n",
    "\n",
    "#from list of dicts\n",
    "data = [{'a': i, 'b': 2 * i} for i in range(3)]\n",
    "pd_from_list_dict = pd.DataFrame(data, index=[1, 2, 3])\n",
    "print(\"PD from list of dict: \", pd_from_list_dict)\n",
    "\n",
    "#from 2D numpy array\n",
    "data_numpy = np.random.rand(3, 2)\n",
    "index = ['a', 'b', 'c']\n",
    "columns = ['foo', 'bar']\n",
    "pd_from_numpy = pd.DataFrame(data_numpy, index=index, columns=columns)\n",
    "print(\"PD from numpy: \", pd_from_numpy)"
   ]
  },
  {
   "cell_type": "markdown",
   "metadata": {},
   "source": [
    "## Indexing/Slicing/Fancy Indexing\n",
    "### Series"
   ]
  },
  {
   "cell_type": "code",
   "execution_count": 4,
   "metadata": {},
   "outputs": [
    {
     "name": "stdout",
     "output_type": "stream",
     "text": [
      "Data:  a    0.25\n",
      "b    0.50\n",
      "c    0.75\n",
      "d    1.00\n",
      "dtype: float64\n",
      "Explicit index:  0.5\n",
      "Implicit index:  1.0\n",
      "Data with e:  a     0.25\n",
      "b     0.50\n",
      "c     0.75\n",
      "d     1.00\n",
      "e    99.00\n",
      "dtype: float64\n",
      "a in data?:  True\n",
      "All keys:  Index(['a', 'b', 'c', 'd', 'e'], dtype='object')\n",
      "All items:  [('a', 0.25), ('b', 0.5), ('c', 0.75), ('d', 1.0), ('e', 99.0)]\n",
      "All values:  [ 0.25  0.5   0.75  1.   99.  ]\n",
      "Data['a':'c']:  a    0.25\n",
      "b    0.50\n",
      "c    0.75\n",
      "dtype: float64\n",
      "Data[0:2]:  a    0.25\n",
      "b    0.50\n",
      "dtype: float64\n",
      "Data[(data > 0.3) & (data < 0.8)]:  b    0.50\n",
      "c    0.75\n",
      "dtype: float64\n",
      "Data[['a', 'e']]:  a     0.25\n",
      "e    99.00\n",
      "dtype: float64\n",
      "Data[1]:  a\n",
      "Data[1:3]:  3    b\n",
      "5    c\n",
      "dtype: object\n",
      "Data loc [1]:  a\n",
      "Data loc [1:3]:  1    a\n",
      "3    b\n",
      "dtype: object\n",
      "Data iloc [1]:  b\n",
      "Data iloc [1:3]:  3    b\n",
      "5    c\n",
      "dtype: object\n"
     ]
    }
   ],
   "source": [
    "import pandas as pd\n",
    "data = pd.Series([0.25, 0.5, 0.75, 1.0],\n",
    "                 index = ['a', 'b', 'c', 'd'])\n",
    "\n",
    "print(\"Data: \", data)\n",
    "\n",
    "#explicit index\n",
    "print(\"Explicit index: \", data['b'])\n",
    "\n",
    "#also support implicit index, since we define index\n",
    "print(\"Implicit index: \", data[-1])\n",
    "\n",
    "#extend series by assigning new index value\n",
    "data['e'] = 99\n",
    "print(\"Data with e: \", data)\n",
    "\n",
    "#use in\n",
    "print(\"a in data?: \", 'a' in data)  #access keys\n",
    "\n",
    "#keys()\n",
    "print(\"All keys: \", data.keys()) #pandas index object\n",
    "\n",
    "#items()\n",
    "print(\"All items: \", list(data.items())) #zip object\n",
    "\n",
    "#values()\n",
    "print(\"All values: \", data.values) #numpy array object\n",
    "\n",
    "#slicing with explicit index (include c)\n",
    "print(\"Data['a':'c']: \", data['a':'c'])\n",
    "\n",
    "#slicing with implicit index (exclude 2)\n",
    "print(\"Data[0:2]: \", data[0:2])\n",
    "\n",
    "#masking\n",
    "print(\"Data[(data > 0.3) & (data < 0.8)]: \", data[(data>0.3) & (data < 0.8)])\n",
    "\n",
    "#fancy indexing\n",
    "print(\"Data[['a', 'e']]: \", data[['a', 'e']])\n",
    "\n",
    "#some precaution on the possible confusion if you use explicit integer index\n",
    "#use explicit index when indexing\n",
    "data = pd.Series(['a', 'b', 'c'], index=(1, 3, 5))\n",
    "print(\"Data[1]: \", data[1])\n",
    "\n",
    "#use implicit index when slicing\n",
    "print(\"Data[1:3]: \", data[1:3])\n",
    "\n",
    "#due to this possible confusion due to explicit integer index, pandas\n",
    "#provide loc and iloc\n",
    "#loc uses explicit index\n",
    "print(\"Data loc [1]: \", data.loc[1])\n",
    "print(\"Data loc [1:3]: \", data.loc[1:3])  #include 3 as well\n",
    "\n",
    "#iloc uses implicit index\n",
    "print(\"Data iloc [1]: \", data.iloc[1])\n",
    "print(\"Data iloc [1:3]: \", data.iloc[1:3])  #does not include 3\n",
    "\n",
    "#always use iloc for implicit index, for no unnecessary confusion!"
   ]
  },
  {
   "cell_type": "markdown",
   "metadata": {},
   "source": [
    "### DataFrame"
   ]
  },
  {
   "cell_type": "code",
   "execution_count": 5,
   "metadata": {},
   "outputs": [
    {
     "name": "stdout",
     "output_type": "stream",
     "text": [
      "==data==\n",
      "                  pop  area\n",
      "Chiangrai     11111.0   999\n",
      "Pathum Thani  22222.0   888\n",
      "Bangkok       33333.0   777\n",
      "Chiangmai     44444.0   666\n",
      "Syria             NaN   333\n",
      "==Area==\n",
      "Chiangrai       999\n",
      "Pathum Thani    888\n",
      "Bangkok         777\n",
      "Chiangmai       666\n",
      "Syria           333\n",
      "Name: area, dtype: int64\n",
      "==Area using attributes==\n",
      "Chiangrai       999\n",
      "Pathum Thani    888\n",
      "Bangkok         777\n",
      "Chiangmai       666\n",
      "Syria           333\n",
      "Name: area, dtype: int64\n",
      "Data area is same:  True\n",
      "==Do not use .pop!==\n",
      "Some pop method:  <bound method NDFrame.pop of                   pop  area\n",
      "Chiangrai     11111.0   999\n",
      "Pathum Thani  22222.0   888\n",
      "Bangkok       33333.0   777\n",
      "Chiangmai     44444.0   666\n",
      "Syria             NaN   333>\n",
      "Data pop not the same:  False\n",
      "==Feature engineering with density==\n",
      "                  pop  area    density\n",
      "Chiangrai     11111.0   999  11.122122\n",
      "Pathum Thani  22222.0   888  25.024775\n",
      "Bangkok       33333.0   777  42.899614\n",
      "Chiangmai     44444.0   666  66.732733\n",
      "Syria             NaN   333        NaN\n",
      "==First row using iloc==\n",
      "pop        11111.000000\n",
      "area         999.000000\n",
      "density       11.122122\n",
      "Name: Chiangrai, dtype: float64\n",
      "==First three rows, first two columns using iloc==\n",
      "                  pop  area\n",
      "Chiangrai     11111.0   999\n",
      "Pathum Thani  22222.0   888\n",
      "Bangkok       33333.0   777\n",
      "==Use loc for explicit index\n",
      "                  pop\n",
      "Chiangrai     11111.0\n",
      "Pathum Thani  22222.0\n",
      "Bangkok       33333.0\n",
      "==chain iloc and loc==\n",
      "                  pop  area\n",
      "Chiangrai     11111.0   999\n",
      "Pathum Thani  22222.0   888\n",
      "Bangkok       33333.0   777\n",
      "==masking + fancy==\n",
      "                  pop    density\n",
      "Pathum Thani  22222.0  25.024775\n",
      "Bangkok       33333.0  42.899614\n",
      "Chiangmai     44444.0  66.732733\n",
      "==Changing value==\n",
      "                  pop  area    density\n",
      "Chiangrai     11111.0   999  90.000000\n",
      "Pathum Thani  22222.0   888  25.024775\n",
      "Bangkok       33333.0   777  42.899614\n",
      "Chiangmai     44444.0   666  66.732733\n",
      "Syria             NaN   333        NaN\n",
      "==Indexing refer to columns==\n",
      "Chiangrai       11111.0\n",
      "Pathum Thani    22222.0\n",
      "Bangkok         33333.0\n",
      "Chiangmai       44444.0\n",
      "Syria               NaN\n",
      "Name: pop, dtype: float64\n",
      "==Slicing refer to rows==\n",
      "                  pop  area    density\n",
      "Chiangrai     11111.0   999  90.000000\n",
      "Pathum Thani  22222.0   888  25.024775\n",
      "==Slicing can also use implicit integers==\n",
      "                  pop  area    density\n",
      "Pathum Thani  22222.0   888  25.024775\n",
      "Bangkok       33333.0   777  42.899614\n",
      "==masking are done row-wise==\n",
      "                  pop  area    density\n",
      "Chiangrai     11111.0   999  90.000000\n",
      "Pathum Thani  22222.0   888  25.024775\n",
      "Bangkok       33333.0   777  42.899614\n",
      "Chiangmai     44444.0   666  66.732733\n"
     ]
    }
   ],
   "source": [
    "some_population_dict = {'Chiangrai': 11111, \n",
    "                        'Pathum Thani': 22222,\n",
    "                        'Bangkok': 33333,\n",
    "                        'Chiangmai': 44444}\n",
    "some_area_dict = {'Chiangrai': 999, \n",
    "                'Pathum Thani': 888,\n",
    "                'Bangkok': 777,\n",
    "                'Chiangmai': 666,\n",
    "                 'Syria': 333}\n",
    "data = pd.DataFrame({'pop': some_population_dict,\n",
    "                       'area': some_area_dict})\n",
    "\n",
    "print(\"==data==\")\n",
    "print(data)\n",
    "\n",
    "#dataframe can be accessed via dictionary style indexing\n",
    "print(\"==Area==\")\n",
    "print(data['area'])\n",
    "\n",
    "#we can also use attribute-style\n",
    "print(\"==Area using attributes==\")\n",
    "print(data.area)\n",
    "print(\"Data area is same: \", data.area is data['area'])\n",
    "\n",
    "#However!!, keep in mind that attribute style does not always work\n",
    "#for example, pop is a method, thus data.pop will point to some method instead\n",
    "print(\"==Do not use .pop!==\")\n",
    "print(\"Some pop method: \", data.pop)\n",
    "print(\"Data pop not the same: \", data.pop is data['pop'])\n",
    "\n",
    "#reminder, index is columns, not index!\n",
    "# print(\"Data['Chiangrai'] error: \", data['Chiangrai'])\n",
    "\n",
    "#best practice is to use ['key'] style!\n",
    "\n",
    "#feature engineer easily\n",
    "print(\"==Feature engineering with density==\")\n",
    "data['density'] = data['pop'] / data['area']\n",
    "print(data)\n",
    "\n",
    "#we cannot use data[0] since we do not have explicit index called 0, use iloc instead\n",
    "print(\"==First row using iloc==\")\n",
    "print(data.iloc[0])\n",
    "\n",
    "print(\"==First three rows, first two columns using iloc==\")\n",
    "print(data.iloc[:3, :2])\n",
    "\n",
    "#use loc for explicit index\n",
    "print(\"==Use loc for explicit index\")\n",
    "print(data.loc[:'Bangkok', :'pop'])\n",
    "\n",
    "#chaining is possible for combine\n",
    "print(\"==chain iloc and loc==\")\n",
    "print(data.loc[:'Bangkok'].iloc[:, :2])\n",
    "\n",
    "#more advanced: masking + fancy\n",
    "print(\"==masking + fancy==\")\n",
    "print(data.loc[data.density > 20, ['pop', 'density']])\n",
    "\n",
    "#first row, second column, change value to 90\n",
    "data.iloc[0, 2] = 90\n",
    "print(\"==Changing value==\")\n",
    "print(data)\n",
    "\n",
    "###some really important convention to keep in mind###\n",
    "#1.  indexing refers to columns, while slicing refer to rows\n",
    "print(\"==Indexing refer to columns==\")\n",
    "print(data['pop'])\n",
    "#print(data['Chiangrai']) error\n",
    "\n",
    "print(\"==Slicing refer to rows==\")\n",
    "print(data['Chiangrai': 'Pathum Thani']) #include Pathum Thani\n",
    "#print(data['pop': 'area']) error\n",
    "\n",
    "print(\"==Slicing can also use implicit integers==\")\n",
    "print(data[1:3])  #not including 3\n",
    "\n",
    "print(\"==masking are done row-wise==\")\n",
    "print(data[data.density > 20])\n"
   ]
  },
  {
   "cell_type": "markdown",
   "metadata": {},
   "source": [
    "## Broadcasting"
   ]
  },
  {
   "cell_type": "code",
   "execution_count": 6,
   "metadata": {},
   "outputs": [
    {
     "data": {
      "text/html": [
       "<div>\n",
       "<style scoped>\n",
       "    .dataframe tbody tr th:only-of-type {\n",
       "        vertical-align: middle;\n",
       "    }\n",
       "\n",
       "    .dataframe tbody tr th {\n",
       "        vertical-align: top;\n",
       "    }\n",
       "\n",
       "    .dataframe thead th {\n",
       "        text-align: right;\n",
       "    }\n",
       "</style>\n",
       "<table border=\"1\" class=\"dataframe\">\n",
       "  <thead>\n",
       "    <tr style=\"text-align: right;\">\n",
       "      <th></th>\n",
       "      <th>A</th>\n",
       "      <th>B</th>\n",
       "      <th>C</th>\n",
       "      <th>D</th>\n",
       "    </tr>\n",
       "  </thead>\n",
       "  <tbody>\n",
       "    <tr>\n",
       "      <th>0</th>\n",
       "      <td>6</td>\n",
       "      <td>3</td>\n",
       "      <td>7</td>\n",
       "      <td>4</td>\n",
       "    </tr>\n",
       "    <tr>\n",
       "      <th>1</th>\n",
       "      <td>6</td>\n",
       "      <td>9</td>\n",
       "      <td>2</td>\n",
       "      <td>6</td>\n",
       "    </tr>\n",
       "    <tr>\n",
       "      <th>2</th>\n",
       "      <td>7</td>\n",
       "      <td>4</td>\n",
       "      <td>3</td>\n",
       "      <td>7</td>\n",
       "    </tr>\n",
       "  </tbody>\n",
       "</table>\n",
       "</div>"
      ],
      "text/plain": [
       "   A  B  C  D\n",
       "0  6  3  7  4\n",
       "1  6  9  2  6\n",
       "2  7  4  3  7"
      ]
     },
     "execution_count": 6,
     "metadata": {},
     "output_type": "execute_result"
    }
   ],
   "source": [
    "import pandas as pd\n",
    "import numpy as np\n",
    "\n",
    "rng = np.random.RandomState(42)\n",
    "df = pd.DataFrame(rng.randint(0, 10, (3, 4)), \n",
    "                 columns = ['A', 'B', 'C', 'D'])\n",
    "df"
   ]
  },
  {
   "cell_type": "code",
   "execution_count": 7,
   "metadata": {},
   "outputs": [
    {
     "name": "stdout",
     "output_type": "stream",
     "text": [
      "==population / area==\n",
      "Alaska        NaN\n",
      "California    3.0\n",
      "New York      NaN\n",
      "Texas         4.0\n",
      "dtype: float64\n",
      "==A + B==\n",
      "0    NaN\n",
      "1    5.0\n",
      "2    9.0\n",
      "3    NaN\n",
      "dtype: float64\n",
      "==A.add(B, fill_value=0)==\n",
      "0    2.0\n",
      "1    5.0\n",
      "2    9.0\n",
      "3    5.0\n",
      "dtype: float64\n",
      "==df==\n",
      "   Q  R  S  T\n",
      "0  7  2  5  4\n",
      "1  1  7  5  1\n",
      "2  4  0  9  5\n",
      "==df-df.iloc[0]==\n",
      "   Q  R  S  T\n",
      "0  0  0  0  0\n",
      "1 -6  5  0 -3\n",
      "2 -3 -2  4  1\n",
      "==column-wise==\n",
      "   Q  R  S  T\n",
      "0  5  0  3  2\n",
      "1 -6  0 -2 -6\n",
      "2  4  0  9  5\n"
     ]
    }
   ],
   "source": [
    "#broadcasting\n",
    "df_new = np.sin(df * np.pi / 4) \n",
    "df_new\n",
    "\n",
    "#index alignment\n",
    "area = pd.Series({'Alaska': 111, 'Texas': 222,\n",
    "                 'California': 333}, name = 'area')\n",
    "population = pd.Series({'California' : 999, 'Texas': 888,\n",
    "                       'New York': 777}, name = 'population')\n",
    "\n",
    "#as you can see, any missing value will be replaced with NaN\n",
    "print(\"==population / area==\")\n",
    "print(population / area)\n",
    "\n",
    "#similarly\n",
    "A = pd.Series([2, 4, 6], index=[0, 1, 2])\n",
    "B = pd.Series([1, 3, 5], index=[1, 2, 3])\n",
    "print(\"==A + B==\")\n",
    "print(A + B)\n",
    "\n",
    "#we can use fill_value params in pd.add(pd)\n",
    "print(\"==A.add(B, fill_value=0)==\")  #any missing Nan values will be replaced with 0\n",
    "print(A.add(B, fill_value = 0))\n",
    "\n",
    "#Operation between df and series\n",
    "#common operation is to find difference  of the entire df with one row or column\n",
    "A = rng.randint(10, size = (3, 4))\n",
    "df = pd.DataFrame(A, columns=list('QRST'))\n",
    "print(\"==df==\")\n",
    "print(df)\n",
    "\n",
    "#just simple question, why cannot we do df[0]\n",
    "#print(df[0])  #by default, indexing access column wise\n",
    "\n",
    "print(\"==df-df.iloc[0]==\")\n",
    "print(df - df.iloc[0])\n",
    "\n",
    "print(\"==column-wise==\")  #cannot do - , since default is row-wise\n",
    "print(df.subtract(df['R'], axis=0))"
   ]
  },
  {
   "cell_type": "markdown",
   "metadata": {},
   "source": [
    "## Handling missing data"
   ]
  },
  {
   "cell_type": "code",
   "execution_count": 71,
   "metadata": {},
   "outputs": [
    {
     "name": "stdout",
     "output_type": "stream",
     "text": [
      "Type of np.nan:  <class 'float'>\n",
      "Np nan - 1:  nan\n",
      "Sum:  nan\n",
      "Nansum:  8.0\n",
      "Nanmin:  1.0\n",
      "Nanmax:  4.0\n",
      "Pandas automatically convert None to nans\n",
      "0    1.0\n",
      "1    NaN\n",
      "2    NaN\n",
      "dtype: float64\n",
      "Pandas do not, since String is object\n",
      "0    Hello\n",
      "1     None\n",
      "2      NaN\n",
      "dtype: object\n",
      "Pandas do not, cast Boolean to object\n",
      "0    True\n",
      "1    None\n",
      "2     NaN\n",
      "dtype: object\n",
      "Is null:  0    False\n",
      "1     True\n",
      "2    False\n",
      "3     True\n",
      "dtype: bool\n",
      "==Only data not null==\n",
      "0        1\n",
      "2    hello\n",
      "dtype: object\n",
      "==Drop all na==\n",
      "0        1\n",
      "2    hello\n",
      "dtype: object\n",
      "0        1\n",
      "1      NaN\n",
      "2    hello\n",
      "3     None\n",
      "dtype: object\n",
      "Empty DataFrame\n",
      "Columns: []\n",
      "Index: [0, 1, 2, 3]\n",
      "     0    1    2\n",
      "0  1.0  NaN  2.0\n",
      "1  2.0  3.0  5.0\n",
      "2  NaN  4.0  NaN\n",
      "3  4.0  NaN  NaN\n",
      "==Fill na with 0==\n",
      "     0    1    2    3\n",
      "0  1.0  0.0  2.0  0.0\n",
      "1  2.0  3.0  5.0  0.0\n",
      "2  0.0  4.0  0.0  0.0\n",
      "3  4.0  0.0  0.0  0.0\n",
      "==Fill all na with mean==\n",
      "          0    1    2   3\n",
      "0  1.000000  3.5  2.0 NaN\n",
      "1  2.000000  3.0  5.0 NaN\n",
      "2  2.333333  4.0  3.5 NaN\n",
      "3  4.000000  3.5  3.5 NaN\n",
      "replace df.mean() for col 1 with in place\n",
      "     0    1    2   3\n",
      "0  1.0  3.5  2.0 NaN\n",
      "1  2.0  3.0  5.0 NaN\n",
      "2  NaN  4.0  NaN NaN\n",
      "3  4.0  3.5  NaN NaN\n",
      "==Interpolate==\n",
      "     0    1    2   3\n",
      "0  1.0  3.5  2.0 NaN\n",
      "1  2.0  3.0  5.0 NaN\n",
      "2  3.0  4.0  5.0 NaN\n",
      "3  4.0  3.5  5.0 NaN\n"
     ]
    }
   ],
   "source": [
    "#None\n",
    "#Because it is a Python object, None cannot be used in any arbitrary \n",
    "#NumPy/Pandas array, but only in arrays with data type 'object' \n",
    "#(i.e., arrays of Python objects):\n",
    "\n",
    "import numpy as np\n",
    "import pandas as pd\n",
    "\n",
    "vals = np.array([1, None, 3, 4])\n",
    "vals\n",
    "\n",
    "#typically, we do not use None, since it uses a lot of overhead\n",
    "# for dtype in ['object', 'int']:\n",
    "#     print(\"dtype=\", dtype)\n",
    "#     %timeit np.arange(1000, dtype=dtype).sum()\n",
    "    \n",
    "#in addition, you cannot perform aggregations like sum() or min() with\n",
    "#array containing None\n",
    "# vals.sum()\n",
    "\n",
    "#instead, it is encouraged to use np.nan to represent null values\n",
    "print(\"Type of np.nan: \", type(np.nan))\n",
    "print(\"Np nan - 1: \", np.nan - 1) #any operation with nan is nan\n",
    "\n",
    "vals2 = np.array([1, np.nan, 3, 4])\n",
    "print(\"Sum: \", vals2.sum())\n",
    "print(\"Nansum: \", np.nansum(vals2))\n",
    "print(\"Nanmin: \", np.nanmin(vals2))\n",
    "print(\"Nanmax: \", np.nanmax(vals2))\n",
    "\n",
    "#Create a pd series.  Automatically convert None to np.nan, if other values are integers or float\n",
    "dfs = pd.Series([1, None, np.nan])\n",
    "print(\"Pandas automatically convert None to nans\")\n",
    "print(dfs)\n",
    "\n",
    "dfs = pd.Series([\"Hello\", None, np.nan])\n",
    "print(\"Pandas do not, since String is object\")\n",
    "print(dfs)\n",
    "\n",
    "dfs = pd.Series([True, None, np.nan])\n",
    "print(\"Pandas do not, cast Boolean to object\")\n",
    "print(dfs)\n",
    "\n",
    "#pandas treat None and np.nan interchangeably\n",
    "#isnull() - check any missing values\n",
    "#notnull() - opposite of isnull()\n",
    "#dropna() - drop all null and return the filtered version\n",
    "#fillna() - fill all null with some values\n",
    "dfs = pd.Series([1, np.nan, \"hello\", None])\n",
    "print(\"Is null: \", dfs.isnull())\n",
    "\n",
    "print(\"==Only data not null==\")\n",
    "print(dfs[dfs.notnull()])\n",
    "\n",
    "print(\"==Drop all na==\")\n",
    "print(dfs.dropna())  #this is not in place!\n",
    "print(dfs)  #this will bring back the old copy\n",
    "\n",
    "#drop columns with na, use axis = 1\n",
    "df = pd.DataFrame([[1, np.nan, 2],\n",
    "                  [2, 3, 5],\n",
    "                  [np.nan, 4, np.nan],\n",
    "                  [4, np.nan, np.nan]])\n",
    "\n",
    "print(df.dropna(axis=1))  #default is axis = 0\n",
    "\n",
    "#drop columns, if all values is nan\n",
    "df[3] = np.nan  #create new column\n",
    "print(df.dropna(axis=1, how=\"all\"))\n",
    "\n",
    "#most of the time, if you have missing values, it is advised\n",
    "#to drop them simply.  This is against many opinions.  However,\n",
    "#the case is that:\n",
    "#When you replace missing value with mean, you lower the variance\n",
    "#When you replace with median, you also lower the variance\n",
    "#when you replace with some value, you introduce noise\n",
    "#but first, let's see how to replace value\n",
    "print(\"==Fill na with 0==\")\n",
    "print(df.fillna(0))  #not in place, reminders!\n",
    "\n",
    "print(\"==Fill all na with mean==\")\n",
    "print(df.fillna(df.mean()))\n",
    "\n",
    "print(\"replace df.mean() for col 1 with in place\")\n",
    "df[1].fillna(df[1].mean(), inplace=True)  #this is in place!\n",
    "print(df)\n",
    "\n",
    "print(\"==Interpolate==\")\n",
    "print(df.interpolate(method='values'))"
   ]
  },
  {
   "cell_type": "markdown",
   "metadata": {},
   "source": [
    "## Concatenating Datasets"
   ]
  },
  {
   "cell_type": "code",
   "execution_count": 9,
   "metadata": {
    "scrolled": true
   },
   "outputs": [
    {
     "name": "stdout",
     "output_type": "stream",
     "text": [
      "==First dataframe==\n",
      "              Population      Area\n",
      "Bangkok         0.047802  0.292829\n",
      "Chiangmai       0.483411  0.352565\n",
      "Samut Prakan    0.554488  0.628103\n",
      "==Second dataframe==\n",
      "                   HDI  Temperature       GDP\n",
      "Bangkok       0.764025     0.387409  0.015288\n",
      "Chiangmai     0.117534     0.026731  0.419141\n",
      "Samut Prakan  0.425904     0.149018  0.981558\n",
      "Pathum Thani  0.689067     0.169676  0.276838\n",
      "==Normal concat along axis 1==\n",
      "              Population      Area       HDI  Temperature       GDP\n",
      "Bangkok         0.047802  0.292829  0.764025     0.387409  0.015288\n",
      "Chiangmai       0.483411  0.352565  0.117534     0.026731  0.419141\n",
      "Samut Prakan    0.554488  0.628103  0.425904     0.149018  0.981558\n",
      "Pathum Thani         NaN       NaN  0.689067     0.169676  0.276838\n",
      "==Concat with join inner==\n",
      "              Population      Area       HDI  Temperature       GDP\n",
      "Bangkok         0.047802  0.292829  0.764025     0.387409  0.015288\n",
      "Chiangmai       0.483411  0.352565  0.117534     0.026731  0.419141\n",
      "Samut Prakan    0.554488  0.628103  0.425904     0.149018  0.981558\n",
      "==Concat along axis 1 and 0==\n",
      "              Population      Area       HDI  Temperature       GDP\n",
      "Bangkok         0.047802  0.292829  0.764025     0.387409  0.015288\n",
      "Chiangmai       0.483411  0.352565  0.117534     0.026731  0.419141\n",
      "Samut Prakan    0.554488  0.628103  0.425904     0.149018  0.981558\n",
      "Pathum Thani         NaN       NaN  0.689067     0.169676  0.276838\n",
      "Chiangrai       0.719193  0.267003  0.145801     0.308991  0.029903\n",
      "Korat           0.727622  0.811186  0.131240     0.678187  0.911967\n",
      "KhonKhaen       0.351045  0.978064  0.780745     0.375316  0.667339\n"
     ]
    }
   ],
   "source": [
    "#dataframe concatenation\n",
    "data_numpy = np.random.rand(3, 2)  #shape 3, 2\n",
    "index = ['Bangkok', 'Chiangmai', 'Samut Prakan']\n",
    "columns = ['Population', 'Area']\n",
    "pd_from_numpy = pd.DataFrame(data_numpy, index=index, columns=columns)\n",
    "print(\"==First dataframe==\")\n",
    "print(pd_from_numpy)\n",
    "\n",
    "data_numpy2 = np.random.rand(4, 3)\n",
    "index2 = ['Bangkok', 'Chiangmai', 'Samut Prakan', 'Pathum Thani']\n",
    "columns2 = ['HDI', 'Temperature', 'GDP']\n",
    "pd_from_numpy2 = pd.DataFrame(data_numpy2, index=index2, columns=columns2)\n",
    "print(\"==Second dataframe==\")\n",
    "print(pd_from_numpy2)\n",
    "\n",
    "#do you see something weird, the index is duplicated!\n",
    "#this is because pandas preserve indices!\n",
    "#however, the columns are not duplicated...as you can see\n",
    "print(\"==Normal concat along axis 1==\")\n",
    "print(pd.concat([pd_from_numpy, pd_from_numpy2], axis=1))\n",
    "\n",
    "#to remove Nan from good, we use inner join (only perserve intersected elements)\n",
    "print(\"==Concat with join inner==\")\n",
    "print(pd.concat([pd_from_numpy, pd_from_numpy2], axis=1, join='inner'))\n",
    "\n",
    "#let say that you have more information of other countries\n",
    "data_numpy3 = np.random.rand(3, 5)  #shape 3, 2\n",
    "index3 = ['Chiangrai', 'Korat', 'KhonKhaen']\n",
    "columns3 = ['Population', 'Area', 'HDI', 'GDP', 'Temperature']\n",
    "pd_from_numpy3 = pd.DataFrame(data_numpy3, index=index3, columns=columns3)\n",
    "\n",
    "print(\"==Concat along axis 1 and 0==\")\n",
    "df = pd.concat([pd_from_numpy, pd_from_numpy2], axis=1)\n",
    "df2 = pd.concat([df, pd_from_numpy3])\n",
    "print(df2)"
   ]
  },
  {
   "cell_type": "markdown",
   "metadata": {},
   "source": [
    "## Merging Datasets with ID"
   ]
  },
  {
   "cell_type": "code",
   "execution_count": 10,
   "metadata": {},
   "outputs": [
    {
     "data": {
      "text/html": [
       "<div>\n",
       "<style scoped>\n",
       "    .dataframe tbody tr th:only-of-type {\n",
       "        vertical-align: middle;\n",
       "    }\n",
       "\n",
       "    .dataframe tbody tr th {\n",
       "        vertical-align: top;\n",
       "    }\n",
       "\n",
       "    .dataframe thead th {\n",
       "        text-align: right;\n",
       "    }\n",
       "</style>\n",
       "<table border=\"1\" class=\"dataframe\">\n",
       "  <thead>\n",
       "    <tr style=\"text-align: right;\">\n",
       "      <th></th>\n",
       "      <th>ID</th>\n",
       "      <th>DS</th>\n",
       "      <th>SAD</th>\n",
       "    </tr>\n",
       "  </thead>\n",
       "  <tbody>\n",
       "    <tr>\n",
       "      <th>0</th>\n",
       "      <td>001</td>\n",
       "      <td>B</td>\n",
       "      <td>A</td>\n",
       "    </tr>\n",
       "    <tr>\n",
       "      <th>1</th>\n",
       "      <td>002</td>\n",
       "      <td>B</td>\n",
       "      <td>B</td>\n",
       "    </tr>\n",
       "    <tr>\n",
       "      <th>2</th>\n",
       "      <td>003</td>\n",
       "      <td>B</td>\n",
       "      <td>C+</td>\n",
       "    </tr>\n",
       "    <tr>\n",
       "      <th>3</th>\n",
       "      <td>005</td>\n",
       "      <td>C+</td>\n",
       "      <td>F</td>\n",
       "    </tr>\n",
       "  </tbody>\n",
       "</table>\n",
       "</div>"
      ],
      "text/plain": [
       "    ID  DS SAD\n",
       "0  001   B   A\n",
       "1  002   B   B\n",
       "2  003   B  C+\n",
       "3  005  C+   F"
      ]
     },
     "execution_count": 10,
     "metadata": {},
     "output_type": "execute_result"
    }
   ],
   "source": [
    "left = pd.DataFrame({'ID': ['001', '002', '003', '005'],\n",
    "                      'DS': ['B', 'B', 'B', 'C+'],\n",
    "                      'SAD': ['A', 'B', 'C+', 'F']})\n",
    "left"
   ]
  },
  {
   "cell_type": "code",
   "execution_count": 11,
   "metadata": {},
   "outputs": [
    {
     "data": {
      "text/html": [
       "<div>\n",
       "<style scoped>\n",
       "    .dataframe tbody tr th:only-of-type {\n",
       "        vertical-align: middle;\n",
       "    }\n",
       "\n",
       "    .dataframe tbody tr th {\n",
       "        vertical-align: top;\n",
       "    }\n",
       "\n",
       "    .dataframe thead th {\n",
       "        text-align: right;\n",
       "    }\n",
       "</style>\n",
       "<table border=\"1\" class=\"dataframe\">\n",
       "  <thead>\n",
       "    <tr style=\"text-align: right;\">\n",
       "      <th></th>\n",
       "      <th>ID</th>\n",
       "      <th>HCI</th>\n",
       "      <th>SDQI</th>\n",
       "    </tr>\n",
       "  </thead>\n",
       "  <tbody>\n",
       "    <tr>\n",
       "      <th>0</th>\n",
       "      <td>001</td>\n",
       "      <td>B+</td>\n",
       "      <td>A</td>\n",
       "    </tr>\n",
       "    <tr>\n",
       "      <th>1</th>\n",
       "      <td>002</td>\n",
       "      <td>A</td>\n",
       "      <td>A</td>\n",
       "    </tr>\n",
       "    <tr>\n",
       "      <th>2</th>\n",
       "      <td>003</td>\n",
       "      <td>A</td>\n",
       "      <td>B+</td>\n",
       "    </tr>\n",
       "    <tr>\n",
       "      <th>3</th>\n",
       "      <td>004</td>\n",
       "      <td>B+</td>\n",
       "      <td>B</td>\n",
       "    </tr>\n",
       "  </tbody>\n",
       "</table>\n",
       "</div>"
      ],
      "text/plain": [
       "    ID HCI SDQI\n",
       "0  001  B+    A\n",
       "1  002   A    A\n",
       "2  003   A   B+\n",
       "3  004  B+    B"
      ]
     },
     "execution_count": 11,
     "metadata": {},
     "output_type": "execute_result"
    }
   ],
   "source": [
    "right = pd.DataFrame({'ID': ['001', '002', '003', '004'],\n",
    "                      'HCI': ['B+', 'A', 'A', 'B+'],\n",
    "                      'SDQI': ['A', 'A', 'B+', 'B']})\n",
    "right"
   ]
  },
  {
   "cell_type": "code",
   "execution_count": 12,
   "metadata": {},
   "outputs": [
    {
     "data": {
      "text/html": [
       "<div>\n",
       "<style scoped>\n",
       "    .dataframe tbody tr th:only-of-type {\n",
       "        vertical-align: middle;\n",
       "    }\n",
       "\n",
       "    .dataframe tbody tr th {\n",
       "        vertical-align: top;\n",
       "    }\n",
       "\n",
       "    .dataframe thead th {\n",
       "        text-align: right;\n",
       "    }\n",
       "</style>\n",
       "<table border=\"1\" class=\"dataframe\">\n",
       "  <thead>\n",
       "    <tr style=\"text-align: right;\">\n",
       "      <th></th>\n",
       "      <th>ID</th>\n",
       "      <th>DS</th>\n",
       "      <th>SAD</th>\n",
       "      <th>HCI</th>\n",
       "      <th>SDQI</th>\n",
       "    </tr>\n",
       "  </thead>\n",
       "  <tbody>\n",
       "    <tr>\n",
       "      <th>0</th>\n",
       "      <td>001</td>\n",
       "      <td>B</td>\n",
       "      <td>A</td>\n",
       "      <td>B+</td>\n",
       "      <td>A</td>\n",
       "    </tr>\n",
       "    <tr>\n",
       "      <th>1</th>\n",
       "      <td>002</td>\n",
       "      <td>B</td>\n",
       "      <td>B</td>\n",
       "      <td>A</td>\n",
       "      <td>A</td>\n",
       "    </tr>\n",
       "    <tr>\n",
       "      <th>2</th>\n",
       "      <td>003</td>\n",
       "      <td>B</td>\n",
       "      <td>C+</td>\n",
       "      <td>A</td>\n",
       "      <td>B+</td>\n",
       "    </tr>\n",
       "  </tbody>\n",
       "</table>\n",
       "</div>"
      ],
      "text/plain": [
       "    ID DS SAD HCI SDQI\n",
       "0  001  B   A  B+    A\n",
       "1  002  B   B   A    A\n",
       "2  003  B  C+   A   B+"
      ]
     },
     "execution_count": 12,
     "metadata": {},
     "output_type": "execute_result"
    }
   ],
   "source": [
    "#seems like 004 is gone!  Very similar to inner join\n",
    "result = pd.merge(left, right, on='ID')  #default is how=inner\n",
    "result"
   ]
  },
  {
   "cell_type": "code",
   "execution_count": 13,
   "metadata": {},
   "outputs": [
    {
     "data": {
      "text/html": [
       "<div>\n",
       "<style scoped>\n",
       "    .dataframe tbody tr th:only-of-type {\n",
       "        vertical-align: middle;\n",
       "    }\n",
       "\n",
       "    .dataframe tbody tr th {\n",
       "        vertical-align: top;\n",
       "    }\n",
       "\n",
       "    .dataframe thead th {\n",
       "        text-align: right;\n",
       "    }\n",
       "</style>\n",
       "<table border=\"1\" class=\"dataframe\">\n",
       "  <thead>\n",
       "    <tr style=\"text-align: right;\">\n",
       "      <th></th>\n",
       "      <th>ID</th>\n",
       "      <th>DS</th>\n",
       "      <th>SAD</th>\n",
       "      <th>HCI</th>\n",
       "      <th>SDQI</th>\n",
       "    </tr>\n",
       "  </thead>\n",
       "  <tbody>\n",
       "    <tr>\n",
       "      <th>0</th>\n",
       "      <td>001</td>\n",
       "      <td>B</td>\n",
       "      <td>A</td>\n",
       "      <td>B+</td>\n",
       "      <td>A</td>\n",
       "    </tr>\n",
       "    <tr>\n",
       "      <th>1</th>\n",
       "      <td>002</td>\n",
       "      <td>B</td>\n",
       "      <td>B</td>\n",
       "      <td>A</td>\n",
       "      <td>A</td>\n",
       "    </tr>\n",
       "    <tr>\n",
       "      <th>2</th>\n",
       "      <td>003</td>\n",
       "      <td>B</td>\n",
       "      <td>C+</td>\n",
       "      <td>A</td>\n",
       "      <td>B+</td>\n",
       "    </tr>\n",
       "    <tr>\n",
       "      <th>3</th>\n",
       "      <td>005</td>\n",
       "      <td>C+</td>\n",
       "      <td>F</td>\n",
       "      <td>NaN</td>\n",
       "      <td>NaN</td>\n",
       "    </tr>\n",
       "    <tr>\n",
       "      <th>4</th>\n",
       "      <td>004</td>\n",
       "      <td>NaN</td>\n",
       "      <td>NaN</td>\n",
       "      <td>B+</td>\n",
       "      <td>B</td>\n",
       "    </tr>\n",
       "  </tbody>\n",
       "</table>\n",
       "</div>"
      ],
      "text/plain": [
       "    ID   DS  SAD  HCI SDQI\n",
       "0  001    B    A   B+    A\n",
       "1  002    B    B    A    A\n",
       "2  003    B   C+    A   B+\n",
       "3  005   C+    F  NaN  NaN\n",
       "4  004  NaN  NaN   B+    B"
      ]
     },
     "execution_count": 13,
     "metadata": {},
     "output_type": "execute_result"
    }
   ],
   "source": [
    "#specify how=outer\n",
    "result = pd.merge(left, right, on='ID', how=\"outer\")  #default is how=inner\n",
    "result"
   ]
  },
  {
   "cell_type": "code",
   "execution_count": 14,
   "metadata": {},
   "outputs": [
    {
     "data": {
      "text/html": [
       "<div>\n",
       "<style scoped>\n",
       "    .dataframe tbody tr th:only-of-type {\n",
       "        vertical-align: middle;\n",
       "    }\n",
       "\n",
       "    .dataframe tbody tr th {\n",
       "        vertical-align: top;\n",
       "    }\n",
       "\n",
       "    .dataframe thead th {\n",
       "        text-align: right;\n",
       "    }\n",
       "</style>\n",
       "<table border=\"1\" class=\"dataframe\">\n",
       "  <thead>\n",
       "    <tr style=\"text-align: right;\">\n",
       "      <th></th>\n",
       "      <th>ID</th>\n",
       "      <th>DS</th>\n",
       "      <th>SAD</th>\n",
       "      <th>HCI</th>\n",
       "      <th>SDQI</th>\n",
       "    </tr>\n",
       "  </thead>\n",
       "  <tbody>\n",
       "    <tr>\n",
       "      <th>0</th>\n",
       "      <td>001</td>\n",
       "      <td>B</td>\n",
       "      <td>A</td>\n",
       "      <td>B+</td>\n",
       "      <td>A</td>\n",
       "    </tr>\n",
       "    <tr>\n",
       "      <th>1</th>\n",
       "      <td>002</td>\n",
       "      <td>B</td>\n",
       "      <td>B</td>\n",
       "      <td>A</td>\n",
       "      <td>A</td>\n",
       "    </tr>\n",
       "    <tr>\n",
       "      <th>2</th>\n",
       "      <td>003</td>\n",
       "      <td>B</td>\n",
       "      <td>C+</td>\n",
       "      <td>A</td>\n",
       "      <td>B+</td>\n",
       "    </tr>\n",
       "    <tr>\n",
       "      <th>3</th>\n",
       "      <td>005</td>\n",
       "      <td>C+</td>\n",
       "      <td>F</td>\n",
       "      <td>NaN</td>\n",
       "      <td>NaN</td>\n",
       "    </tr>\n",
       "  </tbody>\n",
       "</table>\n",
       "</div>"
      ],
      "text/plain": [
       "    ID  DS SAD  HCI SDQI\n",
       "0  001   B   A   B+    A\n",
       "1  002   B   B    A    A\n",
       "2  003   B  C+    A   B+\n",
       "3  005  C+   F  NaN  NaN"
      ]
     },
     "execution_count": 14,
     "metadata": {},
     "output_type": "execute_result"
    }
   ],
   "source": [
    "#specify how=left, or right\n",
    "result = pd.merge(left, right, on='ID', how=\"left\")  #default is how=inner\n",
    "result"
   ]
  },
  {
   "cell_type": "markdown",
   "metadata": {},
   "source": [
    "## Aggregation"
   ]
  },
  {
   "cell_type": "code",
   "execution_count": 15,
   "metadata": {},
   "outputs": [
    {
     "data": {
      "text/html": [
       "<div>\n",
       "<style scoped>\n",
       "    .dataframe tbody tr th:only-of-type {\n",
       "        vertical-align: middle;\n",
       "    }\n",
       "\n",
       "    .dataframe tbody tr th {\n",
       "        vertical-align: top;\n",
       "    }\n",
       "\n",
       "    .dataframe thead th {\n",
       "        text-align: right;\n",
       "    }\n",
       "</style>\n",
       "<table border=\"1\" class=\"dataframe\">\n",
       "  <thead>\n",
       "    <tr style=\"text-align: right;\">\n",
       "      <th></th>\n",
       "      <th>class</th>\n",
       "      <th>order</th>\n",
       "      <th>max_speed</th>\n",
       "    </tr>\n",
       "  </thead>\n",
       "  <tbody>\n",
       "    <tr>\n",
       "      <th>falcon</th>\n",
       "      <td>bird</td>\n",
       "      <td>Falconiformes</td>\n",
       "      <td>389.0</td>\n",
       "    </tr>\n",
       "    <tr>\n",
       "      <th>parrot</th>\n",
       "      <td>bird</td>\n",
       "      <td>Psittaciformes</td>\n",
       "      <td>24.0</td>\n",
       "    </tr>\n",
       "    <tr>\n",
       "      <th>lion</th>\n",
       "      <td>mammal</td>\n",
       "      <td>Carnivora</td>\n",
       "      <td>80.2</td>\n",
       "    </tr>\n",
       "    <tr>\n",
       "      <th>monkey</th>\n",
       "      <td>mammal</td>\n",
       "      <td>Primates</td>\n",
       "      <td>NaN</td>\n",
       "    </tr>\n",
       "    <tr>\n",
       "      <th>leopard</th>\n",
       "      <td>mammal</td>\n",
       "      <td>Carnivora</td>\n",
       "      <td>58.0</td>\n",
       "    </tr>\n",
       "  </tbody>\n",
       "</table>\n",
       "</div>"
      ],
      "text/plain": [
       "          class           order  max_speed\n",
       "falcon     bird   Falconiformes      389.0\n",
       "parrot     bird  Psittaciformes       24.0\n",
       "lion     mammal       Carnivora       80.2\n",
       "monkey   mammal        Primates        NaN\n",
       "leopard  mammal       Carnivora       58.0"
      ]
     },
     "execution_count": 15,
     "metadata": {},
     "output_type": "execute_result"
    }
   ],
   "source": [
    "df = pd.DataFrame([('bird', 'Falconiformes', 389.0),\n",
    "                    ('bird', 'Psittaciformes', 24.0),\n",
    "                    ('mammal', 'Carnivora', 80.2),\n",
    "                    ('mammal', 'Primates', np.nan),\n",
    "                    ('mammal', 'Carnivora', 58)],\n",
    "                   index=['falcon', 'parrot', 'lion', 'monkey', 'leopard'],\n",
    "                   columns=('class', 'order', 'max_speed'))\n",
    "df"
   ]
  },
  {
   "cell_type": "code",
   "execution_count": 16,
   "metadata": {},
   "outputs": [
    {
     "data": {
      "text/html": [
       "<div>\n",
       "<style scoped>\n",
       "    .dataframe tbody tr th:only-of-type {\n",
       "        vertical-align: middle;\n",
       "    }\n",
       "\n",
       "    .dataframe tbody tr th {\n",
       "        vertical-align: top;\n",
       "    }\n",
       "\n",
       "    .dataframe thead th {\n",
       "        text-align: right;\n",
       "    }\n",
       "</style>\n",
       "<table border=\"1\" class=\"dataframe\">\n",
       "  <thead>\n",
       "    <tr style=\"text-align: right;\">\n",
       "      <th></th>\n",
       "      <th>max_speed</th>\n",
       "    </tr>\n",
       "    <tr>\n",
       "      <th>class</th>\n",
       "      <th></th>\n",
       "    </tr>\n",
       "  </thead>\n",
       "  <tbody>\n",
       "    <tr>\n",
       "      <th>bird</th>\n",
       "      <td>413.0</td>\n",
       "    </tr>\n",
       "    <tr>\n",
       "      <th>mammal</th>\n",
       "      <td>138.2</td>\n",
       "    </tr>\n",
       "  </tbody>\n",
       "</table>\n",
       "</div>"
      ],
      "text/plain": [
       "        max_speed\n",
       "class            \n",
       "bird        413.0\n",
       "mammal      138.2"
      ]
     },
     "execution_count": 16,
     "metadata": {},
     "output_type": "execute_result"
    }
   ],
   "source": [
    "grouped = df.groupby('class')  #return a special view as DataFrameGroupByObject\n",
    "grouped.sum()"
   ]
  },
  {
   "cell_type": "code",
   "execution_count": 17,
   "metadata": {},
   "outputs": [
    {
     "data": {
      "text/html": [
       "<div>\n",
       "<style scoped>\n",
       "    .dataframe tbody tr th:only-of-type {\n",
       "        vertical-align: middle;\n",
       "    }\n",
       "\n",
       "    .dataframe tbody tr th {\n",
       "        vertical-align: top;\n",
       "    }\n",
       "\n",
       "    .dataframe thead th {\n",
       "        text-align: right;\n",
       "    }\n",
       "</style>\n",
       "<table border=\"1\" class=\"dataframe\">\n",
       "  <thead>\n",
       "    <tr style=\"text-align: right;\">\n",
       "      <th></th>\n",
       "      <th>max_speed</th>\n",
       "    </tr>\n",
       "    <tr>\n",
       "      <th>order</th>\n",
       "      <th></th>\n",
       "    </tr>\n",
       "  </thead>\n",
       "  <tbody>\n",
       "    <tr>\n",
       "      <th>Carnivora</th>\n",
       "      <td>138.2</td>\n",
       "    </tr>\n",
       "    <tr>\n",
       "      <th>Falconiformes</th>\n",
       "      <td>389.0</td>\n",
       "    </tr>\n",
       "    <tr>\n",
       "      <th>Primates</th>\n",
       "      <td>0.0</td>\n",
       "    </tr>\n",
       "    <tr>\n",
       "      <th>Psittaciformes</th>\n",
       "      <td>24.0</td>\n",
       "    </tr>\n",
       "  </tbody>\n",
       "</table>\n",
       "</div>"
      ],
      "text/plain": [
       "                max_speed\n",
       "order                    \n",
       "Carnivora           138.2\n",
       "Falconiformes       389.0\n",
       "Primates              0.0\n",
       "Psittaciformes       24.0"
      ]
     },
     "execution_count": 17,
     "metadata": {},
     "output_type": "execute_result"
    }
   ],
   "source": [
    "grouped = df.groupby('order')  #return a special view as DataFrameGroupByObject\n",
    "grouped.sum()"
   ]
  },
  {
   "cell_type": "code",
   "execution_count": 18,
   "metadata": {},
   "outputs": [
    {
     "data": {
      "text/html": [
       "<div>\n",
       "<style scoped>\n",
       "    .dataframe tbody tr th:only-of-type {\n",
       "        vertical-align: middle;\n",
       "    }\n",
       "\n",
       "    .dataframe tbody tr th {\n",
       "        vertical-align: top;\n",
       "    }\n",
       "\n",
       "    .dataframe thead th {\n",
       "        text-align: right;\n",
       "    }\n",
       "</style>\n",
       "<table border=\"1\" class=\"dataframe\">\n",
       "  <thead>\n",
       "    <tr style=\"text-align: right;\">\n",
       "      <th></th>\n",
       "      <th></th>\n",
       "      <th>max_speed</th>\n",
       "    </tr>\n",
       "    <tr>\n",
       "      <th>class</th>\n",
       "      <th>order</th>\n",
       "      <th></th>\n",
       "    </tr>\n",
       "  </thead>\n",
       "  <tbody>\n",
       "    <tr>\n",
       "      <th rowspan=\"2\" valign=\"top\">bird</th>\n",
       "      <th>Falconiformes</th>\n",
       "      <td>389.0</td>\n",
       "    </tr>\n",
       "    <tr>\n",
       "      <th>Psittaciformes</th>\n",
       "      <td>24.0</td>\n",
       "    </tr>\n",
       "    <tr>\n",
       "      <th rowspan=\"2\" valign=\"top\">mammal</th>\n",
       "      <th>Carnivora</th>\n",
       "      <td>138.2</td>\n",
       "    </tr>\n",
       "    <tr>\n",
       "      <th>Primates</th>\n",
       "      <td>0.0</td>\n",
       "    </tr>\n",
       "  </tbody>\n",
       "</table>\n",
       "</div>"
      ],
      "text/plain": [
       "                       max_speed\n",
       "class  order                    \n",
       "bird   Falconiformes       389.0\n",
       "       Psittaciformes       24.0\n",
       "mammal Carnivora           138.2\n",
       "       Primates              0.0"
      ]
     },
     "execution_count": 18,
     "metadata": {},
     "output_type": "execute_result"
    }
   ],
   "source": [
    "grouped = df.groupby(['class', 'order'])\n",
    "grouped.sum()"
   ]
  },
  {
   "cell_type": "code",
   "execution_count": 19,
   "metadata": {},
   "outputs": [
    {
     "data": {
      "text/plain": [
       "class\n",
       "bird      206.5\n",
       "mammal     69.1\n",
       "Name: max_speed, dtype: float64"
      ]
     },
     "execution_count": 19,
     "metadata": {},
     "output_type": "execute_result"
    }
   ],
   "source": [
    "df.groupby(['class'])['max_speed'].median()"
   ]
  },
  {
   "cell_type": "code",
   "execution_count": 20,
   "metadata": {},
   "outputs": [
    {
     "name": "stdout",
     "output_type": "stream",
     "text": [
      "Shape:  (1035, 6)\n",
      "First five rows: \n",
      "            method  number  orbital_period   mass  distance  year\n",
      "0  Radial Velocity       1         269.300   7.10     77.40  2006\n",
      "1  Radial Velocity       1         874.774   2.21     56.95  2008\n",
      "2  Radial Velocity       1         763.000   2.60     19.84  2011\n",
      "3  Radial Velocity       1         326.030  19.40    110.62  2007\n",
      "4  Radial Velocity       1         516.220  10.50    119.47  2009\n",
      "==Built in Pandas simple aggregations==\n",
      "number               1.785507\n",
      "orbital_period    2002.917596\n",
      "mass                 2.638161\n",
      "distance           264.069282\n",
      "year              2009.070531\n",
      "dtype: float64\n",
      "==Mean (axis=1)==\n",
      "0       472.160000\n",
      "1       588.586800\n",
      "2       559.488000\n",
      "3       492.810000\n",
      "4       531.238000\n",
      "           ...    \n",
      "1030    545.735377\n",
      "1031    539.653966\n",
      "1032    546.297881\n",
      "1033    576.531271\n",
      "1034    568.296939\n",
      "Length: 1035, dtype: float64\n",
      "==Describe==\n",
      "            number  orbital_period        mass     distance         year\n",
      "count  1035.000000      992.000000  513.000000   808.000000  1035.000000\n",
      "mean      1.785507     2002.917596    2.638161   264.069282  2009.070531\n",
      "std       1.240976    26014.728304    3.818617   733.116493     3.972567\n",
      "min       1.000000        0.090706    0.003600     1.350000  1989.000000\n",
      "25%       1.000000        5.442540    0.229000    32.560000  2007.000000\n",
      "50%       1.000000       39.979500    1.260000    55.250000  2010.000000\n",
      "75%       2.000000      526.005000    3.040000   178.500000  2012.000000\n",
      "max       7.000000   730000.000000   25.000000  8500.000000  2014.000000\n"
     ]
    }
   ],
   "source": [
    "import seaborn as sns\n",
    "planets = sns.load_dataset('planets')\n",
    "print(\"Shape: \", planets.shape)\n",
    "print(\"First five rows: \")\n",
    "print(planets.head())\n",
    "\n",
    "print(\"==Built in Pandas simple aggregations==\")\n",
    "print(planets.mean())\n",
    "# print(planets.median())\n",
    "# print(planets.min())\n",
    "# print(planets.max())\n",
    "# print(planets.std())\n",
    "# print(planets.var())\n",
    "# print(planets.sum())\n",
    "\n",
    "print(\"==Mean (axis=1)==\")\n",
    "print(planets.mean(axis=1))\n",
    "\n",
    "print(\"==Describe==\")\n",
    "print(planets.describe())"
   ]
  },
  {
   "cell_type": "code",
   "execution_count": 21,
   "metadata": {},
   "outputs": [
    {
     "data": {
      "text/html": [
       "<div>\n",
       "<style scoped>\n",
       "    .dataframe tbody tr th:only-of-type {\n",
       "        vertical-align: middle;\n",
       "    }\n",
       "\n",
       "    .dataframe tbody tr th {\n",
       "        vertical-align: top;\n",
       "    }\n",
       "\n",
       "    .dataframe thead th {\n",
       "        text-align: right;\n",
       "    }\n",
       "</style>\n",
       "<table border=\"1\" class=\"dataframe\">\n",
       "  <thead>\n",
       "    <tr style=\"text-align: right;\">\n",
       "      <th></th>\n",
       "      <th>number</th>\n",
       "      <th>orbital_period</th>\n",
       "      <th>mass</th>\n",
       "      <th>distance</th>\n",
       "      <th>year</th>\n",
       "    </tr>\n",
       "    <tr>\n",
       "      <th>method</th>\n",
       "      <th></th>\n",
       "      <th></th>\n",
       "      <th></th>\n",
       "      <th></th>\n",
       "      <th></th>\n",
       "    </tr>\n",
       "  </thead>\n",
       "  <tbody>\n",
       "    <tr>\n",
       "      <th>Astrometry</th>\n",
       "      <td>2</td>\n",
       "      <td>1.262360e+03</td>\n",
       "      <td>0.00000</td>\n",
       "      <td>35.75</td>\n",
       "      <td>4023</td>\n",
       "    </tr>\n",
       "    <tr>\n",
       "      <th>Eclipse Timing Variations</th>\n",
       "      <td>15</td>\n",
       "      <td>4.276480e+04</td>\n",
       "      <td>10.25000</td>\n",
       "      <td>1261.44</td>\n",
       "      <td>18090</td>\n",
       "    </tr>\n",
       "    <tr>\n",
       "      <th>Imaging</th>\n",
       "      <td>50</td>\n",
       "      <td>1.418973e+06</td>\n",
       "      <td>0.00000</td>\n",
       "      <td>2166.91</td>\n",
       "      <td>76347</td>\n",
       "    </tr>\n",
       "    <tr>\n",
       "      <th>Microlensing</th>\n",
       "      <td>27</td>\n",
       "      <td>2.207500e+04</td>\n",
       "      <td>0.00000</td>\n",
       "      <td>41440.00</td>\n",
       "      <td>46225</td>\n",
       "    </tr>\n",
       "    <tr>\n",
       "      <th>Orbital Brightness Modulation</th>\n",
       "      <td>5</td>\n",
       "      <td>2.127920e+00</td>\n",
       "      <td>0.00000</td>\n",
       "      <td>2360.00</td>\n",
       "      <td>6035</td>\n",
       "    </tr>\n",
       "    <tr>\n",
       "      <th>Pulsar Timing</th>\n",
       "      <td>11</td>\n",
       "      <td>3.671511e+04</td>\n",
       "      <td>0.00000</td>\n",
       "      <td>1200.00</td>\n",
       "      <td>9992</td>\n",
       "    </tr>\n",
       "    <tr>\n",
       "      <th>Pulsation Timing Variations</th>\n",
       "      <td>1</td>\n",
       "      <td>1.170000e+03</td>\n",
       "      <td>0.00000</td>\n",
       "      <td>0.00</td>\n",
       "      <td>2007</td>\n",
       "    </tr>\n",
       "    <tr>\n",
       "      <th>Radial Velocity</th>\n",
       "      <td>952</td>\n",
       "      <td>4.553151e+05</td>\n",
       "      <td>1341.65638</td>\n",
       "      <td>27348.11</td>\n",
       "      <td>1110158</td>\n",
       "    </tr>\n",
       "    <tr>\n",
       "      <th>Transit</th>\n",
       "      <td>776</td>\n",
       "      <td>8.377523e+03</td>\n",
       "      <td>1.47000</td>\n",
       "      <td>134242.77</td>\n",
       "      <td>798461</td>\n",
       "    </tr>\n",
       "    <tr>\n",
       "      <th>Transit Timing Variations</th>\n",
       "      <td>9</td>\n",
       "      <td>2.393505e+02</td>\n",
       "      <td>0.00000</td>\n",
       "      <td>3313.00</td>\n",
       "      <td>8050</td>\n",
       "    </tr>\n",
       "  </tbody>\n",
       "</table>\n",
       "</div>"
      ],
      "text/plain": [
       "                               number  orbital_period        mass   distance  \\\n",
       "method                                                                         \n",
       "Astrometry                          2    1.262360e+03     0.00000      35.75   \n",
       "Eclipse Timing Variations          15    4.276480e+04    10.25000    1261.44   \n",
       "Imaging                            50    1.418973e+06     0.00000    2166.91   \n",
       "Microlensing                       27    2.207500e+04     0.00000   41440.00   \n",
       "Orbital Brightness Modulation       5    2.127920e+00     0.00000    2360.00   \n",
       "Pulsar Timing                      11    3.671511e+04     0.00000    1200.00   \n",
       "Pulsation Timing Variations         1    1.170000e+03     0.00000       0.00   \n",
       "Radial Velocity                   952    4.553151e+05  1341.65638   27348.11   \n",
       "Transit                           776    8.377523e+03     1.47000  134242.77   \n",
       "Transit Timing Variations           9    2.393505e+02     0.00000    3313.00   \n",
       "\n",
       "                                  year  \n",
       "method                                  \n",
       "Astrometry                        4023  \n",
       "Eclipse Timing Variations        18090  \n",
       "Imaging                          76347  \n",
       "Microlensing                     46225  \n",
       "Orbital Brightness Modulation     6035  \n",
       "Pulsar Timing                     9992  \n",
       "Pulsation Timing Variations       2007  \n",
       "Radial Velocity                1110158  \n",
       "Transit                         798461  \n",
       "Transit Timing Variations         8050  "
      ]
     },
     "execution_count": 21,
     "metadata": {},
     "output_type": "execute_result"
    }
   ],
   "source": [
    "planets.groupby('method').sum()"
   ]
  },
  {
   "cell_type": "code",
   "execution_count": 22,
   "metadata": {},
   "outputs": [
    {
     "data": {
      "text/plain": [
       "method\n",
       "Astrometry                         631.180000\n",
       "Eclipse Timing Variations         4343.500000\n",
       "Imaging                          27500.000000\n",
       "Microlensing                      3300.000000\n",
       "Orbital Brightness Modulation        0.342887\n",
       "Pulsar Timing                       66.541900\n",
       "Pulsation Timing Variations       1170.000000\n",
       "Radial Velocity                    360.200000\n",
       "Transit                              5.714932\n",
       "Transit Timing Variations           57.011000\n",
       "Name: orbital_period, dtype: float64"
      ]
     },
     "execution_count": 22,
     "metadata": {},
     "output_type": "execute_result"
    }
   ],
   "source": [
    "planets.groupby('method')['orbital_period'].median()"
   ]
  },
  {
   "cell_type": "code",
   "execution_count": 23,
   "metadata": {},
   "outputs": [
    {
     "name": "stdout",
     "output_type": "stream",
     "text": [
      "Astrometry                     shape=(2, 6)\n",
      "Eclipse Timing Variations      shape=(9, 6)\n",
      "Imaging                        shape=(38, 6)\n",
      "Microlensing                   shape=(23, 6)\n",
      "Orbital Brightness Modulation  shape=(3, 6)\n",
      "Pulsar Timing                  shape=(5, 6)\n",
      "Pulsation Timing Variations    shape=(1, 6)\n",
      "Radial Velocity                shape=(553, 6)\n",
      "Transit                        shape=(397, 6)\n",
      "Transit Timing Variations      shape=(4, 6)\n"
     ]
    }
   ],
   "source": [
    "#The GroupBy object supports direct iteration over the groups, \n",
    "#returning each group as a Series or DataFrame:\n",
    "for (method, group) in planets.groupby('method'):\n",
    "    print(\"{0:30s} shape={1}\".format(method, group.shape))"
   ]
  },
  {
   "cell_type": "code",
   "execution_count": 24,
   "metadata": {},
   "outputs": [
    {
     "data": {
      "text/html": [
       "<div>\n",
       "<style scoped>\n",
       "    .dataframe tbody tr th:only-of-type {\n",
       "        vertical-align: middle;\n",
       "    }\n",
       "\n",
       "    .dataframe tbody tr th {\n",
       "        vertical-align: top;\n",
       "    }\n",
       "\n",
       "    .dataframe thead th {\n",
       "        text-align: right;\n",
       "    }\n",
       "</style>\n",
       "<table border=\"1\" class=\"dataframe\">\n",
       "  <thead>\n",
       "    <tr style=\"text-align: right;\">\n",
       "      <th></th>\n",
       "      <th>number</th>\n",
       "      <th>orbital_period</th>\n",
       "      <th>mass</th>\n",
       "      <th>distance</th>\n",
       "      <th>year</th>\n",
       "    </tr>\n",
       "  </thead>\n",
       "  <tbody>\n",
       "    <tr>\n",
       "      <th>count</th>\n",
       "      <td>1035.000000</td>\n",
       "      <td>992.000000</td>\n",
       "      <td>513.000000</td>\n",
       "      <td>808.000000</td>\n",
       "      <td>1035.000000</td>\n",
       "    </tr>\n",
       "    <tr>\n",
       "      <th>mean</th>\n",
       "      <td>1.785507</td>\n",
       "      <td>2002.917596</td>\n",
       "      <td>2.638161</td>\n",
       "      <td>264.069282</td>\n",
       "      <td>2009.070531</td>\n",
       "    </tr>\n",
       "    <tr>\n",
       "      <th>std</th>\n",
       "      <td>1.240976</td>\n",
       "      <td>26014.728304</td>\n",
       "      <td>3.818617</td>\n",
       "      <td>733.116493</td>\n",
       "      <td>3.972567</td>\n",
       "    </tr>\n",
       "    <tr>\n",
       "      <th>min</th>\n",
       "      <td>1.000000</td>\n",
       "      <td>0.090706</td>\n",
       "      <td>0.003600</td>\n",
       "      <td>1.350000</td>\n",
       "      <td>1989.000000</td>\n",
       "    </tr>\n",
       "    <tr>\n",
       "      <th>25%</th>\n",
       "      <td>1.000000</td>\n",
       "      <td>5.442540</td>\n",
       "      <td>0.229000</td>\n",
       "      <td>32.560000</td>\n",
       "      <td>2007.000000</td>\n",
       "    </tr>\n",
       "    <tr>\n",
       "      <th>50%</th>\n",
       "      <td>1.000000</td>\n",
       "      <td>39.979500</td>\n",
       "      <td>1.260000</td>\n",
       "      <td>55.250000</td>\n",
       "      <td>2010.000000</td>\n",
       "    </tr>\n",
       "    <tr>\n",
       "      <th>75%</th>\n",
       "      <td>2.000000</td>\n",
       "      <td>526.005000</td>\n",
       "      <td>3.040000</td>\n",
       "      <td>178.500000</td>\n",
       "      <td>2012.000000</td>\n",
       "    </tr>\n",
       "    <tr>\n",
       "      <th>max</th>\n",
       "      <td>7.000000</td>\n",
       "      <td>730000.000000</td>\n",
       "      <td>25.000000</td>\n",
       "      <td>8500.000000</td>\n",
       "      <td>2014.000000</td>\n",
       "    </tr>\n",
       "  </tbody>\n",
       "</table>\n",
       "</div>"
      ],
      "text/plain": [
       "            number  orbital_period        mass     distance         year\n",
       "count  1035.000000      992.000000  513.000000   808.000000  1035.000000\n",
       "mean      1.785507     2002.917596    2.638161   264.069282  2009.070531\n",
       "std       1.240976    26014.728304    3.818617   733.116493     3.972567\n",
       "min       1.000000        0.090706    0.003600     1.350000  1989.000000\n",
       "25%       1.000000        5.442540    0.229000    32.560000  2007.000000\n",
       "50%       1.000000       39.979500    1.260000    55.250000  2010.000000\n",
       "75%       2.000000      526.005000    3.040000   178.500000  2012.000000\n",
       "max       7.000000   730000.000000   25.000000  8500.000000  2014.000000"
      ]
     },
     "execution_count": 24,
     "metadata": {},
     "output_type": "execute_result"
    }
   ],
   "source": [
    "planets.describe()"
   ]
  },
  {
   "cell_type": "markdown",
   "metadata": {},
   "source": [
    "GroupBy objects have aggregate(), filter(), transform(), and apply() methods that efficiently implement a variety of useful operations before combining the grouped data.  For the purpose of the following subsections, we'll use this DataFrame:"
   ]
  },
  {
   "cell_type": "code",
   "execution_count": 25,
   "metadata": {},
   "outputs": [
    {
     "data": {
      "text/html": [
       "<div>\n",
       "<style scoped>\n",
       "    .dataframe tbody tr th:only-of-type {\n",
       "        vertical-align: middle;\n",
       "    }\n",
       "\n",
       "    .dataframe tbody tr th {\n",
       "        vertical-align: top;\n",
       "    }\n",
       "\n",
       "    .dataframe thead th {\n",
       "        text-align: right;\n",
       "    }\n",
       "</style>\n",
       "<table border=\"1\" class=\"dataframe\">\n",
       "  <thead>\n",
       "    <tr style=\"text-align: right;\">\n",
       "      <th></th>\n",
       "      <th>min</th>\n",
       "      <th>median</th>\n",
       "      <th>max</th>\n",
       "      <th>mean</th>\n",
       "      <th>std</th>\n",
       "      <th>count</th>\n",
       "    </tr>\n",
       "    <tr>\n",
       "      <th>method</th>\n",
       "      <th></th>\n",
       "      <th></th>\n",
       "      <th></th>\n",
       "      <th></th>\n",
       "      <th></th>\n",
       "      <th></th>\n",
       "    </tr>\n",
       "  </thead>\n",
       "  <tbody>\n",
       "    <tr>\n",
       "      <th>Astrometry</th>\n",
       "      <td>246.360000</td>\n",
       "      <td>631.180000</td>\n",
       "      <td>1016.000000</td>\n",
       "      <td>631.180000</td>\n",
       "      <td>544.217663</td>\n",
       "      <td>2</td>\n",
       "    </tr>\n",
       "    <tr>\n",
       "      <th>Eclipse Timing Variations</th>\n",
       "      <td>1916.250000</td>\n",
       "      <td>4343.500000</td>\n",
       "      <td>10220.000000</td>\n",
       "      <td>4751.644444</td>\n",
       "      <td>2499.130945</td>\n",
       "      <td>9</td>\n",
       "    </tr>\n",
       "    <tr>\n",
       "      <th>Imaging</th>\n",
       "      <td>4639.150000</td>\n",
       "      <td>27500.000000</td>\n",
       "      <td>730000.000000</td>\n",
       "      <td>118247.737500</td>\n",
       "      <td>213978.177277</td>\n",
       "      <td>12</td>\n",
       "    </tr>\n",
       "    <tr>\n",
       "      <th>Microlensing</th>\n",
       "      <td>1825.000000</td>\n",
       "      <td>3300.000000</td>\n",
       "      <td>5100.000000</td>\n",
       "      <td>3153.571429</td>\n",
       "      <td>1113.166333</td>\n",
       "      <td>7</td>\n",
       "    </tr>\n",
       "    <tr>\n",
       "      <th>Orbital Brightness Modulation</th>\n",
       "      <td>0.240104</td>\n",
       "      <td>0.342887</td>\n",
       "      <td>1.544929</td>\n",
       "      <td>0.709307</td>\n",
       "      <td>0.725493</td>\n",
       "      <td>3</td>\n",
       "    </tr>\n",
       "    <tr>\n",
       "      <th>Pulsar Timing</th>\n",
       "      <td>0.090706</td>\n",
       "      <td>66.541900</td>\n",
       "      <td>36525.000000</td>\n",
       "      <td>7343.021201</td>\n",
       "      <td>16313.265573</td>\n",
       "      <td>5</td>\n",
       "    </tr>\n",
       "    <tr>\n",
       "      <th>Pulsation Timing Variations</th>\n",
       "      <td>1170.000000</td>\n",
       "      <td>1170.000000</td>\n",
       "      <td>1170.000000</td>\n",
       "      <td>1170.000000</td>\n",
       "      <td>NaN</td>\n",
       "      <td>1</td>\n",
       "    </tr>\n",
       "    <tr>\n",
       "      <th>Radial Velocity</th>\n",
       "      <td>0.736540</td>\n",
       "      <td>360.200000</td>\n",
       "      <td>17337.500000</td>\n",
       "      <td>823.354680</td>\n",
       "      <td>1454.926210</td>\n",
       "      <td>553</td>\n",
       "    </tr>\n",
       "    <tr>\n",
       "      <th>Transit</th>\n",
       "      <td>0.355000</td>\n",
       "      <td>5.714932</td>\n",
       "      <td>331.600590</td>\n",
       "      <td>21.102073</td>\n",
       "      <td>46.185893</td>\n",
       "      <td>397</td>\n",
       "    </tr>\n",
       "    <tr>\n",
       "      <th>Transit Timing Variations</th>\n",
       "      <td>22.339500</td>\n",
       "      <td>57.011000</td>\n",
       "      <td>160.000000</td>\n",
       "      <td>79.783500</td>\n",
       "      <td>71.599884</td>\n",
       "      <td>3</td>\n",
       "    </tr>\n",
       "  </tbody>\n",
       "</table>\n",
       "</div>"
      ],
      "text/plain": [
       "                                       min        median            max  \\\n",
       "method                                                                    \n",
       "Astrometry                      246.360000    631.180000    1016.000000   \n",
       "Eclipse Timing Variations      1916.250000   4343.500000   10220.000000   \n",
       "Imaging                        4639.150000  27500.000000  730000.000000   \n",
       "Microlensing                   1825.000000   3300.000000    5100.000000   \n",
       "Orbital Brightness Modulation     0.240104      0.342887       1.544929   \n",
       "Pulsar Timing                     0.090706     66.541900   36525.000000   \n",
       "Pulsation Timing Variations    1170.000000   1170.000000    1170.000000   \n",
       "Radial Velocity                   0.736540    360.200000   17337.500000   \n",
       "Transit                           0.355000      5.714932     331.600590   \n",
       "Transit Timing Variations        22.339500     57.011000     160.000000   \n",
       "\n",
       "                                        mean            std  count  \n",
       "method                                                              \n",
       "Astrometry                        631.180000     544.217663      2  \n",
       "Eclipse Timing Variations        4751.644444    2499.130945      9  \n",
       "Imaging                        118247.737500  213978.177277     12  \n",
       "Microlensing                     3153.571429    1113.166333      7  \n",
       "Orbital Brightness Modulation       0.709307       0.725493      3  \n",
       "Pulsar Timing                    7343.021201   16313.265573      5  \n",
       "Pulsation Timing Variations      1170.000000            NaN      1  \n",
       "Radial Velocity                   823.354680    1454.926210    553  \n",
       "Transit                            21.102073      46.185893    397  \n",
       "Transit Timing Variations          79.783500      71.599884      3  "
      ]
     },
     "execution_count": 25,
     "metadata": {},
     "output_type": "execute_result"
    }
   ],
   "source": [
    "#aggregate() can take a string, a function or a list thereof, and compute\n",
    "#all aggregates at once\n",
    "planets.groupby('method')['orbital_period'].aggregate(\n",
    "    ['min', np.median, max, np.mean, np.std, 'count'])"
   ]
  },
  {
   "cell_type": "code",
   "execution_count": 26,
   "metadata": {},
   "outputs": [
    {
     "data": {
      "text/html": [
       "<div>\n",
       "<style scoped>\n",
       "    .dataframe tbody tr th:only-of-type {\n",
       "        vertical-align: middle;\n",
       "    }\n",
       "\n",
       "    .dataframe tbody tr th {\n",
       "        vertical-align: top;\n",
       "    }\n",
       "\n",
       "    .dataframe thead th {\n",
       "        text-align: right;\n",
       "    }\n",
       "</style>\n",
       "<table border=\"1\" class=\"dataframe\">\n",
       "  <thead>\n",
       "    <tr style=\"text-align: right;\">\n",
       "      <th></th>\n",
       "      <th>method</th>\n",
       "      <th>number</th>\n",
       "      <th>orbital_period</th>\n",
       "      <th>mass</th>\n",
       "      <th>distance</th>\n",
       "      <th>year</th>\n",
       "    </tr>\n",
       "  </thead>\n",
       "  <tbody>\n",
       "    <tr>\n",
       "      <th>787</th>\n",
       "      <td>Orbital Brightness Modulation</td>\n",
       "      <td>2</td>\n",
       "      <td>0.240104</td>\n",
       "      <td>NaN</td>\n",
       "      <td>1180.0</td>\n",
       "      <td>2011</td>\n",
       "    </tr>\n",
       "    <tr>\n",
       "      <th>788</th>\n",
       "      <td>Orbital Brightness Modulation</td>\n",
       "      <td>2</td>\n",
       "      <td>0.342887</td>\n",
       "      <td>NaN</td>\n",
       "      <td>1180.0</td>\n",
       "      <td>2011</td>\n",
       "    </tr>\n",
       "    <tr>\n",
       "      <th>792</th>\n",
       "      <td>Orbital Brightness Modulation</td>\n",
       "      <td>1</td>\n",
       "      <td>1.544929</td>\n",
       "      <td>NaN</td>\n",
       "      <td>NaN</td>\n",
       "      <td>2013</td>\n",
       "    </tr>\n",
       "  </tbody>\n",
       "</table>\n",
       "</div>"
      ],
      "text/plain": [
       "                            method  number  orbital_period  mass  distance  \\\n",
       "787  Orbital Brightness Modulation       2        0.240104   NaN    1180.0   \n",
       "788  Orbital Brightness Modulation       2        0.342887   NaN    1180.0   \n",
       "792  Orbital Brightness Modulation       1        1.544929   NaN       NaN   \n",
       "\n",
       "     year  \n",
       "787  2011  \n",
       "788  2011  \n",
       "792  2013  "
      ]
     },
     "execution_count": 26,
     "metadata": {},
     "output_type": "execute_result"
    }
   ],
   "source": [
    "#take only elements that belong to group with x orbital period of std less than 3\n",
    "new_planets = planets.groupby('method').filter(lambda x: x['orbital_period'].std() < 3)\n",
    "new_planets.head()"
   ]
  },
  {
   "cell_type": "code",
   "execution_count": 27,
   "metadata": {},
   "outputs": [
    {
     "data": {
      "text/plain": [
       "method            Orbital Brightness Modulation\n",
       "number                                        2\n",
       "orbital_period                         0.240104\n",
       "mass                                        NaN\n",
       "distance                                   1180\n",
       "year                                       2011\n",
       "Name: 787, dtype: object"
      ]
     },
     "execution_count": 27,
     "metadata": {},
     "output_type": "execute_result"
    }
   ],
   "source": [
    "#look at each record\n",
    "new_planets.loc[787]"
   ]
  },
  {
   "cell_type": "code",
   "execution_count": 28,
   "metadata": {},
   "outputs": [
    {
     "data": {
      "text/html": [
       "<div>\n",
       "<style scoped>\n",
       "    .dataframe tbody tr th:only-of-type {\n",
       "        vertical-align: middle;\n",
       "    }\n",
       "\n",
       "    .dataframe tbody tr th {\n",
       "        vertical-align: top;\n",
       "    }\n",
       "\n",
       "    .dataframe thead th {\n",
       "        text-align: right;\n",
       "    }\n",
       "</style>\n",
       "<table border=\"1\" class=\"dataframe\">\n",
       "  <thead>\n",
       "    <tr style=\"text-align: right;\">\n",
       "      <th></th>\n",
       "      <th></th>\n",
       "      <th>number</th>\n",
       "      <th>orbital_period</th>\n",
       "      <th>mass</th>\n",
       "      <th>distance</th>\n",
       "      <th>year</th>\n",
       "    </tr>\n",
       "    <tr>\n",
       "      <th>method</th>\n",
       "      <th></th>\n",
       "      <th></th>\n",
       "      <th></th>\n",
       "      <th></th>\n",
       "      <th></th>\n",
       "      <th></th>\n",
       "    </tr>\n",
       "  </thead>\n",
       "  <tbody>\n",
       "    <tr>\n",
       "      <th rowspan=\"5\" valign=\"top\">Astrometry</th>\n",
       "      <th>count</th>\n",
       "      <td>2.00</td>\n",
       "      <td>2.000000</td>\n",
       "      <td>0.0</td>\n",
       "      <td>2.000000</td>\n",
       "      <td>2.00000</td>\n",
       "    </tr>\n",
       "    <tr>\n",
       "      <th>mean</th>\n",
       "      <td>1.00</td>\n",
       "      <td>631.180000</td>\n",
       "      <td>NaN</td>\n",
       "      <td>17.875000</td>\n",
       "      <td>2011.50000</td>\n",
       "    </tr>\n",
       "    <tr>\n",
       "      <th>std</th>\n",
       "      <td>0.00</td>\n",
       "      <td>544.217663</td>\n",
       "      <td>NaN</td>\n",
       "      <td>4.094148</td>\n",
       "      <td>2.12132</td>\n",
       "    </tr>\n",
       "    <tr>\n",
       "      <th>min</th>\n",
       "      <td>1.00</td>\n",
       "      <td>246.360000</td>\n",
       "      <td>NaN</td>\n",
       "      <td>14.980000</td>\n",
       "      <td>2010.00000</td>\n",
       "    </tr>\n",
       "    <tr>\n",
       "      <th>25%</th>\n",
       "      <td>1.00</td>\n",
       "      <td>438.770000</td>\n",
       "      <td>NaN</td>\n",
       "      <td>16.427500</td>\n",
       "      <td>2010.75000</td>\n",
       "    </tr>\n",
       "    <tr>\n",
       "      <th>...</th>\n",
       "      <th>...</th>\n",
       "      <td>...</td>\n",
       "      <td>...</td>\n",
       "      <td>...</td>\n",
       "      <td>...</td>\n",
       "      <td>...</td>\n",
       "    </tr>\n",
       "    <tr>\n",
       "      <th rowspan=\"5\" valign=\"top\">Transit Timing Variations</th>\n",
       "      <th>min</th>\n",
       "      <td>2.00</td>\n",
       "      <td>22.339500</td>\n",
       "      <td>NaN</td>\n",
       "      <td>339.000000</td>\n",
       "      <td>2011.00000</td>\n",
       "    </tr>\n",
       "    <tr>\n",
       "      <th>25%</th>\n",
       "      <td>2.00</td>\n",
       "      <td>39.675250</td>\n",
       "      <td>NaN</td>\n",
       "      <td>597.000000</td>\n",
       "      <td>2011.75000</td>\n",
       "    </tr>\n",
       "    <tr>\n",
       "      <th>50%</th>\n",
       "      <td>2.00</td>\n",
       "      <td>57.011000</td>\n",
       "      <td>NaN</td>\n",
       "      <td>855.000000</td>\n",
       "      <td>2012.50000</td>\n",
       "    </tr>\n",
       "    <tr>\n",
       "      <th>75%</th>\n",
       "      <td>2.25</td>\n",
       "      <td>108.505500</td>\n",
       "      <td>NaN</td>\n",
       "      <td>1487.000000</td>\n",
       "      <td>2013.25000</td>\n",
       "    </tr>\n",
       "    <tr>\n",
       "      <th>max</th>\n",
       "      <td>3.00</td>\n",
       "      <td>160.000000</td>\n",
       "      <td>NaN</td>\n",
       "      <td>2119.000000</td>\n",
       "      <td>2014.00000</td>\n",
       "    </tr>\n",
       "  </tbody>\n",
       "</table>\n",
       "<p>80 rows × 5 columns</p>\n",
       "</div>"
      ],
      "text/plain": [
       "                                 number  orbital_period  mass     distance  \\\n",
       "method                                                                       \n",
       "Astrometry                count    2.00        2.000000   0.0     2.000000   \n",
       "                          mean     1.00      631.180000   NaN    17.875000   \n",
       "                          std      0.00      544.217663   NaN     4.094148   \n",
       "                          min      1.00      246.360000   NaN    14.980000   \n",
       "                          25%      1.00      438.770000   NaN    16.427500   \n",
       "...                                 ...             ...   ...          ...   \n",
       "Transit Timing Variations min      2.00       22.339500   NaN   339.000000   \n",
       "                          25%      2.00       39.675250   NaN   597.000000   \n",
       "                          50%      2.00       57.011000   NaN   855.000000   \n",
       "                          75%      2.25      108.505500   NaN  1487.000000   \n",
       "                          max      3.00      160.000000   NaN  2119.000000   \n",
       "\n",
       "                                       year  \n",
       "method                                       \n",
       "Astrometry                count     2.00000  \n",
       "                          mean   2011.50000  \n",
       "                          std       2.12132  \n",
       "                          min    2010.00000  \n",
       "                          25%    2010.75000  \n",
       "...                                     ...  \n",
       "Transit Timing Variations min    2011.00000  \n",
       "                          25%    2011.75000  \n",
       "                          50%    2012.50000  \n",
       "                          75%    2013.25000  \n",
       "                          max    2014.00000  \n",
       "\n",
       "[80 rows x 5 columns]"
      ]
     },
     "execution_count": 28,
     "metadata": {},
     "output_type": "execute_result"
    }
   ],
   "source": [
    "#perform apply for each group\n",
    "planets.groupby('method').apply(lambda x: x.describe())"
   ]
  },
  {
   "cell_type": "code",
   "execution_count": 29,
   "metadata": {},
   "outputs": [
    {
     "data": {
      "text/html": [
       "<div>\n",
       "<style scoped>\n",
       "    .dataframe tbody tr th:only-of-type {\n",
       "        vertical-align: middle;\n",
       "    }\n",
       "\n",
       "    .dataframe tbody tr th {\n",
       "        vertical-align: top;\n",
       "    }\n",
       "\n",
       "    .dataframe thead th {\n",
       "        text-align: right;\n",
       "    }\n",
       "</style>\n",
       "<table border=\"1\" class=\"dataframe\">\n",
       "  <thead>\n",
       "    <tr style=\"text-align: right;\">\n",
       "      <th></th>\n",
       "      <th>original</th>\n",
       "      <th>demeaned</th>\n",
       "    </tr>\n",
       "  </thead>\n",
       "  <tbody>\n",
       "    <tr>\n",
       "      <th>0</th>\n",
       "      <td>269.300000</td>\n",
       "      <td>-554.054680</td>\n",
       "    </tr>\n",
       "    <tr>\n",
       "      <th>1</th>\n",
       "      <td>874.774000</td>\n",
       "      <td>51.419320</td>\n",
       "    </tr>\n",
       "    <tr>\n",
       "      <th>2</th>\n",
       "      <td>763.000000</td>\n",
       "      <td>-60.354680</td>\n",
       "    </tr>\n",
       "    <tr>\n",
       "      <th>3</th>\n",
       "      <td>326.030000</td>\n",
       "      <td>-497.324680</td>\n",
       "    </tr>\n",
       "    <tr>\n",
       "      <th>4</th>\n",
       "      <td>516.220000</td>\n",
       "      <td>-307.134680</td>\n",
       "    </tr>\n",
       "    <tr>\n",
       "      <th>...</th>\n",
       "      <td>...</td>\n",
       "      <td>...</td>\n",
       "    </tr>\n",
       "    <tr>\n",
       "      <th>1030</th>\n",
       "      <td>3.941507</td>\n",
       "      <td>-17.160566</td>\n",
       "    </tr>\n",
       "    <tr>\n",
       "      <th>1031</th>\n",
       "      <td>2.615864</td>\n",
       "      <td>-18.486209</td>\n",
       "    </tr>\n",
       "    <tr>\n",
       "      <th>1032</th>\n",
       "      <td>3.191524</td>\n",
       "      <td>-17.910549</td>\n",
       "    </tr>\n",
       "    <tr>\n",
       "      <th>1033</th>\n",
       "      <td>4.125083</td>\n",
       "      <td>-16.976990</td>\n",
       "    </tr>\n",
       "    <tr>\n",
       "      <th>1034</th>\n",
       "      <td>4.187757</td>\n",
       "      <td>-16.914316</td>\n",
       "    </tr>\n",
       "  </tbody>\n",
       "</table>\n",
       "<p>1035 rows × 2 columns</p>\n",
       "</div>"
      ],
      "text/plain": [
       "        original    demeaned\n",
       "0     269.300000 -554.054680\n",
       "1     874.774000   51.419320\n",
       "2     763.000000  -60.354680\n",
       "3     326.030000 -497.324680\n",
       "4     516.220000 -307.134680\n",
       "...          ...         ...\n",
       "1030    3.941507  -17.160566\n",
       "1031    2.615864  -18.486209\n",
       "1032    3.191524  -17.910549\n",
       "1033    4.125083  -16.976990\n",
       "1034    4.187757  -16.914316\n",
       "\n",
       "[1035 rows x 2 columns]"
      ]
     },
     "execution_count": 29,
     "metadata": {},
     "output_type": "execute_result"
    }
   ],
   "source": [
    "#we can also do something fancy like this\n",
    "grouped= planets.groupby('method')['orbital_period']\n",
    "\n",
    "def some_func(group):\n",
    "    return pd.DataFrame({'original': group,\n",
    "                        'demeaned': group - group.mean()})\n",
    "\n",
    "grouped.apply(some_func)"
   ]
  },
  {
   "cell_type": "markdown",
   "metadata": {},
   "source": [
    "## Pivot Tables"
   ]
  },
  {
   "cell_type": "code",
   "execution_count": 30,
   "metadata": {},
   "outputs": [
    {
     "data": {
      "text/html": [
       "<div>\n",
       "<style scoped>\n",
       "    .dataframe tbody tr th:only-of-type {\n",
       "        vertical-align: middle;\n",
       "    }\n",
       "\n",
       "    .dataframe tbody tr th {\n",
       "        vertical-align: top;\n",
       "    }\n",
       "\n",
       "    .dataframe thead th {\n",
       "        text-align: right;\n",
       "    }\n",
       "</style>\n",
       "<table border=\"1\" class=\"dataframe\">\n",
       "  <thead>\n",
       "    <tr style=\"text-align: right;\">\n",
       "      <th></th>\n",
       "      <th>survived</th>\n",
       "      <th>pclass</th>\n",
       "      <th>sex</th>\n",
       "      <th>age</th>\n",
       "      <th>sibsp</th>\n",
       "      <th>parch</th>\n",
       "      <th>fare</th>\n",
       "      <th>embarked</th>\n",
       "      <th>class</th>\n",
       "      <th>who</th>\n",
       "      <th>adult_male</th>\n",
       "      <th>deck</th>\n",
       "      <th>embark_town</th>\n",
       "      <th>alive</th>\n",
       "      <th>alone</th>\n",
       "    </tr>\n",
       "  </thead>\n",
       "  <tbody>\n",
       "    <tr>\n",
       "      <th>0</th>\n",
       "      <td>0</td>\n",
       "      <td>3</td>\n",
       "      <td>male</td>\n",
       "      <td>22.0</td>\n",
       "      <td>1</td>\n",
       "      <td>0</td>\n",
       "      <td>7.2500</td>\n",
       "      <td>S</td>\n",
       "      <td>Third</td>\n",
       "      <td>man</td>\n",
       "      <td>True</td>\n",
       "      <td>NaN</td>\n",
       "      <td>Southampton</td>\n",
       "      <td>no</td>\n",
       "      <td>False</td>\n",
       "    </tr>\n",
       "    <tr>\n",
       "      <th>1</th>\n",
       "      <td>1</td>\n",
       "      <td>1</td>\n",
       "      <td>female</td>\n",
       "      <td>38.0</td>\n",
       "      <td>1</td>\n",
       "      <td>0</td>\n",
       "      <td>71.2833</td>\n",
       "      <td>C</td>\n",
       "      <td>First</td>\n",
       "      <td>woman</td>\n",
       "      <td>False</td>\n",
       "      <td>C</td>\n",
       "      <td>Cherbourg</td>\n",
       "      <td>yes</td>\n",
       "      <td>False</td>\n",
       "    </tr>\n",
       "    <tr>\n",
       "      <th>2</th>\n",
       "      <td>1</td>\n",
       "      <td>3</td>\n",
       "      <td>female</td>\n",
       "      <td>26.0</td>\n",
       "      <td>0</td>\n",
       "      <td>0</td>\n",
       "      <td>7.9250</td>\n",
       "      <td>S</td>\n",
       "      <td>Third</td>\n",
       "      <td>woman</td>\n",
       "      <td>False</td>\n",
       "      <td>NaN</td>\n",
       "      <td>Southampton</td>\n",
       "      <td>yes</td>\n",
       "      <td>True</td>\n",
       "    </tr>\n",
       "    <tr>\n",
       "      <th>3</th>\n",
       "      <td>1</td>\n",
       "      <td>1</td>\n",
       "      <td>female</td>\n",
       "      <td>35.0</td>\n",
       "      <td>1</td>\n",
       "      <td>0</td>\n",
       "      <td>53.1000</td>\n",
       "      <td>S</td>\n",
       "      <td>First</td>\n",
       "      <td>woman</td>\n",
       "      <td>False</td>\n",
       "      <td>C</td>\n",
       "      <td>Southampton</td>\n",
       "      <td>yes</td>\n",
       "      <td>False</td>\n",
       "    </tr>\n",
       "    <tr>\n",
       "      <th>4</th>\n",
       "      <td>0</td>\n",
       "      <td>3</td>\n",
       "      <td>male</td>\n",
       "      <td>35.0</td>\n",
       "      <td>0</td>\n",
       "      <td>0</td>\n",
       "      <td>8.0500</td>\n",
       "      <td>S</td>\n",
       "      <td>Third</td>\n",
       "      <td>man</td>\n",
       "      <td>True</td>\n",
       "      <td>NaN</td>\n",
       "      <td>Southampton</td>\n",
       "      <td>no</td>\n",
       "      <td>True</td>\n",
       "    </tr>\n",
       "  </tbody>\n",
       "</table>\n",
       "</div>"
      ],
      "text/plain": [
       "   survived  pclass     sex   age  sibsp  parch     fare embarked  class  \\\n",
       "0         0       3    male  22.0      1      0   7.2500        S  Third   \n",
       "1         1       1  female  38.0      1      0  71.2833        C  First   \n",
       "2         1       3  female  26.0      0      0   7.9250        S  Third   \n",
       "3         1       1  female  35.0      1      0  53.1000        S  First   \n",
       "4         0       3    male  35.0      0      0   8.0500        S  Third   \n",
       "\n",
       "     who  adult_male deck  embark_town alive  alone  \n",
       "0    man        True  NaN  Southampton    no  False  \n",
       "1  woman       False    C    Cherbourg   yes  False  \n",
       "2  woman       False  NaN  Southampton   yes   True  \n",
       "3  woman       False    C  Southampton   yes  False  \n",
       "4    man        True  NaN  Southampton    no   True  "
      ]
     },
     "execution_count": 30,
     "metadata": {},
     "output_type": "execute_result"
    }
   ],
   "source": [
    "titanic = sns.load_dataset('titanic')\n",
    "titanic.head()"
   ]
  },
  {
   "cell_type": "markdown",
   "metadata": {},
   "source": [
    "To start learning more about this data, we might begin by grouping according to gender, survival status, or some combination thereof. If you have read the previous section, you might be tempted to apply a GroupBy operation–for example, let's look at survival rate by gender:"
   ]
  },
  {
   "cell_type": "code",
   "execution_count": 31,
   "metadata": {},
   "outputs": [
    {
     "data": {
      "text/html": [
       "<div>\n",
       "<style scoped>\n",
       "    .dataframe tbody tr th:only-of-type {\n",
       "        vertical-align: middle;\n",
       "    }\n",
       "\n",
       "    .dataframe tbody tr th {\n",
       "        vertical-align: top;\n",
       "    }\n",
       "\n",
       "    .dataframe thead th {\n",
       "        text-align: right;\n",
       "    }\n",
       "</style>\n",
       "<table border=\"1\" class=\"dataframe\">\n",
       "  <thead>\n",
       "    <tr style=\"text-align: right;\">\n",
       "      <th></th>\n",
       "      <th>survived</th>\n",
       "    </tr>\n",
       "    <tr>\n",
       "      <th>sex</th>\n",
       "      <th></th>\n",
       "    </tr>\n",
       "  </thead>\n",
       "  <tbody>\n",
       "    <tr>\n",
       "      <th>female</th>\n",
       "      <td>0.742038</td>\n",
       "    </tr>\n",
       "    <tr>\n",
       "      <th>male</th>\n",
       "      <td>0.188908</td>\n",
       "    </tr>\n",
       "  </tbody>\n",
       "</table>\n",
       "</div>"
      ],
      "text/plain": [
       "        survived\n",
       "sex             \n",
       "female  0.742038\n",
       "male    0.188908"
      ]
     },
     "execution_count": 31,
     "metadata": {},
     "output_type": "execute_result"
    }
   ],
   "source": [
    "titanic.groupby('sex')[['survived']].mean()"
   ]
  },
  {
   "cell_type": "markdown",
   "metadata": {},
   "source": [
    "we might like to go one step deeper and look at survival by both sex and, say, class. Using the vocabulary of GroupBy, we might proceed using something like this: we group by class and gender, select survival, apply a mean aggregate, combine the resulting groups. In code:"
   ]
  },
  {
   "cell_type": "code",
   "execution_count": 32,
   "metadata": {},
   "outputs": [
    {
     "data": {
      "text/plain": [
       "sex     class \n",
       "female  First     0.968085\n",
       "        Second    0.921053\n",
       "        Third     0.500000\n",
       "male    First     0.368852\n",
       "        Second    0.157407\n",
       "        Third     0.135447\n",
       "Name: survived, dtype: float64"
      ]
     },
     "execution_count": 32,
     "metadata": {},
     "output_type": "execute_result"
    }
   ],
   "source": [
    "titanic.groupby(['sex', 'class'])['survived'].aggregate('mean')"
   ]
  },
  {
   "cell_type": "markdown",
   "metadata": {},
   "source": [
    "The code is getting messy and it’s not supposed to be like that.  Let’s use pivot_table.  Here is the equivalent to the preceding operation using the pivot_table method of DataFrames:"
   ]
  },
  {
   "cell_type": "code",
   "execution_count": 33,
   "metadata": {},
   "outputs": [
    {
     "data": {
      "text/html": [
       "<div>\n",
       "<style scoped>\n",
       "    .dataframe tbody tr th:only-of-type {\n",
       "        vertical-align: middle;\n",
       "    }\n",
       "\n",
       "    .dataframe tbody tr th {\n",
       "        vertical-align: top;\n",
       "    }\n",
       "\n",
       "    .dataframe thead th {\n",
       "        text-align: right;\n",
       "    }\n",
       "</style>\n",
       "<table border=\"1\" class=\"dataframe\">\n",
       "  <thead>\n",
       "    <tr style=\"text-align: right;\">\n",
       "      <th>class</th>\n",
       "      <th>First</th>\n",
       "      <th>Second</th>\n",
       "      <th>Third</th>\n",
       "    </tr>\n",
       "    <tr>\n",
       "      <th>sex</th>\n",
       "      <th></th>\n",
       "      <th></th>\n",
       "      <th></th>\n",
       "    </tr>\n",
       "  </thead>\n",
       "  <tbody>\n",
       "    <tr>\n",
       "      <th>female</th>\n",
       "      <td>0.968085</td>\n",
       "      <td>0.921053</td>\n",
       "      <td>0.500000</td>\n",
       "    </tr>\n",
       "    <tr>\n",
       "      <th>male</th>\n",
       "      <td>0.368852</td>\n",
       "      <td>0.157407</td>\n",
       "      <td>0.135447</td>\n",
       "    </tr>\n",
       "  </tbody>\n",
       "</table>\n",
       "</div>"
      ],
      "text/plain": [
       "class      First    Second     Third\n",
       "sex                                 \n",
       "female  0.968085  0.921053  0.500000\n",
       "male    0.368852  0.157407  0.135447"
      ]
     },
     "execution_count": 33,
     "metadata": {},
     "output_type": "execute_result"
    }
   ],
   "source": [
    "titanic.pivot_table('survived', index='sex', columns='class')"
   ]
  },
  {
   "cell_type": "markdown",
   "metadata": {},
   "source": [
    "Just as in the GroupBy, the grouping in pivot tables can be specified with multiple levels, and via a number of options. For example, we might be interested in looking at age as a third dimension. We'll bin the age using the pd.cut function:"
   ]
  },
  {
   "cell_type": "code",
   "execution_count": 34,
   "metadata": {},
   "outputs": [
    {
     "data": {
      "text/html": [
       "<div>\n",
       "<style scoped>\n",
       "    .dataframe tbody tr th:only-of-type {\n",
       "        vertical-align: middle;\n",
       "    }\n",
       "\n",
       "    .dataframe tbody tr th {\n",
       "        vertical-align: top;\n",
       "    }\n",
       "\n",
       "    .dataframe thead th {\n",
       "        text-align: right;\n",
       "    }\n",
       "</style>\n",
       "<table border=\"1\" class=\"dataframe\">\n",
       "  <thead>\n",
       "    <tr style=\"text-align: right;\">\n",
       "      <th></th>\n",
       "      <th>class</th>\n",
       "      <th>First</th>\n",
       "      <th>Second</th>\n",
       "      <th>Third</th>\n",
       "    </tr>\n",
       "    <tr>\n",
       "      <th>sex</th>\n",
       "      <th>age</th>\n",
       "      <th></th>\n",
       "      <th></th>\n",
       "      <th></th>\n",
       "    </tr>\n",
       "  </thead>\n",
       "  <tbody>\n",
       "    <tr>\n",
       "      <th rowspan=\"2\" valign=\"top\">female</th>\n",
       "      <th>(0, 18]</th>\n",
       "      <td>0.909091</td>\n",
       "      <td>1.000000</td>\n",
       "      <td>0.511628</td>\n",
       "    </tr>\n",
       "    <tr>\n",
       "      <th>(18, 80]</th>\n",
       "      <td>0.972973</td>\n",
       "      <td>0.900000</td>\n",
       "      <td>0.423729</td>\n",
       "    </tr>\n",
       "    <tr>\n",
       "      <th rowspan=\"2\" valign=\"top\">male</th>\n",
       "      <th>(0, 18]</th>\n",
       "      <td>0.800000</td>\n",
       "      <td>0.600000</td>\n",
       "      <td>0.215686</td>\n",
       "    </tr>\n",
       "    <tr>\n",
       "      <th>(18, 80]</th>\n",
       "      <td>0.375000</td>\n",
       "      <td>0.071429</td>\n",
       "      <td>0.133663</td>\n",
       "    </tr>\n",
       "  </tbody>\n",
       "</table>\n",
       "</div>"
      ],
      "text/plain": [
       "class               First    Second     Third\n",
       "sex    age                                   \n",
       "female (0, 18]   0.909091  1.000000  0.511628\n",
       "       (18, 80]  0.972973  0.900000  0.423729\n",
       "male   (0, 18]   0.800000  0.600000  0.215686\n",
       "       (18, 80]  0.375000  0.071429  0.133663"
      ]
     },
     "execution_count": 34,
     "metadata": {},
     "output_type": "execute_result"
    }
   ],
   "source": [
    "age = pd.cut(titanic['age'], [0, 18, 80])  #return tuples of bins\n",
    "titanic.pivot_table('survived', ['sex', age], 'class')"
   ]
  },
  {
   "cell_type": "markdown",
   "metadata": {},
   "source": [
    "We can apply the same strategy when working with the columns as well; let's add info on the fare paid using pd.qcut to automatically compute quantiles:"
   ]
  },
  {
   "cell_type": "code",
   "execution_count": 35,
   "metadata": {},
   "outputs": [
    {
     "data": {
      "text/html": [
       "<div>\n",
       "<style scoped>\n",
       "    .dataframe tbody tr th:only-of-type {\n",
       "        vertical-align: middle;\n",
       "    }\n",
       "\n",
       "    .dataframe tbody tr th {\n",
       "        vertical-align: top;\n",
       "    }\n",
       "\n",
       "    .dataframe thead tr th {\n",
       "        text-align: left;\n",
       "    }\n",
       "\n",
       "    .dataframe thead tr:last-of-type th {\n",
       "        text-align: right;\n",
       "    }\n",
       "</style>\n",
       "<table border=\"1\" class=\"dataframe\">\n",
       "  <thead>\n",
       "    <tr>\n",
       "      <th></th>\n",
       "      <th>fare</th>\n",
       "      <th colspan=\"3\" halign=\"left\">(-0.001, 14.454]</th>\n",
       "      <th colspan=\"3\" halign=\"left\">(14.454, 512.329]</th>\n",
       "    </tr>\n",
       "    <tr>\n",
       "      <th></th>\n",
       "      <th>class</th>\n",
       "      <th>First</th>\n",
       "      <th>Second</th>\n",
       "      <th>Third</th>\n",
       "      <th>First</th>\n",
       "      <th>Second</th>\n",
       "      <th>Third</th>\n",
       "    </tr>\n",
       "    <tr>\n",
       "      <th>sex</th>\n",
       "      <th>age</th>\n",
       "      <th></th>\n",
       "      <th></th>\n",
       "      <th></th>\n",
       "      <th></th>\n",
       "      <th></th>\n",
       "      <th></th>\n",
       "    </tr>\n",
       "  </thead>\n",
       "  <tbody>\n",
       "    <tr>\n",
       "      <th rowspan=\"2\" valign=\"top\">female</th>\n",
       "      <th>(0, 18]</th>\n",
       "      <td>NaN</td>\n",
       "      <td>1.000000</td>\n",
       "      <td>0.714286</td>\n",
       "      <td>0.909091</td>\n",
       "      <td>1.000000</td>\n",
       "      <td>0.318182</td>\n",
       "    </tr>\n",
       "    <tr>\n",
       "      <th>(18, 80]</th>\n",
       "      <td>NaN</td>\n",
       "      <td>0.880000</td>\n",
       "      <td>0.444444</td>\n",
       "      <td>0.972973</td>\n",
       "      <td>0.914286</td>\n",
       "      <td>0.391304</td>\n",
       "    </tr>\n",
       "    <tr>\n",
       "      <th rowspan=\"2\" valign=\"top\">male</th>\n",
       "      <th>(0, 18]</th>\n",
       "      <td>NaN</td>\n",
       "      <td>0.000000</td>\n",
       "      <td>0.260870</td>\n",
       "      <td>0.800000</td>\n",
       "      <td>0.818182</td>\n",
       "      <td>0.178571</td>\n",
       "    </tr>\n",
       "    <tr>\n",
       "      <th>(18, 80]</th>\n",
       "      <td>0.0</td>\n",
       "      <td>0.098039</td>\n",
       "      <td>0.125000</td>\n",
       "      <td>0.391304</td>\n",
       "      <td>0.030303</td>\n",
       "      <td>0.192308</td>\n",
       "    </tr>\n",
       "  </tbody>\n",
       "</table>\n",
       "</div>"
      ],
      "text/plain": [
       "fare            (-0.001, 14.454]                     (14.454, 512.329]  \\\n",
       "class                      First    Second     Third             First   \n",
       "sex    age                                                               \n",
       "female (0, 18]               NaN  1.000000  0.714286          0.909091   \n",
       "       (18, 80]              NaN  0.880000  0.444444          0.972973   \n",
       "male   (0, 18]               NaN  0.000000  0.260870          0.800000   \n",
       "       (18, 80]              0.0  0.098039  0.125000          0.391304   \n",
       "\n",
       "fare                                 \n",
       "class              Second     Third  \n",
       "sex    age                           \n",
       "female (0, 18]   1.000000  0.318182  \n",
       "       (18, 80]  0.914286  0.391304  \n",
       "male   (0, 18]   0.818182  0.178571  \n",
       "       (18, 80]  0.030303  0.192308  "
      ]
     },
     "execution_count": 35,
     "metadata": {},
     "output_type": "execute_result"
    }
   ],
   "source": [
    "fare = pd.qcut(titanic['fare'], 2)  #2 equal sized groupings of the data\n",
    "titanic.pivot_table('survived', ['sex', age], [fare, 'class'])"
   ]
  },
  {
   "cell_type": "markdown",
   "metadata": {},
   "source": [
    "## String operations"
   ]
  },
  {
   "cell_type": "code",
   "execution_count": 36,
   "metadata": {},
   "outputs": [
    {
     "data": {
      "text/plain": [
       "0    Graham Chapsomething\n",
       "1            John Cleese \n",
       "2          Terry Gilliam \n",
       "3               Eric Idle\n",
       "4             Terry Jones\n",
       "5           Michael Palin\n",
       "dtype: object"
      ]
     },
     "execution_count": 36,
     "metadata": {},
     "output_type": "execute_result"
    }
   ],
   "source": [
    "names = pd.Series(['Graham Chapman', ' John Cleese ', 'Terry Gilliam ',\n",
    "                  'Eric Idle', 'Terry Jones', 'Michael Palin'])\n",
    "\n",
    "names.str.len()\n",
    "names.str.lower()\n",
    "names.str.startswith('T')\n",
    "names.str.split()  #default is space\n",
    "names.str.extract('([A-Za-z]+)')\n",
    "names.str[0:3]\n",
    "names.str.strip()\n",
    "names.str.replace(r'man', 'something')"
   ]
  },
  {
   "cell_type": "markdown",
   "metadata": {},
   "source": [
    "## Time Series"
   ]
  },
  {
   "cell_type": "markdown",
   "metadata": {},
   "source": [
    "Pandas was developed in the context of financial modeling, so as you might expect, it contains a fairly extensive set of tools for working with dates, times, and time-indexed data.  Let’s first understand how Python treat dates and times"
   ]
  },
  {
   "cell_type": "code",
   "execution_count": 37,
   "metadata": {},
   "outputs": [
    {
     "data": {
      "text/plain": [
       "datetime.datetime(2025, 7, 4, 0, 0)"
      ]
     },
     "execution_count": 37,
     "metadata": {},
     "output_type": "execute_result"
    }
   ],
   "source": [
    "from datetime import datetime\n",
    "datetime(year=2025, month=7, day=4)"
   ]
  },
  {
   "cell_type": "markdown",
   "metadata": {},
   "source": [
    "Using the dateutil module, you can parse dates from a variety of string formats"
   ]
  },
  {
   "cell_type": "code",
   "execution_count": 38,
   "metadata": {},
   "outputs": [
    {
     "data": {
      "text/plain": [
       "datetime.datetime(2015, 7, 4, 0, 0)"
      ]
     },
     "execution_count": 38,
     "metadata": {},
     "output_type": "execute_result"
    }
   ],
   "source": [
    "from dateutil import parser\n",
    "date = parser.parse(\"4th of July, 2015\")\n",
    "date"
   ]
  },
  {
   "cell_type": "markdown",
   "metadata": {},
   "source": [
    "Once you have a datetime object, you can do things like printing the day of the week:"
   ]
  },
  {
   "cell_type": "code",
   "execution_count": 39,
   "metadata": {},
   "outputs": [
    {
     "data": {
      "text/plain": [
       "'Saturday, 07/04/15'"
      ]
     },
     "execution_count": 39,
     "metadata": {},
     "output_type": "execute_result"
    }
   ],
   "source": [
    "date.strftime('%A, %D')"
   ]
  },
  {
   "cell_type": "markdown",
   "metadata": {},
   "source": [
    "We can similarly create numpy using type np.datetime64 which is a very efficient way to store datetime"
   ]
  },
  {
   "cell_type": "code",
   "execution_count": 40,
   "metadata": {},
   "outputs": [
    {
     "data": {
      "text/plain": [
       "array('2015-07-04', dtype='datetime64[D]')"
      ]
     },
     "execution_count": 40,
     "metadata": {},
     "output_type": "execute_result"
    }
   ],
   "source": [
    "date = np.array('2015-07-04', dtype=np.datetime64)  #ISO date\n",
    "date"
   ]
  },
  {
   "cell_type": "markdown",
   "metadata": {},
   "source": [
    "Given its numpy type, we can quickly do vectorized operations on it"
   ]
  },
  {
   "cell_type": "code",
   "execution_count": 41,
   "metadata": {},
   "outputs": [
    {
     "data": {
      "text/plain": [
       "array(['2015-07-04', '2015-07-05', '2015-07-06', '2015-07-07',\n",
       "       '2015-07-08', '2015-07-09', '2015-07-10', '2015-07-11',\n",
       "       '2015-07-12', '2015-07-13', '2015-07-14', '2015-07-15'],\n",
       "      dtype='datetime64[D]')"
      ]
     },
     "execution_count": 41,
     "metadata": {},
     "output_type": "execute_result"
    }
   ],
   "source": [
    "date + np.arange(12)"
   ]
  },
  {
   "cell_type": "markdown",
   "metadata": {},
   "source": [
    "Pandas uses **Timestamp** object,  which combines the ease-of-use of datetime and dateutil with the efficient storage and vectorized interface of numpy.datetime64. From a group of these Timestamp objects, Pandas can construct a **DatetimeIndex** that can be used to index data in a Series or DataFrame"
   ]
  },
  {
   "cell_type": "code",
   "execution_count": 42,
   "metadata": {},
   "outputs": [
    {
     "name": "stdout",
     "output_type": "stream",
     "text": [
      "<class 'pandas._libs.tslibs.timestamps.Timestamp'>\n"
     ]
    },
    {
     "data": {
      "text/plain": [
       "'Saturday'"
      ]
     },
     "execution_count": 42,
     "metadata": {},
     "output_type": "execute_result"
    }
   ],
   "source": [
    "import pandas as pd\n",
    "date = pd.to_datetime(\"2015-07-04\")\n",
    "print(type(date))\n",
    "date.strftime('%A')"
   ]
  },
  {
   "cell_type": "code",
   "execution_count": 43,
   "metadata": {},
   "outputs": [
    {
     "data": {
      "text/plain": [
       "DatetimeIndex(['2015-07-04', '2015-07-05', '2015-07-06', '2015-07-07',\n",
       "               '2015-07-08', '2015-07-09', '2015-07-10', '2015-07-11',\n",
       "               '2015-07-12', '2015-07-13', '2015-07-14', '2015-07-15'],\n",
       "              dtype='datetime64[ns]', freq=None)"
      ]
     },
     "execution_count": 43,
     "metadata": {},
     "output_type": "execute_result"
    }
   ],
   "source": [
    "#perform numpy style vectorized operations using pd.to_timedelta\n",
    "date + pd.to_timedelta(np.arange(12), 'D')  #unit is nanoseconds  #does not support Y and M because each M has unequal amount of nanoseconds"
   ]
  },
  {
   "cell_type": "markdown",
   "metadata": {},
   "source": [
    "Where the Pandas time series tools really become useful is when you begin to index data by timestamps. For example, we can construct a Series object that has time indexed data:"
   ]
  },
  {
   "cell_type": "code",
   "execution_count": 44,
   "metadata": {},
   "outputs": [
    {
     "data": {
      "text/html": [
       "<div>\n",
       "<style scoped>\n",
       "    .dataframe tbody tr th:only-of-type {\n",
       "        vertical-align: middle;\n",
       "    }\n",
       "\n",
       "    .dataframe tbody tr th {\n",
       "        vertical-align: top;\n",
       "    }\n",
       "\n",
       "    .dataframe thead th {\n",
       "        text-align: right;\n",
       "    }\n",
       "</style>\n",
       "<table border=\"1\" class=\"dataframe\">\n",
       "  <thead>\n",
       "    <tr style=\"text-align: right;\">\n",
       "      <th></th>\n",
       "      <th>Apple</th>\n",
       "      <th>Orange</th>\n",
       "    </tr>\n",
       "  </thead>\n",
       "  <tbody>\n",
       "    <tr>\n",
       "      <th>2014-07-04</th>\n",
       "      <td>0.877002</td>\n",
       "      <td>0.567629</td>\n",
       "    </tr>\n",
       "    <tr>\n",
       "      <th>2014-08-04</th>\n",
       "      <td>0.442117</td>\n",
       "      <td>0.379563</td>\n",
       "    </tr>\n",
       "    <tr>\n",
       "      <th>2015-07-04</th>\n",
       "      <td>0.658164</td>\n",
       "      <td>0.982378</td>\n",
       "    </tr>\n",
       "    <tr>\n",
       "      <th>2015-08-04</th>\n",
       "      <td>0.711609</td>\n",
       "      <td>0.063681</td>\n",
       "    </tr>\n",
       "  </tbody>\n",
       "</table>\n",
       "</div>"
      ],
      "text/plain": [
       "               Apple    Orange\n",
       "2014-07-04  0.877002  0.567629\n",
       "2014-08-04  0.442117  0.379563\n",
       "2015-07-04  0.658164  0.982378\n",
       "2015-08-04  0.711609  0.063681"
      ]
     },
     "execution_count": 44,
     "metadata": {},
     "output_type": "execute_result"
    }
   ],
   "source": [
    "# index = pd.DatetimeIndex(['2014-07-04', '2014-08-04',\n",
    "#                           '2015-07-04', '2015-08-04'])\n",
    "index = pd.to_datetime(['2014-07-04', '2014-08-04',\n",
    "                          '2015-07-04', '2015-08-04'])\n",
    "data = pd.DataFrame(np.random.rand(4,2), index = index, columns=['Apple', 'Orange'])\n",
    "data"
   ]
  },
  {
   "cell_type": "code",
   "execution_count": 45,
   "metadata": {},
   "outputs": [
    {
     "data": {
      "text/html": [
       "<div>\n",
       "<style scoped>\n",
       "    .dataframe tbody tr th:only-of-type {\n",
       "        vertical-align: middle;\n",
       "    }\n",
       "\n",
       "    .dataframe tbody tr th {\n",
       "        vertical-align: top;\n",
       "    }\n",
       "\n",
       "    .dataframe thead th {\n",
       "        text-align: right;\n",
       "    }\n",
       "</style>\n",
       "<table border=\"1\" class=\"dataframe\">\n",
       "  <thead>\n",
       "    <tr style=\"text-align: right;\">\n",
       "      <th></th>\n",
       "      <th>Apple</th>\n",
       "      <th>Orange</th>\n",
       "    </tr>\n",
       "  </thead>\n",
       "  <tbody>\n",
       "    <tr>\n",
       "      <th>2014-07-04</th>\n",
       "      <td>0.877002</td>\n",
       "      <td>0.567629</td>\n",
       "    </tr>\n",
       "    <tr>\n",
       "      <th>2014-08-04</th>\n",
       "      <td>0.442117</td>\n",
       "      <td>0.379563</td>\n",
       "    </tr>\n",
       "    <tr>\n",
       "      <th>2015-07-04</th>\n",
       "      <td>0.658164</td>\n",
       "      <td>0.982378</td>\n",
       "    </tr>\n",
       "  </tbody>\n",
       "</table>\n",
       "</div>"
      ],
      "text/plain": [
       "               Apple    Orange\n",
       "2014-07-04  0.877002  0.567629\n",
       "2014-08-04  0.442117  0.379563\n",
       "2015-07-04  0.658164  0.982378"
      ]
     },
     "execution_count": 45,
     "metadata": {},
     "output_type": "execute_result"
    }
   ],
   "source": [
    "#use slicing to access rows\n",
    "data['2014-07-04':'2015-07-04']"
   ]
  },
  {
   "cell_type": "code",
   "execution_count": 46,
   "metadata": {},
   "outputs": [
    {
     "data": {
      "text/html": [
       "<div>\n",
       "<style scoped>\n",
       "    .dataframe tbody tr th:only-of-type {\n",
       "        vertical-align: middle;\n",
       "    }\n",
       "\n",
       "    .dataframe tbody tr th {\n",
       "        vertical-align: top;\n",
       "    }\n",
       "\n",
       "    .dataframe thead th {\n",
       "        text-align: right;\n",
       "    }\n",
       "</style>\n",
       "<table border=\"1\" class=\"dataframe\">\n",
       "  <thead>\n",
       "    <tr style=\"text-align: right;\">\n",
       "      <th></th>\n",
       "      <th>Apple</th>\n",
       "      <th>Orange</th>\n",
       "    </tr>\n",
       "  </thead>\n",
       "  <tbody>\n",
       "    <tr>\n",
       "      <th>2015-07-04</th>\n",
       "      <td>0.658164</td>\n",
       "      <td>0.982378</td>\n",
       "    </tr>\n",
       "    <tr>\n",
       "      <th>2015-08-04</th>\n",
       "      <td>0.711609</td>\n",
       "      <td>0.063681</td>\n",
       "    </tr>\n",
       "  </tbody>\n",
       "</table>\n",
       "</div>"
      ],
      "text/plain": [
       "               Apple    Orange\n",
       "2015-07-04  0.658164  0.982378\n",
       "2015-08-04  0.711609  0.063681"
      ]
     },
     "execution_count": 46,
     "metadata": {},
     "output_type": "execute_result"
    }
   ],
   "source": [
    "#there are special date-only indexing, such as passing a year\n",
    "data['2015']"
   ]
  },
  {
   "cell_type": "markdown",
   "metadata": {},
   "source": [
    "A useful method is date_range, which generates date from specified start and end"
   ]
  },
  {
   "cell_type": "code",
   "execution_count": 47,
   "metadata": {},
   "outputs": [
    {
     "data": {
      "text/plain": [
       "DatetimeIndex(['2015-07-03', '2015-07-04', '2015-07-05', '2015-07-06',\n",
       "               '2015-07-07', '2015-07-08', '2015-07-09', '2015-07-10'],\n",
       "              dtype='datetime64[ns]', freq='D')"
      ]
     },
     "execution_count": 47,
     "metadata": {},
     "output_type": "execute_result"
    }
   ],
   "source": [
    "pd.date_range('2015-07-03', '2015-07-10')"
   ]
  },
  {
   "cell_type": "code",
   "execution_count": 48,
   "metadata": {},
   "outputs": [
    {
     "data": {
      "text/plain": [
       "DatetimeIndex(['2015-07-03', '2015-07-04', '2015-07-05', '2015-07-06',\n",
       "               '2015-07-07', '2015-07-08', '2015-07-09', '2015-07-10'],\n",
       "              dtype='datetime64[ns]', freq='D')"
      ]
     },
     "execution_count": 48,
     "metadata": {},
     "output_type": "execute_result"
    }
   ],
   "source": [
    "pd.date_range('2015-07-03', periods = 8)  #instead of end, we can specify the periods"
   ]
  },
  {
   "cell_type": "code",
   "execution_count": 49,
   "metadata": {},
   "outputs": [
    {
     "data": {
      "text/plain": [
       "DatetimeIndex(['2015-07-03 00:00:00', '2015-07-03 01:00:00',\n",
       "               '2015-07-03 02:00:00', '2015-07-03 03:00:00',\n",
       "               '2015-07-03 04:00:00', '2015-07-03 05:00:00',\n",
       "               '2015-07-03 06:00:00', '2015-07-03 07:00:00'],\n",
       "              dtype='datetime64[ns]', freq='H')"
      ]
     },
     "execution_count": 49,
     "metadata": {},
     "output_type": "execute_result"
    }
   ],
   "source": [
    "#if we want 8 periods, but in hours, we use freq params\n",
    "pd.date_range('2015-07-03', periods = 8, freq='H') #try M"
   ]
  },
  {
   "cell_type": "code",
   "execution_count": 50,
   "metadata": {},
   "outputs": [
    {
     "data": {
      "text/plain": [
       "DatetimeIndex(['2015-08-01', '2015-09-01', '2015-10-01', '2015-11-01',\n",
       "               '2015-12-01', '2016-01-01', '2016-02-01', '2016-03-01',\n",
       "               '2016-04-01', '2016-05-01', '2016-06-01', '2016-07-01',\n",
       "               '2016-08-01', '2016-09-01', '2016-10-01', '2016-11-01',\n",
       "               '2016-12-01', '2017-01-01'],\n",
       "              dtype='datetime64[ns]', freq='MS')"
      ]
     },
     "execution_count": 50,
     "metadata": {},
     "output_type": "execute_result"
    }
   ],
   "source": [
    "#if we want 8 periods, but in hours, we use freq params\n",
    "pd.date_range('2015-07-03', periods = 18, freq='MS') #BH - Business Hours, MS - Month start"
   ]
  },
  {
   "cell_type": "code",
   "execution_count": 51,
   "metadata": {},
   "outputs": [
    {
     "data": {
      "text/plain": [
       "DatetimeIndex(['2015-07-03 00:00:00', '2015-07-03 02:30:00',\n",
       "               '2015-07-03 05:00:00', '2015-07-03 07:30:00',\n",
       "               '2015-07-03 10:00:00', '2015-07-03 12:30:00',\n",
       "               '2015-07-03 15:00:00', '2015-07-03 17:30:00',\n",
       "               '2015-07-03 20:00:00', '2015-07-03 22:30:00',\n",
       "               '2015-07-04 01:00:00', '2015-07-04 03:30:00',\n",
       "               '2015-07-04 06:00:00', '2015-07-04 08:30:00',\n",
       "               '2015-07-04 11:00:00', '2015-07-04 13:30:00',\n",
       "               '2015-07-04 16:00:00', '2015-07-04 18:30:00'],\n",
       "              dtype='datetime64[ns]', freq='150T')"
      ]
     },
     "execution_count": 51,
     "metadata": {},
     "output_type": "execute_result"
    }
   ],
   "source": [
    "pd.date_range('2015-07-03', periods = 18, freq='2H30T') #supports custom numbers"
   ]
  },
  {
   "cell_type": "code",
   "execution_count": 52,
   "metadata": {},
   "outputs": [
    {
     "name": "stderr",
     "output_type": "stream",
     "text": [
      "/home/chaklam/bci_project/bci_env/lib/python3.6/site-packages/pandas_datareader/compat/__init__.py:7: FutureWarning: pandas.util.testing is deprecated. Use the functions in the public API at pandas.testing instead.\n",
      "  from pandas.util.testing import assert_frame_equal\n"
     ]
    },
    {
     "data": {
      "text/html": [
       "<div>\n",
       "<style scoped>\n",
       "    .dataframe tbody tr th:only-of-type {\n",
       "        vertical-align: middle;\n",
       "    }\n",
       "\n",
       "    .dataframe tbody tr th {\n",
       "        vertical-align: top;\n",
       "    }\n",
       "\n",
       "    .dataframe thead th {\n",
       "        text-align: right;\n",
       "    }\n",
       "</style>\n",
       "<table border=\"1\" class=\"dataframe\">\n",
       "  <thead>\n",
       "    <tr style=\"text-align: right;\">\n",
       "      <th></th>\n",
       "      <th>High</th>\n",
       "      <th>Low</th>\n",
       "      <th>Open</th>\n",
       "      <th>Close</th>\n",
       "      <th>Volume</th>\n",
       "      <th>Adj Close</th>\n",
       "    </tr>\n",
       "    <tr>\n",
       "      <th>Date</th>\n",
       "      <th></th>\n",
       "      <th></th>\n",
       "      <th></th>\n",
       "      <th></th>\n",
       "      <th></th>\n",
       "      <th></th>\n",
       "    </tr>\n",
       "  </thead>\n",
       "  <tbody>\n",
       "    <tr>\n",
       "      <th>2004-08-19</th>\n",
       "      <td>51.835709</td>\n",
       "      <td>47.800831</td>\n",
       "      <td>49.813286</td>\n",
       "      <td>49.982655</td>\n",
       "      <td>44871300.0</td>\n",
       "      <td>49.982655</td>\n",
       "    </tr>\n",
       "    <tr>\n",
       "      <th>2004-08-20</th>\n",
       "      <td>54.336334</td>\n",
       "      <td>50.062355</td>\n",
       "      <td>50.316402</td>\n",
       "      <td>53.952770</td>\n",
       "      <td>22942800.0</td>\n",
       "      <td>53.952770</td>\n",
       "    </tr>\n",
       "    <tr>\n",
       "      <th>2004-08-23</th>\n",
       "      <td>56.528118</td>\n",
       "      <td>54.321388</td>\n",
       "      <td>55.168217</td>\n",
       "      <td>54.495735</td>\n",
       "      <td>18342800.0</td>\n",
       "      <td>54.495735</td>\n",
       "    </tr>\n",
       "    <tr>\n",
       "      <th>2004-08-24</th>\n",
       "      <td>55.591629</td>\n",
       "      <td>51.591621</td>\n",
       "      <td>55.412300</td>\n",
       "      <td>52.239193</td>\n",
       "      <td>15319700.0</td>\n",
       "      <td>52.239193</td>\n",
       "    </tr>\n",
       "    <tr>\n",
       "      <th>2004-08-25</th>\n",
       "      <td>53.798351</td>\n",
       "      <td>51.746044</td>\n",
       "      <td>52.284027</td>\n",
       "      <td>52.802086</td>\n",
       "      <td>9232100.0</td>\n",
       "      <td>52.802086</td>\n",
       "    </tr>\n",
       "  </tbody>\n",
       "</table>\n",
       "</div>"
      ],
      "text/plain": [
       "                 High        Low       Open      Close      Volume  Adj Close\n",
       "Date                                                                         \n",
       "2004-08-19  51.835709  47.800831  49.813286  49.982655  44871300.0  49.982655\n",
       "2004-08-20  54.336334  50.062355  50.316402  53.952770  22942800.0  53.952770\n",
       "2004-08-23  56.528118  54.321388  55.168217  54.495735  18342800.0  54.495735\n",
       "2004-08-24  55.591629  51.591621  55.412300  52.239193  15319700.0  52.239193\n",
       "2004-08-25  53.798351  51.746044  52.284027  52.802086   9232100.0  52.802086"
      ]
     },
     "execution_count": 52,
     "metadata": {},
     "output_type": "execute_result"
    }
   ],
   "source": [
    "from pandas_datareader import data\n",
    "\n",
    "goog = data.DataReader('GOOG', start='2004', end='2016',\n",
    "                      data_source='yahoo')\n",
    "\n",
    "goog.head()"
   ]
  },
  {
   "cell_type": "code",
   "execution_count": 53,
   "metadata": {},
   "outputs": [
    {
     "data": {
      "text/plain": [
       "<matplotlib.axes._subplots.AxesSubplot at 0x7fbcddaf6518>"
      ]
     },
     "execution_count": 53,
     "metadata": {},
     "output_type": "execute_result"
    },
    {
     "data": {
      "image/png": "[encoded data removed]",
      "text/plain": [
       "<Figure size 432x288 with 1 Axes>"
      ]
     },
     "metadata": {
      "needs_background": "light"
     },
     "output_type": "display_data"
    }
   ],
   "source": [
    "import matplotlib.pyplot as plt\n",
    "goog_close = goog['Close']\n",
    "goog_close.plot()"
   ]
  },
  {
   "cell_type": "markdown",
   "metadata": {},
   "source": [
    "One common need for time series data is resampling at a higher or lower frequency. This can be done using the resample() method, or the much simpler asfreq() method. The primary difference between the two is that resample() is fundamentally a data aggregation, while asfreq() is fundamentally a data selection.\n",
    "\n",
    "Taking a look at the Google closing price, let's compare what the two return when we down-sample the data. Here we will resample the data at the end of business year:"
   ]
  },
  {
   "cell_type": "code",
   "execution_count": 54,
   "metadata": {},
   "outputs": [
    {
     "data": {
      "text/plain": [
       "<matplotlib.axes._subplots.AxesSubplot at 0x7fbcddae5400>"
      ]
     },
     "execution_count": 54,
     "metadata": {},
     "output_type": "execute_result"
    },
    {
     "data": {
      "image/png": "[encoded data removed]",
      "text/plain": [
       "<Figure size 432x288 with 1 Axes>"
      ]
     },
     "metadata": {
      "needs_background": "light"
     },
     "output_type": "display_data"
    }
   ],
   "source": [
    "goog_close.plot(alpha=0.2, style='-')\n",
    "goog_close.resample('BA').mean().plot(style='o')  #BA = Business Year End\n",
    "goog_close.asfreq('BA').plot(style='--')\n",
    "\n",
    "#Notice the difference: at each point, resample reports the average \n",
    "#of the previous year, while asfreq reports the value at the end of the \n",
    "#year.\n"
   ]
  },
  {
   "cell_type": "code",
   "execution_count": 55,
   "metadata": {},
   "outputs": [
    {
     "data": {
      "text/plain": [
       "2019-01-01    0\n",
       "2019-01-02    1\n",
       "2019-01-03    2\n",
       "2019-01-04    3\n",
       "2019-01-05    4\n",
       "Freq: D, dtype: int64"
      ]
     },
     "execution_count": 55,
     "metadata": {},
     "output_type": "execute_result"
    }
   ],
   "source": [
    "#difference between resample and asfreq\n",
    "ts = pd.Series(range(365), index = pd.date_range(start='20190101', \n",
    "                                                end='20191231',\n",
    "                                                freq = 'D'))\n",
    "ts.head()"
   ]
  },
  {
   "cell_type": "code",
   "execution_count": 56,
   "metadata": {},
   "outputs": [
    {
     "data": {
      "text/plain": [
       "2019-03-31     89\n",
       "2019-06-30    180\n",
       "2019-09-30    272\n",
       "2019-12-31    364\n",
       "Freq: Q-DEC, dtype: int64"
      ]
     },
     "execution_count": 56,
     "metadata": {},
     "output_type": "execute_result"
    }
   ],
   "source": [
    "ts.asfreq(freq='Q')  #Quarter"
   ]
  },
  {
   "cell_type": "code",
   "execution_count": 57,
   "metadata": {},
   "outputs": [
    {
     "data": {
      "text/plain": [
       "226.25"
      ]
     },
     "execution_count": 57,
     "metadata": {},
     "output_type": "execute_result"
    }
   ],
   "source": [
    "#this is not the average of each quarter, but the average of the last\n",
    "#day of each quarter\n",
    "ts.asfreq(freq='Q').mean()   #(89+180+272+364)/4"
   ]
  },
  {
   "cell_type": "code",
   "execution_count": 58,
   "metadata": {},
   "outputs": [
    {
     "data": {
      "text/plain": [
       "2019-03-31     44.5\n",
       "2019-06-30    135.0\n",
       "2019-09-30    226.5\n",
       "2019-12-31    318.5\n",
       "Freq: Q-DEC, dtype: float64"
      ]
     },
     "execution_count": 58,
     "metadata": {},
     "output_type": "execute_result"
    }
   ],
   "source": [
    "bins = ts.resample('Q')  #return DateTimeIndexResampler which is like GroupBy object\n",
    "#it actually create some groups\n",
    "\n",
    "#this is actually the average of each quarter\n",
    "bins.groups\n",
    "bins.mean()  #think of resample as groupby, (you can call mean, sum, apply, just like group by)"
   ]
  },
  {
   "cell_type": "markdown",
   "metadata": {},
   "source": [
    "Pandas has two closely related methods: shift() and tshift() In short, the difference between them is that shift() shifts the data, while tshift() shifts the index. In both cases, the shift is specified in multiples of the frequency.  Here we will both shift() and tshift() by 900 days;"
   ]
  },
  {
   "cell_type": "code",
   "execution_count": 59,
   "metadata": {},
   "outputs": [
    {
     "data": {
      "text/plain": [
       "<matplotlib.axes._subplots.AxesSubplot at 0x7fbcdd735ef0>"
      ]
     },
     "execution_count": 59,
     "metadata": {},
     "output_type": "execute_result"
    },
    {
     "data": {
      "image/png": "[encoded data removed]",
      "text/plain": [
       "<Figure size 432x288 with 3 Axes>"
      ]
     },
     "metadata": {
      "needs_background": "light"
     },
     "output_type": "display_data"
    }
   ],
   "source": [
    "fig, ax = plt.subplots(3, sharey=True)\n",
    "\n",
    "goog_close = goog_close.asfreq('D', method='pad')\n",
    "\n",
    "goog_close.plot(ax=ax[0])\n",
    "goog_close.shift(900).plot(ax=ax[1])  #shift the data\n",
    "goog_close.tshift(900).plot(ax=ax[2])  #simply shift the index"
   ]
  },
  {
   "cell_type": "code",
   "execution_count": 60,
   "metadata": {},
   "outputs": [
    {
     "data": {
      "text/plain": [
       "'\\nThis helps us to see the overall trend in Google stock: \\nthus far, the most profitable times to invest in Google \\nhave been (unsurprisingly, in retrospect) shortly after its IPO, and \\nin the middle of the 2009 recession.\\n'"
      ]
     },
     "execution_count": 60,
     "metadata": {},
     "output_type": "execute_result"
    },
    {
     "data": {
      "image/png": "[encoded data removed]",
      "text/plain": [
       "<Figure size 432x288 with 1 Axes>"
      ]
     },
     "metadata": {
      "needs_background": "light"
     },
     "output_type": "display_data"
    }
   ],
   "source": [
    "#why shift?\n",
    "#A common context for this type of shift is in computing differences \n",
    "#over time. For example, we use shifted values to compute the one-year \n",
    "#return on investment for Google stock over the course of the dataset:\n",
    "ROI = 100 * (goog_close.tshift(-365) / goog_close)\n",
    "ROI.plot()\n",
    "plt.ylabel('Return on Investment')\n",
    "\n",
    "'''\n",
    "This helps us to see the overall trend in Google stock: \n",
    "thus far, the most profitable times to invest in Google \n",
    "have been (unsurprisingly, in retrospect) shortly after its IPO, and \n",
    "in the middle of the 2009 recession.\n",
    "'''"
   ]
  },
  {
   "cell_type": "code",
   "execution_count": 61,
   "metadata": {},
   "outputs": [
    {
     "data": {
      "text/plain": [
       "Rolling [window=365,center=True,axis=0]"
      ]
     },
     "execution_count": 61,
     "metadata": {},
     "output_type": "execute_result"
    }
   ],
   "source": [
    "## Rolling window\n",
    "rolling = goog_close.rolling(365, center = True)\n",
    "rolling"
   ]
  },
  {
   "cell_type": "code",
   "execution_count": 62,
   "metadata": {},
   "outputs": [
    {
     "data": {
      "text/plain": [
       "<matplotlib.axes._subplots.AxesSubplot at 0x7fbcdb201e80>"
      ]
     },
     "execution_count": 62,
     "metadata": {},
     "output_type": "execute_result"
    },
    {
     "data": {
      "image/png": "[encoded data removed]",
      "text/plain": [
       "<Figure size 432x288 with 1 Axes>"
      ]
     },
     "metadata": {
      "needs_background": "light"
     },
     "output_type": "display_data"
    }
   ],
   "source": [
    "data = pd.DataFrame({'input': goog_close,\n",
    "                   'one_year rolling mean': rolling.mean(),\n",
    "                   'one_year rolling std': rolling.std()})\n",
    "\n",
    "data.plot(style=['-', '--', ':'])"
   ]
  },
  {
   "cell_type": "code",
   "execution_count": 63,
   "metadata": {},
   "outputs": [],
   "source": [
    "#Example: Visualizing Seattle Bicycle Counts\n",
    "data = pd.read_csv('resources/FremontBridge.csv')\n",
    "data.head()\n",
    "\n",
    "data = pd.read_csv('resources/FremontBridge.csv', index_col='Date',\n",
    "                  parse_dates=True)"
   ]
  },
  {
   "cell_type": "code",
   "execution_count": 64,
   "metadata": {},
   "outputs": [
    {
     "data": {
      "text/html": [
       "<div>\n",
       "<style scoped>\n",
       "    .dataframe tbody tr th:only-of-type {\n",
       "        vertical-align: middle;\n",
       "    }\n",
       "\n",
       "    .dataframe tbody tr th {\n",
       "        vertical-align: top;\n",
       "    }\n",
       "\n",
       "    .dataframe thead th {\n",
       "        text-align: right;\n",
       "    }\n",
       "</style>\n",
       "<table border=\"1\" class=\"dataframe\">\n",
       "  <thead>\n",
       "    <tr style=\"text-align: right;\">\n",
       "      <th></th>\n",
       "      <th>West</th>\n",
       "      <th>East</th>\n",
       "    </tr>\n",
       "    <tr>\n",
       "      <th>Date</th>\n",
       "      <th></th>\n",
       "      <th></th>\n",
       "    </tr>\n",
       "  </thead>\n",
       "  <tbody>\n",
       "    <tr>\n",
       "      <th>2019-03-31 23:00:00</th>\n",
       "      <td>6.0</td>\n",
       "      <td>10.0</td>\n",
       "    </tr>\n",
       "    <tr>\n",
       "      <th>2019-03-31 22:00:00</th>\n",
       "      <td>7.0</td>\n",
       "      <td>14.0</td>\n",
       "    </tr>\n",
       "    <tr>\n",
       "      <th>2019-03-31 21:00:00</th>\n",
       "      <td>18.0</td>\n",
       "      <td>15.0</td>\n",
       "    </tr>\n",
       "    <tr>\n",
       "      <th>2019-03-31 20:00:00</th>\n",
       "      <td>26.0</td>\n",
       "      <td>31.0</td>\n",
       "    </tr>\n",
       "    <tr>\n",
       "      <th>2019-03-31 19:00:00</th>\n",
       "      <td>30.0</td>\n",
       "      <td>58.0</td>\n",
       "    </tr>\n",
       "  </tbody>\n",
       "</table>\n",
       "</div>"
      ],
      "text/plain": [
       "                     West  East\n",
       "Date                           \n",
       "2019-03-31 23:00:00   6.0  10.0\n",
       "2019-03-31 22:00:00   7.0  14.0\n",
       "2019-03-31 21:00:00  18.0  15.0\n",
       "2019-03-31 20:00:00  26.0  31.0\n",
       "2019-03-31 19:00:00  30.0  58.0"
      ]
     },
     "execution_count": 64,
     "metadata": {},
     "output_type": "execute_result"
    }
   ],
   "source": [
    "data.columns = ['West', 'East']  #rename\n",
    "data.head()"
   ]
  },
  {
   "cell_type": "code",
   "execution_count": 65,
   "metadata": {},
   "outputs": [],
   "source": [
    "#check any missing values\n",
    "data.isna().sum()\n",
    "\n",
    "#fillna with 0\n",
    "data.fillna(0, inplace=True)\n",
    "\n",
    "#feature engineering\n",
    "data['Total'] = data['East'] + data['West']"
   ]
  },
  {
   "cell_type": "code",
   "execution_count": 66,
   "metadata": {},
   "outputs": [
    {
     "data": {
      "text/html": [
       "<div>\n",
       "<style scoped>\n",
       "    .dataframe tbody tr th:only-of-type {\n",
       "        vertical-align: middle;\n",
       "    }\n",
       "\n",
       "    .dataframe tbody tr th {\n",
       "        vertical-align: top;\n",
       "    }\n",
       "\n",
       "    .dataframe thead th {\n",
       "        text-align: right;\n",
       "    }\n",
       "</style>\n",
       "<table border=\"1\" class=\"dataframe\">\n",
       "  <thead>\n",
       "    <tr style=\"text-align: right;\">\n",
       "      <th></th>\n",
       "      <th>West</th>\n",
       "      <th>East</th>\n",
       "      <th>Total</th>\n",
       "    </tr>\n",
       "    <tr>\n",
       "      <th>Date</th>\n",
       "      <th></th>\n",
       "      <th></th>\n",
       "      <th></th>\n",
       "    </tr>\n",
       "  </thead>\n",
       "  <tbody>\n",
       "    <tr>\n",
       "      <th>2019-03-31 23:00:00</th>\n",
       "      <td>6.0</td>\n",
       "      <td>10.0</td>\n",
       "      <td>16.0</td>\n",
       "    </tr>\n",
       "    <tr>\n",
       "      <th>2019-03-31 22:00:00</th>\n",
       "      <td>7.0</td>\n",
       "      <td>14.0</td>\n",
       "      <td>21.0</td>\n",
       "    </tr>\n",
       "    <tr>\n",
       "      <th>2019-03-31 21:00:00</th>\n",
       "      <td>18.0</td>\n",
       "      <td>15.0</td>\n",
       "      <td>33.0</td>\n",
       "    </tr>\n",
       "    <tr>\n",
       "      <th>2019-03-31 20:00:00</th>\n",
       "      <td>26.0</td>\n",
       "      <td>31.0</td>\n",
       "      <td>57.0</td>\n",
       "    </tr>\n",
       "    <tr>\n",
       "      <th>2019-03-31 19:00:00</th>\n",
       "      <td>30.0</td>\n",
       "      <td>58.0</td>\n",
       "      <td>88.0</td>\n",
       "    </tr>\n",
       "  </tbody>\n",
       "</table>\n",
       "</div>"
      ],
      "text/plain": [
       "                     West  East  Total\n",
       "Date                                  \n",
       "2019-03-31 23:00:00   6.0  10.0   16.0\n",
       "2019-03-31 22:00:00   7.0  14.0   21.0\n",
       "2019-03-31 21:00:00  18.0  15.0   33.0\n",
       "2019-03-31 20:00:00  26.0  31.0   57.0\n",
       "2019-03-31 19:00:00  30.0  58.0   88.0"
      ]
     },
     "execution_count": 66,
     "metadata": {},
     "output_type": "execute_result"
    }
   ],
   "source": [
    "data.head()"
   ]
  },
  {
   "cell_type": "code",
   "execution_count": 67,
   "metadata": {},
   "outputs": [
    {
     "data": {
      "text/plain": [
       "Text(0, 0.5, 'Weekly bicycle count')"
      ]
     },
     "execution_count": 67,
     "metadata": {},
     "output_type": "execute_result"
    },
    {
     "data": {
      "image/png": "[encoded data removed]",
      "text/plain": [
       "<Figure size 432x288 with 1 Axes>"
      ]
     },
     "metadata": {
      "needs_background": "light"
     },
     "output_type": "display_data"
    }
   ],
   "source": [
    "#let do some plot, checking on weekly trend\n",
    "\n",
    "import matplotlib.pyplot as plt\n",
    "import numpy as np\n",
    "\n",
    "weekly = data.resample('W').agg('sum')  #can also do .sum()\n",
    "weekly.plot(style=[\":\", \"--\", '-'])\n",
    "plt.ylabel('Weekly bicycle count')\n",
    "\n",
    "#seems like people bicycle in summer more than winter"
   ]
  },
  {
   "cell_type": "code",
   "execution_count": 68,
   "metadata": {},
   "outputs": [
    {
     "data": {
      "text/plain": [
       "<matplotlib.axes._subplots.AxesSubplot at 0x7fbcdf4881d0>"
      ]
     },
     "execution_count": 68,
     "metadata": {},
     "output_type": "execute_result"
    },
    {
     "data": {
      "image/png": "[encoded data removed]",
      "text/plain": [
       "<Figure size 432x288 with 1 Axes>"
      ]
     },
     "metadata": {
      "needs_background": "light"
     },
     "output_type": "display_data"
    }
   ],
   "source": [
    "#let's look at what time people usually bicycle\n",
    "by_time = data.groupby(data.index.time).mean()\n",
    "by_time.plot()\n",
    "# hourly_ticks = 4 * 60 * 60 * np.arange(6)   #every four hours\n",
    "# by_time.plot(xticks=hourly_ticks, style=[':', '--', '-'])"
   ]
  },
  {
   "cell_type": "code",
   "execution_count": 69,
   "metadata": {},
   "outputs": [
    {
     "data": {
      "text/plain": [
       "<matplotlib.axes._subplots.AxesSubplot at 0x7fbcd9e57cf8>"
      ]
     },
     "execution_count": 69,
     "metadata": {},
     "output_type": "execute_result"
    },
    {
     "data": {
      "image/png": "[encoded data removed]",
      "text/plain": [
       "<Figure size 432x288 with 1 Axes>"
      ]
     },
     "metadata": {
      "needs_background": "light"
     },
     "output_type": "display_data"
    }
   ],
   "source": [
    "#how about days?\n",
    "by_day = data.groupby(data.index.dayofweek).mean()\n",
    "by_day.index = ['Mon', 'Tues', 'Wed', 'Thurs', 'Fri', 'Sat', 'Sun']\n",
    "by_day.plot(style=[':', '--', '-'])"
   ]
  },
  {
   "cell_type": "code",
   "execution_count": null,
   "metadata": {},
   "outputs": [],
   "source": []
  }
 ],
 "metadata": {
  "kernelspec": {
   "display_name": "Python 3",
   "language": "python",
   "name": "python3"
  },
  "language_info": {
   "codemirror_mode": {
    "name": "ipython",
    "version": 3
   },
   "file_extension": ".py",
   "mimetype": "text/x-python",
   "name": "python",
   "nbconvert_exporter": "python",
   "pygments_lexer": "ipython3",
   "version": "3.6.9"
  }
 },
 "nbformat": 4,
 "nbformat_minor": 1
}
