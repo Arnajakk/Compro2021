{
 "cells": [
  {
   "cell_type": "markdown",
   "id": "outstanding-break",
   "metadata": {},
   "source": [
    "### ===Task===\n",
    "\n",
    "1. Declare a list of 1 to 4 using range()\n",
    "\n",
    "2. Continuing, create numpy array from this list, with dtype='float32'\n",
    "\n",
    "3. Create an numpy array of size 3 by 5 using np.zeros\n",
    "\n",
    "4. Create an numpy array of size 2 by 3 with filled value 1 / 3\n",
    "\n",
    "5. Create a list of 500 numbers for 0 to 10"
   ]
  },
  {
   "cell_type": "code",
   "execution_count": 12,
   "id": "understood-porcelain",
   "metadata": {},
   "outputs": [
    {
     "name": "stdout",
     "output_type": "stream",
     "text": [
      "Answer Q1:  [1, 2, 3, 4]\n",
      "Answer Q2:  [1 2 3 4]\n",
      "Answer Q3:  [[0. 0. 0. 0. 0.]\n",
      " [0. 0. 0. 0. 0.]\n",
      " [0. 0. 0. 0. 0.]]\n",
      "Answer Q4:  [[0.33333333 0.33333333 0.33333333]\n",
      " [0.33333333 0.33333333 0.33333333]]\n",
      "Answer Q5:  [8, 0, 9, 7, 9, 0, 9, 2, 5, 1, 6, 4, 4, 0, 3, 1, 7, 8, 4, 6, 1, 0, 5, 7, 9, 3, 1, 5, 3, 1, 5, 5, 5, 7, 1, 6, 8, 2, 0, 5, 7, 2, 0, 7, 9, 3, 2, 6, 4, 1, 4, 7, 7, 7, 8, 1, 3, 6, 8, 0, 2, 4, 8, 7, 3, 0, 7, 8, 3, 1, 4, 8, 2, 8, 9, 6, 2, 3, 6, 5, 2, 2, 5, 8, 6, 3, 7, 4, 2, 0, 8, 5, 9, 0, 1, 7, 5, 9, 2, 9, 9, 6, 5, 3, 8, 5, 0, 7, 6, 6, 4, 8, 3, 8, 7, 4, 6, 6, 7, 5, 0, 7, 3, 6, 7, 0, 9, 7, 2, 4, 1, 9, 9, 0, 3, 3, 0, 4, 9, 8, 3, 0, 5, 5, 7, 2, 6, 5, 4, 0, 8, 3, 6, 3, 1, 4, 5, 2, 3, 0, 4, 8, 7, 8, 5, 5, 8, 2, 4, 4, 3, 2, 1, 3, 8, 6, 6, 6, 2, 3, 3, 0, 7, 9, 9, 1, 9, 8, 1, 0, 7, 2, 3, 2, 7, 4, 0, 2, 6, 7, 3, 8, 8, 2, 3, 8, 4, 0, 5, 6, 4, 2, 2, 9, 2, 7, 1, 1, 1, 1, 9, 1, 2, 2, 4, 4, 7, 0, 6, 9, 5, 1, 2, 5, 5, 6, 8, 0, 7, 0, 5, 7, 9, 3, 9, 4, 3, 4, 4, 6, 7, 5, 5, 3, 3, 4, 9, 0, 5, 5, 2, 2, 1, 5, 3, 3, 2, 7, 8, 8, 3, 4, 0, 6, 2, 0, 1, 3, 9, 9, 3, 7, 2, 1, 3, 5, 8, 2, 9, 9, 3, 1, 7, 7, 5, 8, 7, 2, 2, 4, 5, 8, 8, 6, 3, 2, 3, 6, 8, 7, 3, 5, 2, 7, 4, 1, 0, 9, 6, 4, 8, 6, 1, 0, 3, 5, 4, 6, 9, 4, 0, 6, 7, 6, 5, 6, 9, 8, 8, 3, 9, 6, 6, 6, 8, 7, 5, 2, 7, 5, 4, 7, 0, 9, 4, 8, 1, 1, 3, 5, 8, 8, 5, 0, 3, 5, 8, 9, 6, 6, 7, 8, 1, 9, 2, 8, 6, 6, 3, 4, 1, 5, 2, 0, 9, 6, 3, 2, 4, 5, 6, 6, 1, 5, 9, 5, 2, 4, 9, 1, 7, 6, 9, 1, 0, 4, 6, 9, 8, 1, 8, 7, 5, 9, 7, 6, 7, 6, 5, 4, 4, 1, 0, 9, 6, 2, 8, 3, 8, 0, 1, 0, 1, 9, 1, 0, 9, 4, 6, 4, 9, 8, 1, 5, 7, 8, 7, 5, 8, 0, 3, 6, 7, 5, 5, 4, 7, 8, 0, 0, 6, 0, 8, 6, 9, 5, 2, 7, 1, 1, 9, 4, 0, 0, 4, 3, 3, 3, 3, 2, 2, 9, 7, 5, 9, 8, 4, 3, 3, 9, 9, 6, 6, 1, 1, 2, 5, 7, 7, 2]\n"
     ]
    }
   ],
   "source": [
    "#====== 1 =======\n",
    "l = [elem for elem in range(1,5)]\n",
    "print(\"Answer Q1: \", l)\n",
    "#====== 2 =======\n",
    "import numpy as np\n",
    "n = np.array(l)\n",
    "print(\"Answer Q2: \",n)\n",
    "#====== 3 =======\n",
    "n_0 = np.zeros((3,5))\n",
    "print(\"Answer Q3: \",n_0)\n",
    "#====== 4 =======\n",
    "n_f = np.full((2,3),1/3)\n",
    "print(\"Answer Q4: \",n_f )\n",
    "#====== 5 =======\n",
    "l5 = list(np.random.randint(0,10,(500)))\n",
    "print(\"Answer Q5: \",l5 )"
   ]
  },
  {
   "cell_type": "markdown",
   "id": "young-timer",
   "metadata": {},
   "source": [
    "6. Create a list of number for 0.001, 0.01, 0.1, 1 using np.logspace\n",
    "\n",
    "7. Create a diagonal matrix of list [1, 2, 3, 4]\n",
    "\n",
    "8. Create a random array of size 4 by 5 all filled with random values between 0 and 1\n",
    "\n",
    "9.  Create a random array of size 4 by 5 all filled with integer random values between 2 and 5\n",
    "\n",
    "10.  Create a random array of size 4 by 5 all filled with float random values between 2 and 5\n",
    "\n",
    "11. Create a random array of size 4 by 5 with mean = 5, and std = 1 following a gaussian (normal) distribution\n",
    "\n",
    "12. Create an identity matrix of size 5 by 5"
   ]
  },
  {
   "cell_type": "code",
   "execution_count": 28,
   "id": "coral-corps",
   "metadata": {},
   "outputs": [
    {
     "name": "stdout",
     "output_type": "stream",
     "text": [
      "Answer Q6:  [1.e-03 1.e-02 1.e-01 1.e+00 1.e+01]\n",
      "Answer Q7:  [[1 0 0 0]\n",
      " [0 2 0 0]\n",
      " [0 0 3 0]\n",
      " [0 0 0 4]]\n",
      "Answer Q8:  [[0.98710146 0.64359315 0.21374685 0.82283209 0.43878902]\n",
      " [0.12786057 0.17296956 0.39231552 0.12827354 0.63570577]\n",
      " [0.5708257  0.88059512 0.74997535 0.56494178 0.04681937]\n",
      " [0.60882564 0.83144302 0.72699412 0.51269429 0.29345721]]\n",
      "Answer Q9:  [[3 3 4 2 3]\n",
      " [3 2 2 3 3]\n",
      " [2 4 4 4 2]\n",
      " [2 4 2 3 2]]\n",
      "Answer Q10:  [[3.32987246 3.67012043 2.90366813 3.75372762 3.63337811]\n",
      " [4.73222624 3.006987   2.08983348 3.16811482 4.96092455]\n",
      " [4.02215382 4.9579642  4.39781686 3.25618137 2.69144183]\n",
      " [2.45946175 4.96991915 4.70376589 4.68001616 2.84389892]]\n",
      "Answer Q11:  [[5.01875042 4.24682609 4.35597518 7.0390201  5.10682948]\n",
      " [3.3416972  6.15033676 4.9599752  4.08711745 4.52625478]\n",
      " [4.33527285 4.73726334 5.22995456 6.90369693 5.75007059]\n",
      " [5.70400916 3.32038637 5.91063438 5.5345027  4.04193194]]\n",
      "Answer Q12:  [[1. 0. 0.]\n",
      " [0. 1. 0.]\n",
      " [0. 0. 1.]]\n"
     ]
    }
   ],
   "source": [
    "#====== 6 =======\n",
    "n6 = np.logspace(-3,1,5)\n",
    "print(\"Answer Q6: \",n6 )\n",
    "#====== 7 =======\n",
    "n7 = np.diag(list(range(1,5)))\n",
    "print(\"Answer Q7: \",n7 )\n",
    "#====== 8 =======\n",
    "n8 = np.random.random((4,5))\n",
    "print(\"Answer Q8: \",n8 )\n",
    "#====== 9 =======\n",
    "n9 = np.random.randint(2,5,(4,5))\n",
    "print(\"Answer Q9: \",n9 )\n",
    "#====== 10 =======\n",
    "n10 = np.random.uniform(2,5,(4,5))\n",
    "print(\"Answer Q10: \",n10 )\n",
    "#====== 11 =======\n",
    "n11 = np.random.normal(5,1,(4,5))\n",
    "print(\"Answer Q11: \",n11 )\n",
    "#====== 12 =======\n",
    "n12 = np.identity(3)\n",
    "print(\"Answer Q12: \",n12 )"
   ]
  },
  {
   "cell_type": "markdown",
   "id": "frank-serve",
   "metadata": {},
   "source": [
    "### ===Task===\n",
    "\n",
    "1. Create a numpy array of size 3 by 4 with random float values between 1 to 5\n",
    "\n",
    "2. Continuing, print the shape of this array\n",
    "\n",
    "3. Continuing, access the first row of the array\n",
    "\n",
    "4. Continuing, access the first column of the array\n",
    "\n",
    "5. Continuing, access the second row, and third column element\n",
    "\n",
    "6. Continuing, access the first two columns\n",
    "\n",
    "7. Continuing, access the  first and third columns using step\n",
    "\n",
    "8. Continuing, print the whole matrix in reverse columns but not rows\n",
    "\n",
    "9. Change the third row, fourth column element (i.e., the last element) to 999"
   ]
  },
  {
   "cell_type": "code",
   "execution_count": 48,
   "id": "electric-sending",
   "metadata": {},
   "outputs": [
    {
     "name": "stdout",
     "output_type": "stream",
     "text": [
      "Answer Q1:  [[3.39901594 4.71981185 1.3701035  4.61515119]\n",
      " [2.8258675  1.80186677 2.80745642 2.49707318]\n",
      " [2.54757856 1.5355796  1.13275217 2.33667843]]\n",
      "Answer Q2:  (3, 4)\n",
      "Answer Q3:  [3.39901594 4.71981185 1.3701035  4.61515119]\n",
      "Answer Q4:  [3.39901594 2.8258675  2.54757856]\n",
      "Answer Q5:  2.8074564220626104\n",
      "Answer Q6:  [[3.39901594 4.71981185]\n",
      " [2.8258675  1.80186677]\n",
      " [2.54757856 1.5355796 ]]\n",
      "Answer Q7:  [[3.39901594 1.3701035 ]\n",
      " [2.8258675  2.80745642]\n",
      " [2.54757856 1.13275217]]\n",
      "Answer Q8:  [[4.61515119 1.3701035  4.71981185 3.39901594]\n",
      " [2.49707318 2.80745642 1.80186677 2.8258675 ]\n",
      " [2.33667843 1.13275217 1.5355796  2.54757856]]\n",
      "Answer Q9:  [[  3.39901594   4.71981185   1.3701035    4.61515119]\n",
      " [  2.8258675    1.80186677   2.80745642   2.49707318]\n",
      " [  2.54757856   1.5355796    1.13275217 999.        ]]\n"
     ]
    }
   ],
   "source": [
    "#====== 1 =======\n",
    "n1 = np.random.uniform(1,5,(3,4))\n",
    "print(\"Answer Q1: \",n1 )\n",
    "#====== 2 =======\n",
    "print(\"Answer Q2: \",n1.shape )\n",
    "#====== 3 =======\n",
    "print(\"Answer Q3: \",n1[0,:] )\n",
    "#====== 4 =======\n",
    "print(\"Answer Q4: \",n1[:,0] )\n",
    "#====== 5 =======\n",
    "print(\"Answer Q5: \",n1[1,2] )\n",
    "#====== 6 =======\n",
    "print(\"Answer Q6: \",n1[:,:2] )\n",
    "#====== 7 =======\n",
    "print(\"Answer Q7: \",n1[:,::2] )\n",
    "#====== 8 =======\n",
    "print(\"Answer Q8: \",n1[:,::-1] )\n",
    "#====== 9 =======\n",
    "n1[2,3] = 999\n",
    "print(\"Answer Q9: \",n1 )"
   ]
  },
  {
   "cell_type": "markdown",
   "id": "written-monitoring",
   "metadata": {},
   "source": [
    "### ===Task===\n",
    "\n",
    "1. Create a numpy array of size 200 by 4 with random float values between 1 to 5\n",
    "\n",
    "2. Split the array into two numpy arrays, X and y, where the X contains the first 3 columns and y contains the last column.\n",
    "\n",
    "3. Continuing, split the first 70% of the 200 rows of X and y and call them <code>X_train</code> and <code>y_train</code>. Similarly, populate <code>X_test</code> and <code>y_test</code> using same corresponding columns but 30\\% rest of the data.\n",
    "\n",
    "4. Print the shape of the <code>X_train</code> and <code>y_train</code>.  The first array should have shape (0.7 * 200, 3); the second array is (0.7 * 200, 1)\n",
    "\n",
    "5. Assign m = <code>X_train.shape[0]</code>, and n = <code>X_train.shape[1]</code>, where $m$ is number of samples, and $n$ is number of features\n",
    "\n",
    "6. Randomly select one row of <code>X_train</code> by using <code>np.random.randint</code> to select the random row and called it <code>X_i</code>.  Reshape it so that it has shape of <code>(1, n)</code>"
   ]
  },
  {
   "cell_type": "code",
   "execution_count": 100,
   "id": "incorporate-naples",
   "metadata": {},
   "outputs": [
    {
     "name": "stdout",
     "output_type": "stream",
     "text": [
      "(200, 4)\n",
      "(200, 3)\n",
      "(200,)\n",
      "Answer Q4:  (140, 3) (60, 3) (140,) (60,)\n",
      "Answer Q5:  140 3\n",
      "Answer Q6: \n",
      "68\n",
      "(3,)\n",
      "(1, 3)\n"
     ]
    }
   ],
   "source": [
    "#====== 1 =======\n",
    "data = np.random.uniform(1,5,(200,4))\n",
    "print(data.shape)\n",
    "#====== 2 =======\n",
    "X = data[:,:3]\n",
    "print(X.shape)\n",
    "y = data[:,3]\n",
    "print(y.shape)\n",
    "#====== 3 =======\n",
    "split = int(0.7*200)\n",
    "X_train = X[:split,:]\n",
    "X_test = X[split:,:]\n",
    "y_train = y[:split]\n",
    "y_test = y[split:]\n",
    "#====== 4 =======\n",
    "print(\"Answer Q4: \",X_train.shape,X_test.shape,y_train.shape,y_test.shape)\n",
    "#====== 5 =======\n",
    "m = X_train.shape[0]\n",
    "n = X_train.shape[1]\n",
    "print(\"Answer Q5: \", m,n)\n",
    "#====== 6 =======\n",
    "print(\"Answer Q6: \")\n",
    "random_idx = np.random.randint(split)\n",
    "print(random_idx)\n",
    "X_i = X_train[random_idx]\n",
    "print(X_i.shape)\n",
    "X_i = X_i.reshape(1,n)\n",
    "print(X_i.shape)"
   ]
  },
  {
   "cell_type": "markdown",
   "id": "clinical-novel",
   "metadata": {},
   "source": [
    "\n",
    "6. Randomly select 50 contiguous rows from <code>X_train</code> and called it <code>mini_batch_X</code>.  If the index exceeds, simply grab whatever left.\n",
    "\n",
    "7. Write a for loop that breaks the <code>X_train</code> into 10 equal pieces without overlap, each containing 10\\% of row data but all columns, and simply print their shape\n",
    "\n",
    "8. Create an np.zero array called <code>theta</code> with shape of <code>(n, )</code>\n",
    "\n",
    "9. Perform a dot product between <code>X_train</code> and <code>theta</code> and assign this value to a variable called <code>yhat</code>\n",
    "\n",
    "10. Create another variable called <code>y</code> with the same shape as <code>yhat</code>, and populate it with random values from 0 to 1.\n",
    "\n",
    "11. Calculate the following \n",
    "    $$ \\frac{\\sum\\limits_{i=1}^{m} (y_i - \\hat{y_i})^2}{m} $$\n",
    "    \n",
    "    For example, if yhat = [1, 2, 3] and y = [2, 3, 4], then the calculation is\n",
    "    \n",
    "    $$ \\frac{sum((1-2)^2 + (2-3)^2 + (3-4)^2)}{m} $$"
   ]
  },
  {
   "cell_type": "code",
   "execution_count": 102,
   "id": "statewide-samuel",
   "metadata": {},
   "outputs": [
    {
     "name": "stdout",
     "output_type": "stream",
     "text": [
      "Answer Q7: \n",
      "69\n",
      "(50, 3)\n",
      "Answer Q8: \n",
      "(14, 3)\n",
      "(14, 3)\n",
      "(14, 3)\n",
      "(14, 3)\n",
      "(14, 3)\n",
      "(14, 3)\n",
      "(14, 3)\n",
      "(14, 3)\n",
      "(14, 3)\n",
      "(14, 3)\n",
      "Answer Q9: \n",
      "(3,)\n",
      "Answer Q10: \n",
      "(140,)\n",
      "Answer Q11: \n",
      "(140,)\n",
      "Answer Q12: \n",
      "0.33930986351649406\n"
     ]
    }
   ],
   "source": [
    "#====== 7 =======\n",
    "print(\"Answer Q7: \")\n",
    "random_idx = np.random.randint(split)\n",
    "print(random_idx)\n",
    "mini_batch_X = X_train[random_idx:random_idx+50,:]\n",
    "print(mini_batch_X.shape)\n",
    "#====== 8 =======\n",
    "print(\"Answer Q8: \")\n",
    "size = int(X_train.shape[0]/10)\n",
    "for idx in range(0, X_train.shape[0], size):\n",
    "    batch = X_train[idx:idx + size]\n",
    "    print(batch.shape)\n",
    "#====== 9 =======\n",
    "print(\"Answer Q9: \")\n",
    "n = X_train.shape[1]\n",
    "theta = np.zeros(n)\n",
    "print(theta.shape)\n",
    "#====== 10 =======\n",
    "print(\"Answer Q10: \")\n",
    "yhat = np.dot(X_train,theta)\n",
    "print(yhat.shape)\n",
    "#====== 11 =======\n",
    "print(\"Answer Q11: \")\n",
    "y = np.random.uniform(0,1,(yhat.shape[0]))\n",
    "print(y.shape)\n",
    "#====== 12 =======\n",
    "print(\"Answer Q12: \")\n",
    "ans = np.sum((y-yhat)**2)/m\n",
    "print(ans)"
   ]
  },
  {
   "cell_type": "code",
   "execution_count": null,
   "id": "casual-impact",
   "metadata": {},
   "outputs": [],
   "source": []
  },
  {
   "cell_type": "code",
   "execution_count": null,
   "id": "infectious-poison",
   "metadata": {},
   "outputs": [],
   "source": []
  }
 ],
 "metadata": {
  "kernelspec": {
   "display_name": "Python 3",
   "language": "python",
   "name": "python3"
  },
  "language_info": {
   "codemirror_mode": {
    "name": "ipython",
    "version": 3
   },
   "file_extension": ".py",
   "mimetype": "text/x-python",
   "name": "python",
   "nbconvert_exporter": "python",
   "pygments_lexer": "ipython3",
   "version": "3.6.9"
  }
 },
 "nbformat": 4,
 "nbformat_minor": 5
}
