{
 "cells": [
  {
   "cell_type": "markdown",
   "metadata": {},
   "source": [
    "# Exercise"
   ]
  },
  {
   "cell_type": "code",
   "execution_count": 2,
   "metadata": {},
   "outputs": [],
   "source": [
    "import numpy as np\n",
    "from numpy import genfromtxt"
   ]
  },
  {
   "cell_type": "code",
   "execution_count": 35,
   "metadata": {},
   "outputs": [
    {
     "name": "stdout",
     "output_type": "stream",
     "text": [
      "[['\"Name\"' '\"Team\"' '\"Position\"' ... '\"Weight\"' '\"Age\"' '\"PosCategory\"']\n",
      " ['\"Adam_Donachie\"' '\"BAL\"' '\"Catcher\"' ... '180' '22.99' '\"Catcher\"']\n",
      " ['\"Paul_Bako\"' '\"BAL\"' '\"Catcher\"' ... '215' '34.69' '\"Catcher\"']\n",
      " ...\n",
      " ['\"Chris_Narveson\"' '\"STL\"' '\"Relief_Pitcher\"' ... '205' '25.19'\n",
      "  '\"Pitcher\"']\n",
      " ['\"Randy_Keisler\"' '\"STL\"' '\"Relief_Pitcher\"' ... '190' '31.01'\n",
      "  '\"Pitcher\"']\n",
      " ['\"Josh_Kinney\"' '\"STL\"' '\"Relief_Pitcher\"' ... '195' '27.92'\n",
      "  '\"Pitcher\"']]\n",
      "Fields:  ['\"Name\"' '\"Team\"' '\"Position\"' '\"Height\"' '\"Weight\"' '\"Age\"'\n",
      " '\"PosCategory\"']\n",
      "First name:  \"Adam_Donachie\"\n",
      "First name:  \"Adam_Donachie\"  has a weight of 180\n"
     ]
    }
   ],
   "source": [
    "#1\n",
    "baseball = genfromtxt('resources/baseball.csv', delimiter=',',\n",
    "                      encoding=\"utf-8\", dtype=None)\n",
    "\n",
    "print(\"Fields: \", baseball[0])\n",
    "print(\"First name: \", baseball[1][0])\n",
    "print(\"First name: \", baseball[1][0], \" has a weight of\", \n",
    "      baseball[1][4])\n",
    "\n",
    "#find out all unique team\n",
    "\n",
    "#find out all unique position\n",
    "\n",
    "#average height by team and position (sorted descending)\n",
    "\n",
    "#average weight by team and position (sorted descending)\n",
    "\n",
    "#average age by team and position (sorted descending)\n",
    "\n",
    "#average age by team and position (sorted descending)\n"
   ]
  },
  {
   "cell_type": "markdown",
   "metadata": {},
   "source": [
    "# Solution"
   ]
  },
  {
   "cell_type": "code",
   "execution_count": null,
   "metadata": {},
   "outputs": [],
   "source": []
  }
 ],
 "metadata": {
  "kernelspec": {
   "display_name": "Python 3",
   "language": "python",
   "name": "python3"
  }
 },
 "nbformat": 4,
 "nbformat_minor": 4
}
