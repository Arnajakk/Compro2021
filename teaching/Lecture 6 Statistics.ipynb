{
 "cells": [
  {
   "cell_type": "code",
   "execution_count": 1,
   "metadata": {},
   "outputs": [],
   "source": [
    "#Statistics\n",
    "\n",
    "#Human Computer Interaction\n",
    "\n",
    "#Motivation#1\n",
    "#Experiments/Experimental Research\n",
    "#in Computer Science that involves users\n",
    "#so much is needed in statistics\n",
    "\n",
    "#Motivation#2\n",
    "#A lot of algorithms (especially distance-based)\n",
    "#clustering, unsupervised learning\n",
    "#knowledge about distribution\n",
    "#gaussian distribution -> normal distribution -> upsidedown bellshape -> upsidedown U"
   ]
  },
  {
   "cell_type": "code",
   "execution_count": 2,
   "metadata": {},
   "outputs": [],
   "source": [
    "#A random variable\n",
    "#-->variables with different outcomes\n",
    "#e.g., roll by dice 1, 2, 3, 4, 5, 6\n",
    "\n",
    "#random variable have two types\n",
    "#discrete - fixed value\n",
    "#e.g., [1, 2, 3, 4, 5, 6]\n",
    "\n",
    "#continous \n",
    "#infinite possible values\n",
    "#e.g., height"
   ]
  },
  {
   "cell_type": "code",
   "execution_count": 3,
   "metadata": {},
   "outputs": [],
   "source": [
    "#mouthful/verbose\n",
    "#Probability distribution\n",
    "#if I roll by dice 10 times\n",
    "#I get this result [1, 1, 2, 4, 6, 3, 2, 3, 4, 1]\n",
    "#plot the freqency graph\n",
    "#1: 3, 2: 2, 3: 2, 4: 2, 5: 0, 6: 1\n",
    "\n",
    "#probability distribution of discrete variables\n",
    "#discrete probability distribution\n",
    "#P(X = x_i) = p_i\n",
    "#P(X = 1) = 0.33\n",
    "#P(X = 2 & X = 3)\n",
    "# 0 < p_i < 1 for each i \n",
    "# p_1 + p_2 + .... p_i = 1\n",
    "\n",
    "#discrete distribution\n",
    "#Bernouli distribution, Binomial distribution, Poisson\n",
    "\n",
    "#continuous distribution\n",
    "#probability of any single value is equal to 0\n",
    "#because we assume that the outcomes are infinite\n",
    "#NOT VALID P(X = x_i) NOT VALID\n",
    "#P(X > x_i); P(X < x_i); P(X_1 < x_i < X_2)\n",
    "#Area under the curve -> Integration (Calculus)\n",
    "#MUST satisfy the following properties\n",
    "#1. The curve has no negative values (p(x) > 0 for all x)\n",
    "#2. The total area under the curve is equal to 1\n",
    "#A curve meeting these requirements are called density curve\n",
    "\n",
    "#continuous distribution\n",
    "#normal/gaussian distribution, exponential distribution, beta distribution\n",
    "\n",
    "#CDF -> cummulative distribution function\n",
    "#getting a range of probabilities\n",
    "\n",
    "#human heights -> normal distribution\n",
    "\n",
    "#image -> normal distribution - NOT discrete distribution\n",
    "\n",
    "#shopping behaviors -> amount (continous), buy/not buy (discrete)\n",
    "\n",
    "#music  -> normal (normal song), exponential (EDM - electronic dance music)\n",
    "\n",
    "#car crashes -> discrete -> Poisson distribution\n",
    "\n",
    "#when you do data science\n",
    "#top down -> you assume the distribution, use this distribution to pick correct algo\n",
    "#bottom up -> like image/music, you let the machine figure out the distribution\n",
    "\n",
    "#likelihood\n",
    "#probability of a sample belonging to a distribution\n",
    "#e.g., normal distribution (\\mu, \\sigma)\n",
    "#xi -> this normal distribution equation => likelihood"
   ]
  },
  {
   "cell_type": "code",
   "execution_count": 4,
   "metadata": {},
   "outputs": [
    {
     "data": {
      "text/plain": [
       "array([22.96545646, 16.05152239, 13.95769027, ..., 25.69577083,\n",
       "       16.01723126, 18.2813121 ])"
      ]
     },
     "execution_count": 4,
     "metadata": {},
     "output_type": "execute_result"
    }
   ],
   "source": [
    "#uniform distribution (a = start, b = end)\n",
    "\n",
    "from scipy.stats import uniform\n",
    "n = 10000\n",
    "a = 10\n",
    "#10 + width = b\n",
    "width = 20  # b = 30\n",
    "\n",
    "#rvs -> random variates\n",
    "#loc => location\n",
    "#10000 values uniformly distributed between 10 and 30\n",
    "data_uniform = uniform.rvs(loc = a, size = n, scale=width)\n",
    "\n",
    "data_uniform\n",
    "\n",
    "#in reality, there is NO such thing\n",
    "#as PERFECT distribution"
   ]
  },
  {
   "cell_type": "code",
   "execution_count": 16,
   "metadata": {},
   "outputs": [
    {
     "data": {
      "text/plain": [
       "(1.0, 40.0)"
      ]
     },
     "execution_count": 16,
     "metadata": {},
     "output_type": "execute_result"
    },
    {
     "data": {
      "image/png": "[encoded data removed]",
      "text/plain": [
       "<Figure size 432x288 with 1 Axes>"
      ]
     },
     "metadata": {
      "needs_background": "light"
     },
     "output_type": "display_data"
    }
   ],
   "source": [
    "import matplotlib.pyplot as plt\n",
    "plt.hist(data_uniform, density=True) #density = True will sum up all the probabilities\n",
    "plt.xlim(1, 40)\n",
    "\n",
    "#notice that 1 /(b-a) = 0.05\n",
    "# 1 / (20 - 10) = 0.05"
   ]
  },
  {
   "cell_type": "markdown",
   "metadata": {},
   "source": [
    "$$\n",
    "f(x \\mid \\mu, \\sigma)= \\frac{1}{\\sqrt{2\\pi\\sigma^2}}e^{-\\frac{(x-\\mu)^2}{2\\sigma^2}}\n",
    "$$"
   ]
  },
  {
   "cell_type": "code",
   "execution_count": 14,
   "metadata": {},
   "outputs": [
    {
     "name": "stdout",
     "output_type": "stream",
     "text": [
      "Help on function hist in module matplotlib.pyplot:\n",
      "\n",
      "hist(x, bins=None, range=None, density=False, weights=None, cumulative=False, bottom=None, histtype='bar', align='mid', orientation='vertical', rwidth=None, log=False, color=None, label=None, stacked=False, *, data=None, **kwargs)\n",
      "    Plot a histogram.\n",
      "    \n",
      "    Compute and draw the histogram of *x*.  The return value is a tuple\n",
      "    (*n*, *bins*, *patches*) or ([*n0*, *n1*, ...], *bins*, [*patches0*,\n",
      "    *patches1*,...]) if the input contains multiple data.  See the\n",
      "    documentation of the *weights* parameter to draw a histogram of\n",
      "    already-binned data.\n",
      "    \n",
      "    Multiple data can be provided via *x* as a list of datasets\n",
      "    of potentially different length ([*x0*, *x1*, ...]), or as\n",
      "    a 2-D ndarray in which each column is a dataset.  Note that\n",
      "    the ndarray form is transposed relative to the list form.\n",
      "    \n",
      "    Masked arrays are not supported.\n",
      "    \n",
      "    The *bins*, *range*, *weights*, and *density* parameters behave as in\n",
      "    `numpy.histogram`.\n",
      "    \n",
      "    Parameters\n",
      "    ----------\n",
      "    x : (n,) array or sequence of (n,) arrays\n",
      "        Input values, this takes either a single array or a sequence of\n",
      "        arrays which are not required to be of the same length.\n",
      "    \n",
      "    bins : int or sequence or str, optional\n",
      "        If *bins* is an integer, it defines the number of equal-width bins\n",
      "        in the range.\n",
      "    \n",
      "        If *bins* is a sequence, it defines the bin edges, including the\n",
      "        left edge of the first bin and the right edge of the last bin;\n",
      "        in this case, bins may be unequally spaced.  All but the last\n",
      "        (righthand-most) bin is half-open.  In other words, if *bins* is::\n",
      "    \n",
      "            [1, 2, 3, 4]\n",
      "    \n",
      "        then the first bin is ``[1, 2)`` (including 1, but excluding 2) and\n",
      "        the second ``[2, 3)``.  The last bin, however, is ``[3, 4]``, which\n",
      "        *includes* 4.\n",
      "    \n",
      "        If *bins* is a string, it is one of the binning strategies\n",
      "        supported by `numpy.histogram_bin_edges`: 'auto', 'fd', 'doane',\n",
      "        'scott', 'stone', 'rice', 'sturges', or 'sqrt'.\n",
      "    \n",
      "        The default is :rc:`hist.bins`.\n",
      "    \n",
      "    range : tuple or None, optional\n",
      "        The lower and upper range of the bins. Lower and upper outliers\n",
      "        are ignored. If not provided, *range* is ``(x.min(), x.max())``.\n",
      "        Range has no effect if *bins* is a sequence.\n",
      "    \n",
      "        If *bins* is a sequence or *range* is specified, autoscaling\n",
      "        is based on the specified bin range instead of the\n",
      "        range of x.\n",
      "    \n",
      "        Default is ``None``\n",
      "    \n",
      "    density : bool, optional\n",
      "        If ``True``, the first element of the return tuple will\n",
      "        be the counts normalized to form a probability density, i.e.,\n",
      "        the area (or integral) under the histogram will sum to 1.\n",
      "        This is achieved by dividing the count by the number of\n",
      "        observations times the bin width and not dividing by the total\n",
      "        number of observations. If *stacked* is also ``True``, the sum of\n",
      "        the histograms is normalized to 1.\n",
      "    \n",
      "        Default is ``False``.\n",
      "    \n",
      "    weights : (n, ) array-like or None, optional\n",
      "        An array of weights, of the same shape as *x*.  Each value in *x*\n",
      "        only contributes its associated weight towards the bin count\n",
      "        (instead of 1).  If *normed* or *density* is ``True``,\n",
      "        the weights are normalized, so that the integral of the density\n",
      "        over the range remains 1.\n",
      "    \n",
      "        Default is ``None``.\n",
      "    \n",
      "        This parameter can be used to draw a histogram of data that has\n",
      "        already been binned, e.g. using `np.histogram` (by treating each\n",
      "        bin as a single point with a weight equal to its count) ::\n",
      "    \n",
      "            counts, bins = np.histogram(data)\n",
      "            plt.hist(bins[:-1], bins, weights=counts)\n",
      "    \n",
      "        (or you may alternatively use `~.bar()`).\n",
      "    \n",
      "    cumulative : bool or -1, optional\n",
      "        If ``True``, then a histogram is computed where each bin gives the\n",
      "        counts in that bin plus all bins for smaller values. The last bin\n",
      "        gives the total number of datapoints.\n",
      "    \n",
      "        If *density* is also ``True`` then the histogram is normalized such\n",
      "        that the last bin equals 1.\n",
      "    \n",
      "        If *cumulative* is a number less than 0 (e.g., -1), the direction\n",
      "        of accumulation is reversed.  In this case, if *density* is also\n",
      "        ``True``, then the histogram is normalized such that the first bin\n",
      "        equals 1.\n",
      "    \n",
      "    bottom : array-like, scalar, or None, default: None\n",
      "        Location of the bottom of each bin, ie. bins are drawn from\n",
      "        ``bottom`` to ``bottom + hist(x, bins)`` If a scalar, the bottom\n",
      "        of each bin is shifted by the same amount. If an array, each bin\n",
      "        is shifted independently and the length of bottom must match the\n",
      "        number of bins. If None, defaults to 0.\n",
      "    \n",
      "    histtype : {'bar', 'barstacked', 'step',  'stepfilled'}, optional\n",
      "        The type of histogram to draw.\n",
      "    \n",
      "        - 'bar' is a traditional bar-type histogram.  If multiple data\n",
      "          are given the bars are arranged side by side.\n",
      "        - 'barstacked' is a bar-type histogram where multiple\n",
      "          data are stacked on top of each other.\n",
      "        - 'step' generates a lineplot that is by default unfilled.\n",
      "        - 'stepfilled' generates a lineplot that is by default filled.\n",
      "    \n",
      "        Default is 'bar'\n",
      "    \n",
      "    align : {'left', 'mid', 'right'}, optional\n",
      "        Controls how the histogram is plotted.\n",
      "    \n",
      "        - 'left': bars are centered on the left bin edges.\n",
      "        - 'mid': bars are centered between the bin edges.\n",
      "        - 'right': bars are centered on the right bin edges.\n",
      "    \n",
      "        Default is 'mid'\n",
      "    \n",
      "    orientation : {'horizontal', 'vertical'}, optional\n",
      "        If 'horizontal', `~matplotlib.pyplot.barh` will be used for\n",
      "        bar-type histograms and the *bottom* kwarg will be the left edges.\n",
      "    \n",
      "    rwidth : scalar or None, optional\n",
      "        The relative width of the bars as a fraction of the bin width.  If\n",
      "        ``None``, automatically compute the width.\n",
      "    \n",
      "        Ignored if *histtype* is 'step' or 'stepfilled'.\n",
      "    \n",
      "        Default is ``None``\n",
      "    \n",
      "    log : bool, optional\n",
      "        If ``True``, the histogram axis will be set to a log scale. If\n",
      "        *log* is ``True`` and *x* is a 1D array, empty bins will be\n",
      "        filtered out and only the non-empty ``(n, bins, patches)``\n",
      "        will be returned.\n",
      "    \n",
      "        Default is ``False``\n",
      "    \n",
      "    color : color or array-like of colors or None, optional\n",
      "        Color or sequence of colors, one per dataset.  Default (``None``)\n",
      "        uses the standard line color sequence.\n",
      "    \n",
      "        Default is ``None``\n",
      "    \n",
      "    label : str or None, optional\n",
      "        String, or sequence of strings to match multiple datasets.  Bar\n",
      "        charts yield multiple patches per dataset, but only the first gets\n",
      "        the label, so that the legend command will work as expected.\n",
      "    \n",
      "        default is ``None``\n",
      "    \n",
      "    stacked : bool, optional\n",
      "        If ``True``, multiple data are stacked on top of each other If\n",
      "        ``False`` multiple data are arranged side by side if histtype is\n",
      "        'bar' or on top of each other if histtype is 'step'\n",
      "    \n",
      "        Default is ``False``\n",
      "    \n",
      "    Returns\n",
      "    -------\n",
      "    n : array or list of arrays\n",
      "        The values of the histogram bins. See *density* and *weights* for a\n",
      "        description of the possible semantics.  If input *x* is an array,\n",
      "        then this is an array of length *nbins*. If input is a sequence of\n",
      "        arrays ``[data1, data2, ...]``, then this is a list of arrays with\n",
      "        the values of the histograms for each of the arrays in the same\n",
      "        order.  The dtype of the array *n* (or of its element arrays) will\n",
      "        always be float even if no weighting or normalization is used.\n",
      "    \n",
      "    bins : array\n",
      "        The edges of the bins. Length nbins + 1 (nbins left edges and right\n",
      "        edge of last bin).  Always a single array even when multiple data\n",
      "        sets are passed in.\n",
      "    \n",
      "    patches : list or list of lists\n",
      "        Silent list of individual patches used to create the histogram\n",
      "        or list of such list if multiple input datasets.\n",
      "    \n",
      "    Other Parameters\n",
      "    ----------------\n",
      "    **kwargs : `~matplotlib.patches.Patch` properties\n",
      "    \n",
      "    See also\n",
      "    --------\n",
      "    hist2d : 2D histograms\n",
      "    \n",
      "    Notes\n",
      "    -----\n",
      "    \n",
      "    \n",
      "    .. note::\n",
      "        In addition to the above described arguments, this function can take a\n",
      "        **data** keyword argument. If such a **data** argument is given, the\n",
      "        following arguments are replaced by **data[<arg>]**:\n",
      "    \n",
      "        * All arguments with the following names: 'weights', 'x'.\n",
      "    \n",
      "        Objects passed as **data** must support item access (``data[<arg>]``) and\n",
      "        membership test (``<arg> in data``).\n",
      "\n"
     ]
    },
    {
     "data": {
      "image/png": "[encoded data removed]",
      "text/plain": [
       "<Figure size 432x288 with 1 Axes>"
      ]
     },
     "metadata": {
      "needs_background": "light"
     },
     "output_type": "display_data"
    }
   ],
   "source": [
    "#cov(X, X) = variance of X = (x - xbar)^2 / N\n",
    "#cov(Y, Y) = variance of Y = (y - ybar)^2 / N\n",
    "#cov(X, Y) = covariance of XY = (x-xbar)(y-ybar)\n",
    "\n",
    "from scipy.stats import norm\n",
    "\n",
    "#takes two parameters /mu and /sigma\n",
    "#loc = /mu; scale = /sigma\n",
    "data_normal = norm.rvs(size = 10000, loc=0, scale = 1)\n",
    "\n",
    "plt.hist(data_normal, density=False)\n",
    "\n",
    "help(plt.hist)"
   ]
  },
  {
   "cell_type": "code",
   "execution_count": null,
   "metadata": {},
   "outputs": [],
   "source": [
    "#normal distribution\n",
    "#68% of data falls within ONE std from the mean\n",
    "#95% of data falls withint TWO std from the mean\n",
    "#95% confidence interval\n",
    "#Normal distribution - mean 0 and std 1\n",
    "#std and variance = std ** 2\n",
    "#high std -> randomness\n",
    "#low std -> consistent\n",
    "\n",
    "#compare two devices\n",
    "#which is faster\n",
    "#1. Touch keyboard\n",
    "#.   mean = 20wpm, std = 100,  n = 100\n",
    "# p1 - 1wpm\n",
    "# p2 - 1wpm\n",
    "# p3 - 58wpm\n",
    "#2. Gesture keyboard\n",
    "#.  mean = 15wpm, std = 1,    n = 100\n",
    "# p1 - 14wpm\n",
    "# p2 - 15wpm\n",
    "# p3 - 16wpm\n",
    "#Can we say that touch is faster than gesture?\n",
    "#We cannot ssay that touch keyboard is faster than gesture keyboard\n",
    "#because touch has high variance\n",
    "\n",
    "#T-test - comparing two means\n",
    "#ANOVA - comparing three or more means"
   ]
  },
  {
   "cell_type": "code",
   "execution_count": 8,
   "metadata": {},
   "outputs": [],
   "source": [
    "#Gamma Distribution\n",
    "# --> continous distribution\n",
    "#when \\alpha = 1, gamma distribution becomes exponential distribution"
   ]
  },
  {
   "cell_type": "markdown",
   "metadata": {},
   "source": [
    "$$ f(x \\mid \\alpha, \\beta) = \\frac{\\beta^{\\alpha}x^{\\alpha-1}e^{-\\beta x}}{\\Gamma(\\alpha)} $$\n",
    "\n",
    "The $\\Gamma$ function has the simple formula as\n",
    "\n",
    "$$ \\Gamma(n) = (n - 1)!$$"
   ]
  },
  {
   "cell_type": "code",
   "execution_count": 22,
   "metadata": {},
   "outputs": [
    {
     "data": {
      "text/plain": [
       "(array([ 22., 117., 245., 298., 203.,  80.,  29.,   3.,   2.,   1.]),\n",
       " array([186.08105349, 219.24182242, 252.40259135, 285.56336028,\n",
       "        318.72412921, 351.88489814, 385.04566707, 418.206436  ,\n",
       "        451.36720493, 484.52797386, 517.68874279]),\n",
       " <a list of 10 Patch objects>)"
      ]
     },
     "execution_count": 22,
     "metadata": {},
     "output_type": "execute_result"
    },
    {
     "data": {
      "image/png": "[encoded data removed]",
      "text/plain": [
       "<Figure size 432x288 with 1 Axes>"
      ]
     },
     "metadata": {
      "needs_background": "light"
     },
     "output_type": "display_data"
    }
   ],
   "source": [
    "from scipy.stats import gamma\n",
    "\n",
    "a = 20  #how quickly things drop\n",
    "size = 1000\n",
    "loc = 100\n",
    "scale = 10 #how wide is the distribution\n",
    "\n",
    "data_gamma = gamma.rvs(a=a, size=size, loc=loc, scale=scale)\n",
    "\n",
    "plt.hist(data_gamma)"
   ]
  },
  {
   "cell_type": "code",
   "execution_count": 23,
   "metadata": {},
   "outputs": [],
   "source": [
    "#4. Exponential distribution"
   ]
  },
  {
   "cell_type": "markdown",
   "metadata": {},
   "source": [
    "$$\n",
    "    f(x \\mid \\lambda) =\n",
    "    \\begin{cases}\n",
    "      \\lambda e^{-\\lambda x} & x\\geq 0, \\\\\n",
    "      0 & \\text{otherwise}\n",
    "    \\end{cases}\n",
    "$$"
   ]
  },
  {
   "cell_type": "code",
   "execution_count": 28,
   "metadata": {},
   "outputs": [
    {
     "data": {
      "text/plain": [
       "(array([0.07240666, 0.0339868 , 0.01316485, 0.00644809, 0.00510474,\n",
       "        0.00147769, 0.00107468, 0.00040301, 0.00013434, 0.00013434]),\n",
       " array([1.35030674e-02, 7.45756930e+00, 1.49016355e+01, 2.23457018e+01,\n",
       "        2.97897680e+01, 3.72338342e+01, 4.46779005e+01, 5.21219667e+01,\n",
       "        5.95660329e+01, 6.70100992e+01, 7.44541654e+01]),\n",
       " <a list of 10 Patch objects>)"
      ]
     },
     "execution_count": 28,
     "metadata": {},
     "output_type": "execute_result"
    },
    {
     "data": {
      "image/png": "[encoded data removed]",
      "text/plain": [
       "<Figure size 432x288 with 1 Axes>"
      ]
     },
     "metadata": {
      "needs_background": "light"
     },
     "output_type": "display_data"
    }
   ],
   "source": [
    "from scipy.stats import expon\n",
    "\n",
    "#lambda = 1/scale\n",
    "#small lambda = drop slowly\n",
    "#big lambda = drop quickly\n",
    "data_expon = expon.rvs(scale=10, loc=0, size=1000)\n",
    "\n",
    "plt.hist(data_expon, density=True)"
   ]
  },
  {
   "cell_type": "code",
   "execution_count": 29,
   "metadata": {},
   "outputs": [],
   "source": [
    "#Poisson Distribution\n",
    "#probabiliy of observing k events in an interval\n",
    "#k is a number, and events is a type of event\n",
    "#probability of observing 10 crashes between 5am and 5pm\n",
    "#probability of number of users using your website between X and Y\n",
    "\n",
    "#Poisson is a normal distribution in disguise, when\n",
    "#lambda is approaching infinity"
   ]
  },
  {
   "cell_type": "markdown",
   "metadata": {},
   "source": [
    "$$ P(k) = e^{-\\lambda}\\frac{\\lambda^k}{k!}$$"
   ]
  },
  {
   "cell_type": "code",
   "execution_count": 33,
   "metadata": {},
   "outputs": [
    {
     "data": {
      "text/plain": [
       "(array([4.1600e-03, 2.3280e-02, 1.0368e-01, 1.0116e-01, 1.1184e-01,\n",
       "        3.6600e-02, 1.6720e-02, 1.9200e-03, 5.6000e-04, 8.0000e-05]),\n",
       " array([ 1. ,  3.5,  6. ,  8.5, 11. , 13.5, 16. , 18.5, 21. , 23.5, 26. ]),\n",
       " <a list of 10 Patch objects>)"
      ]
     },
     "execution_count": 33,
     "metadata": {},
     "output_type": "execute_result"
    },
    {
     "data": {
      "image/png": "[encoded data removed]",
      "text/plain": [
       "<Figure size 432x288 with 1 Axes>"
      ]
     },
     "metadata": {
      "needs_background": "light"
     },
     "output_type": "display_data"
    }
   ],
   "source": [
    "from scipy.stats import poisson\n",
    "\n",
    "data_poisson = poisson.rvs(mu = 10, size = 10000)\n",
    "\n",
    "plt.hist(data_poisson, density=True)"
   ]
  },
  {
   "cell_type": "code",
   "execution_count": 34,
   "metadata": {},
   "outputs": [],
   "source": [
    "#6 Binomial distribution\n",
    "\n",
    "#binomial distribution is basically\n",
    "#probability of ONLY two outcomes, head/tail, pass/not pass\n",
    "\n",
    "#binomial distribution\n",
    "#p => probability of successful outcome\n",
    "#1 - p => prob of unsuccessful outcome\n",
    "\n",
    "#k, n\n",
    "#toss n times, probability of observing k successes"
   ]
  },
  {
   "cell_type": "markdown",
   "metadata": {},
   "source": [
    "$$\n",
    " Pr(k; n, p) = Pr(X = k) =  \\binom{n}{k} \\cdot p^k(1-p)^{n-k}\n",
    "$$\n",
    "\n",
    "$$\n",
    "\\binom{n}{k} = \\frac{n!}{k!(n-k)!}\n",
    "$$"
   ]
  },
  {
   "cell_type": "code",
   "execution_count": 38,
   "metadata": {},
   "outputs": [
    {
     "data": {
      "text/plain": [
       "(array([3.47826087e-05, 1.24347826e-03, 8.43913043e-03, 4.27391304e-02,\n",
       "        6.51673913e-02, 6.98978261e-02, 2.59543478e-02, 3.48043478e-03,\n",
       "        4.26086957e-04, 8.69565217e-06]),\n",
       " array([28. , 32.6, 37.2, 41.8, 46.4, 51. , 55.6, 60.2, 64.8, 69.4, 74. ]),\n",
       " <a list of 10 Patch objects>)"
      ]
     },
     "execution_count": 38,
     "metadata": {},
     "output_type": "execute_result"
    },
    {
     "data": {
      "image/png": "[encoded data removed]",
      "text/plain": [
       "<Figure size 432x288 with 1 Axes>"
      ]
     },
     "metadata": {
      "needs_background": "light"
     },
     "output_type": "display_data"
    }
   ],
   "source": [
    "from scipy.stats import binom\n",
    "data_binom = binom.rvs(n=100, p=0.5, size=100000)\n",
    "\n",
    "plt.hist(data_binom, density=True)"
   ]
  },
  {
   "cell_type": "code",
   "execution_count": 39,
   "metadata": {},
   "outputs": [],
   "source": [
    "#binomial\n",
    "#eeg - angry vs. sad\n",
    "#how do i generate number of images of angry vs. sad\n",
    "#binomial distribution 0.5\n",
    "#0 -> glob.glob(\"/**/*angry.jpg\")"
   ]
  },
  {
   "cell_type": "code",
   "execution_count": 40,
   "metadata": {},
   "outputs": [],
   "source": [
    "#for binomial distribution\n",
    "#when n->inf,  this binomial distribution becomes normal distribution\n",
    "#p and q are not indefinitely small, around 0.5\n",
    "\n",
    "#if n = 1, Bernoulli distribution\n",
    "#scipy.stats.bernoulli"
   ]
  },
  {
   "cell_type": "code",
   "execution_count": 41,
   "metadata": {},
   "outputs": [],
   "source": [
    "#uniform\n",
    "#exponential\n",
    "#gamma\n",
    "#normal\n",
    "#poisson\n",
    "#binomial\n",
    "#bernoulli"
   ]
  },
  {
   "cell_type": "code",
   "execution_count": 42,
   "metadata": {},
   "outputs": [],
   "source": [
    "#Exploratory Analysis and Inferential Statistics"
   ]
  },
  {
   "cell_type": "code",
   "execution_count": 44,
   "metadata": {},
   "outputs": [],
   "source": [
    "from sklearn.datasets import load_iris\n",
    "\n",
    "#have 4 features - petal w, h, sepal w, h\n",
    "#have 3 classes - 3 classes"
   ]
  },
  {
   "cell_type": "code",
   "execution_count": 45,
   "metadata": {},
   "outputs": [],
   "source": [
    "import pandas as pd"
   ]
  },
  {
   "cell_type": "code",
   "execution_count": 46,
   "metadata": {},
   "outputs": [],
   "source": [
    "from scipy import stats"
   ]
  },
  {
   "cell_type": "code",
   "execution_count": 55,
   "metadata": {},
   "outputs": [],
   "source": [
    "data = load_iris()"
   ]
  },
  {
   "cell_type": "code",
   "execution_count": 53,
   "metadata": {},
   "outputs": [],
   "source": [
    "df = pd.DataFrame(data.data, columns = data.feature_names)"
   ]
  },
  {
   "cell_type": "code",
   "execution_count": 56,
   "metadata": {},
   "outputs": [],
   "source": [
    "df['target'] = pd.Series(data.target)"
   ]
  },
  {
   "cell_type": "code",
   "execution_count": 58,
   "metadata": {},
   "outputs": [
    {
     "data": {
      "text/html": [
       "<div>\n",
       "<style scoped>\n",
       "    .dataframe tbody tr th:only-of-type {\n",
       "        vertical-align: middle;\n",
       "    }\n",
       "\n",
       "    .dataframe tbody tr th {\n",
       "        vertical-align: top;\n",
       "    }\n",
       "\n",
       "    .dataframe thead th {\n",
       "        text-align: right;\n",
       "    }\n",
       "</style>\n",
       "<table border=\"1\" class=\"dataframe\">\n",
       "  <thead>\n",
       "    <tr style=\"text-align: right;\">\n",
       "      <th></th>\n",
       "      <th>sepal length (cm)</th>\n",
       "      <th>sepal width (cm)</th>\n",
       "      <th>petal length (cm)</th>\n",
       "      <th>petal width (cm)</th>\n",
       "      <th>target</th>\n",
       "    </tr>\n",
       "  </thead>\n",
       "  <tbody>\n",
       "    <tr>\n",
       "      <th>0</th>\n",
       "      <td>5.1</td>\n",
       "      <td>3.5</td>\n",
       "      <td>1.4</td>\n",
       "      <td>0.2</td>\n",
       "      <td>0</td>\n",
       "    </tr>\n",
       "    <tr>\n",
       "      <th>1</th>\n",
       "      <td>4.9</td>\n",
       "      <td>3.0</td>\n",
       "      <td>1.4</td>\n",
       "      <td>0.2</td>\n",
       "      <td>0</td>\n",
       "    </tr>\n",
       "    <tr>\n",
       "      <th>2</th>\n",
       "      <td>4.7</td>\n",
       "      <td>3.2</td>\n",
       "      <td>1.3</td>\n",
       "      <td>0.2</td>\n",
       "      <td>0</td>\n",
       "    </tr>\n",
       "    <tr>\n",
       "      <th>3</th>\n",
       "      <td>4.6</td>\n",
       "      <td>3.1</td>\n",
       "      <td>1.5</td>\n",
       "      <td>0.2</td>\n",
       "      <td>0</td>\n",
       "    </tr>\n",
       "    <tr>\n",
       "      <th>4</th>\n",
       "      <td>5.0</td>\n",
       "      <td>3.6</td>\n",
       "      <td>1.4</td>\n",
       "      <td>0.2</td>\n",
       "      <td>0</td>\n",
       "    </tr>\n",
       "  </tbody>\n",
       "</table>\n",
       "</div>"
      ],
      "text/plain": [
       "   sepal length (cm)  sepal width (cm)  petal length (cm)  petal width (cm)  \\\n",
       "0                5.1               3.5                1.4               0.2   \n",
       "1                4.9               3.0                1.4               0.2   \n",
       "2                4.7               3.2                1.3               0.2   \n",
       "3                4.6               3.1                1.5               0.2   \n",
       "4                5.0               3.6                1.4               0.2   \n",
       "\n",
       "   target  \n",
       "0       0  \n",
       "1       0  \n",
       "2       0  \n",
       "3       0  \n",
       "4       0  "
      ]
     },
     "execution_count": 58,
     "metadata": {},
     "output_type": "execute_result"
    }
   ],
   "source": [
    "df.head()"
   ]
  },
  {
   "cell_type": "code",
   "execution_count": 59,
   "metadata": {},
   "outputs": [
    {
     "data": {
      "text/html": [
       "<div>\n",
       "<style scoped>\n",
       "    .dataframe tbody tr th:only-of-type {\n",
       "        vertical-align: middle;\n",
       "    }\n",
       "\n",
       "    .dataframe tbody tr th {\n",
       "        vertical-align: top;\n",
       "    }\n",
       "\n",
       "    .dataframe thead th {\n",
       "        text-align: right;\n",
       "    }\n",
       "</style>\n",
       "<table border=\"1\" class=\"dataframe\">\n",
       "  <thead>\n",
       "    <tr style=\"text-align: right;\">\n",
       "      <th></th>\n",
       "      <th>sepal length (cm)</th>\n",
       "      <th>sepal width (cm)</th>\n",
       "      <th>petal length (cm)</th>\n",
       "      <th>petal width (cm)</th>\n",
       "      <th>target</th>\n",
       "    </tr>\n",
       "  </thead>\n",
       "  <tbody>\n",
       "    <tr>\n",
       "      <th>count</th>\n",
       "      <td>150.000000</td>\n",
       "      <td>150.000000</td>\n",
       "      <td>150.000000</td>\n",
       "      <td>150.000000</td>\n",
       "      <td>150.000000</td>\n",
       "    </tr>\n",
       "    <tr>\n",
       "      <th>mean</th>\n",
       "      <td>5.843333</td>\n",
       "      <td>3.057333</td>\n",
       "      <td>3.758000</td>\n",
       "      <td>1.199333</td>\n",
       "      <td>1.000000</td>\n",
       "    </tr>\n",
       "    <tr>\n",
       "      <th>std</th>\n",
       "      <td>0.828066</td>\n",
       "      <td>0.435866</td>\n",
       "      <td>1.765298</td>\n",
       "      <td>0.762238</td>\n",
       "      <td>0.819232</td>\n",
       "    </tr>\n",
       "    <tr>\n",
       "      <th>min</th>\n",
       "      <td>4.300000</td>\n",
       "      <td>2.000000</td>\n",
       "      <td>1.000000</td>\n",
       "      <td>0.100000</td>\n",
       "      <td>0.000000</td>\n",
       "    </tr>\n",
       "    <tr>\n",
       "      <th>25%</th>\n",
       "      <td>5.100000</td>\n",
       "      <td>2.800000</td>\n",
       "      <td>1.600000</td>\n",
       "      <td>0.300000</td>\n",
       "      <td>0.000000</td>\n",
       "    </tr>\n",
       "    <tr>\n",
       "      <th>50%</th>\n",
       "      <td>5.800000</td>\n",
       "      <td>3.000000</td>\n",
       "      <td>4.350000</td>\n",
       "      <td>1.300000</td>\n",
       "      <td>1.000000</td>\n",
       "    </tr>\n",
       "    <tr>\n",
       "      <th>75%</th>\n",
       "      <td>6.400000</td>\n",
       "      <td>3.300000</td>\n",
       "      <td>5.100000</td>\n",
       "      <td>1.800000</td>\n",
       "      <td>2.000000</td>\n",
       "    </tr>\n",
       "    <tr>\n",
       "      <th>max</th>\n",
       "      <td>7.900000</td>\n",
       "      <td>4.400000</td>\n",
       "      <td>6.900000</td>\n",
       "      <td>2.500000</td>\n",
       "      <td>2.000000</td>\n",
       "    </tr>\n",
       "  </tbody>\n",
       "</table>\n",
       "</div>"
      ],
      "text/plain": [
       "       sepal length (cm)  sepal width (cm)  petal length (cm)  \\\n",
       "count         150.000000        150.000000         150.000000   \n",
       "mean            5.843333          3.057333           3.758000   \n",
       "std             0.828066          0.435866           1.765298   \n",
       "min             4.300000          2.000000           1.000000   \n",
       "25%             5.100000          2.800000           1.600000   \n",
       "50%             5.800000          3.000000           4.350000   \n",
       "75%             6.400000          3.300000           5.100000   \n",
       "max             7.900000          4.400000           6.900000   \n",
       "\n",
       "       petal width (cm)      target  \n",
       "count        150.000000  150.000000  \n",
       "mean           1.199333    1.000000  \n",
       "std            0.762238    0.819232  \n",
       "min            0.100000    0.000000  \n",
       "25%            0.300000    0.000000  \n",
       "50%            1.300000    1.000000  \n",
       "75%            1.800000    2.000000  \n",
       "max            2.500000    2.000000  "
      ]
     },
     "execution_count": 59,
     "metadata": {},
     "output_type": "execute_result"
    }
   ],
   "source": [
    "df.describe()"
   ]
  },
  {
   "cell_type": "code",
   "execution_count": 60,
   "metadata": {},
   "outputs": [
    {
     "data": {
      "text/html": [
       "<div>\n",
       "<style scoped>\n",
       "    .dataframe tbody tr th:only-of-type {\n",
       "        vertical-align: middle;\n",
       "    }\n",
       "\n",
       "    .dataframe tbody tr th {\n",
       "        vertical-align: top;\n",
       "    }\n",
       "\n",
       "    .dataframe thead th {\n",
       "        text-align: right;\n",
       "    }\n",
       "</style>\n",
       "<table border=\"1\" class=\"dataframe\">\n",
       "  <thead>\n",
       "    <tr style=\"text-align: right;\">\n",
       "      <th></th>\n",
       "      <th>sepal length (cm)</th>\n",
       "      <th>sepal width (cm)</th>\n",
       "      <th>petal length (cm)</th>\n",
       "      <th>petal width (cm)</th>\n",
       "    </tr>\n",
       "    <tr>\n",
       "      <th>target</th>\n",
       "      <th></th>\n",
       "      <th></th>\n",
       "      <th></th>\n",
       "      <th></th>\n",
       "    </tr>\n",
       "  </thead>\n",
       "  <tbody>\n",
       "    <tr>\n",
       "      <th>0</th>\n",
       "      <td>5.006</td>\n",
       "      <td>3.428</td>\n",
       "      <td>1.462</td>\n",
       "      <td>0.246</td>\n",
       "    </tr>\n",
       "    <tr>\n",
       "      <th>1</th>\n",
       "      <td>5.936</td>\n",
       "      <td>2.770</td>\n",
       "      <td>4.260</td>\n",
       "      <td>1.326</td>\n",
       "    </tr>\n",
       "    <tr>\n",
       "      <th>2</th>\n",
       "      <td>6.588</td>\n",
       "      <td>2.974</td>\n",
       "      <td>5.552</td>\n",
       "      <td>2.026</td>\n",
       "    </tr>\n",
       "  </tbody>\n",
       "</table>\n",
       "</div>"
      ],
      "text/plain": [
       "        sepal length (cm)  sepal width (cm)  petal length (cm)  \\\n",
       "target                                                           \n",
       "0                   5.006             3.428              1.462   \n",
       "1                   5.936             2.770              4.260   \n",
       "2                   6.588             2.974              5.552   \n",
       "\n",
       "        petal width (cm)  \n",
       "target                    \n",
       "0                  0.246  \n",
       "1                  1.326  \n",
       "2                  2.026  "
      ]
     },
     "execution_count": 60,
     "metadata": {},
     "output_type": "execute_result"
    }
   ],
   "source": [
    "grouped_iris = df.groupby('target')\n",
    "grouped_iris.mean()"
   ]
  },
  {
   "cell_type": "code",
   "execution_count": 62,
   "metadata": {},
   "outputs": [
    {
     "data": {
      "text/plain": [
       "target\n",
       "0    AxesSubplot(0.125,0.125;0.775x0.755)\n",
       "1    AxesSubplot(0.125,0.125;0.775x0.755)\n",
       "2    AxesSubplot(0.125,0.125;0.775x0.755)\n",
       "Name: petal width (cm), dtype: object"
      ]
     },
     "execution_count": 62,
     "metadata": {},
     "output_type": "execute_result"
    },
    {
     "data": {
      "image/png": "[encoded data removed]",
      "text/plain": [
       "<Figure size 432x288 with 1 Axes>"
      ]
     },
     "metadata": {
      "needs_background": "light"
     },
     "output_type": "display_data"
    }
   ],
   "source": [
    "grouped_iris['petal width (cm)'].hist()"
   ]
  },
  {
   "cell_type": "code",
   "execution_count": 63,
   "metadata": {},
   "outputs": [
    {
     "data": {
      "text/plain": [
       "<seaborn.axisgrid.PairGrid at 0x7f7ab1368490>"
      ]
     },
     "execution_count": 63,
     "metadata": {},
     "output_type": "execute_result"
    },
    {
     "data": {
      "image/png": "[encoded data removed]",
      "text/plain": [
       "<Figure size 900x900 with 30 Axes>"
      ]
     },
     "metadata": {
      "needs_background": "light"
     },
     "output_type": "display_data"
    }
   ],
   "source": [
    "#matplotlib made several years ago\n",
    "#seaborn is made more recently\n",
    "import seaborn as sns\n",
    "\n",
    "sns.pairplot(df, kind='reg')"
   ]
  },
  {
   "cell_type": "code",
   "execution_count": 73,
   "metadata": {},
   "outputs": [
    {
     "data": {
      "text/plain": [
       "(array([ 1.,  0.,  5.,  5.,  8.,  9., 10.,  5.,  1.,  6.]),\n",
       " array([4.9, 5.2, 5.5, 5.8, 6.1, 6.4, 6.7, 7. , 7.3, 7.6, 7.9]),\n",
       " <a list of 10 Patch objects>)"
      ]
     },
     "execution_count": 73,
     "metadata": {},
     "output_type": "execute_result"
    },
    {
     "data": {
      "image/png": "[encoded data removed]",
      "text/plain": [
       "<Figure size 432x288 with 1 Axes>"
      ]
     },
     "metadata": {
      "needs_background": "light"
     },
     "output_type": "display_data"
    }
   ],
   "source": [
    "#Comparing distribution\n",
    "\n",
    "sl_setosa = df[df['target'] == 0]['sepal length (cm)']\n",
    "sl_virginica = df[df['target'] == 1]['sepal length (cm)']\n",
    "sl_versicolor = df[df['target'] == 2]['sepal length (cm)']\n",
    "\n",
    "plt.hist(sl_setosa, label='Setosa', alpha=0.5)\n",
    "plt.hist(sl_virginica, label='Setosa', alpha=0.5)\n",
    "plt.hist(sl_versicolor, label='Setosa', alpha=0.5)"
   ]
  },
  {
   "cell_type": "code",
   "execution_count": 74,
   "metadata": {},
   "outputs": [],
   "source": [
    "#normality testing\n",
    "\n",
    "#testing normality - test whether the data is normal\n",
    "#if we want to use t-test, ANOVA, both of them relies on two parameters\n",
    "#mean and variance(std)\n",
    "#t-test, ANOVA, MANOVA, parametric methods, assume that your data is normally distributed\n",
    "\n",
    "#1. use histograms and your eyes\n",
    "#2. use qqplots and your eyes\n",
    "#3. use some test if we are not sure\n",
    "#.   - Kolmogorov-Smirnov\n",
    "#.   - Shapiro"
   ]
  },
  {
   "cell_type": "code",
   "execution_count": 76,
   "metadata": {},
   "outputs": [
    {
     "data": {
      "text/plain": [
       "KstestResult(statistic=0.999991460094529, pvalue=7.476238875146382e-254)"
      ]
     },
     "execution_count": 76,
     "metadata": {},
     "output_type": "execute_result"
    }
   ],
   "source": [
    "#Kolmogorov-Smirnov\n",
    "\n",
    "kstest_sl_setosa = stats.kstest(sl_setosa, 'norm')\n",
    "\n",
    "#hypothesis testing\n",
    "#null hypothesis - something you think is a fact\n",
    "# the data is normal  p > alpha\n",
    "#alternative hypothesis - something you want to challenge\n",
    "# the data is NOT normal. -> p < alpha; p < 0.05*, or 0.01**, or 0.001***\n",
    "\n",
    "kstest_sl_setosa"
   ]
  },
  {
   "cell_type": "code",
   "execution_count": 78,
   "metadata": {},
   "outputs": [
    {
     "data": {
      "text/plain": [
       "<matplotlib.axes._subplots.AxesSubplot at 0x7f7aafaf2460>"
      ]
     },
     "execution_count": 78,
     "metadata": {},
     "output_type": "execute_result"
    },
    {
     "data": {
      "image/png": "[encoded data removed]",
      "text/plain": [
       "<Figure size 432x288 with 1 Axes>"
      ]
     },
     "metadata": {
      "needs_background": "light"
     },
     "output_type": "display_data"
    }
   ],
   "source": [
    "sl_setosa.hist()"
   ]
  },
  {
   "cell_type": "code",
   "execution_count": 80,
   "metadata": {},
   "outputs": [
    {
     "data": {
      "text/plain": [
       "(0.9776989221572876, 0.4595281183719635)"
      ]
     },
     "execution_count": 80,
     "metadata": {},
     "output_type": "execute_result"
    }
   ],
   "source": [
    "#shapiro\n",
    "\n",
    "shapiro_sl_setosa = stats.shapiro(sl_setosa)\n",
    "\n",
    "shapiro_sl_setosa\n",
    "\n",
    "#p value > 0.05\n",
    "#shapiro says that my data is normal\n",
    "#but ks says that my data is NOT normal\n",
    "\n",
    "#ks is a general method that compares the expected cdf with the given cdf\n",
    "#ks is basically comparing one empirical normal expected cdf\n",
    "#then ks compares the data cdf against this empirical cdf\n",
    "#the distance determines the p-values\n",
    "#the greater distance, the small p-values\n",
    "#ks is more strict, or more conservative\n",
    "\n",
    "#shapiro performs a normal testing on expected means, variances\n",
    "#covariances\n",
    "#shapiro, using the data, it constructs the ideal normal distribution\n",
    "#compare your data against it\n",
    "#but shapiro is more flexible based on your data\n",
    "\n",
    "#for large samples, shapiro will be too sensitive, and will rejct the\n",
    "#null hypothesis, with even tiny deviations\n",
    "#small-medium, maybe you can use shapiro\n",
    "#for large, definitely use ks"
   ]
  },
  {
   "cell_type": "code",
   "execution_count": 81,
   "metadata": {},
   "outputs": [],
   "source": [
    "#Assumption for t-test/ANOVA/parametric test\n",
    "#1. Normality testing\n",
    "#2. Homogeneity of Variance / sphericity test (more than two groups)\n",
    "#Compare weight of chicken and duck\n",
    "# mean w of chicken; mean w of duck\n",
    "#if chicken weight is crowded around the mean 20 with variance 1\n",
    "#if duck weight is croweded around the mean 15 with variance 3"
   ]
  },
  {
   "cell_type": "code",
   "execution_count": 82,
   "metadata": {},
   "outputs": [],
   "source": [
    "#barlett test\n",
    "\n",
    "#null hypothesis - variance is equal p > alpha\n",
    "#alternative hypothesis - variance is not homogeneous p < alpha\n",
    "#p = 0.8 null\n",
    "#p = 0.0001 the variance is not homogeneous"
   ]
  },
  {
   "cell_type": "code",
   "execution_count": 84,
   "metadata": {},
   "outputs": [
    {
     "data": {
      "text/plain": [
       "BartlettResult(statistic=2.094933311010139, pvalue=0.14778816016231236)"
      ]
     },
     "execution_count": 84,
     "metadata": {},
     "output_type": "execute_result"
    }
   ],
   "source": [
    "b_sl_versicolor = stats.bartlett(sl_versicolor, sl_virginica)\n",
    "b_sl_versicolor\n",
    "\n",
    "#because p > 0.05, thus we failed to confirm the alternative hypothesis"
   ]
  },
  {
   "cell_type": "code",
   "execution_count": 85,
   "metadata": {},
   "outputs": [],
   "source": [
    "#barlett test is a little sensitive to less normal distributions,\n",
    "#thus, levene is better alternatives"
   ]
  },
  {
   "cell_type": "code",
   "execution_count": 86,
   "metadata": {},
   "outputs": [
    {
     "data": {
      "text/plain": [
       "LeveneResult(statistic=1.024522457408365, pvalue=0.3139412235249392)"
      ]
     },
     "execution_count": 86,
     "metadata": {},
     "output_type": "execute_result"
    }
   ],
   "source": [
    "l_sl_versicolor = stats.levene(sl_versicolor, sl_virginica)\n",
    "l_sl_versicolor\n",
    "#p > 0.05 --> equal"
   ]
  },
  {
   "cell_type": "code",
   "execution_count": 87,
   "metadata": {},
   "outputs": [],
   "source": [
    "#T-tests\n",
    "#compare 2 means\n",
    "#paired or independent\n",
    "#within or between\n",
    "#paired - your subject is exposed to both groups\n",
    "#independent - your subject is only exposed to one group\n",
    "#ANOVA\n",
    "#compare 3 or means"
   ]
  },
  {
   "cell_type": "code",
   "execution_count": 89,
   "metadata": {},
   "outputs": [
    {
     "name": "stdout",
     "output_type": "stream",
     "text": [
      "Ttest_indResult(statistic=-15.386195820079404, pvalue=6.892546060674059e-28)\n"
     ]
    }
   ],
   "source": [
    "#t-test\n",
    "\n",
    "#null h, the two means are the same\n",
    "#alternative h, the two means are NOT the same\n",
    "\n",
    "ind_test = stats.ttest_ind(sl_setosa, sl_versicolor, equal_var=True,\n",
    "                          nan_policy='omit')\n",
    "\n",
    "print(ind_test)"
   ]
  },
  {
   "cell_type": "code",
   "execution_count": 90,
   "metadata": {},
   "outputs": [
    {
     "data": {
      "text/plain": [
       "5.005999999999999"
      ]
     },
     "execution_count": 90,
     "metadata": {},
     "output_type": "execute_result"
    }
   ],
   "source": [
    "sl_setosa.mean()"
   ]
  },
  {
   "cell_type": "code",
   "execution_count": 91,
   "metadata": {},
   "outputs": [
    {
     "data": {
      "text/plain": [
       "6.587999999999998"
      ]
     },
     "execution_count": 91,
     "metadata": {},
     "output_type": "execute_result"
    }
   ],
   "source": [
    "sl_versicolor.mean()"
   ]
  },
  {
   "cell_type": "code",
   "execution_count": 93,
   "metadata": {},
   "outputs": [
    {
     "name": "stdout",
     "output_type": "stream",
     "text": [
      "Ttest_relResult(statistic=-16.344145683358008, pvalue=1.789394192251355e-21)\n"
     ]
    }
   ],
   "source": [
    "paired_test = stats.ttest_rel(sl_setosa, sl_versicolor,\n",
    "                          nan_policy='omit')\n",
    "\n",
    "print(paired_test)"
   ]
  },
  {
   "cell_type": "code",
   "execution_count": 94,
   "metadata": {},
   "outputs": [],
   "source": [
    "#p-value tells you whether they are different\n",
    "#but DID NOT TELL YOU HOW MUCH THEY ARE DIFFERENT\n",
    "#effect sizes - cohen d, partial squared, partial eta-squared"
   ]
  },
  {
   "cell_type": "code",
   "execution_count": 97,
   "metadata": {},
   "outputs": [
    {
     "name": "stdout",
     "output_type": "stream",
     "text": [
      "RanksumsResult(statistic=-8.351862779116292, pvalue=6.71947003242093e-17)\n",
      "MannwhitneyuResult(statistic=38.5, pvalue=3.198349534698269e-17)\n",
      "WilcoxonResult(statistic=0.0, pvalue=1.0947696934612459e-09)\n"
     ]
    }
   ],
   "source": [
    "#What if I cannot use t-test?\n",
    "#When it does not meeting the two assumptions\n",
    "#WE need to use something called non-parametric tests\n",
    "#rank\n",
    "#non-parametric tests cannot do posthoc test, cannot interaction effect\n",
    "\n",
    "#for comparing wo means\n",
    "#1. Wilcoxon rank-sum\n",
    "ranksum = stats.ranksums(sl_setosa, sl_versicolor)\n",
    "print(ranksum)\n",
    "\n",
    "#2. Mann-Whitney U\n",
    "whitney = stats.mannwhitneyu(sl_setosa, sl_versicolor)\n",
    "print(whitney)\n",
    "\n",
    "#3. Wilcoxon\n",
    "wil = stats.wilcoxon(sl_setosa, sl_versicolor)\n",
    "print(wil)"
   ]
  },
  {
   "cell_type": "code",
   "execution_count": 101,
   "metadata": {},
   "outputs": [
    {
     "name": "stdout",
     "output_type": "stream",
     "text": [
      "F_onewayResult(statistic=119.26450218450468, pvalue=1.6696691907693826e-31)\n",
      "Multiple Comparison of Means - Tukey HSD, FWER=0.05\n",
      "=================================================\n",
      "group1 group2 meandiff p-adj lower  upper  reject\n",
      "-------------------------------------------------\n",
      "     0      1     0.93 0.001 0.6862 1.1738   True\n",
      "     0      2    1.582 0.001 1.3382 1.8258   True\n",
      "     1      2    0.652 0.001 0.4082 0.8958   True\n",
      "-------------------------------------------------\n",
      "KruskalResult(statistic=96.93743600064833, pvalue=8.91873433246198e-22)\n"
     ]
    }
   ],
   "source": [
    "#More than two groups?\n",
    "\n",
    "#ANOVA - meet assumptions\n",
    "#one way - one feature - one independent variable\n",
    "#two way - two features\n",
    "#three way - three features\n",
    "anova = stats.f_oneway(sl_setosa, sl_versicolor, sl_virginica)\n",
    "print(anova)\n",
    "\n",
    "#common followup test is posthoc test\n",
    "#bonferroni, Tukey-Kramer HSD\n",
    "from statsmodels.stats.multicomp import pairwise_tukeyhsd\n",
    "tukey = pairwise_tukeyhsd(df['sepal length (cm)'], df['target'])\n",
    "print(tukey)\n",
    "\n",
    "#Kruskal-Wallis H - don't meet the assumptions\n",
    "kruskal = stats.kruskal(sl_setosa, sl_versicolor, sl_virginica)\n",
    "print(kruskal)"
   ]
  },
  {
   "cell_type": "code",
   "execution_count": null,
   "metadata": {},
   "outputs": [],
   "source": []
  }
 ],
 "metadata": {
  "kernelspec": {
   "display_name": "Python 3",
   "language": "python",
   "name": "python3"
  },
  "language_info": {
   "codemirror_mode": {
    "name": "ipython",
    "version": 3
   },
   "file_extension": ".py",
   "mimetype": "text/x-python",
   "name": "python",
   "nbconvert_exporter": "python",
   "pygments_lexer": "ipython3",
   "version": "3.8.5"
  }
 },
 "nbformat": 4,
 "nbformat_minor": 4
}
