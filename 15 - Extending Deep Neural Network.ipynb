{
 "cells": [
  {
   "cell_type": "markdown",
   "metadata": {},
   "source": [
    "# Programming for Data Science and Artificial Intelligence\n",
    "\n",
    "## 15 Extending Deep Neural Network\n",
    "\n",
    "### Readings\n",
    "\n",
    "- [WEIDMAN] Ch4\n",
    "- [CHARU] Ch2-3\n",
    "\n"
   ]
  },
  {
   "cell_type": "markdown",
   "metadata": {},
   "source": [
    "In the last two classes, we focus on understanding deep neural net and I hope it's going fantastic.  Anyhow, what we have been discovering so far is the most basic form of it and most of the time, it is insufficient for most real-world problems.  \n",
    "\n",
    "Today, we shall explore some well-understood techniques that make neural network training more likely to succeed.\n",
    "\n",
    "Before doing that, let's review the intuition behind neural network:\n",
    "\n",
    "In a high-level view, we can say that Neural Network is trying to most optimal parameters which is commonly defined as W that **minimizes the loss**, which can be described using the figure like this:\n",
    "\n",
    "<img src=\"figures/4-1.png\" style=\"width: 300px;\"/>\n",
    "\n",
    "\n",
    "Now, if we use non-linear activation function like sigmoid, **each W will have a non-linear relationship with the loss**.  If we plot one W against loss, while keeping everything constant, we get this oversimplistic graph:\n",
    "\n",
    "<img src=\"figures/4-2.png\" style=\"width: 300px;\"/>\n",
    "\n",
    "At the beginning, we will probably randomize a W value, and **we iterate to update our W by finding the gradients**.  How large should we move along the slope then?  We use **learning rate**.  Small learning rate means small step of update which can be slow but risk ending up in a **local minimia**, while large learning mean large step of update what will be faster but risk **hopping over\"** the global minimum\n",
    "\n",
    "<img src=\"figures/4-3.png\" style=\"width: 300px;\"/>\n",
    "\n"
   ]
  },
  {
   "cell_type": "code",
   "execution_count": null,
   "metadata": {},
   "outputs": [],
   "source": []
  }
 ],
 "metadata": {
  "kernelspec": {
   "display_name": "Python 3",
   "language": "python",
   "name": "python3"
  },
  "language_info": {
   "codemirror_mode": {
    "name": "ipython",
    "version": 3
   },
   "file_extension": ".py",
   "mimetype": "text/x-python",
   "name": "python",
   "nbconvert_exporter": "python",
   "pygments_lexer": "ipython3",
   "version": "3.7.7"
  }
 },
 "nbformat": 4,
 "nbformat_minor": 4
}
