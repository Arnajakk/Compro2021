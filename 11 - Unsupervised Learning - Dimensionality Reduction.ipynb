{
 "cells": [
  {
   "cell_type": "markdown",
   "metadata": {},
   "source": [
    "# Programming for Data Science and Artificial Intelligence\n",
    "\n",
    "## 11 Unsupervised Learning - Dimensionality Reduction\n",
    "\n",
    "### Readings:\n",
    "- [GERON] Ch8\n",
    "- [VANDER] Ch5\n",
    "- [HASTIE] Ch14.5\n",
    "- https://scikit-learn.org/stable/modules/classes.html#module-sklearn.decomposition\n",
    "- https://scikit-learn.org/stable/modules/manifold.html"
   ]
  },
  {
   "cell_type": "code",
   "execution_count": 1,
   "metadata": {},
   "outputs": [],
   "source": [
    "import numpy as np\n",
    "import matplotlib.pyplot as plt"
   ]
  },
  {
   "cell_type": "markdown",
   "metadata": {},
   "source": [
    "## Principal Component Analysis\n",
    "\n",
    "Working directly with high-dimensional data, such as images, comes with some difficulties: It is hard to analyze, interpretation is difficult, visualization is nearly impossible, and (from a practical point of view) storage of the data vectors can be expensive. However, high-dimensional data often has properties that we can exploit. For example, high-dimensional data is often overcomplete, i.e., many dimensions are redundant and can be explained by a combination of other dimensions. \n",
    "\n",
    "Furthermore, dimensions in high-dimensional data are often correlated so that the data possesses an intrinsic lower-dimensional structure. Dimensionality reduction exploits structure and correlation and allows us to work with a more compact rep- resentation of the data, ideally without losing information. \n",
    "\n",
    "In this lecture, we will discuss principal component analysis (PCA), an algorithm for linear dimensionality reduction. PCA, proposed by Pearson (1901) and Hotelling (1933), has been around for more than 100 years and is still one of the most commonly used techniques for dimensionality reduction. It also inspires more advanced technique such as \"autoencoders\" in deep neural networks.\n",
    "\n",
    "**Problem**\n",
    "\n",
    "In PCA, we are interested in finding projection $\\tilde{x}^{(i)}$ of data points $x^{(i)}$ that are as similar to the original data points as possible, but which have a significantly lower intrinsic dimensionality.\n",
    "\n",
    "More concretely, we consider an i.i.d. dataset $X = \\{x^{(1)},\\cdots,x^{(m)}\\}, x^{(i)} \\in \\mathbb{R}^n$, with mean 0 and shape of $n\\ \\times m$ size, ($m$ = samples, $n$ = features) that possess the data covariance matrix\n",
    "\n",
    "$$S = \\frac{1}{m}\\sum\\limits_{i=1}^{m} x^{(i)} x^{(i)\\top}$$\n",
    "\n",
    "or \n",
    "\n",
    "$$S = \\frac{1}{m}XX^\\top $$\n",
    "\n",
    "\n",
    "Furthermore, we assume there exists a low dimensional compressed dimension\n",
    "\n",
    "$$z^{(i)} = B^\\top x^{(i)} \\in \\mathbb{R}^{n'}$$\n",
    "\n",
    "of $x^{(i)}$, where we define the projection matrix\n",
    "\n",
    "$$B := [b_1, \\cdots, b_{n'}] \\in \\mathbb{R}^{n \\ \\times \\ n'}$$\n",
    "\n",
    "We assume that the columns of $B$ are orthonormal so that $b_i^\\top b_j = 0$ iff $i \\neq j$ and $b_i^\\top b_i = 1$. We seek an $n'$-dimensional subspace $U \\subseteq \\mathbb{R}^{n}, \\dim(U) = n' < n$ onto which we project the data.  We denote the projected data by $\\tilde{x}^{(i)} \\in U$ and their coordinates (with respect to the basis vectors $b_1, \\cdots, b_{n'}$ of $U$) by $z^{(i)}$.  Our aim is to find projections $\\tilde{x}^{(i)} \\in \\mathbb{R}^{n'}$ so that they are as similar to the original data $x^{(i)}$ and minimize the loss due to compression.\n",
    "\n",
    "**Maximum Variance**\n",
    "\n",
    "PCA is a dimensionality reduction algorithm that maximizes the variance in the low-dimensional representation of the data to retain as much information as possible.  Our aim is to find a matrix $B$ that retains a smuch as possible when compressing data by projecting it on the subspace spanned by the columns $b_1, \\cdots, b_{n'}$ of $B$\n",
    "\n",
    "For the data covariance matrix, we assumed centered data.  We can make this assumpotion without loss of generality: Let us assume $\\mu$ is the mean of the data.  Using the properties of the variance, \n",
    "\n",
    "$$\\mathbb{V}_x \\pm c = \\mathbb{V}_x$$\n",
    "\n",
    "where $c$ is constant; we obtain\n",
    "\n",
    "$$\\mathbb{V}_z[z] = \\mathbb{V}_x[B^\\top (x - \\mu)] = \\mathbb{V}_x[B^\\top x - B^\\top \\mu)] = \\mathbb{V}_x[B^\\top x]$$\n",
    "\n",
    "That is, the variance of the low-dimensional code does not depend on the mean of the data.  Therefore, we assume without loss of generality that the data has mean 0.  This step is actually optional but will make our math easier later on, especially when we calculate the covariance matrix.\n",
    "\n",
    "We use sequential approach to maximize the variance of the low-dimensional code.  We start by seeking a single vector $b_1 \\in \\mathbb{R}^{n}$ that maximizes the variance of the projected data, i.e., we aim to maximize the variance of the first coordinate $z^{(1)}$ of $z \\in \\mathbb{R}^{n'}$\n",
    "so that\n",
    "\n",
    "$$V_1 := \\mathbb{V}[z^{(1)}] = \\frac{1}{m}\\sum\\limits_{i=1}^{m}\\big(z^{(i)}_1\\big)^2 \\tag{A}$$\n",
    "\n",
    "is maximized.  Note that the first component of $z^{(i)}$ is given by\n",
    "\n",
    "$$z^{(i)}_1 = b_1^\\top x^{(i)} \\tag{B}$$\n",
    "\n",
    "i.e., it is the coordinate of the orthogonal projection of $x^{(i)}$ onto the one-dimensional subspace spanned by $b_1$.  We subsitute (B) into (A) yields:\n",
    "\n",
    "$$V_1 = \\frac{1}{m}\\sum\\limits_{i=1}^{m}\\big( b_1^\\top x^{(i)}\\big)^2 = \\frac{1}{m}\\sum\\limits_{i=1}^{m}b_1^\\top x^{(i)}x^{(i)\\top}b_1 \\tag{C}$$\n",
    "\n",
    "$$ =b^\\top_1\\big(\\frac{1}{m}\\sum\\limits_{i=1}^{m}x^{(i)}x^{(i)\\top}\\big)b_1 = b_1^\\top Sb_1 $$\n",
    "\n",
    "where $S$ is the data covariance matrix defined earlier.  Note that in (C), we have used the fact that the dot product of two vectors is symmetric, i.e., $b_1^\\top x^{(i)} = x^{(i)\\top}b_1$.\n",
    "\n",
    "Notice that arbitrarily increasing the magnitude of the vector $b_1$ increases $V_1$, that is, a vector $b_1$ that is two times longer can result in $V_1$ that is potentially four times larger. Therefore, we restrict all solutions to $\\lVert b_1\\rVert^2 = 1$, which results in a constrained optimization problem in which we seek the direction along which the data varies most.\n",
    "\n",
    "This can be written into the constrained optimization problem:\n",
    "\n",
    "$$\n",
    "\\max_{b_1} b_1^\\top Sb_1\n",
    "$$\n",
    "\n",
    "$$\n",
    "\\text{subject to} \\ \\lVert b_1\\rVert^2 = 1\n",
    "$$\n",
    "\n",
    "To solve this, as usual, we use Lagrangian $\\mathscr{L}$\n",
    "\n",
    "$$\\mathscr{L}(b_1, \\beta) = b_1^\\top Sb_1 + \\beta_1(1 - b^\\top_1b_1)$$\n",
    "\n",
    "The partial derivatives of $\\mathscr{L}$ with respect to $b_1$ and $\\beta_1$ are\n",
    "\n",
    "$$\\frac{\\partial \\mathscr{L}}{\\partial b_1} = 2b_1^\\top S - 2\\beta_1b_1^\\top$$\n",
    "\n",
    "$$\\frac{\\partial \\mathscr{L}}{\\partial \\beta_1} = 1 - b_1^\\top b_1 $$\n",
    "\n",
    "Setting these partial derivatives to 0 gives us the relations\n",
    "\n",
    "$$Sb_1 = \\beta_1b_1 \\tag{D}$$\n",
    "$$b^\\top_1b_1 = 1$$\n",
    "\n",
    "Looking at this, we see that $b_1$ is an eigenvector of the data covariance matrix $S$, and the Lagrange multiplier $\\beta_1$ plays the role of the corresponding eigenvalue.\n",
    "\n",
    "Following this eigenvector property (D), we can rewrite our variance objective in (C) as\n",
    "\n",
    "$$V_1 = b^\\top_1Sb_1 = \\beta_1b^\\top_1b_1 = \\beta_1$$\n",
    "\n",
    "i.e., the variance of the data projected onto a one-dimensional subspace equals the eigenvalue that is associated with the basis vector $b_1$ that spans this subspace.  Therefore, to maximize the variance of the low-dimensional code, we choose the basis vector associated with the largest eigenvalue of the data covariance matrix. This eigenvector is called the first *principal component*. We can determine the effect/contribution of the principal component $b_1$ in the original data space by mapping the coordinate $z^{(i)}_1$ back into data space, which gives us the projected data point\n",
    "\n",
    "$$\\tilde{x}^{(i)} = b_1z^{(i)}_1 = b_1b_1^\\top x^{(i)} \\in \\mathbb{R}^n$$\n",
    "\n",
    "in the original data space.  Although $\\tilde{x}^{(i)}$ is a $n$-dimensional vector, it only requires a single coordinate $z^{(i)}_1$ to represent it with respect to the basis vector $b_1 \\in \\mathbb{R}^n$\n",
    "\n",
    "When we consider $n'$-dimensional subspace, for the $j$th principal component where $j = 1, \\cdots, n'$, the variance is\n",
    "\n",
    "$$V_j = b^\\top_jSb_j = \\beta_jb^\\top_jb_j = \\beta_j$$\n",
    "\n",
    "This means that the variance of the data, when projected onto an $n'$-dimensional subspace, equals the sum of the eigenvalues that are associated with the corresponding eigenvectors of the data covariance matrix.\n",
    "\n",
    "Overall, to find an $n'$-dimensional subspace of $\\mathbb{R}^D$ that retains as much information as possible, PCA tells us to choose the columns of the matrix B as the $n'$ eigenvectors of the data covariance matrix $S$ that are associated with the $n'$ largest eigenvalues. The maximum amount of variance PCA can capture with the first $n'$ principal components is\n",
    "\n",
    "$$V_{n'} = \\sum\\limits_{j=1}^{n'} \\beta_j$$\n",
    "\n",
    "where the $\\beta_j$ are the $n'$ largest eigenvalues of the data covariance matrix $S$.  Consequently, the variance lost by data compression via PCA is\n",
    "\n",
    "$$J_{n'} := \\sum\\limits_{j=n'+1}^{n} \\beta_j = V_n - V_{n'}$$\n",
    "\n",
    "Instead of these absolute quantities, it is more useful to define the relative variance ratio as\n",
    "\n",
    "$$J_{n'} = 1 - \\frac{V_{n'}}{V_n} $$\n",
    "\n",
    "**Singular Value Decomposition (SVD)**\n",
    "\n",
    "In the previous sections, we obtained the basis of the principal subspace as the eigenvectors that are associated with the largest eigenvalues of the data covariance matrix\n",
    "\n",
    "$$S = \\frac{1}{m}\\sum\\limits_{i=1}^mx^{(i)}x^{(i)\\top} = \\frac{1}{m}XX^T$$\n",
    "\n",
    "$$X = [x^{(1)}, \\cdots, x^{(m)}] \\in \\mathbb{R}^{n \\ \\times m}$$\n",
    "\n",
    "Note that our X is a transpose of the typical data matrix.  To get the eigenvalues and eigenvectors of $S$, we can perform singular value decomposition as follows, where SVD of $X$ is given by\n",
    "\n",
    "$$\\underbrace{X}_{n \\ \\times \\ m} = \\underbrace{U}_{n \\ \\times \\ n} \\ \\ \\underbrace{\\Sigma}_{n \\ \\times \\ m} \\ \\ \\underbrace{V^\\top}_{m \\ \\times \\ m}$$\n",
    "\n",
    "where $U$ and $V$ are orthogonal matrices and $\\Sigma$ is a matrix whose only nonzero entries are the singular values $\\sigma_{ii} \\geq 0$\n",
    "\n",
    "It then follows that\n",
    "\n",
    "$$S = \\frac{1}{m}XX^\\top = \\frac{1}{m}U\\Sigma \\underbrace{V^\\top V}_I \\Sigma^\\top U^\\top = \\frac{1}{m}U\\Sigma\\Sigma^\\top U^\\top$$\n",
    "\n",
    "Following \n",
    "\n",
    "$$S = \\frac{1}{m}XX^\\top U = \\frac{1}{m}U\\Sigma\\Sigma^\\top$$\n",
    "\n",
    "We get that the columns of $U$ are the eigenvectors of $XX^\\top$ and therefore $S$.  Furthermore, the eigenvalues $\\beta_n$ of $S$ are related to the singular values of $X$ via\n",
    "\n",
    "$$\\beta_n = \\frac{\\sigma_n^2}{m}$$\n",
    "\n",
    "This relationship between the eigenvalues of $S$ and the singular values of $X$ provides the connection between the maximum variance view and the singular value decomposition."
   ]
  },
  {
   "cell_type": "markdown",
   "metadata": {},
   "source": [
    "### Scratch"
   ]
  },
  {
   "cell_type": "code",
   "execution_count": 2,
   "metadata": {},
   "outputs": [
    {
     "name": "stdout",
     "output_type": "stream",
     "text": [
      "(200, 2)\n"
     ]
    },
    {
     "data": {
      "image/png": "[encoded data removed]",
      "text/plain": [
       "<Figure size 432x288 with 1 Axes>"
      ]
     },
     "metadata": {
      "needs_background": "light"
     },
     "output_type": "display_data"
    }
   ],
   "source": [
    "import numpy as np\n",
    "import matplotlib.pyplot as plt\n",
    "\n",
    "rng = np.random.RandomState(1)\n",
    "X = np.dot(rng.rand(2, 2), rng.randn(2, 200)).T\n",
    "plt.scatter(X[:, 0], X[:, 1])\n",
    "plt.axis('equal')\n",
    "\n",
    "print(X.shape)"
   ]
  },
  {
   "cell_type": "code",
   "execution_count": 3,
   "metadata": {},
   "outputs": [
    {
     "name": "stdout",
     "output_type": "stream",
     "text": [
      "1\n",
      "Eigenvalue shape:  (2,)\n",
      "Eigenvectors shape:  (2, 2)\n",
      "eigen:  [0.7625315]\n",
      "sum:  0.7625315008826117\n",
      "np.cumsum:  [0.7625315]\n",
      "eigenvector shape:  (2, 1)\n",
      "Variance explained_ratio:  [1.]\n",
      "Eigenvalues:  [0.7625315]\n",
      "Eigenvectors (column-wise):  [[-0.94446029]\n",
      " [-0.32862557]]\n",
      "Mean:  [ 0.03351168 -0.00408072]\n",
      "Old X shape:  (200, 2)\n",
      "Projected X shape:  (200, 1)\n"
     ]
    },
    {
     "ename": "IndexError",
     "evalue": "index 1 is out of bounds for axis 1 with size 1",
     "output_type": "error",
     "traceback": [
      "\u001b[0;31m---------------------------------------------------------------------------\u001b[0m",
      "\u001b[0;31mIndexError\u001b[0m                                Traceback (most recent call last)",
      "\u001b[0;32m<ipython-input-3-b58f9e5d6da8>\u001b[0m in \u001b[0;36m<module>\u001b[0;34m\u001b[0m\n\u001b[1;32m     82\u001b[0m \u001b[0;31m#you can see that lots of data in the second components is gone\u001b[0m\u001b[0;34m\u001b[0m\u001b[0;34m\u001b[0m\u001b[0;34m\u001b[0m\u001b[0m\n\u001b[1;32m     83\u001b[0m \u001b[0mplt\u001b[0m\u001b[0;34m.\u001b[0m\u001b[0mfigure\u001b[0m\u001b[0;34m(\u001b[0m\u001b[0;34m)\u001b[0m\u001b[0;34m\u001b[0m\u001b[0;34m\u001b[0m\u001b[0m\n\u001b[0;32m---> 84\u001b[0;31m \u001b[0mplt\u001b[0m\u001b[0;34m.\u001b[0m\u001b[0mscatter\u001b[0m\u001b[0;34m(\u001b[0m\u001b[0mprojected_X\u001b[0m\u001b[0;34m[\u001b[0m\u001b[0;34m:\u001b[0m\u001b[0;34m,\u001b[0m \u001b[0;36m0\u001b[0m\u001b[0;34m]\u001b[0m\u001b[0;34m,\u001b[0m \u001b[0mprojected_X\u001b[0m\u001b[0;34m[\u001b[0m\u001b[0;34m:\u001b[0m\u001b[0;34m,\u001b[0m \u001b[0;36m1\u001b[0m\u001b[0;34m]\u001b[0m\u001b[0;34m)\u001b[0m\u001b[0;34m\u001b[0m\u001b[0;34m\u001b[0m\u001b[0m\n\u001b[0m\u001b[1;32m     85\u001b[0m \u001b[0mplt\u001b[0m\u001b[0;34m.\u001b[0m\u001b[0mxlabel\u001b[0m\u001b[0;34m(\u001b[0m\u001b[0;34m\"First component\"\u001b[0m\u001b[0;34m)\u001b[0m\u001b[0;34m\u001b[0m\u001b[0;34m\u001b[0m\u001b[0m\n\u001b[1;32m     86\u001b[0m \u001b[0mplt\u001b[0m\u001b[0;34m.\u001b[0m\u001b[0mylabel\u001b[0m\u001b[0;34m(\u001b[0m\u001b[0;34m\"Second component\"\u001b[0m\u001b[0;34m)\u001b[0m\u001b[0;34m\u001b[0m\u001b[0;34m\u001b[0m\u001b[0m\n",
      "\u001b[0;31mIndexError\u001b[0m: index 1 is out of bounds for axis 1 with size 1"
     ]
    },
    {
     "data": {
      "image/png": "[encoded data removed]",
      "text/plain": [
       "<Figure size 432x288 with 1 Axes>"
      ]
     },
     "metadata": {
      "needs_background": "light"
     },
     "output_type": "display_data"
    },
    {
     "data": {
      "text/plain": [
       "<Figure size 432x288 with 0 Axes>"
      ]
     },
     "metadata": {},
     "output_type": "display_data"
    }
   ],
   "source": [
    "import numpy as np\n",
    "import matplotlib.pyplot as plt\n",
    "\n",
    "rng = np.random.RandomState(1)\n",
    "X = np.dot(rng.rand(2, 2), rng.randn(2, 200)).T\n",
    "\n",
    "def PCA(X, n_components=1):\n",
    "    #1. center the data (center the data, not features, thus axis=0)\n",
    "    mean = np.mean(X, axis=0)\n",
    "    X = (X - mean)\n",
    "    \n",
    "    print(n_components)\n",
    "\n",
    "    #2. find covariance\n",
    "    #the reason we can X.T @ X right away since we already \n",
    "    #center the data)\n",
    "    #did not really use this variable\n",
    "    cov = (X.T @ X) / (X.shape[0] - 1)\n",
    "    \n",
    "    #3. Then simply find the eigenvalues using np.linalg.eig \n",
    "    #by inputting the covariance matrix\n",
    "    eigenvalues, eigenvectors = np.linalg.eigh(cov)\n",
    "    \n",
    "    print(\"Eigenvalue shape: \", eigenvalues.shape) #(n, )\n",
    "    print(\"Eigenvectors shape: \", eigenvectors.shape) #(n, n)\n",
    "\n",
    "    #4. Your n'th principal components will be your first n'th eigenvectors with highest eigenvalues\n",
    "    ix = np.argsort(eigenvalues)[::-1] #sort them from biggest to smallest thus -1\n",
    "\n",
    "    if(n_components > eigenvalues.shape[0]):\n",
    "        raise Exception(\"You cannot have n_components more than number of features!\")\n",
    "    else:\n",
    "        eigenvalues, eigenvectors = eigenvalues[ix], eigenvectors[:, ix]\n",
    "        #get the first nth components\n",
    "        eigenvalues, eigenvectors = eigenvalues[:n_components], eigenvectors[:,:n_components]\n",
    "\n",
    "    print(\"eigen: \", eigenvalues)\n",
    "    print(\"sum: \", np.sum(eigenvalues))\n",
    "    print(\"np.cumsum: \", np.cumsum(eigenvalues))\n",
    "    print(\"eigenvector shape: \", eigenvectors.shape)\n",
    "    #define how much variance is gained after n' component\n",
    "    variance_explained_ratio = np.cumsum(eigenvalues)/np.sum(eigenvalues)\n",
    "\n",
    "    #projected new vector\n",
    "    #during projection, eigenvectors mush be arranged in columns\n",
    "    projected_X = X @ eigenvectors\n",
    "    \n",
    "    #print all info\n",
    "    print(\"Variance explained_ratio: \", variance_explained_ratio) #first component got 97%\n",
    "    print(\"Eigenvalues: \", eigenvalues)\n",
    "    print(\"Eigenvectors (column-wise): \", eigenvectors)\n",
    "    print(\"Mean: \", mean)\n",
    "    print(\"Old X shape: \", X.shape)\n",
    "    print(\"Projected X shape: \", projected_X.shape)\n",
    "    \n",
    "    #return only n_components eigenvalues and vectors\n",
    "    return eigenvalues, eigenvectors, mean, projected_X\n",
    "\n",
    "#copy code from the lectures to plot the eigen values and vectors\n",
    "def draw_vector(v0, v1, ax=None):\n",
    "    ax = ax or plt.gca()  #get current axis\n",
    "    arrowprops=dict(arrowstyle='->',\n",
    "                    linewidth=2,\n",
    "                    shrinkA=0, shrinkB=0)\n",
    "    ax.annotate('', v1, v0, arrowprops=arrowprops)\n",
    "\n",
    "#main code\n",
    "eigenvalues, eigenvectors, mean, projected_X = PCA(X, n_components=1)\n",
    "\n",
    "#looking at the original graph with the loadings\n",
    "plt.scatter(X[:, 0], X[:, 1], alpha=0.2)\n",
    "\n",
    "#.T so each row is eigenvector, so we can loop\n",
    "for length, vector in zip(eigenvalues, eigenvectors.T):\n",
    "    #loadings = eigenvector * (unit size) * sqrt (eigenvalue)\n",
    "    v = vector * 3 *  np.sqrt(length)\n",
    "    draw_vector(mean, mean + v)\n",
    "plt.axis('equal')\n",
    "plt.title('PCA with original data')\n",
    "\n",
    "#projection\n",
    "#you can see that lots of data in the second components is gone\n",
    "plt.figure()\n",
    "plt.scatter(projected_X[:, 0], projected_X[:, 1])\n",
    "plt.xlabel(\"First component\")\n",
    "plt.ylabel(\"Second component\")\n",
    "plt.title(\"Projected X\")\n",
    "plt.axis('equal')"
   ]
  },
  {
   "cell_type": "markdown",
   "metadata": {},
   "source": [
    "### Sklearn\n",
    "\n",
    "Principal component analysis is a fast and flexible unsupervised method for dimensionality reduction in data.\n",
    "\n",
    "Consider the following 200 points:"
   ]
  },
  {
   "cell_type": "code",
   "execution_count": null,
   "metadata": {},
   "outputs": [],
   "source": [
    "import numpy as np\n",
    "import matplotlib.pyplot as plt\n",
    "\n",
    "rng = np.random.RandomState(1)\n",
    "X = np.dot(rng.rand(2, 2), rng.randn(2, 200)).T\n",
    "plt.scatter(X[:, 0], X[:, 1])\n",
    "plt.axis('equal');\n"
   ]
  },
  {
   "cell_type": "markdown",
   "metadata": {},
   "source": [
    "By eye, it is clear that there is a nearly linear relationship between the x and y variables.\n",
    "This is reminiscent of the linear regression data we explored in Linear Regression, but the problem setting here is slightly different: rather than attempting to *predict* the y values from the x values, the unsupervised learning problem attempts to learn about the *relationship* between the x and y values.\n",
    "\n",
    "In principal component analysis, this relationship is quantified by finding a list of the *principal axes* in the data, and using those axes to describe the dataset.\n",
    "Using Scikit-Learn's ``PCA`` estimator, we can compute this as follows:"
   ]
  },
  {
   "cell_type": "code",
   "execution_count": null,
   "metadata": {},
   "outputs": [],
   "source": [
    "from sklearn.decomposition import PCA\n",
    "pca = PCA(n_components=2)\n",
    "pca.fit(X)"
   ]
  },
  {
   "cell_type": "markdown",
   "metadata": {},
   "source": [
    "*The* fit learns some quantities from the data, most importantly the \"components\" and \"explained variance\":"
   ]
  },
  {
   "cell_type": "code",
   "execution_count": null,
   "metadata": {},
   "outputs": [],
   "source": [
    "print(\"Eigenvectors: \", pca.components_)\n",
    "print(\"Eigenvalues: \", pca.explained_variance_)\n",
    "print(\"Mean: \", pca.mean_) #center point"
   ]
  },
  {
   "cell_type": "markdown",
   "metadata": {},
   "source": [
    "To see what these numbers mean, let's visualize them as vectors over the input data, using the \"components\" to define the direction of the vector, and the \"explained variance\" to define the squared-length of the vector:"
   ]
  },
  {
   "cell_type": "code",
   "execution_count": null,
   "metadata": {},
   "outputs": [],
   "source": [
    "def draw_vector(v0, v1, ax=None):\n",
    "    ax = ax or plt.gca()  #get current axis\n",
    "    arrowprops=dict(arrowstyle='->',\n",
    "                    linewidth=2,\n",
    "                    shrinkA=0, shrinkB=0)\n",
    "    ax.annotate('', v1, v0, arrowprops=arrowprops)\n",
    "\n",
    "# plot data\n",
    "plt.scatter(X[:, 0], X[:, 1], alpha=0.2)\n",
    "for length, vector in zip(pca.explained_variance_, pca.components_):\n",
    "    #loadings = eigenvector * (unit size) * sqrt (eigenvalue)\n",
    "    v = vector * 3 *  np.sqrt(length)\n",
    "    draw_vector(pca.mean_, pca.mean_ + v)\n",
    "plt.axis('equal');"
   ]
  },
  {
   "cell_type": "markdown",
   "metadata": {},
   "source": [
    "These vectors represent the *principal axes* of the data, and the length of the vector is an indication of how \"important\" that axis is in describing the distribution of the data—more precisely, it is a measure of the variance of the data when projected onto that axis.\n",
    "The projection of each data point onto the principal axes are the \"principal components\" of the data."
   ]
  },
  {
   "cell_type": "markdown",
   "metadata": {},
   "source": [
    "#### PCA as dimensionality reduction\n",
    "\n",
    "Using PCA for dimensionality reduction involves zeroing out one or more of the smallest principal components, resulting in a lower-dimensional projection of the data that preserves the maximal data variance.\n",
    "\n",
    "Here is an example of using PCA as a dimensionality reduction transform:"
   ]
  },
  {
   "cell_type": "code",
   "execution_count": null,
   "metadata": {},
   "outputs": [],
   "source": [
    "pca = PCA(n_components=1)  #you want to transform to 1D hence n_components =1\n",
    "pca.fit(X)\n",
    "X_pca = pca.transform(X)\n",
    "print(\"original shape:   \", X.shape)\n",
    "print(\"transformed shape:\", X_pca.shape)"
   ]
  },
  {
   "cell_type": "markdown",
   "metadata": {},
   "source": [
    "The transformed data has been reduced to a single dimension.\n",
    "To understand the effect of this dimensionality reduction, we can perform the inverse transform of this reduced data and plot it along with the original data:"
   ]
  },
  {
   "cell_type": "code",
   "execution_count": null,
   "metadata": {},
   "outputs": [],
   "source": [
    "y = np.zeros(X_pca.shape[0])\n",
    "plt.scatter(X_pca[:, 0], y, alpha=0.3)  #pca data\n",
    "\n",
    "X_new = pca.inverse_transform(X_pca)  #inverse transform back\n",
    "plt.scatter(X[:, 0], X[:, 1], alpha=0.2)  #original data\n",
    "plt.scatter(X_new[:, 0], X_new[:, 1], alpha=0.8)\n",
    "plt.axis('equal');"
   ]
  },
  {
   "cell_type": "markdown",
   "metadata": {},
   "source": [
    "The light points are the original data, while the dark points are the projected version.\n",
    "This makes clear what a PCA dimensionality reduction means: the information along the least important principal axis or axes is removed, leaving only the component(s) of the data with the highest variance.\n",
    "The fraction of variance that is cut out (proportional to the spread of points about the line formed in this figure) is roughly a measure of how much \"information\" is discarded in this reduction of dimensionality.\n",
    "\n",
    "This reduced-dimension dataset is in some senses \"good enough\" to encode the most important relationships between the points: despite reducing the dimension of the data by 50%, the overall relationship between the data points are mostly preserved."
   ]
  },
  {
   "cell_type": "markdown",
   "metadata": {},
   "source": [
    "#### Case Study: PCA on Hand-written digits\n",
    "\n",
    "The usefulness of the dimensionality reduction may not be entirely apparent in only two dimensions, but becomes much more clear when looking at high-dimensional data.\n",
    "\n",
    "We start by loading the data:"
   ]
  },
  {
   "cell_type": "code",
   "execution_count": null,
   "metadata": {},
   "outputs": [],
   "source": [
    "from sklearn.datasets import load_digits\n",
    "digits = load_digits()\n",
    "digits.data.shape"
   ]
  },
  {
   "cell_type": "markdown",
   "metadata": {},
   "source": [
    "**Recall** that the data consists of 8×8 pixel images, meaning that they are 64-dimensional.\n",
    "To gain some intuition into the relationships between these points, we can use PCA to project them to a more manageable number of dimensions, say two:"
   ]
  },
  {
   "cell_type": "code",
   "execution_count": null,
   "metadata": {},
   "outputs": [],
   "source": [
    "pca = PCA(2)  # project from 64 to 2 dimensions\n",
    "projected = pca.fit_transform(digits.data)\n",
    "print(digits.data.shape)\n",
    "print(projected.shape)"
   ]
  },
  {
   "cell_type": "code",
   "execution_count": null,
   "metadata": {},
   "outputs": [],
   "source": [
    "plt.scatter(projected[:, 0], projected[:, 1],\n",
    "            c=digits.target, alpha=0.5)\n",
    "plt.xlabel('component 1')\n",
    "plt.ylabel('component 2')\n",
    "plt.colorbar();"
   ]
  },
  {
   "cell_type": "markdown",
   "metadata": {},
   "source": [
    "#### What do the components mean?\n",
    "\n",
    "We can go a bit further here, and begin to ask what the reduced dimensions *mean*.\n",
    "This meaning can be understood in terms of combinations of basis vectors.\n",
    "For example, each image in the training set is defined by a collection of 64 pixel values, which we will call the vector $x$:\n",
    "\n",
    "$$\n",
    "x = [x_1, x_2, x_3 \\cdots x_{64}]\n",
    "$$\n",
    "\n",
    "One way we can think about this is in terms of a pixel basis.\n",
    "That is, to construct the image, we multiply each element of the vector by the pixel it describes, and then add the results together to build the image:\n",
    "\n",
    "$$\n",
    "{\\rm image}(x) = x_1 \\cdot{\\rm (pixel~1)} + x_2 \\cdot{\\rm (pixel~2)} + x_3 \\cdot{\\rm (pixel~3)} \\cdots x_{64} \\cdot{\\rm (pixel~64)}\n",
    "$$\n",
    "\n",
    "One way we might imagine reducing the dimension of this data is to zero out all but a few of these basis vectors.\n",
    "For example, if we use only the first eight pixels, we get an eight-dimensional projection of the data, but it is not very reflective of the whole image: we've thrown out nearly 90% of the pixels!"
   ]
  },
  {
   "cell_type": "markdown",
   "metadata": {},
   "source": [
    "![](figures/05.09-digits-pixel-components.png)"
   ]
  },
  {
   "cell_type": "markdown",
   "metadata": {},
   "source": [
    "The upper row of panels shows the individual pixels, and the lower row shows the cumulative contribution of these pixels to the construction of the image.\n",
    "Using only eight of the pixel-basis components, we can only construct a small portion of the 64-pixel image.\n",
    "Were we to continue this sequence and use all 64 pixels, we would recover the original image.\n",
    "\n",
    "But the pixel-wise representation is not the only choice of basis. We can also use other basis functions, which each contain some pre-defined contribution from each pixel, and write something like\n",
    "\n",
    "$$\n",
    "image(x) = {\\rm mean} + x_1 \\cdot{\\rm (basis~1)} + x_2 \\cdot{\\rm (basis~2)} + x_3 \\cdot{\\rm (basis~3)} \\cdots\n",
    "$$\n",
    "\n",
    "PCA can be thought of as a process of choosing optimal basis functions, such that adding together just the first few of them is enough to suitably reconstruct the bulk of the elements in the dataset.\n",
    "The principal components, which act as the low-dimensional representation of our data, are simply the coefficients that multiply each of the elements in this series.\n",
    "This figure shows a similar depiction of reconstructing this digit using the mean plus the first eight PCA basis functions:\n",
    "\n",
    "![](figures/05.09-digits-pca-components.png)\n",
    "\n",
    "Unlike the pixel basis, the PCA basis allows us to recover the salient features of the input image with just a mean plus eight components!\n",
    "The amount of each pixel in each component is the corollary of the orientation of the vector in our two-dimensional example.\n",
    "This is the sense in which PCA provides a low-dimensional representation of the data: it discovers a set of basis functions that are more efficient than the native pixel-basis of the input data."
   ]
  },
  {
   "cell_type": "markdown",
   "metadata": {},
   "source": [
    "#### How many components?\n",
    "\n",
    "A vital part of using PCA in practice is the ability to estimate how many components are needed to describe the data.\n",
    "This can be determined by looking at the cumulative *explained variance ratio* as a function of the number of components:\n"
   ]
  },
  {
   "cell_type": "code",
   "execution_count": null,
   "metadata": {},
   "outputs": [],
   "source": [
    "pca = PCA().fit(digits.data)\n",
    "plt.plot(np.cumsum(pca.explained_variance_ratio_))\n",
    "plt.xlabel('number of components')\n",
    "plt.ylabel('cumulative explained variance');"
   ]
  },
  {
   "cell_type": "markdown",
   "metadata": {},
   "source": [
    "This curve quantifies how much of the total, 64-dimensional variance is contained within the first $N$ components.\n",
    "For example, we see that with the digits the first 10 components contain approximately 75% of the variance, while you need around 50 components to describe close to 100% of the variance.\n",
    "\n",
    "Here we see that our two-dimensional projection loses a lot of information (as measured by the explained variance) and that we'd need about 20 components to retain 90% of the variance.  Looking at this plot for a high-dimensional dataset can help you understand the level of redundancy present in multiple observations."
   ]
  },
  {
   "cell_type": "markdown",
   "metadata": {},
   "source": [
    "### When to / not to use PCA?\n",
    "\n",
    "Because of the versatility and interpretability of PCA, it has been shown to be effective in a wide variety of contexts and disciplines.\n",
    "Given any high-dimensional dataset, we tend to start with PCA in order to visualize the relationship between points (as we did with the digits), to understand the main variance in the data (as we did with the eigenfaces), and to understand the intrinsic dimensionality (by plotting the explained variance ratio).\n",
    "Certainly PCA is not useful for every high-dimensional dataset, but it offers a straightforward and efficient path to gaining insight into high-dimensional data.\n",
    "\n",
    "PCA's **two main weakness** is that it tends to be highly affected by outliers in the data, and its limitation to linear data.  For this reason, many robust variants of PCA have been developed, many of which act to iteratively discard data points that are poorly described by the initial components.\n",
    "Scikit-Learn contains a couple interesting variants on PCA, including ``IncrementalPCA`` and ``SparsePCA``, both also in the ``sklearn.decomposition`` submodule.\n",
    "``IncrementalPCA`` uses a mini-batch method to approximate principal components in very high-dimensional data, while ``SparsePCA`` introduces a regularization term that serves to enforce sparsity of the components and often gives a more interpretable model. ``KernelPCA`` is also useful as a variants of PCA for non-linear dimensionality reduction, through the use of kernels (similar to how svm transform the space)  "
   ]
  },
  {
   "cell_type": "markdown",
   "metadata": {},
   "source": [
    "While PCA is flexible, fast, and easily interpretable, it does not perform well in non-linear situation.  Of course, we got kernel PCA in which it first transform the data space to another dimension in which it can find a linearly separable hyperplane.  \n",
    "\n",
    "Here we gonna describe another class of methods known as manifold learning.  Manifold means a surface of any shape, it can be a curve, a folded sheet, etc.  Thus manifold learning is the idea of understanding the \"shape\" of the data and thus using this information fo cluster the data.  You can imagine paper twirling into very weird shape but it is actually just a 2d paper.  Similarly, Manifold Learning words towards extracting the low-dimensional manifold information that can be used to describe the high dimensional data.\n",
    "\n",
    "As you may have guess, manifold learning has many things to do with distances between neighbors"
   ]
  },
  {
   "cell_type": "markdown",
   "metadata": {},
   "source": [
    "![](figures/swissroll.png)"
   ]
  },
  {
   "cell_type": "markdown",
   "metadata": {},
   "source": [
    "#### Manifold Learning: Swiss roll\n",
    "\n",
    "As an example of using manifold learning for visualization, let's take a look at the swiss roll dataset which is a typical dataset to look at for manifold learning."
   ]
  },
  {
   "cell_type": "code",
   "execution_count": null,
   "metadata": {},
   "outputs": [],
   "source": [
    "from sklearn import manifold, datasets\n",
    "\n",
    "fig = plt.figure(figsize=(5, 5))\n",
    "ax = fig.add_subplot(111, projection='3d')\n",
    "\n",
    "#elevation and #azimuth\n",
    "ax.view_init(5, -80)\n",
    "\n",
    "X, color = datasets.make_swiss_roll(n_samples=1500, noise=0.3)\n",
    "\n",
    "ax.scatter(X[:, 0], X[:, 1], X[:, 2], c=color, cmap=\"rainbow\",\n",
    "          edgecolor='k')"
   ]
  },
  {
   "cell_type": "markdown",
   "metadata": {},
   "source": [
    "Looking at data like this, we can see that the particular choice of *x* and *y* values of the dataset are not the most fundamental description of the data: we can scale, shrink, or rotate the data, and the swiss roll will still be apparent.\n",
    "\n",
    "This tells us that the *x* and *y* values are not necessarily fundamental to the relationships in the data.\n",
    "What *is* fundamental, in this case, is the *distance* between each point and the other points in the dataset.\n",
    "A common way to represent this is to use a distance matrix: for $N$ points, we construct an $N \\times N$ array such that entry $(i, j)$ contains the distance between point $i$ and point $j$.\n",
    "Let's use Scikit-Learn's efficient ``pairwise_distances`` function to do this for our original data:"
   ]
  },
  {
   "cell_type": "code",
   "execution_count": null,
   "metadata": {},
   "outputs": [],
   "source": [
    "from sklearn.metrics import pairwise_distances\n",
    "D = pairwise_distances(X)\n",
    "print(D.shape)\n",
    "print(\"Distance between first point and others: \", D[0].shape)"
   ]
  },
  {
   "cell_type": "markdown",
   "metadata": {},
   "source": [
    "What is interesting is that if we rotate our swissroll, D remains the same!"
   ]
  },
  {
   "cell_type": "code",
   "execution_count": null,
   "metadata": {},
   "outputs": [],
   "source": [
    "#https://mathworld.wolfram.com/RotationMatrix.html\n",
    "#matrix rotation can be a bit confusing\n",
    "#if we want to rotate around x, x is kept the same\n",
    "def x_rotation(vector,theta):\n",
    "    \"\"\"Rotates 3-D vector around x-axis\"\"\"\n",
    "    R = np.array([[1,0,0],[0,np.cos(theta),-np.sin(theta)],[0, np.sin(theta), np.cos(theta)]])\n",
    "    return np.dot(vector, R)\n",
    "\n",
    "def y_rotation(vector,theta):\n",
    "    \"\"\"Rotates 3-D vector around y-axis\"\"\"\n",
    "    R = np.array([[np.cos(theta),0,np.sin(theta)],[0,1,0],[-np.sin(theta), 0, np.cos(theta)]])\n",
    "    return np.dot(vector, R)\n",
    "\n",
    "def z_rotation(vector,theta):\n",
    "    \"\"\"Rotates 3-D vector around z-axis\"\"\"\n",
    "    R = np.array([[np.cos(theta), -np.sin(theta),0],[np.sin(theta), np.cos(theta),0],[0,0,1]])\n",
    "    return np.dot(vector, R)\n",
    "\n",
    "X_rotate = x_rotation(X, 20)\n",
    "\n",
    "fig = plt.figure(figsize=(5, 5))\n",
    "ax = fig.add_subplot(111, projection='3d')\n",
    "ax.scatter(X_rotate[:, 0], X_rotate[:, 1], c=color, cmap=\"rainbow\",\n",
    "          edgecolor='k')\n"
   ]
  },
  {
   "cell_type": "code",
   "execution_count": null,
   "metadata": {},
   "outputs": [],
   "source": [
    "D2 = pairwise_distances(X_rotate)\n",
    "np.allclose(D, D2)"
   ]
  },
  {
   "cell_type": "markdown",
   "metadata": {},
   "source": [
    "This distance matrix gives us a representation of our data that is invariant to rotations and translations.  However, while computing this distance matrix from the (x, y) coordinates is straightforward, transforming the distances back into *x* and *y* coordinates is rather difficult.  \n",
    "\n",
    "Here, let's introduce the first manifold learning algorithm - the Multidimensional Scaling (MDS): given a distance matrix between points, it recovers a $D$-dimensional coordinate representation of the data.\n",
    "Let's see how it works for our distance matrix, using the ``precomputed`` dissimilarity to specify that we are passing a distance matrix:"
   ]
  },
  {
   "cell_type": "code",
   "execution_count": null,
   "metadata": {},
   "outputs": [],
   "source": [
    "from sklearn.manifold import MDS\n",
    "#dissimilarity='precomputed' since we already calculate the distance\n",
    "#if not, use euclidean\n",
    "model = MDS(n_components=3, dissimilarity='precomputed', random_state=1)\n",
    "out = model.fit_transform(D)\n",
    "\n",
    "fig = plt.figure(figsize=(5, 5))\n",
    "ax = fig.add_subplot(111, projection='3d')\n",
    "ax.scatter(out[:, 0], out[:, 1], out[:, 2], c=color, cmap=\"rainbow\",\n",
    "          edgecolor='k')"
   ]
  },
  {
   "cell_type": "markdown",
   "metadata": {},
   "source": [
    "We can now ask the ``MDS`` estimator to input this three-dimensional data, compute the distance matrix, and then determine the optimal two-dimensional embedding for this distance matrix.\n",
    "The result recovers a representation of the original data:"
   ]
  },
  {
   "cell_type": "code",
   "execution_count": null,
   "metadata": {},
   "outputs": [],
   "source": [
    "model = MDS(n_components=2, random_state=1)\n",
    "out2 = model.fit_transform(out)\n",
    "fig = plt.figure(figsize=(5, 5))\n",
    "plt.scatter(out[:, 0], out[:, 1], c=color, cmap=\"rainbow\",\n",
    "          edgecolor='k')"
   ]
  },
  {
   "cell_type": "markdown",
   "metadata": {},
   "source": [
    "This is essentially the goal of a manifold learning estimator: given high-dimensional embedded data, it seeks a low-dimensional representation of the data that preserves certain relationships within the data.\n",
    "In the case of MDS, the quantity preserved is the distance between every pair of points."
   ]
  },
  {
   "cell_type": "markdown",
   "metadata": {},
   "source": [
    "#### Nonlinear Embeddings: Where MDS Fails\n",
    "\n",
    "Our discussion thus far has considered *linear* embeddings, which essentially consist of rotations, translations, and scalings of data into higher-dimensional spaces.\n",
    "Where MDS breaks down is when the embedding is nonlinear—that is, when it goes beyond this simple set of operations.\n",
    "\n",
    "In non-linear embeddings, you may want to consider:\n",
    "\n",
    "- For toy problems such as the swiss roll we saw before, locally linear embedding (LLE) and its variants (especially *modified LLE*), perform very well. This is implemented in ``sklearn.manifold.LocallyLinearEmbedding``.\n",
    "- For high-dimensional data from real-world sources, LLE often produces poor results, and isometric mapping (IsoMap) seems to generally lead to more meaningful embeddings. This is implemented in ``sklearn.manifold.Isomap``\n",
    "- For data that is highly clustered, *t-distributed stochastic neighbor embedding* (t-SNE) seems to work very well, though can be very slow compared to other methods. This is implemented in ``sklearn.manifold.TSNE``."
   ]
  },
  {
   "cell_type": "markdown",
   "metadata": {},
   "source": [
    "#### LocallyLinearEmbedding\n",
    "\n",
    "Provided there is sufficient data, we expect each data point and its neighbors to lie on or close to a locally linear patch.\n",
    "\n",
    "Comprises of the following steps:\n",
    "1. Find the k nearest neighbors\n",
    "2. Do a weighted aggregation of the neighbours of each point to construct a new point, in which the cost function is to minimize the distance to neighbor points\n",
    "\n",
    "Disadvantages:\n",
    "1. Scale poorly to large datasets "
   ]
  },
  {
   "cell_type": "code",
   "execution_count": null,
   "metadata": {},
   "outputs": [],
   "source": [
    "from sklearn.manifold import LocallyLinearEmbedding\n",
    "model = LocallyLinearEmbedding(n_neighbors=500, n_components=2)\n",
    "out = model.fit_transform(X)\n",
    "\n",
    "fig, ax = plt.subplots()\n",
    "ax.scatter(out[:, 0], out[:, 1], c=color, cmap=\"rainbow\",\n",
    "          edgecolor='k')"
   ]
  },
  {
   "cell_type": "markdown",
   "metadata": {},
   "source": [
    "#### Isomap\n",
    "\n",
    "One of the earliest approaches to manifold learning is the Isomap algorithm, short for Isometric Mapping. Isomap can be viewed as an extension of Multi-dimensional Scaling (MDS) or Kernel PCA. Isomap seeks a lower-dimensional embedding which maintains geodesic distances between all points. Isomap can be performed with the object Isomap.\n",
    "\n",
    "The basic steps are\n",
    "1. Use euclidean metrics to prepare a graph distance\n",
    "2. Compute all-pairs shortest paths which output the geodesic distance on the above neighborhood graph.\n",
    "3. Run multidimensional scaling using the matrix of shortest-path distances.\n",
    "\n",
    "The disadvantage:\n",
    "- Creating neighorhood graph can be tricky and if the input data is not well sampled (e.g., contain holes), then Isomap may not work well.\n",
    "- Computaionally expensive"
   ]
  },
  {
   "cell_type": "markdown",
   "metadata": {},
   "source": [
    "![](figures/geo.png)"
   ]
  },
  {
   "cell_type": "code",
   "execution_count": null,
   "metadata": {},
   "outputs": [],
   "source": [
    "from sklearn.manifold import Isomap\n",
    "model = Isomap(n_neighbors=500, n_components=2)\n",
    "out = model.fit_transform(X)\n",
    "fig, ax = plt.subplots()\n",
    "ax.scatter(out[:, 0], out[:, 1], c=color, cmap=\"rainbow\",\n",
    "          edgecolor='k')"
   ]
  },
  {
   "cell_type": "markdown",
   "metadata": {},
   "source": [
    "#### t distribution-Stochastic neighborhood embedding\n",
    "\n",
    "tsne is about giving you clusters or local structure, and mostly used for visualization purpose.\n",
    "\n",
    "While Isomap, LLE and variants are best suited to unfold a single continuous low dimensional manifold, t-SNE will focus on the local structure of the data and will tend to extract clustered local groups of samples.  This tend to be useful if we want to classify things that contain multiple manifolds such as digits.\n",
    "\n",
    "Comprises of these steps:\n",
    "1. Measure similarity between two data points (e.g., distances)\n",
    "2. Convert this distance to probability according to normal distribution\n",
    "3. Now, it simply map the data points to a lower dimensional space\n",
    "4. Calculate the similarity matrix (similar to two) but with t-distribution.  It uses t-distribution to avoid crowding problem, where points tend to be crowded in low-dimensional space\n",
    "5. Using optimization algorithms (e.g., Descent algorithms with Kullback Leibler Divergence), it aims to reduce the difference between similarity matrix of 2 and 4\n",
    "\n",
    "The disadvantages to using t-SNE are roughly:\n",
    "\n",
    "- t-SNE is computationally expensive, and can take several hours on million-sample datasets where PCA will finish in seconds or minutes\n",
    "- The algorithm is stochastic and multiple restarts with different seeds can yield different embeddings. However, it is perfectly legitimate to pick the embedding with the least error.\n",
    "- Also the solution is not convex, thus descent algorithms can stuck in local minima.  We may want to initialize different random points and compare"
   ]
  },
  {
   "cell_type": "code",
   "execution_count": null,
   "metadata": {},
   "outputs": [],
   "source": [
    "from sklearn.manifold import TSNE\n",
    "model = TSNE(n_components=2, perplexity=100)\n",
    "out = model.fit_transform(X)\n",
    "fig, ax = plt.subplots()\n",
    "ax.scatter(out[:, 0], out[:, 1], c=color, cmap=\"rainbow\",\n",
    "          edgecolor='k')"
   ]
  },
  {
   "cell_type": "markdown",
   "metadata": {},
   "source": [
    "#### So what next about Manifold Learning\n",
    "\n",
    "Though this story and motivation is compelling, in practice manifold learning techniques tend to be finicky enough that they are rarely used for anything more than simple qualitative visualization of high-dimensional data.\n",
    "\n",
    "The following are some of the particular challenges of manifold learning, which all contrast poorly with PCA:\n",
    "\n",
    "- No mechanism for handling missing data.  PCA does.\n",
    "- Sensitive to noise.  PCA filters noise from most important components\n",
    "- Choosing optimal number of neighbors or other hyperparameters.  PCA does not need to\n",
    "- PCA has variance_ratio to help you determine to optimal dimension to be reduced. Manifold does not\n",
    "- PCA has high interpretability.  By looking at the magnitude of eigenvectors, we can gauge which features are impactful, whereas manifold learning is not always clear\n",
    "- In manifold learning the computational expense of manifold methods scales as O[N^2] or O[N^3]. For PCA, there exist randomized approaches that are generally much faster \n",
    "\n",
    "With all that on the table, the only clear advantage of manifold learning methods over PCA is their ability to preserve nonlinear relationships in the data.  If for visualization purpose, then manifold learning is ok.  But for dimensionality reduction, we can always go for **Kernel PCA**, which is much faster!!\n",
    "\n",
    "A heads up - in Artifical Neural Network (and Deep Learning), we will explore a concept called **Autoencoders** which is basically Dimensionality Reduction.  As you can already imagine, by adjusting the weights and assign an activation function, we can create a dimensionality reduction that aims to reduce unimportant features, even in non-linear space!\n",
    "\n",
    "Last, I will leave the below code for Kernel PCA."
   ]
  },
  {
   "cell_type": "code",
   "execution_count": null,
   "metadata": {
    "scrolled": true
   },
   "outputs": [],
   "source": [
    "from sklearn.decomposition import KernelPCA\n",
    "model = KernelPCA(kernel=\"rbf\", n_components=2,\n",
    "                 gamma=0.0003)\n",
    "out = model.fit_transform(X)\n",
    "fig, ax = plt.subplots()\n",
    "ax.scatter(out[:, 0], out[:, 1], c=color, cmap=\"rainbow\",\n",
    "          edgecolor='k')"
   ]
  },
  {
   "cell_type": "code",
   "execution_count": null,
   "metadata": {
    "scrolled": false
   },
   "outputs": [],
   "source": [
    "from sklearn.decomposition import PCA\n",
    "model = PCA(n_components=2)\n",
    "out = model.fit_transform(X)\n",
    "fig, ax = plt.subplots()\n",
    "ax.scatter(out[:, 0], out[:, 1], c=color, cmap=\"rainbow\",\n",
    "          edgecolor='k')"
   ]
  },
  {
   "cell_type": "markdown",
   "metadata": {},
   "source": [
    "### ===Task===\n",
    "\n",
    "Your work: Let's modify the above scratch code:\n",
    "- Modify so instead of using np.linalg.eigh, let's replace it with scratch code using SVD approach\n",
    "- Convert it using kernel PCA, where we convert our X using rbf kernels.  You may want to see how to transfer your data to another space via https://en.wikipedia.org/wiki/Radial_basis_function_kernel and this http://rasbt.github.io/mlxtend/user_guide/feature_extraction/RBFKernelPCA/#References. For those who are confused what is x and x' (prime), they are basically each sample, so you may want to first find the squared distances between each sample.  Apply your kernel PCA with a sklearn datasets make_swiss_roll\n",
    "\n",
    "#### More details on Kernel PCA\n",
    "\n",
    "The steps are as follows:\n",
    "\n",
    "1). Calculate (x-x')^2\n",
    "\n",
    "For your convenience, to get the squared distances can be done using the pdist module. Then transform it into a square form using squareform module.\n",
    "\n",
    "<code>from scipy.spatial.distance import pdist </code>\n",
    "\n",
    "<code>distances = pdist(X, 'sqeuclidean')</code>\n",
    "\n",
    "<code>matrix = squareform(squared_distances)</code>\n",
    "\n",
    "BTW, if you prefer the numpy way, it is also perfectly fine!\n",
    "\n",
    "2). Center the data\n",
    "\n",
    "This is a bit tricky but http://rasbt.github.io/mlxtend/user_guide/feature_extraction/RBFKernelPCA/#References has provided us how to center the rbf data.\n",
    "\n",
    "3). Calculate rbf = exp(-gamma * matrix)\n",
    "\n",
    "As for gamma, you can actually pick whatever gamma you prefer. Then you would want to calculate the rbf kernel\n",
    "\n",
    "<code>rbf = np.exp(-gamma * matrix)</code>\n",
    "\n",
    "once you obtain the rbf, you DO NOT need to input into the np.cov, because by performing squared_distances we are actually doing covariances but in rbf space. \n",
    "\n",
    "(Notice we are not doing x - x' in normal covariance way, but (x - x')^2)\n",
    "\n",
    "4).  Use eig to calculate the eigenvectors and values\n",
    "\n",
    "5). Get the projection and plot it. \n",
    "\n",
    "When you project your data, you do rbf @ eigenvectors, NOT X @ eigenvectors since your eigenvectors are in rbf space\n",
    "\n",
    "yes, that's it!"
   ]
  },
  {
   "cell_type": "code",
   "execution_count": null,
   "metadata": {},
   "outputs": [],
   "source": []
  }
 ],
 "metadata": {
  "kernelspec": {
   "display_name": "Python 3",
   "language": "python",
   "name": "python3"
  },
  "language_info": {
   "codemirror_mode": {
    "name": "ipython",
    "version": 3
   },
   "file_extension": ".py",
   "mimetype": "text/x-python",
   "name": "python",
   "nbconvert_exporter": "python",
   "pygments_lexer": "ipython3",
   "version": "3.7.7"
  }
 },
 "nbformat": 4,
 "nbformat_minor": 1
}
