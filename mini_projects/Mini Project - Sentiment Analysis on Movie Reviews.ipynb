{
 "cells": [
  {
   "cell_type": "markdown",
   "metadata": {},
   "source": [
    "## Sentiment Analysis on Movie Reviews\n",
    "\n",
    "Download the dataset from http://ai.stanford.edu/~amaas/data/sentiment/\n",
    "\n",
    "- Perform the necessary pre-processing of text as necessary.  You may need to read the research paper on that url to better understand text-preprocessing.\n",
    "- Write a text classification pipeline to classify movie reviews as either positive or negative.\n",
    "- Attempt to compare at least 3 different classification algorithms, and compare the accuracy\n",
    "- Explain why do you think certain algorithms work better.\n",
    "\n",
    "Good luck and enjoy thinking, learning, and coding!"
   ]
  },
  {
   "cell_type": "code",
   "execution_count": null,
   "metadata": {},
   "outputs": [],
   "source": []
  }
 ],
 "metadata": {
  "kernelspec": {
   "display_name": "Python 3",
   "language": "python",
   "name": "python3"
  },
  "language_info": {
   "codemirror_mode": {
    "name": "ipython",
    "version": 3
   },
   "file_extension": ".py",
   "mimetype": "text/x-python",
   "name": "python",
   "nbconvert_exporter": "python",
   "pygments_lexer": "ipython3",
   "version": "3.7.7"
  }
 },
 "nbformat": 4,
 "nbformat_minor": 4
}
