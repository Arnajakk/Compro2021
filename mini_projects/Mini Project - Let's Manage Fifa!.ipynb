{
 "cells": [
  {
   "cell_type": "markdown",
   "metadata": {},
   "source": [
    "## Let's Manage Fifa!\n",
    "\n",
    "- Load the fifa19dataset from the resources folder\n",
    "- Our job is probably to help players able to better understand how to best manage a soccer team in Fifa.\n",
    "- Here are some potential interesting questions you can try to answer:\n",
    "    - How does age and overall rating relate?\n",
    "    - How does age and valuation relate?\n",
    "    - Which position is skilled with what attributes?\n",
    "    - When does the potential of a player peaks and ends?\n",
    "    - Which team has the best talents and probably the team you want to manage?\n",
    "    - Which team has the best value team - i.e., ratio between best talent and wages\n",
    "    - Create a regression model that predicts players' wages\n",
    "    - Create a clustering model that cluster players into groups, so managers can easily choose\n",
    "    \n",
    "Good luck and enjoy thinking, learning, and coding!"
   ]
  },
  {
   "cell_type": "code",
   "execution_count": null,
   "metadata": {},
   "outputs": [],
   "source": []
  }
 ],
 "metadata": {
  "kernelspec": {
   "display_name": "Python 3",
   "language": "python",
   "name": "python3"
  },
  "language_info": {
   "codemirror_mode": {
    "name": "ipython",
    "version": 3
   },
   "file_extension": ".py",
   "mimetype": "text/x-python",
   "name": "python",
   "nbconvert_exporter": "python",
   "pygments_lexer": "ipython3",
   "version": "3.7.7"
  }
 },
 "nbformat": 4,
 "nbformat_minor": 4
}
